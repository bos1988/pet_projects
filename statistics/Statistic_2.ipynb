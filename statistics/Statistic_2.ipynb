{
 "cells": [
  {
   "cell_type": "markdown",
   "id": "96427451",
   "metadata": {
    "toc": true
   },
   "source": [
    "<h1>Table of Contents<span class=\"tocSkip\"></span></h1>\n",
    "<div class=\"toc\"><ul class=\"toc-item\"><li><ul class=\"toc-item\"><li><span><a href=\"#Материалы\" data-toc-modified-id=\"Материалы-0.1\"><span class=\"toc-item-num\">0.1&nbsp;&nbsp;</span>Материалы</a></span></li></ul></li><li><span><a href=\"#Формулы\" data-toc-modified-id=\"Формулы-1\"><span class=\"toc-item-num\">1&nbsp;&nbsp;</span>Формулы</a></span><ul class=\"toc-item\"><li><span><a href=\"#Группировки\" data-toc-modified-id=\"Группировки-1.1\"><span class=\"toc-item-num\">1.1&nbsp;&nbsp;</span>Группировки</a></span></li><li><span><a href=\"#Корреляция\" data-toc-modified-id=\"Корреляция-1.2\"><span class=\"toc-item-num\">1.2&nbsp;&nbsp;</span>Корреляция</a></span></li><li><span><a href=\"#Статистические-гипотезы\" data-toc-modified-id=\"Статистические-гипотезы-1.3\"><span class=\"toc-item-num\">1.3&nbsp;&nbsp;</span>Статистические гипотезы</a></span></li><li><span><a href=\"#Доверительные-интервалы\" data-toc-modified-id=\"Доверительные-интервалы-1.4\"><span class=\"toc-item-num\">1.4&nbsp;&nbsp;</span>Доверительные интервалы</a></span></li></ul></li><li><span><a href=\"#Исследование\" data-toc-modified-id=\"Исследование-2\"><span class=\"toc-item-num\">2&nbsp;&nbsp;</span>Исследование</a></span><ul class=\"toc-item\"><li><span><a href=\"#Исходные-данные\" data-toc-modified-id=\"Исходные-данные-2.1\"><span class=\"toc-item-num\">2.1&nbsp;&nbsp;</span>Исходные данные</a></span></li><li><span><a href=\"#Параметры-вариации:\" data-toc-modified-id=\"Параметры-вариации:-2.2\"><span class=\"toc-item-num\">2.2&nbsp;&nbsp;</span>Параметры вариации:</a></span><ul class=\"toc-item\"><li><span><a href=\"#Объем-совокуплности:\" data-toc-modified-id=\"Объем-совокуплности:-2.2.1\"><span class=\"toc-item-num\">2.2.1&nbsp;&nbsp;</span>Объем совокуплности:</a></span></li><li><span><a href=\"#Размах-вариации:\" data-toc-modified-id=\"Размах-вариации:-2.2.2\"><span class=\"toc-item-num\">2.2.2&nbsp;&nbsp;</span>Размах вариации:</a></span></li><li><span><a href=\"#Оптимальное-количество-интервалов-определим-по-формуле-Стерджеса:\" data-toc-modified-id=\"Оптимальное-количество-интервалов-определим-по-формуле-Стерджеса:-2.2.3\"><span class=\"toc-item-num\">2.2.3&nbsp;&nbsp;</span>Оптимальное количество интервалов определим по формуле Стерджеса:</a></span></li><li><span><a href=\"#Общие-средние-значения:\" data-toc-modified-id=\"Общие-средние-значения:-2.2.4\"><span class=\"toc-item-num\">2.2.4&nbsp;&nbsp;</span>Общие средние значения:</a></span></li><li><span><a href=\"#Общие-дисперсии:\" data-toc-modified-id=\"Общие-дисперсии:-2.2.5\"><span class=\"toc-item-num\">2.2.5&nbsp;&nbsp;</span>Общие дисперсии:</a></span></li><li><span><a href=\"#Общие-стандартные-отлонения:\" data-toc-modified-id=\"Общие-стандартные-отлонения:-2.2.6\"><span class=\"toc-item-num\">2.2.6&nbsp;&nbsp;</span>Общие стандартные отлонения:</a></span></li></ul></li><li><span><a href=\"#Аналитическая-группировка\" data-toc-modified-id=\"Аналитическая-группировка-2.3\"><span class=\"toc-item-num\">2.3&nbsp;&nbsp;</span>Аналитическая группировка</a></span><ul class=\"toc-item\"><li><span><a href=\"#Равноинтеравльная-группировка:\" data-toc-modified-id=\"Равноинтеравльная-группировка:-2.3.1\"><span class=\"toc-item-num\">2.3.1&nbsp;&nbsp;</span>Равноинтеравльная группировка:</a></span><ul class=\"toc-item\"><li><span><a href=\"#Аналитичесая-таблица:\" data-toc-modified-id=\"Аналитичесая-таблица:-2.3.1.1\"><span class=\"toc-item-num\">2.3.1.1&nbsp;&nbsp;</span>Аналитичесая таблица:</a></span></li><li><span><a href=\"#Внутригрупповая-диспресия:\" data-toc-modified-id=\"Внутригрупповая-диспресия:-2.3.1.2\"><span class=\"toc-item-num\">2.3.1.2&nbsp;&nbsp;</span>Внутригрупповая диспресия:</a></span></li><li><span><a href=\"#Межгрупповая-дисперсия:\" data-toc-modified-id=\"Межгрупповая-дисперсия:-2.3.1.3\"><span class=\"toc-item-num\">2.3.1.3&nbsp;&nbsp;</span>Межгрупповая дисперсия:</a></span></li><li><span><a href=\"#Проверка:\" data-toc-modified-id=\"Проверка:-2.3.1.4\"><span class=\"toc-item-num\">2.3.1.4&nbsp;&nbsp;</span>Проверка:</a></span></li><li><span><a href=\"#Эмпирический-коэффициент-детерминации:\" data-toc-modified-id=\"Эмпирический-коэффициент-детерминации:-2.3.1.5\"><span class=\"toc-item-num\">2.3.1.5&nbsp;&nbsp;</span>Эмпирический коэффициент детерминации:</a></span></li><li><span><a href=\"#Эмпирическое-корреляционное-отношение:\" data-toc-modified-id=\"Эмпирическое-корреляционное-отношение:-2.3.1.6\"><span class=\"toc-item-num\">2.3.1.6&nbsp;&nbsp;</span>Эмпирическое корреляционное отношение:</a></span></li></ul></li><li><span><a href=\"#Равнонаполненная-группировка:\" data-toc-modified-id=\"Равнонаполненная-группировка:-2.3.2\"><span class=\"toc-item-num\">2.3.2&nbsp;&nbsp;</span>Равнонаполненная группировка:</a></span><ul class=\"toc-item\"><li><span><a href=\"#Аналитичесая-таблица:\" data-toc-modified-id=\"Аналитичесая-таблица:-2.3.2.1\"><span class=\"toc-item-num\">2.3.2.1&nbsp;&nbsp;</span>Аналитичесая таблица:</a></span></li><li><span><a href=\"#Внутригрупповая-диспресия:\" data-toc-modified-id=\"Внутригрупповая-диспресия:-2.3.2.2\"><span class=\"toc-item-num\">2.3.2.2&nbsp;&nbsp;</span>Внутригрупповая диспресия:</a></span></li><li><span><a href=\"#Межгрупповая-дисперсия:\" data-toc-modified-id=\"Межгрупповая-дисперсия:-2.3.2.3\"><span class=\"toc-item-num\">2.3.2.3&nbsp;&nbsp;</span>Межгрупповая дисперсия:</a></span></li><li><span><a href=\"#Проверка:\" data-toc-modified-id=\"Проверка:-2.3.2.4\"><span class=\"toc-item-num\">2.3.2.4&nbsp;&nbsp;</span>Проверка:</a></span></li><li><span><a href=\"#Эмпирический-коэффициент-детерминации:\" data-toc-modified-id=\"Эмпирический-коэффициент-детерминации:-2.3.2.5\"><span class=\"toc-item-num\">2.3.2.5&nbsp;&nbsp;</span>Эмпирический коэффициент детерминации:</a></span></li><li><span><a href=\"#Эмпирическое-корреляционное-отношение:\" data-toc-modified-id=\"Эмпирическое-корреляционное-отношение:-2.3.2.6\"><span class=\"toc-item-num\">2.3.2.6&nbsp;&nbsp;</span>Эмпирическое корреляционное отношение:</a></span></li></ul></li></ul></li><li><span><a href=\"#Комбинационная-группировка\" data-toc-modified-id=\"Комбинационная-группировка-2.4\"><span class=\"toc-item-num\">2.4&nbsp;&nbsp;</span>Комбинационная группировка</a></span><ul class=\"toc-item\"><li><span><a href=\"#Группировка\" data-toc-modified-id=\"Группировка-2.4.1\"><span class=\"toc-item-num\">2.4.1&nbsp;&nbsp;</span>Группировка</a></span></li><li><span><a href=\"#Эмпирические-показатели-комбинационной-группировки\" data-toc-modified-id=\"Эмпирические-показатели-комбинационной-группировки-2.4.2\"><span class=\"toc-item-num\">2.4.2&nbsp;&nbsp;</span>Эмпирические показатели комбинационной группировки</a></span><ul class=\"toc-item\"><li><span><a href=\"#Общее-среднее-признака-результата:\" data-toc-modified-id=\"Общее-среднее-признака-результата:-2.4.2.1\"><span class=\"toc-item-num\">2.4.2.1&nbsp;&nbsp;</span>Общее среднее признака-результата:</a></span></li><li><span><a href=\"#Общая-дисперсия-признака-результата:\" data-toc-modified-id=\"Общая-дисперсия-признака-результата:-2.4.2.2\"><span class=\"toc-item-num\">2.4.2.2&nbsp;&nbsp;</span>Общая дисперсия признака-результата:</a></span></li><li><span><a href=\"#Групповые-средние-(условные-средние):\" data-toc-modified-id=\"Групповые-средние-(условные-средние):-2.4.2.3\"><span class=\"toc-item-num\">2.4.2.3&nbsp;&nbsp;</span>Групповые средние (условные средние):</a></span></li><li><span><a href=\"#Внутригрупповая-диспресия:\" data-toc-modified-id=\"Внутригрупповая-диспресия:-2.4.2.4\"><span class=\"toc-item-num\">2.4.2.4&nbsp;&nbsp;</span>Внутригрупповая диспресия:</a></span></li><li><span><a href=\"#Межгрупповая-диспресия:\" data-toc-modified-id=\"Межгрупповая-диспресия:-2.4.2.5\"><span class=\"toc-item-num\">2.4.2.5&nbsp;&nbsp;</span>Межгрупповая диспресия:</a></span></li><li><span><a href=\"#Проверка:\" data-toc-modified-id=\"Проверка:-2.4.2.6\"><span class=\"toc-item-num\">2.4.2.6&nbsp;&nbsp;</span>Проверка:</a></span></li><li><span><a href=\"#Эмпирический-коэффициент-детерминации:\" data-toc-modified-id=\"Эмпирический-коэффициент-детерминации:-2.4.2.7\"><span class=\"toc-item-num\">2.4.2.7&nbsp;&nbsp;</span>Эмпирический коэффициент детерминации:</a></span></li><li><span><a href=\"#Эмпирическое-корреляционное-отношение:\" data-toc-modified-id=\"Эмпирическое-корреляционное-отношение:-2.4.2.8\"><span class=\"toc-item-num\">2.4.2.8&nbsp;&nbsp;</span>Эмпирическое корреляционное отношение:</a></span></li><li><span><a href=\"#Корреляционное-поле-и-эмпирическая-линия-регрессии.\" data-toc-modified-id=\"Корреляционное-поле-и-эмпирическая-линия-регрессии.-2.4.2.9\"><span class=\"toc-item-num\">2.4.2.9&nbsp;&nbsp;</span>Корреляционное поле и эмпирическая линия регрессии.</a></span></li></ul></li><li><span><a href=\"#Линейный-коэффициент-корреляции-и-уравнение-линейной-регрессии\" data-toc-modified-id=\"Линейный-коэффициент-корреляции-и-уравнение-линейной-регрессии-2.4.3\"><span class=\"toc-item-num\">2.4.3&nbsp;&nbsp;</span>Линейный коэффициент корреляции и уравнение линейной регрессии</a></span><ul class=\"toc-item\"><li><span><a href=\"#Корреляционное-поле\" data-toc-modified-id=\"Корреляционное-поле-2.4.3.1\"><span class=\"toc-item-num\">2.4.3.1&nbsp;&nbsp;</span>Корреляционное поле</a></span></li><li><span><a href=\"#Линейный-коэффициент-корреляции\" data-toc-modified-id=\"Линейный-коэффициент-корреляции-2.4.3.2\"><span class=\"toc-item-num\">2.4.3.2&nbsp;&nbsp;</span>Линейный коэффициент корреляции</a></span></li><li><span><a href=\"#Уравнение-линейной-регресии-(через-линейный-коэффициент-корреляции)\" data-toc-modified-id=\"Уравнение-линейной-регресии-(через-линейный-коэффициент-корреляции)-2.4.3.3\"><span class=\"toc-item-num\">2.4.3.3&nbsp;&nbsp;</span>Уравнение линейной регресии (через линейный коэффициент корреляции)</a></span></li><li><span><a href=\"#Второе-уравнение-линейной-регресии-(через-линейный-коэффициент-корреляции)\" data-toc-modified-id=\"Второе-уравнение-линейной-регресии-(через-линейный-коэффициент-корреляции)-2.4.3.4\"><span class=\"toc-item-num\">2.4.3.4&nbsp;&nbsp;</span>Второе уравнение линейной регресии (через линейный коэффициент корреляции)</a></span></li></ul></li></ul></li><li><span><a href=\"#Корреляция-несгруппированных-данных\" data-toc-modified-id=\"Корреляция-несгруппированных-данных-2.5\"><span class=\"toc-item-num\">2.5&nbsp;&nbsp;</span>Корреляция несгруппированных данных</a></span><ul class=\"toc-item\"><li><span><a href=\"#Корреляционная-зависимость,-диаграмма-рассеяния\" data-toc-modified-id=\"Корреляционная-зависимость,-диаграмма-рассеяния-2.5.1\"><span class=\"toc-item-num\">2.5.1&nbsp;&nbsp;</span>Корреляционная зависимость, диаграмма рассеяния</a></span></li><li><span><a href=\"#Анализ-диаграммы-рассеяния\" data-toc-modified-id=\"Анализ-диаграммы-рассеяния-2.5.2\"><span class=\"toc-item-num\">2.5.2&nbsp;&nbsp;</span>Анализ диаграммы рассеяния</a></span></li><li><span><a href=\"#Уравнение-линейной-регресии-(методом-наименьших-квадратов)\" data-toc-modified-id=\"Уравнение-линейной-регресии-(методом-наименьших-квадратов)-2.5.3\"><span class=\"toc-item-num\">2.5.3&nbsp;&nbsp;</span>Уравнение линейной регресии (методом наименьших квадратов)</a></span></li><li><span><a href=\"#Линейный-коэффициент-корреляции\" data-toc-modified-id=\"Линейный-коэффициент-корреляции-2.5.4\"><span class=\"toc-item-num\">2.5.4&nbsp;&nbsp;</span>Линейный коэффициент корреляции</a></span></li><li><span><a href=\"#Коэффициент-детерминации\" data-toc-modified-id=\"Коэффициент-детерминации-2.5.5\"><span class=\"toc-item-num\">2.5.5&nbsp;&nbsp;</span>Коэффициент детерминации</a></span></li><li><span><a href=\"#Уравнение-линейной-регресии-(через-линейный-коэффициент-корреляции)\" data-toc-modified-id=\"Уравнение-линейной-регресии-(через-линейный-коэффициент-корреляции)-2.5.6\"><span class=\"toc-item-num\">2.5.6&nbsp;&nbsp;</span>Уравнение линейной регресии (через линейный коэффициент корреляции)</a></span></li><li><span><a href=\"#Уравнение-линейной-регресии-(sklearn)\" data-toc-modified-id=\"Уравнение-линейной-регресии-(sklearn)-2.5.7\"><span class=\"toc-item-num\">2.5.7&nbsp;&nbsp;</span>Уравнение линейной регресии (sklearn)</a></span></li><li><span><a href=\"#Уравнение-линейной-регресии-(по-формуле-регресии)\" data-toc-modified-id=\"Уравнение-линейной-регресии-(по-формуле-регресии)-2.5.8\"><span class=\"toc-item-num\">2.5.8&nbsp;&nbsp;</span>Уравнение линейной регресии (по формуле регресии)</a></span></li><li><span><a href=\"#Второе-уравнение-линейной-регресии-(через-линейный-коэффициент-корреляции)\" data-toc-modified-id=\"Второе-уравнение-линейной-регресии-(через-линейный-коэффициент-корреляции)-2.5.9\"><span class=\"toc-item-num\">2.5.9&nbsp;&nbsp;</span>Второе уравнение линейной регресии (через линейный коэффициент корреляции)</a></span></li></ul></li><li><span><a href=\"#Значимости-линейной-корреляционной-модели\" data-toc-modified-id=\"Значимости-линейной-корреляционной-модели-2.6\"><span class=\"toc-item-num\">2.6&nbsp;&nbsp;</span>Значимости линейной корреляционной модели</a></span><ul class=\"toc-item\"><li><span><a href=\"#Статистические-гипотезы\" data-toc-modified-id=\"Статистические-гипотезы-2.6.1\"><span class=\"toc-item-num\">2.6.1&nbsp;&nbsp;</span>Статистические гипотезы</a></span><ul class=\"toc-item\"><li><span><a href=\"#Значимость-выборочного-линейного-коэффициента-корреляции\" data-toc-modified-id=\"Значимость-выборочного-линейного-коэффициента-корреляции-2.6.1.1\"><span class=\"toc-item-num\">2.6.1.1&nbsp;&nbsp;</span>Значимость выборочного линейного коэффициента корреляции</a></span></li><li><span><a href=\"#Значимость-коэффициентов-уравнения-линейной-регрессии\" data-toc-modified-id=\"Значимость-коэффициентов-уравнения-линейной-регрессии-2.6.1.2\"><span class=\"toc-item-num\">2.6.1.2&nbsp;&nbsp;</span>Значимость коэффициентов уравнения линейной регрессии</a></span></li><li><span><a href=\"#Значимость-выборочного-уравнения-линейной-регрессии\" data-toc-modified-id=\"Значимость-выборочного-уравнения-линейной-регрессии-2.6.1.3\"><span class=\"toc-item-num\">2.6.1.3&nbsp;&nbsp;</span>Значимость выборочного уравнения линейной регрессии</a></span></li></ul></li><li><span><a href=\"#Доверительные-интервалы\" data-toc-modified-id=\"Доверительные-интервалы-2.6.2\"><span class=\"toc-item-num\">2.6.2&nbsp;&nbsp;</span>Доверительные интервалы</a></span><ul class=\"toc-item\"><li><span><a href=\"#Доверительный-интервал-для-генерального-коэффициента-корреляции\" data-toc-modified-id=\"Доверительный-интервал-для-генерального-коэффициента-корреляции-2.6.2.1\"><span class=\"toc-item-num\">2.6.2.1&nbsp;&nbsp;</span>Доверительный интервал для генерального коэффициента корреляции</a></span></li><li><span><a href=\"#Доверительные-интервалы-для-коэффициентов-регрессии\" data-toc-modified-id=\"Доверительные-интервалы-для-коэффициентов-регрессии-2.6.2.2\"><span class=\"toc-item-num\">2.6.2.2&nbsp;&nbsp;</span>Доверительные интервалы для коэффициентов регрессии</a></span></li><li><span><a href=\"#Доверительный-интервал-для-точечного-прогноза\" data-toc-modified-id=\"Доверительный-интервал-для-точечного-прогноза-2.6.2.3\"><span class=\"toc-item-num\">2.6.2.3&nbsp;&nbsp;</span>Доверительный интервал для точечного прогноза</a></span></li></ul></li></ul></li></ul></li></ul></div>"
   ]
  },
  {
   "cell_type": "code",
   "execution_count": 1,
   "id": "2f9d94d3",
   "metadata": {},
   "outputs": [],
   "source": [
    "#data\n",
    "\n",
    "import pandas as pd\n",
    "import numpy as np"
   ]
  },
  {
   "cell_type": "code",
   "execution_count": 2,
   "id": "6b1ddc38",
   "metadata": {},
   "outputs": [],
   "source": [
    "#math\n",
    "\n",
    "from scipy import stats as st"
   ]
  },
  {
   "cell_type": "code",
   "execution_count": 3,
   "id": "1c48881d",
   "metadata": {},
   "outputs": [],
   "source": [
    "#graphics\n",
    "\n",
    "from matplotlib import pyplot as plt\n",
    "import seaborn as sns"
   ]
  },
  {
   "cell_type": "code",
   "execution_count": 4,
   "id": "300bd649",
   "metadata": {},
   "outputs": [],
   "source": [
    "# sklearn\n",
    "\n",
    "from sklearn.linear_model import LinearRegression\n",
    "from sklearn.metrics import mean_squared_error as mse\n",
    "from sklearn.metrics import r2_score as r2"
   ]
  },
  {
   "cell_type": "markdown",
   "id": "dce5c725",
   "metadata": {},
   "source": [
    "### Материалы"
   ]
  },
  {
   "cell_type": "markdown",
   "id": "65e1158d",
   "metadata": {},
   "source": [
    "В данной работе использованы материалы с сайта [ma$\\sum$prof$\\int$.ru](http://www.mathprofi.ru/matematicheskaya_statistika.html)"
   ]
  },
  {
   "cell_type": "markdown",
   "id": "dcaf1b28",
   "metadata": {},
   "source": [
    "## Формулы"
   ]
  },
  {
   "cell_type": "markdown",
   "id": "9e56a457",
   "metadata": {},
   "source": [
    "### Группировки"
   ]
  },
  {
   "cell_type": "markdown",
   "id": "a392adee",
   "metadata": {},
   "source": [
    "**Внутригрупповая дисперсия** – это средняя, а точнее *средневзвешенная* арифметическая групповых дисперсий:\n",
    "\n",
    "$$\n",
    "\\overline{\\sigma^2} = \\frac{\\sum{\\sigma_i^2\\cdot n_i}}{n} = \\frac{\\sigma_1^2\\cdot n_1 + \\sigma_1^2\\cdot n_2 + \\ldots + \\sigma_z^2\\cdot n_z}{n}\n",
    "$$\n",
    "\n",
    "Внутригрупповая дисперсия характеризует среднюю (средневзвешенную) вариацию значений $x_i$ по группам."
   ]
  },
  {
   "cell_type": "markdown",
   "id": "8fd08416",
   "metadata": {},
   "source": [
    "**Межгрупповая дисперсия** – это дисперсия *групповых средних* относительно *общей средней*:\n",
    "\n",
    "$$\n",
    "\\delta^2 = \\frac{\\sum{(\\overline{x_i} - \\overline{x})^2 n_i}}{n} = \\frac{(\\overline{x_1} - \\overline{x})^2 n_1 + (\\overline{x_2} - \\overline{x})^2 n_2 + \\ldots + (\\overline{x_z} - \\overline{x})^2 n_z}{n}\n",
    "$$\n",
    "\n",
    "Межгрупповая дисперсия характеризует меру разброса групповых средних относительно общей средней. "
   ]
  },
  {
   "cell_type": "markdown",
   "id": "aa0e5b95",
   "metadata": {},
   "source": [
    "Для общей, внутригрупповой и межгрупповой дисперсий справедливо так называемое ***правило сложение дисперсий***:<br/>\n",
    "$$\n",
    "\\sigma^2 = \\overline{\\sigma^2} + \\delta^2\n",
    "$$\n",
    "\n",
    ", то есть *общая* дисперсия равна сумме *внутригрупповой* и *межгрупповой* дисперсии.\n",
    "\n",
    "Общая дисперсия $\\sigma^2$ учитывает ВСЕ причины, которые влияют на вариацию *признака-результата $Y$*. Межгрупповая дисперсия $\\delta^2$ учитывает влияние *фактора $X$*, положенного в основу группировки."
   ]
  },
  {
   "cell_type": "markdown",
   "id": "9f379e49",
   "metadata": {},
   "source": [
    "### Корреляция"
   ]
  },
  {
   "cell_type": "markdown",
   "id": "8629d5ca",
   "metadata": {},
   "source": [
    "**Эмпирический коэффициент детерминации** (причинности), равный отношению *межгрупповой* дисперсии к дисперсии *общей*:\n",
    "\n",
    "$$\n",
    "\\eta^2 = \\frac{\\delta^2}{\\sigma^2}\n",
    "$$\n",
    "\n",
    "Эмпирический коэффициент детерминации характеризует ДОЛЮ влияния *группировочного фактора $X$*. Данный коэффициент изменяется в пределах $0\\leq \\eta^2 \\leq 1$, и чем он ближе к единице, тем сильнее влияние *группировочного фактора $X$* на *признак-результат $Y$*."
   ]
  },
  {
   "cell_type": "markdown",
   "id": "bd58180c",
   "metadata": {},
   "source": [
    "**Эмпирическое корреляционное отношение**, равное квадратному корню из $\\eta^2$\n",
    "\n",
    "$$\n",
    "\\eta = \\sqrt{\\eta^2} = \\sqrt{\\frac{\\delta^2}{\\sigma^2}} = \\frac{\\delta}{\\sigma}\n",
    "$$"
   ]
  },
  {
   "cell_type": "markdown",
   "id": "5b137b85",
   "metadata": {},
   "source": [
    "Данный показатель тоже изменяется в пределах $0\\leq \\eta \\leq 1$ и характеризует тесноту (силу) корреляционной зависимости."
   ]
  },
  {
   "cell_type": "markdown",
   "id": "59c18547",
   "metadata": {},
   "source": [
    "Шкала Чеддока:\n",
    "\n",
    "| Диапазон значений $\\eta$ | Корреляционная зависимость Y от X |\n",
    "|:----|:----|\n",
    "|0-0,1|практически отсутствует|\n",
    "|0,1-0,3|слабая|\n",
    "|0,2-0,5|умеренная|\n",
    "|0,5-0,7|заметная|\n",
    "|0,7-0,9|сильная|\n",
    "|0,9-0,99|очень сильная|\n",
    "|0,99-1|практически функциональная|"
   ]
  },
  {
   "cell_type": "markdown",
   "id": "ef065530",
   "metadata": {},
   "source": [
    "Показатели называют эмпирическими, потому что они получены опытным путём. Ещё их можно назвать эмпирическими выборочными коэффициентами. И если мы возьмём другую случайную репрезентативную выборку, то получим другие значения $\\eta^2, \\eta$ (в рамках и той и другой модели). Однако они вряд ли будут сильно отличаться от уже полученных результатов."
   ]
  },
  {
   "cell_type": "markdown",
   "id": "f768b3b6",
   "metadata": {},
   "source": [
    "**Если между признаками $X,Y$ существует сильная корреляционная зависимость, то это ещё не значит, что между ними есть взаимосвязь.** Так, если мы возьмём два произвольных вариационных ряда, которые примерно одинаково растут (или убывают), то в любом случае получатся высокие значения $\\eta^2, \\eta$. При этом **между признаками может вообще не быть никакой причинно-следственной связи.**\n",
    "\n",
    "Поэтому ***причинно-следственная*** зависимость признака $Y$ от $X$ должна быть **предварительно обоснована если не экспертным путём, то хотя бы здравым смыслом.**\n",
    "<br/><br/>"
   ]
  },
  {
   "cell_type": "markdown",
   "id": "9200a0e1",
   "metadata": {},
   "source": [
    "**Линейный коэффициент корреляции:**\n",
    "\n",
    "$$\n",
    "r = \\frac{cov(X; Y)}{\\sigma_x \\cdot \\sigma_y} = \\frac{\\overline{xy} - \\overline{x}\\cdot\\overline{y}}{\\sigma_x \\cdot \\sigma_y}\n",
    "$$\n",
    ", где:<br/>\n",
    "$\\overline{xy}$ - среднее значение произведения признаков,<br/>\n",
    "$\\overline{x}, \\overline{y}$ - средние значения признаков,<br/>\n",
    "$\\sigma_x, \\sigma_y$ - стандартные отклонения признаков,<br/>\n",
    "$cov(X; Y)$ - корреляционный момент или коэффициент ковариации (совместной вариации) признаков:<br/>\n",
    "\n",
    "$$\n",
    "cov(X; Y) = \\frac{\\sum(x_i-\\overline{x})(y_i-\\overline{y})}{n} = \\overline{xy} - \\overline{x}\\cdot\\overline{y}\n",
    "$$"
   ]
  },
  {
   "cell_type": "markdown",
   "id": "a3e0fa4b",
   "metadata": {},
   "source": [
    "**Коэффициент детерминации:**\n",
    "\n",
    "$$\n",
    "R^2 = r^2\n",
    "$$\n",
    "\n",
    "– это частный аналог эмпирического коэффициента детерминации – есть квадрат коэффициента корреляции.\n",
    "\n",
    "Коэффициент детерминации показывает *долю вариации* признака-результата $Y$, которая обусловлена воздействием признака-фактора $X$."
   ]
  },
  {
   "cell_type": "markdown",
   "id": "4996ee92",
   "metadata": {},
   "source": [
    "**Уравнение линейной регрессии:**\n",
    "\n",
    "$$\n",
    "y = ax + b\n",
    "$$\n",
    "\n",
    "Если известны значения $r, \\sigma_x, \\sigma_y$, то коэффициенты уравнения $y = ax + b$ регрессии можно рассчитать по следующим формулам:\n",
    "\n",
    "$$\n",
    "a = \\displaystyle\\frac{r \\cdot \\sigma_y}{\\sigma_x}\\\\\n",
    "b = \\overline{y} - a\\overline{x}\n",
    "$$"
   ]
  },
  {
   "cell_type": "markdown",
   "id": "832fe5b6",
   "metadata": {},
   "source": [
    "### Статистические гипотезы"
   ]
  },
  {
   "cell_type": "markdown",
   "id": "ef374a94",
   "metadata": {},
   "source": [
    "**Значимость выборочного линейного коэффициента корреляции**"
   ]
  },
  {
   "cell_type": "markdown",
   "id": "25919fa0",
   "metadata": {},
   "source": [
    "Нулевая гипотеза:\n",
    "\n",
    "$H_0: \\rho = 0$\n",
    "\n",
    "– генеральный линейный коэффициент корреляции равен нулю, то есть признак-результат $Y$ не зависит от признака-фактора $Y$"
   ]
  },
  {
   "cell_type": "markdown",
   "id": "0c34c30f",
   "metadata": {},
   "source": [
    "Альтернативная гипотеза:\n",
    "\n",
    "$H_1: \\rho \\neq 0$\n",
    "\n",
    "– линейная корреляционная зависимость признака-результата $Y$ от признака-фактора $Y$ существет"
   ]
  },
  {
   "cell_type": "markdown",
   "id": "15503d26",
   "metadata": {},
   "source": [
    "Статистический критерий:\n",
    "\n",
    "$$\n",
    "T = \\frac{r_в\\sqrt{n-2}}{\\sqrt{1-r_в^2}}\n",
    "$$\n",
    ", где:<br/>\n",
    "$n$ - объем выборки,<br/>\n",
    "$r_в$ - выборочный коэффициент корреляции."
   ]
  },
  {
   "cell_type": "markdown",
   "id": "3d060574",
   "metadata": {},
   "source": [
    "***Эта случайная величина имеет распределение Стьюдента с количеством степеней свободы $k = n - m - 1$, где $m$ – количество оцениваемых параметров. Параметр один (коэффициент корреляции): $m = 1$, поэтому $k = n - 2$.***"
   ]
  },
  {
   "cell_type": "markdown",
   "id": "7ad6b1ab",
   "metadata": {},
   "source": [
    "**Значимость коэффициентов уравнения линейной регрессии**"
   ]
  },
  {
   "cell_type": "markdown",
   "id": "1868b5e0",
   "metadata": {},
   "source": [
    "Нулевая гипотеза:\n",
    "\n",
    "$H_0: A = 0$\n",
    "\n",
    "– соответствующий коэффициент генерального уравнения $y = Ax + B$ равен нулю"
   ]
  },
  {
   "cell_type": "markdown",
   "id": "1f7d67cd",
   "metadata": {},
   "source": [
    "Альтернативная гипотеза:\n",
    "\n",
    "$H_1: A \\neq 0$\n",
    "\n",
    "– линейная корреляционная зависимость признака-результата $Y$ от признака-фактора $Y$ существет"
   ]
  },
  {
   "cell_type": "markdown",
   "id": "8a5b83af",
   "metadata": {},
   "source": [
    "Статистический критерий:\n",
    "\n",
    "$$\n",
    "T = \\frac{a_в}{\\mu_a}\n",
    "$$\n",
    ", где:<br/>\n",
    "$a_в$ - выборочное значение коэффициента,<br/>\n",
    "$\\mu_a$ - стандартная ошибка коэффициента A:\n",
    "$$\n",
    "\\mu_a = \\frac{s_e}{\\sigma_x\\sqrt{n}}\n",
    "$$\n",
    ", где:<br/>\n",
    "$\\sigma_x$ - среднее квадратическое отклонение признака-фактора,<br/>\n",
    "$s_e$ - стандартная ошибка регрессии:\n",
    "$$\n",
    "s_e = \\sqrt{\\frac{\\sum{e_i^2}}{n-2}} = \\sqrt{\\frac{MSE \\cdot n}{n-2}} = RMSE\\sqrt{\\frac{n}{n-2}}\n",
    "$$"
   ]
  },
  {
   "cell_type": "markdown",
   "id": "17359152",
   "metadata": {},
   "source": [
    "***Случайная величина $T$ имеет распределение Стьюдента с количеством степеней свободы $k = n - m - 1$, где $m$ – количество оцениваемых параметров. Параметр один (коэффициент A): $m = 1$, поэтому $k = n - 2$.***"
   ]
  },
  {
   "cell_type": "markdown",
   "id": "babe5692",
   "metadata": {},
   "source": [
    "> Если в качестве нулевой гипотезы выдвигают $H_0: A = A^*$, где $A^*$ - ненулевое значение, то наблюдаемый критерий рассчитывают как:\n",
    "$$\n",
    "t_{набл} = \\frac{a_в - A^*}{\\mu_a}\n",
    "$$"
   ]
  },
  {
   "cell_type": "markdown",
   "id": "3fda9dfd",
   "metadata": {},
   "source": [
    "Нулевая гипотеза:\n",
    "\n",
    "$H_0: B = 0$"
   ]
  },
  {
   "cell_type": "markdown",
   "id": "6bb6afaf",
   "metadata": {},
   "source": [
    "Альтернативная гипотеза:\n",
    "\n",
    "$H_1: B \\neq 0$"
   ]
  },
  {
   "cell_type": "markdown",
   "id": "e5b19cee",
   "metadata": {},
   "source": [
    "Статистический критерий:\n",
    "\n",
    "$$\n",
    "T = \\frac{b_в}{\\mu_a}\n",
    "$$\n",
    ", где:<br/>\n",
    "$b_в$ - выборочное значение коэффициента,<br/>\n",
    "$\\mu_b$ - стандартная ошибка коэффициента B:\n",
    "$$\n",
    "\\mu_b = s_e \\cdot\\frac{\\sqrt{\\sum{x_i^2}}}{n\\cdot\\sigma_x} = \\mu_a \\cdot \\sqrt{\\frac{\\sum{x_i^2}}{n}}\n",
    "$$\n",
    ", где:<br/>\n",
    "$\\sigma_x$ - среднее квадратическое отклонение признака-фактора,<br/>\n",
    "$s_e$ - стандартная ошибка регрессии:\n",
    "$$\n",
    "s_e = \\sqrt{\\frac{\\sum{e_i^2}}{n-2}}\n",
    "$$"
   ]
  },
  {
   "cell_type": "markdown",
   "id": "75c0f082",
   "metadata": {},
   "source": [
    "***Случайная величина $T$ имеет распределение Стьюдента с количеством степеней свободы $k = n - m - 1$, где $m$ – количество оцениваемых параметров. Параметр один (коэффициент B): $m = 1$, поэтому $k = n - 2$.***"
   ]
  },
  {
   "cell_type": "markdown",
   "id": "0971aa0a",
   "metadata": {},
   "source": [
    "> Если в качестве нулевой гипотезы выдвигают $H_0: B = B^*$, где $B^*$ - ненулевое значение, то наблюдаемый критерий рассчитывают как:\n",
    "$$\n",
    "t_{набл} = \\frac{b_в - B^*}{\\mu_b}\n",
    "$$"
   ]
  },
  {
   "cell_type": "markdown",
   "id": "5f8e4d10",
   "metadata": {},
   "source": [
    "**Значимость выборочного уравнения линейной регрессии**"
   ]
  },
  {
   "cell_type": "markdown",
   "id": "c256d0d1",
   "metadata": {},
   "source": [
    "Поставленный вопрос эквивалентен вопросу о проверке значимости выборочного коэффициента детерминации"
   ]
  },
  {
   "cell_type": "markdown",
   "id": "90a50d18",
   "metadata": {},
   "source": [
    "Нулевая гипотеза:\n",
    "\n",
    "$H_0: R_Г^2 = 0$\n",
    "\n",
    "– генеральный коэффициент детерминации равен нулю, иными словами признак-фактор $X$ вообще никак (на 0%) не влияет на признак-результат $Y$"
   ]
  },
  {
   "cell_type": "markdown",
   "id": "00078d8e",
   "metadata": {},
   "source": [
    "Альтернативная гипотеза:\n",
    "\n",
    "$H_1: R_Г^2 > 0$\n",
    "\n",
    "– влияние признака-фактора $Y$ на признак-результат $Y$ $Y$ существет"
   ]
  },
  {
   "cell_type": "markdown",
   "id": "d6eea27d",
   "metadata": {},
   "source": [
    "Статистический критерий:\n",
    "\n",
    "$$\n",
    "F = \\frac{R_в^2}{1-R_в^2}\\cdot\\frac{n-m-1}{m}\n",
    "$$\n",
    ", где:<br/>\n",
    "$R_в^2$ - значение выборочного коэффициента детерминации,<br/>\n",
    "$m$ - количество факторных (причинных) переменных."
   ]
  },
  {
   "cell_type": "markdown",
   "id": "073db4c9",
   "metadata": {},
   "source": [
    "Однофакторная модель:\n",
    "\n",
    "$$\n",
    "F = \\frac{R_в^2 \\cdot (n-2)}{1-R_в^2}\n",
    "$$"
   ]
  },
  {
   "cell_type": "markdown",
   "id": "cefe5a67",
   "metadata": {},
   "source": [
    "***Эта случайная величина имеет распределение Фишера (F-распределение)  с количеством степеней свободы $k_1 = 1, k_2 = n - 2$***"
   ]
  },
  {
   "cell_type": "markdown",
   "id": "f4cfd5a3",
   "metadata": {},
   "source": [
    "> Для линейной однофакторной модели эквивалентными являются следующие проверки:\n",
    ">* проверка значимости коэффициента корреляции;\n",
    ">* проверка значимости коэффициента факторной переменной уравнения регрессии;\n",
    ">* проверка значимость коэффициента детерминации."
   ]
  },
  {
   "cell_type": "markdown",
   "id": "23640176",
   "metadata": {},
   "source": [
    "### Доверительные интервалы"
   ]
  },
  {
   "cell_type": "markdown",
   "id": "ae31ad53",
   "metadata": {},
   "source": [
    "**Доверительный интервал для генерального коэффициента корреляции**"
   ]
  },
  {
   "cell_type": "markdown",
   "id": "420765bf",
   "metadata": {},
   "source": [
    "- Точность оценки:\n",
    "$$\n",
    "\\delta = t_{\\gamma}\\cdot{\\frac{1-r_в^2}{\\sqrt{n}}}\n",
    "$$\n",
    "\n",
    "- Коэффициент доверия\n",
    "\n",
    "по функции распределения Стьюдента с количеством степеней свободы $k = n - 2$\n",
    "\n",
    "- Доверительный интервал:\n",
    "$$\n",
    "r - \\delta < \\rho < r + \\delta\n",
    "$$\n",
    "\n",
    "$$\n",
    "r - t_{\\gamma}\\cdot{\\frac{1-r_в^2}{\\sqrt{n}}} < \\rho < r + t_{\\gamma}\\cdot{\\frac{1-r_в^2}{\\sqrt{n}}}\n",
    "$$"
   ]
  },
  {
   "cell_type": "markdown",
   "id": "c74b90e1",
   "metadata": {},
   "source": [
    "**Доверительные интервалы для коэффициентов регрессии**"
   ]
  },
  {
   "cell_type": "markdown",
   "id": "d41b311f",
   "metadata": {},
   "source": [
    "- Точность оценки:\n",
    "$$\n",
    "\\delta = t_{\\gamma} \\cdot \\mu_a\n",
    "$$\n",
    "$$\n",
    "\\delta = t_{\\gamma} \\cdot \\mu_b\n",
    "$$\n",
    "\n",
    "- Коэффициент доверия\n",
    "\n",
    "по функции распределения Стьюдента с количеством степеней свободы $k = n - 2$\n",
    "\n",
    "- Доверительный интервал A:\n",
    "$$\n",
    "a - t_{\\gamma} \\cdot \\mu_a < A < \\rho < a + t_{\\gamma} \\cdot \\mu_a\n",
    "$$\n",
    "\n",
    "- Доверительный интервал B:\n",
    "$$\n",
    "b - t_{\\gamma} \\cdot \\mu_b < A < \\rho < b + t_{\\gamma} \\cdot \\mu_b\n",
    "$$"
   ]
  },
  {
   "cell_type": "markdown",
   "id": "43734336",
   "metadata": {},
   "source": [
    "**Доверительный интервал для точечного прогноза**"
   ]
  },
  {
   "cell_type": "markdown",
   "id": "086af9a3",
   "metadata": {},
   "source": [
    "Существует генеральное уравнение регрессии $y = Ax + B$ и, следовательно, *генеральное* прогнозируемое значение $y_{пр}^*$ при $x_{пр}$. И наша задача состоит в том, чтобы найти доверительный интервал:\n",
    "\n",
    "$$\n",
    "y_{пр} - \\varepsilon < y_{пр}^* < y_{пр} + \\varepsilon\n",
    "$$\n",
    "\n",
    "– который с заранее заданной доверительной вероятностью $\\gamma$ накроет истинное значение $y_{пр}^*$."
   ]
  },
  {
   "cell_type": "markdown",
   "id": "a7650b6c",
   "metadata": {},
   "source": [
    "- Точность оценки:\n",
    "$$\n",
    "\\varepsilon = t_{\\gamma} \\cdot \\mu_{пр}\n",
    "$$\n",
    "\n",
    "- Коэффициент доверия\n",
    "\n",
    "по функции распределения Стьюдента с количеством степеней свободы $k = n - 2$\n",
    "\n",
    "- $\\mu_{пр}$ стандартная ошибка точечного прогноза:\n",
    "\n",
    "$$\n",
    "\\mu = s_e \\cdot \\sqrt{1 + \\frac{1}{n}+\\frac{(x_{пр}-\\overline{x})^2}{\\sum{(x_i-\\overline{x})^2}}}\n",
    "$$\n",
    "\n",
    ", где:<br/>\n",
    "$s_e$ - стандартная ошибка регрессии:\n",
    "$$\n",
    "s_e = \\sqrt{\\frac{\\sum{e_i^2}}{n-2}}\n",
    "$$"
   ]
  },
  {
   "cell_type": "markdown",
   "id": "2083ad25",
   "metadata": {},
   "source": [
    "*преобразование формулы:*\n",
    "\n",
    "$$\n",
    "\\mu = \\frac{RMSE}{\\sigma_x} \\cdot \\sqrt{\\frac{\\sigma_x^2(n+1)+(x_{пр}-\\overline{x})^2}{n-2}}\n",
    "$$"
   ]
  },
  {
   "cell_type": "markdown",
   "id": "c3b0bbfd",
   "metadata": {},
   "source": [
    "---"
   ]
  },
  {
   "cell_type": "markdown",
   "id": "46904813",
   "metadata": {},
   "source": [
    "## Исследование"
   ]
  },
  {
   "cell_type": "code",
   "execution_count": 5,
   "id": "0f6fbf3e",
   "metadata": {},
   "outputs": [],
   "source": [
    "TITLE_FONT_SIZE = 16\n",
    "LABEL_FONT_SIZE = 14\n",
    "GRAPH_W = 10\n",
    "GRAPH_H = 6"
   ]
  },
  {
   "cell_type": "code",
   "execution_count": 6,
   "id": "922d5b86",
   "metadata": {},
   "outputs": [],
   "source": [
    "# Усреднение интервалов:\n",
    "def mean_int(interval):\n",
    "    return round(interval.mid, 9)"
   ]
  },
  {
   "cell_type": "code",
   "execution_count": 7,
   "id": "032d5345",
   "metadata": {},
   "outputs": [],
   "source": [
    "#Средние значения по группам:\n",
    "def set_means(df, factor):\n",
    "    int_name = df.columns[df.columns.str.startswith('int')][0]\n",
    "    columns = df.columns.drop([int_name, factor])\n",
    "    df[f'mean_{factor}'] = df[int_name].apply(mean_int)\n",
    "    for name in columns:\n",
    "        df[f'mean_{name}'] = df.groupby(int_name)[name].transform('mean')\n",
    "    \n",
    "    return"
   ]
  },
  {
   "cell_type": "code",
   "execution_count": 8,
   "id": "b6f04f3b",
   "metadata": {},
   "outputs": [],
   "source": [
    "# Создание сводной таблицы по интервалам\n",
    "def get_pivot(df, result):\n",
    "    print('Произведем группировку.')\n",
    "    print('В сводную таблицу добавим количество значений и групповые дисперсии признака-результата.')\n",
    "    columns = df.columns\n",
    "    index = columns[columns.str.startswith('mean') | columns.str.startswith('int')]\n",
    "    return df\\\n",
    "        .pivot_table(index=list(index),\n",
    "                     aggfunc={result: ['count', lambda x: np.var(x)]})\\\n",
    "        .replace(0, np.nan)\\\n",
    "        .dropna()\\\n",
    "        .rename(columns={'<lambda_0>': 'var'})\\\n",
    "        .reset_index()"
   ]
  },
  {
   "cell_type": "code",
   "execution_count": 9,
   "id": "98c876b4",
   "metadata": {},
   "outputs": [],
   "source": [
    "# Построение корреляционного поля или диаграммы рассеяния с графиками регрессии\n",
    "def correlation_field(df_long, funcs=None, figsize=(GRAPH_W, GRAPH_H), show=True, title='Корреляционное поле'):\n",
    "    df = df_long.copy()\n",
    "    colors = ['coral', 'darkviolet', 'crimson', 'seagreen']\n",
    "    plt.figure(figsize=figsize)\n",
    "    x_name, y_name, *_ = df.columns\n",
    "    if not 'count' in df.columns:\n",
    "        df['count'] = 1\n",
    "        title = 'Диаграмма рассеяния'\n",
    "    ax1 = sns.scatterplot(data=df, x=x_name, y=y_name,\n",
    "                          size='count', sizes=(100, 1000), alpha=0.8)\n",
    "    \n",
    "    if funcs:\n",
    "        min_x = min(df[x_name])\n",
    "        max_x = max(df[x_name])\n",
    "        r_x = max_x - min_x\n",
    "        xs = [min_x - r_x*0.3, min_x - r_x*0.1, max_x + r_x*0.1, max_x + r_x*0.3]\n",
    "        for i, f in enumerate(funcs):\n",
    "            plt.plot(xs, list(map(f, xs)), ',-',\n",
    "                     color=colors[i], linewidth=3, markersize=12)\n",
    "\n",
    "    ax1.set_xlim([int(df[x_name].min()*0.5),\\\n",
    "                  int(df[x_name].max()*1.25)])\n",
    "    ax1.set_ylim([int(df[y_name].min()*0.5),\\\n",
    "                  int(df[y_name].max()*1.25)])\n",
    "    plt.legend(loc=\"upper left\")\n",
    "    plt.grid(which='major',\n",
    "             color = 'grey',\n",
    "             linestyle = ':')\n",
    "#     ax1.spines['top'].set(visible=False)\n",
    "#     ax1.spines['right'].set(visible=False)\n",
    "#     ax1.spines['bottom'].set(alpha=0.5)\n",
    "#     ax1.spines['left'].set(alpha=0.5)\n",
    "\n",
    "    plt.xlabel(f'X ({x_name})', fontsize = LABEL_FONT_SIZE)\n",
    "    plt.ylabel(f'Y ({y_name})', fontsize = LABEL_FONT_SIZE)\n",
    "    plt.tick_params(labelsize = LABEL_FONT_SIZE-1)\n",
    "    s_reg = ' с линией регрессии' if funcs else ''\n",
    "    plt.title(f'{title}{s_reg}', pad=20, fontsize = TITLE_FONT_SIZE)\n",
    "    if show:\n",
    "        plt.show()\n",
    "        return\n",
    "    else:\n",
    "        return ax1"
   ]
  },
  {
   "cell_type": "code",
   "execution_count": 10,
   "id": "75c37cdd",
   "metadata": {},
   "outputs": [],
   "source": [
    "# Мой универсальный метод проверки гипотезы\n",
    "def stat_test(*args, side='two', alpha=0.05, scipy_distr=st.t, criterion=0):\n",
    "    c = {'l': (1, 0), 'r': (0, 1), 't': (0.5, 0.5), 'd': (0.5, 0.5), '2': (0.5, 0.5)}[str(side)[0]]\n",
    "    a_left = c[0] * alpha\n",
    "    a_right = 1 - c[1] * alpha\n",
    "    \n",
    "    pvalue = scipy_distr.cdf(criterion, *args)\n",
    "    u_left = scipy_distr.ppf(a_left, *args)\n",
    "    u_right = scipy_distr.ppf(a_right, *args)\n",
    "    cr = [u_left, criterion, u_right]\n",
    "    cr_str = [f'( {u_left:.6f} ', f' \\x1b[1m{criterion:.6f}\\x1b[0m ', f' {u_right:.6f} )']\n",
    "    cr_ind = sorted(range(3), key = lambda x: cr[x])\n",
    "    a_str = [f'( {a_left:.4f} ', f' \\x1b[1m{pvalue:.4f}\\x1b[0m ', f' {a_right:.4f} )']\n",
    "    \n",
    "    print('\\nДиапазон критерия:')\n",
    "    [print(cr_str[cr_ind[i]], end=' ') for i in range(3)]\n",
    "    print('\\n\\nДиапазон верояности:')\n",
    "    [print(a_str[cr_ind[i]], end=' ') for i in range(3)]\n",
    "    \n",
    "    print('\\n\\nНулевая гипотеза', end=' ')\n",
    "    if a_left < pvalue < a_right:\n",
    "        print('\\x1b[1mне отвергается\\x1b[0m')\n",
    "    else:\n",
    "        print('\\x1b[1mотвергается\\x1b[0m')"
   ]
  },
  {
   "cell_type": "markdown",
   "id": "037377a0",
   "metadata": {},
   "source": [
    "---"
   ]
  },
  {
   "cell_type": "markdown",
   "id": "bf314b19",
   "metadata": {},
   "source": [
    "### Исходные данные"
   ]
  },
  {
   "cell_type": "markdown",
   "id": "12d86dc5",
   "metadata": {},
   "source": [
    "Имеются выборочные данные о выпуске продукции (млн. руб.) и прибыли (млн. руб.) по 30 предприятиям за некоторый период:"
   ]
  },
  {
   "cell_type": "code",
   "execution_count": 11,
   "id": "e656efaa",
   "metadata": {},
   "outputs": [],
   "source": [
    "data = {\n",
    "    'output': [65, 78, 41, 54, 66, 80, 45, 57, 67, 81,\\\n",
    "               92, 48, 59, 68, 83, 52, 62, 69, 85, 70,\\\n",
    "               71, 64, 72, 88, 73, 74, 96, 75, 101, 76],\n",
    "    'profit': [15.7, 18.0, 12.1, 13.8, 15.5, 17.9, 12.8, 14.2,\\\n",
    "               15.9, 17.6, 18.2, 13.0, 15.5, 16.2, 16.7, 14.6,\\\n",
    "               14.8, 16.1, 16.7, 15.8, 16.4, 15.0, 16.5, 18.5,\\\n",
    "               16.4, 16.0, 19.1, 16.3, 19.6, 17.2]\n",
    "}"
   ]
  },
  {
   "cell_type": "code",
   "execution_count": 12,
   "id": "f40c9f7b",
   "metadata": {},
   "outputs": [],
   "source": [
    "df = pd.DataFrame(data)"
   ]
  },
  {
   "cell_type": "code",
   "execution_count": 13,
   "id": "2911c811",
   "metadata": {},
   "outputs": [
    {
     "data": {
      "text/html": [
       "<div>\n",
       "<style scoped>\n",
       "    .dataframe tbody tr th:only-of-type {\n",
       "        vertical-align: middle;\n",
       "    }\n",
       "\n",
       "    .dataframe tbody tr th {\n",
       "        vertical-align: top;\n",
       "    }\n",
       "\n",
       "    .dataframe thead th {\n",
       "        text-align: right;\n",
       "    }\n",
       "</style>\n",
       "<table border=\"1\" class=\"dataframe\">\n",
       "  <thead>\n",
       "    <tr style=\"text-align: right;\">\n",
       "      <th></th>\n",
       "      <th>count</th>\n",
       "      <th>mean</th>\n",
       "      <th>std</th>\n",
       "      <th>min</th>\n",
       "      <th>25%</th>\n",
       "      <th>50%</th>\n",
       "      <th>75%</th>\n",
       "      <th>max</th>\n",
       "    </tr>\n",
       "  </thead>\n",
       "  <tbody>\n",
       "    <tr>\n",
       "      <th>output</th>\n",
       "      <td>30.0</td>\n",
       "      <td>70.40</td>\n",
       "      <td>14.604203</td>\n",
       "      <td>41.0</td>\n",
       "      <td>62.500</td>\n",
       "      <td>70.50</td>\n",
       "      <td>79.500</td>\n",
       "      <td>101.0</td>\n",
       "    </tr>\n",
       "    <tr>\n",
       "      <th>profit</th>\n",
       "      <td>30.0</td>\n",
       "      <td>16.07</td>\n",
       "      <td>1.804047</td>\n",
       "      <td>12.1</td>\n",
       "      <td>15.125</td>\n",
       "      <td>16.15</td>\n",
       "      <td>17.075</td>\n",
       "      <td>19.6</td>\n",
       "    </tr>\n",
       "  </tbody>\n",
       "</table>\n",
       "</div>"
      ],
      "text/plain": [
       "        count   mean        std   min     25%    50%     75%    max\n",
       "output   30.0  70.40  14.604203  41.0  62.500  70.50  79.500  101.0\n",
       "profit   30.0  16.07   1.804047  12.1  15.125  16.15  17.075   19.6"
      ]
     },
     "execution_count": 13,
     "metadata": {},
     "output_type": "execute_result"
    }
   ],
   "source": [
    "df.describe().T"
   ]
  },
  {
   "cell_type": "code",
   "execution_count": 14,
   "id": "7e80bd54",
   "metadata": {},
   "outputs": [
    {
     "data": {
      "text/html": [
       "<div>\n",
       "<style scoped>\n",
       "    .dataframe tbody tr th:only-of-type {\n",
       "        vertical-align: middle;\n",
       "    }\n",
       "\n",
       "    .dataframe tbody tr th {\n",
       "        vertical-align: top;\n",
       "    }\n",
       "\n",
       "    .dataframe thead th {\n",
       "        text-align: right;\n",
       "    }\n",
       "</style>\n",
       "<table border=\"1\" class=\"dataframe\">\n",
       "  <thead>\n",
       "    <tr style=\"text-align: right;\">\n",
       "      <th></th>\n",
       "      <th>output</th>\n",
       "      <th>profit</th>\n",
       "    </tr>\n",
       "  </thead>\n",
       "  <tbody>\n",
       "    <tr>\n",
       "      <th>6</th>\n",
       "      <td>45</td>\n",
       "      <td>12.8</td>\n",
       "    </tr>\n",
       "    <tr>\n",
       "      <th>11</th>\n",
       "      <td>48</td>\n",
       "      <td>13.0</td>\n",
       "    </tr>\n",
       "    <tr>\n",
       "      <th>15</th>\n",
       "      <td>52</td>\n",
       "      <td>14.6</td>\n",
       "    </tr>\n",
       "    <tr>\n",
       "      <th>7</th>\n",
       "      <td>57</td>\n",
       "      <td>14.2</td>\n",
       "    </tr>\n",
       "    <tr>\n",
       "      <th>4</th>\n",
       "      <td>66</td>\n",
       "      <td>15.5</td>\n",
       "    </tr>\n",
       "    <tr>\n",
       "      <th>27</th>\n",
       "      <td>75</td>\n",
       "      <td>16.3</td>\n",
       "    </tr>\n",
       "    <tr>\n",
       "      <th>9</th>\n",
       "      <td>81</td>\n",
       "      <td>17.6</td>\n",
       "    </tr>\n",
       "    <tr>\n",
       "      <th>14</th>\n",
       "      <td>83</td>\n",
       "      <td>16.7</td>\n",
       "    </tr>\n",
       "    <tr>\n",
       "      <th>23</th>\n",
       "      <td>88</td>\n",
       "      <td>18.5</td>\n",
       "    </tr>\n",
       "    <tr>\n",
       "      <th>10</th>\n",
       "      <td>92</td>\n",
       "      <td>18.2</td>\n",
       "    </tr>\n",
       "  </tbody>\n",
       "</table>\n",
       "</div>"
      ],
      "text/plain": [
       "    output  profit\n",
       "6       45    12.8\n",
       "11      48    13.0\n",
       "15      52    14.6\n",
       "7       57    14.2\n",
       "4       66    15.5\n",
       "27      75    16.3\n",
       "9       81    17.6\n",
       "14      83    16.7\n",
       "23      88    18.5\n",
       "10      92    18.2"
      ]
     },
     "execution_count": 14,
     "metadata": {},
     "output_type": "execute_result"
    }
   ],
   "source": [
    "df.sample(10).sort_values('output')"
   ]
  },
  {
   "cell_type": "code",
   "execution_count": 15,
   "id": "637784c4",
   "metadata": {},
   "outputs": [
    {
     "data": {
      "image/png": "[encoded data removed]",
      "text/plain": [
       "<Figure size 720x432 with 1 Axes>"
      ]
     },
     "metadata": {
      "needs_background": "light"
     },
     "output_type": "display_data"
    }
   ],
   "source": [
    "df.plot(kind='scatter', x='output', y='profit',\n",
    "        marker='X', figsize=(GRAPH_W, GRAPH_H), s=100, alpha=0.9)\n",
    "plt.grid(which='major',\n",
    "         color = 'grey',\n",
    "         linestyle = ':')\n",
    "plt.title(f'Распределние значений данных', pad=20, fontsize = TITLE_FONT_SIZE)\n",
    "plt.show()"
   ]
  },
  {
   "cell_type": "markdown",
   "id": "c2904371",
   "metadata": {},
   "source": [
    "Очевидно, что *средний размер* прибыли по предприятиям зависит от стоимости выпущенной продукции, при этом, чем больше выпущено продукции, тем выше может быть прибыль. Таким образом, выпуск продукции $X$ является **признаком-фактором**, а прибыль предприятий $Y$ – **признаком-результатом**; предполагаемая *корреляционная зависимость* – *прямая*."
   ]
  },
  {
   "cell_type": "markdown",
   "id": "e3b318d7",
   "metadata": {},
   "source": [
    "### Параметры вариации:"
   ]
  },
  {
   "cell_type": "markdown",
   "id": "c7d0c92f",
   "metadata": {},
   "source": [
    "#### Объем совокуплности:"
   ]
  },
  {
   "cell_type": "code",
   "execution_count": 16,
   "id": "6e56a1da",
   "metadata": {},
   "outputs": [],
   "source": [
    "n = df.shape[0]"
   ]
  },
  {
   "cell_type": "code",
   "execution_count": 17,
   "id": "35c4d775",
   "metadata": {},
   "outputs": [
    {
     "name": "stdout",
     "output_type": "stream",
     "text": [
      "Объем совокуплности: 30\n"
     ]
    }
   ],
   "source": [
    "print(f'Объем совокуплности: {n}')"
   ]
  },
  {
   "cell_type": "markdown",
   "id": "8f2dcd7a",
   "metadata": {},
   "source": [
    "#### Размах вариации:"
   ]
  },
  {
   "cell_type": "code",
   "execution_count": 18,
   "id": "27c07a6f",
   "metadata": {},
   "outputs": [],
   "source": [
    "R = df['output'].max() - df['output'].min()"
   ]
  },
  {
   "cell_type": "code",
   "execution_count": 19,
   "id": "c166eff6",
   "metadata": {},
   "outputs": [
    {
     "name": "stdout",
     "output_type": "stream",
     "text": [
      "Размах вариации по признаку-фактору: 60\n"
     ]
    }
   ],
   "source": [
    "print(f'Размах вариации по признаку-фактору: {R}')"
   ]
  },
  {
   "cell_type": "markdown",
   "id": "dbf78205",
   "metadata": {},
   "source": [
    "#### Оптимальное количество интервалов определим по формуле Стерджеса:"
   ]
  },
  {
   "cell_type": "code",
   "execution_count": 20,
   "id": "2d6c9edf",
   "metadata": {},
   "outputs": [],
   "source": [
    "k = int(1 + 3.322 * np.log10(n))"
   ]
  },
  {
   "cell_type": "code",
   "execution_count": 21,
   "id": "b503f30f",
   "metadata": {},
   "outputs": [],
   "source": [
    "# # задача 62\n",
    "# k = 4"
   ]
  },
  {
   "cell_type": "code",
   "execution_count": 22,
   "id": "15f2ac90",
   "metadata": {},
   "outputs": [
    {
     "name": "stdout",
     "output_type": "stream",
     "text": [
      "Оптимальное количество интервалов: 5\n"
     ]
    }
   ],
   "source": [
    "print(f'Оптимальное количество интервалов: {k}')"
   ]
  },
  {
   "cell_type": "markdown",
   "id": "6a72e780",
   "metadata": {},
   "source": [
    "#### Общие средние значения:"
   ]
  },
  {
   "cell_type": "code",
   "execution_count": 23,
   "id": "48f7d0bd",
   "metadata": {},
   "outputs": [],
   "source": [
    "mean_x = df['output'].mean()"
   ]
  },
  {
   "cell_type": "code",
   "execution_count": 24,
   "id": "83023493",
   "metadata": {},
   "outputs": [
    {
     "name": "stdout",
     "output_type": "stream",
     "text": [
      "Среднее значение признака-фактора: 70.4\n"
     ]
    }
   ],
   "source": [
    "print(f'Среднее значение признака-фактора: {mean_x}')"
   ]
  },
  {
   "cell_type": "code",
   "execution_count": 25,
   "id": "e46766d8",
   "metadata": {},
   "outputs": [],
   "source": [
    "mean_y = df['profit'].mean()"
   ]
  },
  {
   "cell_type": "code",
   "execution_count": 26,
   "id": "2ac4b0de",
   "metadata": {},
   "outputs": [
    {
     "name": "stdout",
     "output_type": "stream",
     "text": [
      "Среднее значение признака-результата: 16.07\n"
     ]
    }
   ],
   "source": [
    "print(f'Среднее значение признака-результата: {mean_y}')"
   ]
  },
  {
   "cell_type": "markdown",
   "id": "ff24732f",
   "metadata": {},
   "source": [
    "#### Общие дисперсии:"
   ]
  },
  {
   "cell_type": "code",
   "execution_count": 27,
   "id": "494b7cd6",
   "metadata": {},
   "outputs": [
    {
     "data": {
      "text/plain": [
       "206.17333333333332"
      ]
     },
     "execution_count": 27,
     "metadata": {},
     "output_type": "execute_result"
    }
   ],
   "source": [
    "# вариант 1 по формуле\n",
    "((df['output'] - mean_x)**2).mean()"
   ]
  },
  {
   "cell_type": "code",
   "execution_count": 28,
   "id": "590367fb",
   "metadata": {},
   "outputs": [
    {
     "data": {
      "text/plain": [
       "206.17333333333227"
      ]
     },
     "execution_count": 28,
     "metadata": {},
     "output_type": "execute_result"
    }
   ],
   "source": [
    "# вариант 2 по формуле\n",
    "(df['output']**2).mean() - df['output'].mean()**2"
   ]
  },
  {
   "cell_type": "code",
   "execution_count": 29,
   "id": "f096be74",
   "metadata": {},
   "outputs": [],
   "source": [
    "# встроенный метод\n",
    "var_x = df['output'].var(ddof=0)"
   ]
  },
  {
   "cell_type": "code",
   "execution_count": 30,
   "id": "a19049d4",
   "metadata": {},
   "outputs": [
    {
     "name": "stdout",
     "output_type": "stream",
     "text": [
      "Дисперсия признака-фактора: 206.17333333333332\n"
     ]
    }
   ],
   "source": [
    "print(f'Дисперсия признака-фактора: {var_x}')"
   ]
  },
  {
   "cell_type": "code",
   "execution_count": 31,
   "id": "232a1895",
   "metadata": {},
   "outputs": [
    {
     "data": {
      "text/plain": [
       "3.1461"
      ]
     },
     "execution_count": 31,
     "metadata": {},
     "output_type": "execute_result"
    }
   ],
   "source": [
    "# вариант 1 по формуле\n",
    "((df['profit'] - mean_y)**2).mean()"
   ]
  },
  {
   "cell_type": "code",
   "execution_count": 32,
   "id": "753f82ac",
   "metadata": {},
   "outputs": [
    {
     "data": {
      "text/plain": [
       "3.14609999999999"
      ]
     },
     "execution_count": 32,
     "metadata": {},
     "output_type": "execute_result"
    }
   ],
   "source": [
    "# вариант 2 по формуле\n",
    "(df['profit']**2).mean() - df['profit'].mean()**2"
   ]
  },
  {
   "cell_type": "code",
   "execution_count": 33,
   "id": "b2763915",
   "metadata": {},
   "outputs": [],
   "source": [
    "var_y = df['profit'].var(ddof=0)"
   ]
  },
  {
   "cell_type": "code",
   "execution_count": 34,
   "id": "ee0e8872",
   "metadata": {},
   "outputs": [
    {
     "name": "stdout",
     "output_type": "stream",
     "text": [
      "Дисперсия признака-результата: 3.1461\n"
     ]
    }
   ],
   "source": [
    "print(f'Дисперсия признака-результата: {var_y}')"
   ]
  },
  {
   "cell_type": "markdown",
   "id": "11a842a4",
   "metadata": {},
   "source": [
    "#### Общие стандартные отлонения:"
   ]
  },
  {
   "cell_type": "code",
   "execution_count": 35,
   "id": "da0733f0",
   "metadata": {},
   "outputs": [],
   "source": [
    "std_x = df['output'].std(ddof=0)"
   ]
  },
  {
   "cell_type": "code",
   "execution_count": 36,
   "id": "60d67348",
   "metadata": {},
   "outputs": [
    {
     "name": "stdout",
     "output_type": "stream",
     "text": [
      "Стандартное отклонение признака-фактора: 14.358737177528297\n"
     ]
    }
   ],
   "source": [
    "print(f'Стандартное отклонение признака-фактора: {std_x}')"
   ]
  },
  {
   "cell_type": "code",
   "execution_count": 37,
   "id": "087669b8",
   "metadata": {},
   "outputs": [],
   "source": [
    "std_y = df['profit'].std(ddof=0)"
   ]
  },
  {
   "cell_type": "code",
   "execution_count": 38,
   "id": "28ea4e73",
   "metadata": {},
   "outputs": [
    {
     "name": "stdout",
     "output_type": "stream",
     "text": [
      "Стандартное отклонение признака-результата: 1.7737248941140789\n"
     ]
    }
   ],
   "source": [
    "print(f'Стандартное отклонение признака-результата: {std_y}')"
   ]
  },
  {
   "cell_type": "markdown",
   "id": "47077b4f",
   "metadata": {},
   "source": [
    "---"
   ]
  },
  {
   "cell_type": "markdown",
   "id": "04f66855",
   "metadata": {},
   "source": [
    "### Аналитическая группировка"
   ]
  },
  {
   "cell_type": "markdown",
   "id": "e4a175c8",
   "metadata": {},
   "source": [
    "#### Равноинтеравльная группировка:"
   ]
  },
  {
   "cell_type": "markdown",
   "id": "9d73d2f0",
   "metadata": {},
   "source": [
    "Выполним разбиение:"
   ]
  },
  {
   "cell_type": "code",
   "execution_count": 39,
   "id": "f733893a",
   "metadata": {},
   "outputs": [],
   "source": [
    "df_equal_interval = df.copy()"
   ]
  },
  {
   "cell_type": "code",
   "execution_count": 40,
   "id": "2f72a813",
   "metadata": {},
   "outputs": [],
   "source": [
    "df_equal_interval['interval_output'] = pd.cut(df_equal_interval['output'],\n",
    "                                              k, right=False)"
   ]
  },
  {
   "cell_type": "markdown",
   "id": "0c693467",
   "metadata": {},
   "source": [
    "Средние значения по группам:"
   ]
  },
  {
   "cell_type": "code",
   "execution_count": 41,
   "id": "4f4ad2ec",
   "metadata": {},
   "outputs": [],
   "source": [
    "set_means(df_equal_interval, 'output')"
   ]
  },
  {
   "cell_type": "code",
   "execution_count": 42,
   "id": "01ace532",
   "metadata": {},
   "outputs": [
    {
     "data": {
      "text/html": [
       "<div>\n",
       "<style scoped>\n",
       "    .dataframe tbody tr th:only-of-type {\n",
       "        vertical-align: middle;\n",
       "    }\n",
       "\n",
       "    .dataframe tbody tr th {\n",
       "        vertical-align: top;\n",
       "    }\n",
       "\n",
       "    .dataframe thead th {\n",
       "        text-align: right;\n",
       "    }\n",
       "</style>\n",
       "<table border=\"1\" class=\"dataframe\">\n",
       "  <thead>\n",
       "    <tr style=\"text-align: right;\">\n",
       "      <th></th>\n",
       "      <th>output</th>\n",
       "      <th>profit</th>\n",
       "      <th>interval_output</th>\n",
       "      <th>mean_output</th>\n",
       "      <th>mean_profit</th>\n",
       "    </tr>\n",
       "  </thead>\n",
       "  <tbody>\n",
       "    <tr>\n",
       "      <th>0</th>\n",
       "      <td>65</td>\n",
       "      <td>15.7</td>\n",
       "      <td>[65.0, 77.0)</td>\n",
       "      <td>71.0</td>\n",
       "      <td>16.166667</td>\n",
       "    </tr>\n",
       "    <tr>\n",
       "      <th>1</th>\n",
       "      <td>78</td>\n",
       "      <td>18.0</td>\n",
       "      <td>[77.0, 89.0)</td>\n",
       "      <td>83.0</td>\n",
       "      <td>17.566667</td>\n",
       "    </tr>\n",
       "    <tr>\n",
       "      <th>2</th>\n",
       "      <td>41</td>\n",
       "      <td>12.1</td>\n",
       "      <td>[41.0, 53.0)</td>\n",
       "      <td>47.0</td>\n",
       "      <td>13.125000</td>\n",
       "    </tr>\n",
       "    <tr>\n",
       "      <th>3</th>\n",
       "      <td>54</td>\n",
       "      <td>13.8</td>\n",
       "      <td>[53.0, 65.0)</td>\n",
       "      <td>59.0</td>\n",
       "      <td>14.660000</td>\n",
       "    </tr>\n",
       "    <tr>\n",
       "      <th>4</th>\n",
       "      <td>66</td>\n",
       "      <td>15.5</td>\n",
       "      <td>[65.0, 77.0)</td>\n",
       "      <td>71.0</td>\n",
       "      <td>16.166667</td>\n",
       "    </tr>\n",
       "    <tr>\n",
       "      <th>5</th>\n",
       "      <td>80</td>\n",
       "      <td>17.9</td>\n",
       "      <td>[77.0, 89.0)</td>\n",
       "      <td>83.0</td>\n",
       "      <td>17.566667</td>\n",
       "    </tr>\n",
       "    <tr>\n",
       "      <th>6</th>\n",
       "      <td>45</td>\n",
       "      <td>12.8</td>\n",
       "      <td>[41.0, 53.0)</td>\n",
       "      <td>47.0</td>\n",
       "      <td>13.125000</td>\n",
       "    </tr>\n",
       "    <tr>\n",
       "      <th>7</th>\n",
       "      <td>57</td>\n",
       "      <td>14.2</td>\n",
       "      <td>[53.0, 65.0)</td>\n",
       "      <td>59.0</td>\n",
       "      <td>14.660000</td>\n",
       "    </tr>\n",
       "    <tr>\n",
       "      <th>8</th>\n",
       "      <td>67</td>\n",
       "      <td>15.9</td>\n",
       "      <td>[65.0, 77.0)</td>\n",
       "      <td>71.0</td>\n",
       "      <td>16.166667</td>\n",
       "    </tr>\n",
       "    <tr>\n",
       "      <th>9</th>\n",
       "      <td>81</td>\n",
       "      <td>17.6</td>\n",
       "      <td>[77.0, 89.0)</td>\n",
       "      <td>83.0</td>\n",
       "      <td>17.566667</td>\n",
       "    </tr>\n",
       "  </tbody>\n",
       "</table>\n",
       "</div>"
      ],
      "text/plain": [
       "   output  profit interval_output mean_output  mean_profit\n",
       "0      65    15.7    [65.0, 77.0)        71.0    16.166667\n",
       "1      78    18.0    [77.0, 89.0)        83.0    17.566667\n",
       "2      41    12.1    [41.0, 53.0)        47.0    13.125000\n",
       "3      54    13.8    [53.0, 65.0)        59.0    14.660000\n",
       "4      66    15.5    [65.0, 77.0)        71.0    16.166667\n",
       "5      80    17.9    [77.0, 89.0)        83.0    17.566667\n",
       "6      45    12.8    [41.0, 53.0)        47.0    13.125000\n",
       "7      57    14.2    [53.0, 65.0)        59.0    14.660000\n",
       "8      67    15.9    [65.0, 77.0)        71.0    16.166667\n",
       "9      81    17.6    [77.0, 89.0)        83.0    17.566667"
      ]
     },
     "execution_count": 42,
     "metadata": {},
     "output_type": "execute_result"
    }
   ],
   "source": [
    "df_equal_interval.head(10)"
   ]
  },
  {
   "cell_type": "markdown",
   "id": "5a4bbdba",
   "metadata": {},
   "source": [
    "##### Аналитичесая таблица:"
   ]
  },
  {
   "cell_type": "code",
   "execution_count": 43,
   "id": "0eb4637c",
   "metadata": {},
   "outputs": [
    {
     "name": "stdout",
     "output_type": "stream",
     "text": [
      "Произведем группировку.\n",
      "В сводную таблицу добавим количество значений и групповые дисперсии признака-результата.\n"
     ]
    }
   ],
   "source": [
    "pivot_equal_interval = get_pivot(df_equal_interval, 'profit')"
   ]
  },
  {
   "cell_type": "code",
   "execution_count": 44,
   "id": "3ec13b68",
   "metadata": {},
   "outputs": [
    {
     "data": {
      "text/html": [
       "<div>\n",
       "<style scoped>\n",
       "    .dataframe tbody tr th:only-of-type {\n",
       "        vertical-align: middle;\n",
       "    }\n",
       "\n",
       "    .dataframe tbody tr th {\n",
       "        vertical-align: top;\n",
       "    }\n",
       "\n",
       "    .dataframe thead tr th {\n",
       "        text-align: left;\n",
       "    }\n",
       "</style>\n",
       "<table border=\"1\" class=\"dataframe\">\n",
       "  <thead>\n",
       "    <tr>\n",
       "      <th></th>\n",
       "      <th>interval_output</th>\n",
       "      <th>mean_output</th>\n",
       "      <th>mean_profit</th>\n",
       "      <th colspan=\"2\" halign=\"left\">profit</th>\n",
       "    </tr>\n",
       "    <tr>\n",
       "      <th></th>\n",
       "      <th></th>\n",
       "      <th></th>\n",
       "      <th></th>\n",
       "      <th>var</th>\n",
       "      <th>count</th>\n",
       "    </tr>\n",
       "  </thead>\n",
       "  <tbody>\n",
       "    <tr>\n",
       "      <th>0</th>\n",
       "      <td>[41.0, 53.0)</td>\n",
       "      <td>47.00</td>\n",
       "      <td>13.125000</td>\n",
       "      <td>0.836875</td>\n",
       "      <td>4.0</td>\n",
       "    </tr>\n",
       "    <tr>\n",
       "      <th>1</th>\n",
       "      <td>[53.0, 65.0)</td>\n",
       "      <td>59.00</td>\n",
       "      <td>14.660000</td>\n",
       "      <td>0.358400</td>\n",
       "      <td>5.0</td>\n",
       "    </tr>\n",
       "    <tr>\n",
       "      <th>2</th>\n",
       "      <td>[65.0, 77.0)</td>\n",
       "      <td>71.00</td>\n",
       "      <td>16.166667</td>\n",
       "      <td>0.183889</td>\n",
       "      <td>12.0</td>\n",
       "    </tr>\n",
       "    <tr>\n",
       "      <th>3</th>\n",
       "      <td>[77.0, 89.0)</td>\n",
       "      <td>83.00</td>\n",
       "      <td>17.566667</td>\n",
       "      <td>0.445556</td>\n",
       "      <td>6.0</td>\n",
       "    </tr>\n",
       "    <tr>\n",
       "      <th>4</th>\n",
       "      <td>[89.0, 101.06)</td>\n",
       "      <td>95.03</td>\n",
       "      <td>18.966667</td>\n",
       "      <td>0.335556</td>\n",
       "      <td>3.0</td>\n",
       "    </tr>\n",
       "  </tbody>\n",
       "</table>\n",
       "</div>"
      ],
      "text/plain": [
       "  interval_output mean_output mean_profit    profit      \n",
       "                                                var count\n",
       "0    [41.0, 53.0)       47.00   13.125000  0.836875   4.0\n",
       "1    [53.0, 65.0)       59.00   14.660000  0.358400   5.0\n",
       "2    [65.0, 77.0)       71.00   16.166667  0.183889  12.0\n",
       "3    [77.0, 89.0)       83.00   17.566667  0.445556   6.0\n",
       "4  [89.0, 101.06)       95.03   18.966667  0.335556   3.0"
      ]
     },
     "execution_count": 44,
     "metadata": {},
     "output_type": "execute_result"
    }
   ],
   "source": [
    "pivot_equal_interval"
   ]
  },
  {
   "cell_type": "markdown",
   "id": "1d0e155d",
   "metadata": {},
   "source": [
    "Сделаем краткие выводы: аналитическая группировка показала, что при увеличении стоимости выпущенной продукции наблюдается увеличение *средней* прибыли по предприятиям. Таким образом, между рассмотренными факторами действительно существует *прямая корреляционная зависимость*."
   ]
  },
  {
   "cell_type": "markdown",
   "id": "f47c7484",
   "metadata": {},
   "source": [
    "##### Внутригрупповая диспресия:"
   ]
  },
  {
   "cell_type": "code",
   "execution_count": 45,
   "id": "76ff1c15",
   "metadata": {},
   "outputs": [],
   "source": [
    "var_inner_equal_interval =\\\n",
    "(pivot_equal_interval[('profit', 'var')]\\\n",
    " * pivot_equal_interval[('profit', 'count')])\\\n",
    ".sum()\\\n",
    "/ pivot_equal_interval[('profit', 'count')].sum()"
   ]
  },
  {
   "cell_type": "code",
   "execution_count": 46,
   "id": "82751954",
   "metadata": {},
   "outputs": [
    {
     "name": "stdout",
     "output_type": "stream",
     "text": [
      "Внутригрупповая диспресия: 0.36753888888888897\n"
     ]
    }
   ],
   "source": [
    "print(f'Внутригрупповая диспресия: {var_inner_equal_interval}')"
   ]
  },
  {
   "cell_type": "markdown",
   "id": "2aece67d",
   "metadata": {},
   "source": [
    "##### Межгрупповая дисперсия:"
   ]
  },
  {
   "cell_type": "code",
   "execution_count": 47,
   "id": "1e4ca22e",
   "metadata": {},
   "outputs": [],
   "source": [
    "var_outer_equal_interval =\\\n",
    "((pivot_equal_interval['mean_profit'] - mean_y)**2\\\n",
    " * pivot_equal_interval[('profit', 'count')])\\\n",
    ".sum()\\\n",
    "/ pivot_equal_interval[('profit', 'count')].sum() "
   ]
  },
  {
   "cell_type": "code",
   "execution_count": 48,
   "id": "d989024f",
   "metadata": {},
   "outputs": [
    {
     "name": "stdout",
     "output_type": "stream",
     "text": [
      "Межгрупповая диспресия: 2.7785611111111117\n"
     ]
    }
   ],
   "source": [
    "print(f'Межгрупповая диспресия: {var_outer_equal_interval}')"
   ]
  },
  {
   "cell_type": "markdown",
   "id": "f4e4685c",
   "metadata": {},
   "source": [
    "##### Проверка:"
   ]
  },
  {
   "cell_type": "code",
   "execution_count": 49,
   "id": "8e6aaffe",
   "metadata": {},
   "outputs": [
    {
     "name": "stdout",
     "output_type": "stream",
     "text": [
      "Общая дисперсия: 3.1461\n",
      "Внутригрупповая + межгрупповая дисперсия:\n",
      "0.3675 + 2.7786 = 3.1461\n"
     ]
    }
   ],
   "source": [
    "print(f'Общая дисперсия: {var_y:.4f}')\n",
    "print(f'Внутригрупповая + межгрупповая дисперсия:\\\n",
    "\\n{var_inner_equal_interval:.4f} + {var_outer_equal_interval:.4f} = \\\n",
    "{(var_inner_equal_interval + var_outer_equal_interval):.4f}')"
   ]
  },
  {
   "cell_type": "markdown",
   "id": "b21bfbb7",
   "metadata": {},
   "source": [
    "##### Эмпирический коэффициент детерминации:"
   ]
  },
  {
   "cell_type": "code",
   "execution_count": 50,
   "id": "f7ab0d68",
   "metadata": {},
   "outputs": [],
   "source": [
    "r2_equal_interval = var_outer_equal_interval / var_y"
   ]
  },
  {
   "cell_type": "code",
   "execution_count": 51,
   "id": "677a306d",
   "metadata": {},
   "outputs": [
    {
     "name": "stdout",
     "output_type": "stream",
     "text": [
      "Эмпирический коэффициент детерминации: 0.8831763488481331\n"
     ]
    }
   ],
   "source": [
    "print(f'Эмпирический коэффициент детерминации: {r2_equal_interval}')"
   ]
  },
  {
   "cell_type": "markdown",
   "id": "80c830b6",
   "metadata": {},
   "source": [
    "Таким образом, 88,32% вариации прибыли обусловлено стоимостью выпущенной продукции.<br/> Оставшаяся часть вариации 11.68% обусловлена другими факторами."
   ]
  },
  {
   "cell_type": "markdown",
   "id": "e275c202",
   "metadata": {},
   "source": [
    "##### Эмпирическое корреляционное отношение:"
   ]
  },
  {
   "cell_type": "code",
   "execution_count": 52,
   "id": "e94f7295",
   "metadata": {},
   "outputs": [
    {
     "name": "stdout",
     "output_type": "stream",
     "text": [
      "Эмпирическое корреляционное отношение: 0.9397746266249867\n"
     ]
    }
   ],
   "source": [
    "print(f'Эмпирическое корреляционное отношение: {r2_equal_interval**0.5}')"
   ]
  },
  {
   "cell_type": "markdown",
   "id": "e0366983",
   "metadata": {},
   "source": [
    "Таким образом, прибыль предприятий очень сильно зависит от стоимости выпущенной продукции."
   ]
  },
  {
   "cell_type": "markdown",
   "id": "8477f698",
   "metadata": {},
   "source": [
    "#### Равнонаполненная группировка:"
   ]
  },
  {
   "cell_type": "code",
   "execution_count": 53,
   "id": "263dbc4a",
   "metadata": {},
   "outputs": [],
   "source": [
    "df_equal_filled = df.copy()"
   ]
  },
  {
   "cell_type": "code",
   "execution_count": 54,
   "id": "08500742",
   "metadata": {},
   "outputs": [],
   "source": [
    "df_equal_filled['interval_output'] = pd.qcut(df_equal_filled['output'], k)"
   ]
  },
  {
   "cell_type": "markdown",
   "id": "1afcc973",
   "metadata": {},
   "source": [
    "Средние значения по группам:"
   ]
  },
  {
   "cell_type": "code",
   "execution_count": 55,
   "id": "21173901",
   "metadata": {},
   "outputs": [],
   "source": [
    "set_means(df_equal_filled, 'output')"
   ]
  },
  {
   "cell_type": "code",
   "execution_count": 56,
   "id": "dfb180fb",
   "metadata": {},
   "outputs": [
    {
     "data": {
      "text/html": [
       "<div>\n",
       "<style scoped>\n",
       "    .dataframe tbody tr th:only-of-type {\n",
       "        vertical-align: middle;\n",
       "    }\n",
       "\n",
       "    .dataframe tbody tr th {\n",
       "        vertical-align: top;\n",
       "    }\n",
       "\n",
       "    .dataframe thead th {\n",
       "        text-align: right;\n",
       "    }\n",
       "</style>\n",
       "<table border=\"1\" class=\"dataframe\">\n",
       "  <thead>\n",
       "    <tr style=\"text-align: right;\">\n",
       "      <th></th>\n",
       "      <th>output</th>\n",
       "      <th>profit</th>\n",
       "      <th>interval_output</th>\n",
       "      <th>mean_output</th>\n",
       "      <th>mean_profit</th>\n",
       "    </tr>\n",
       "  </thead>\n",
       "  <tbody>\n",
       "    <tr>\n",
       "      <th>0</th>\n",
       "      <td>65</td>\n",
       "      <td>15.7</td>\n",
       "      <td>(58.6, 67.6]</td>\n",
       "      <td>63.1000</td>\n",
       "      <td>15.400000</td>\n",
       "    </tr>\n",
       "    <tr>\n",
       "      <th>1</th>\n",
       "      <td>78</td>\n",
       "      <td>18.0</td>\n",
       "      <td>(73.4, 81.4]</td>\n",
       "      <td>77.4000</td>\n",
       "      <td>17.166667</td>\n",
       "    </tr>\n",
       "    <tr>\n",
       "      <th>2</th>\n",
       "      <td>41</td>\n",
       "      <td>12.1</td>\n",
       "      <td>(40.999, 58.6]</td>\n",
       "      <td>49.7995</td>\n",
       "      <td>13.416667</td>\n",
       "    </tr>\n",
       "    <tr>\n",
       "      <th>3</th>\n",
       "      <td>54</td>\n",
       "      <td>13.8</td>\n",
       "      <td>(40.999, 58.6]</td>\n",
       "      <td>49.7995</td>\n",
       "      <td>13.416667</td>\n",
       "    </tr>\n",
       "    <tr>\n",
       "      <th>4</th>\n",
       "      <td>66</td>\n",
       "      <td>15.5</td>\n",
       "      <td>(58.6, 67.6]</td>\n",
       "      <td>63.1000</td>\n",
       "      <td>15.400000</td>\n",
       "    </tr>\n",
       "    <tr>\n",
       "      <th>5</th>\n",
       "      <td>80</td>\n",
       "      <td>17.9</td>\n",
       "      <td>(73.4, 81.4]</td>\n",
       "      <td>77.4000</td>\n",
       "      <td>17.166667</td>\n",
       "    </tr>\n",
       "    <tr>\n",
       "      <th>6</th>\n",
       "      <td>45</td>\n",
       "      <td>12.8</td>\n",
       "      <td>(40.999, 58.6]</td>\n",
       "      <td>49.7995</td>\n",
       "      <td>13.416667</td>\n",
       "    </tr>\n",
       "    <tr>\n",
       "      <th>7</th>\n",
       "      <td>57</td>\n",
       "      <td>14.2</td>\n",
       "      <td>(40.999, 58.6]</td>\n",
       "      <td>49.7995</td>\n",
       "      <td>13.416667</td>\n",
       "    </tr>\n",
       "    <tr>\n",
       "      <th>8</th>\n",
       "      <td>67</td>\n",
       "      <td>15.9</td>\n",
       "      <td>(58.6, 67.6]</td>\n",
       "      <td>63.1000</td>\n",
       "      <td>15.400000</td>\n",
       "    </tr>\n",
       "    <tr>\n",
       "      <th>9</th>\n",
       "      <td>81</td>\n",
       "      <td>17.6</td>\n",
       "      <td>(73.4, 81.4]</td>\n",
       "      <td>77.4000</td>\n",
       "      <td>17.166667</td>\n",
       "    </tr>\n",
       "  </tbody>\n",
       "</table>\n",
       "</div>"
      ],
      "text/plain": [
       "   output  profit interval_output mean_output  mean_profit\n",
       "0      65    15.7    (58.6, 67.6]     63.1000    15.400000\n",
       "1      78    18.0    (73.4, 81.4]     77.4000    17.166667\n",
       "2      41    12.1  (40.999, 58.6]     49.7995    13.416667\n",
       "3      54    13.8  (40.999, 58.6]     49.7995    13.416667\n",
       "4      66    15.5    (58.6, 67.6]     63.1000    15.400000\n",
       "5      80    17.9    (73.4, 81.4]     77.4000    17.166667\n",
       "6      45    12.8  (40.999, 58.6]     49.7995    13.416667\n",
       "7      57    14.2  (40.999, 58.6]     49.7995    13.416667\n",
       "8      67    15.9    (58.6, 67.6]     63.1000    15.400000\n",
       "9      81    17.6    (73.4, 81.4]     77.4000    17.166667"
      ]
     },
     "execution_count": 56,
     "metadata": {},
     "output_type": "execute_result"
    }
   ],
   "source": [
    "df_equal_filled.head(10)"
   ]
  },
  {
   "cell_type": "markdown",
   "id": "1b84772e",
   "metadata": {},
   "source": [
    "##### Аналитичесая таблица:"
   ]
  },
  {
   "cell_type": "code",
   "execution_count": 57,
   "id": "da03ecfc",
   "metadata": {},
   "outputs": [
    {
     "name": "stdout",
     "output_type": "stream",
     "text": [
      "Произведем группировку.\n",
      "В сводную таблицу добавим количество значений и групповые дисперсии признака-результата.\n"
     ]
    }
   ],
   "source": [
    "pivot_equal_filled = get_pivot(df_equal_filled, 'profit')"
   ]
  },
  {
   "cell_type": "code",
   "execution_count": 58,
   "id": "c0303ec6",
   "metadata": {},
   "outputs": [
    {
     "data": {
      "text/html": [
       "<div>\n",
       "<style scoped>\n",
       "    .dataframe tbody tr th:only-of-type {\n",
       "        vertical-align: middle;\n",
       "    }\n",
       "\n",
       "    .dataframe tbody tr th {\n",
       "        vertical-align: top;\n",
       "    }\n",
       "\n",
       "    .dataframe thead tr th {\n",
       "        text-align: left;\n",
       "    }\n",
       "</style>\n",
       "<table border=\"1\" class=\"dataframe\">\n",
       "  <thead>\n",
       "    <tr>\n",
       "      <th></th>\n",
       "      <th>interval_output</th>\n",
       "      <th>mean_output</th>\n",
       "      <th>mean_profit</th>\n",
       "      <th colspan=\"2\" halign=\"left\">profit</th>\n",
       "    </tr>\n",
       "    <tr>\n",
       "      <th></th>\n",
       "      <th></th>\n",
       "      <th></th>\n",
       "      <th></th>\n",
       "      <th>var</th>\n",
       "      <th>count</th>\n",
       "    </tr>\n",
       "  </thead>\n",
       "  <tbody>\n",
       "    <tr>\n",
       "      <th>0</th>\n",
       "      <td>(40.999, 58.6]</td>\n",
       "      <td>49.7995</td>\n",
       "      <td>13.416667</td>\n",
       "      <td>0.741389</td>\n",
       "      <td>6.0</td>\n",
       "    </tr>\n",
       "    <tr>\n",
       "      <th>1</th>\n",
       "      <td>(58.6, 67.6]</td>\n",
       "      <td>63.1000</td>\n",
       "      <td>15.400000</td>\n",
       "      <td>0.146667</td>\n",
       "      <td>6.0</td>\n",
       "    </tr>\n",
       "    <tr>\n",
       "      <th>2</th>\n",
       "      <td>(67.6, 73.4]</td>\n",
       "      <td>70.5000</td>\n",
       "      <td>16.233333</td>\n",
       "      <td>0.055556</td>\n",
       "      <td>6.0</td>\n",
       "    </tr>\n",
       "    <tr>\n",
       "      <th>3</th>\n",
       "      <td>(73.4, 81.4]</td>\n",
       "      <td>77.4000</td>\n",
       "      <td>17.166667</td>\n",
       "      <td>0.588889</td>\n",
       "      <td>6.0</td>\n",
       "    </tr>\n",
       "    <tr>\n",
       "      <th>4</th>\n",
       "      <td>(81.4, 101.0]</td>\n",
       "      <td>91.2000</td>\n",
       "      <td>18.133333</td>\n",
       "      <td>1.222222</td>\n",
       "      <td>6.0</td>\n",
       "    </tr>\n",
       "  </tbody>\n",
       "</table>\n",
       "</div>"
      ],
      "text/plain": [
       "  interval_output mean_output mean_profit    profit      \n",
       "                                                var count\n",
       "0  (40.999, 58.6]     49.7995   13.416667  0.741389   6.0\n",
       "1    (58.6, 67.6]     63.1000   15.400000  0.146667   6.0\n",
       "2    (67.6, 73.4]     70.5000   16.233333  0.055556   6.0\n",
       "3    (73.4, 81.4]     77.4000   17.166667  0.588889   6.0\n",
       "4   (81.4, 101.0]     91.2000   18.133333  1.222222   6.0"
      ]
     },
     "execution_count": 58,
     "metadata": {},
     "output_type": "execute_result"
    }
   ],
   "source": [
    "pivot_equal_filled"
   ]
  },
  {
   "cell_type": "markdown",
   "id": "19fec6a8",
   "metadata": {},
   "source": [
    "##### Внутригрупповая диспресия:"
   ]
  },
  {
   "cell_type": "code",
   "execution_count": 59,
   "id": "3bf42b27",
   "metadata": {},
   "outputs": [],
   "source": [
    "var_inner_equal_filled =\\\n",
    "(pivot_equal_filled[('profit', 'var')]\\\n",
    " * pivot_equal_filled[('profit', 'count')])\\\n",
    ".sum()\\\n",
    "/ pivot_equal_filled[('profit', 'count')].sum()"
   ]
  },
  {
   "cell_type": "code",
   "execution_count": 60,
   "id": "8e237395",
   "metadata": {},
   "outputs": [
    {
     "name": "stdout",
     "output_type": "stream",
     "text": [
      "Внутригрупповая диспресия: 0.5509444444444446\n"
     ]
    }
   ],
   "source": [
    "print(f'Внутригрупповая диспресия: {var_inner_equal_filled}')"
   ]
  },
  {
   "cell_type": "markdown",
   "id": "a7e42768",
   "metadata": {},
   "source": [
    "##### Межгрупповая дисперсия:"
   ]
  },
  {
   "cell_type": "code",
   "execution_count": 61,
   "id": "f0952e04",
   "metadata": {},
   "outputs": [],
   "source": [
    "var_outer_equal_filled =\\\n",
    "((pivot_equal_filled['mean_profit'] - mean_y)**2\\\n",
    " * pivot_equal_filled[('profit', 'count')])\\\n",
    ".sum()\\\n",
    "/ pivot_equal_filled[('profit', 'count')].sum() "
   ]
  },
  {
   "cell_type": "code",
   "execution_count": 62,
   "id": "aaa19b7c",
   "metadata": {},
   "outputs": [
    {
     "name": "stdout",
     "output_type": "stream",
     "text": [
      "Межгрупповая диспресия: 2.595155555555556\n"
     ]
    }
   ],
   "source": [
    "print(f'Межгрупповая диспресия: {var_outer_equal_filled}')"
   ]
  },
  {
   "cell_type": "markdown",
   "id": "9c22df99",
   "metadata": {},
   "source": [
    "##### Проверка:"
   ]
  },
  {
   "cell_type": "code",
   "execution_count": 63,
   "id": "2b39d3d2",
   "metadata": {},
   "outputs": [
    {
     "name": "stdout",
     "output_type": "stream",
     "text": [
      "Общая дисперсия: 3.1461\n",
      "Внутригрупповая + межгрупповая дисперсия:\n",
      "0.5509 + 2.5952 = 3.1461\n"
     ]
    }
   ],
   "source": [
    "print(f'Общая дисперсия: {var_y:.4f}')\n",
    "print(f'Внутригрупповая + межгрупповая дисперсия:\\\n",
    "\\n{var_inner_equal_filled:.4f} + {var_outer_equal_filled:.4f} = \\\n",
    "{(var_inner_equal_filled + var_outer_equal_filled):.4f}')"
   ]
  },
  {
   "cell_type": "markdown",
   "id": "b92b55f3",
   "metadata": {},
   "source": [
    "##### Эмпирический коэффициент детерминации:"
   ]
  },
  {
   "cell_type": "code",
   "execution_count": 64,
   "id": "37d9793f",
   "metadata": {},
   "outputs": [],
   "source": [
    "r2_equal_filled = var_outer_equal_filled / var_y"
   ]
  },
  {
   "cell_type": "code",
   "execution_count": 65,
   "id": "ab97a2e4",
   "metadata": {},
   "outputs": [
    {
     "name": "stdout",
     "output_type": "stream",
     "text": [
      "Эмпирический коэффициент детерминации: 0.824880186756796\n"
     ]
    }
   ],
   "source": [
    "print(f'Эмпирический коэффициент детерминации: {r2_equal_filled}')"
   ]
  },
  {
   "cell_type": "markdown",
   "id": "25ca03f4",
   "metadata": {},
   "source": [
    "Таким образом, 82,49% вариации прибыли обусловлено стоимостью выпущенной продукции.<br/> Оставшаяся часть вариации 17.51% обусловлена другими факторами."
   ]
  },
  {
   "cell_type": "markdown",
   "id": "a9147d84",
   "metadata": {},
   "source": [
    "##### Эмпирическое корреляционное отношение:"
   ]
  },
  {
   "cell_type": "code",
   "execution_count": 66,
   "id": "741ee790",
   "metadata": {},
   "outputs": [
    {
     "name": "stdout",
     "output_type": "stream",
     "text": [
      "Эмпирическое корреляционное отношение: 0.9082291488147669\n"
     ]
    }
   ],
   "source": [
    "print(f'Эмпирическое корреляционное отношение: {r2_equal_filled**0.5}')"
   ]
  },
  {
   "cell_type": "markdown",
   "id": "ed9a7a26",
   "metadata": {},
   "source": [
    "Таким образом, корреляционная зависимость суммы кредита от процентной ставки является очень сильной."
   ]
  },
  {
   "cell_type": "markdown",
   "id": "5766beb4",
   "metadata": {},
   "source": [
    "### Комбинационная группировка"
   ]
  },
  {
   "cell_type": "markdown",
   "id": "60d05c36",
   "metadata": {},
   "source": [
    "#### Группировка"
   ]
  },
  {
   "cell_type": "markdown",
   "id": "be0bcb9e",
   "metadata": {},
   "source": [
    "Определить признак-фактор и признак-результат и высказать предположение о наличии и направлении корреляционной зависимости между признаками. Выполнить комбинационную группировку, разбив значения признака-фактора на **5 равных интервалов**, а значения признака-результата – на **3 равных интервала**. Сделать выводы."
   ]
  },
  {
   "cell_type": "code",
   "execution_count": 67,
   "id": "57933c64",
   "metadata": {},
   "outputs": [],
   "source": [
    "df_comb = df.copy()"
   ]
  },
  {
   "cell_type": "code",
   "execution_count": 68,
   "id": "2a218e1b",
   "metadata": {},
   "outputs": [],
   "source": [
    "df_comb['interval_output'] = pd.cut(df_comb['output'], 5, right=False)"
   ]
  },
  {
   "cell_type": "code",
   "execution_count": 69,
   "id": "c321faaf",
   "metadata": {},
   "outputs": [],
   "source": [
    "df_comb['interval_profit'] = pd.cut(df_comb['profit'], 3, right=False)"
   ]
  },
  {
   "cell_type": "code",
   "execution_count": 70,
   "id": "d8a36c51",
   "metadata": {
    "scrolled": false
   },
   "outputs": [],
   "source": [
    "pivot_comb = df_comb.pivot_table(index='interval_profit',\n",
    "                                 columns='interval_output',\n",
    "                                 values='output',\n",
    "                                 aggfunc='count',\n",
    "                                 margins=True)"
   ]
  },
  {
   "cell_type": "code",
   "execution_count": 71,
   "id": "1bbc6e3b",
   "metadata": {},
   "outputs": [],
   "source": [
    "style_comb = pivot_comb.style.applymap(\n",
    "    lambda v: 'color:black;background-color:#20B2AA;' if (v > 0) else None\n",
    ")"
   ]
  },
  {
   "cell_type": "code",
   "execution_count": 72,
   "id": "ca10b6eb",
   "metadata": {},
   "outputs": [
    {
     "data": {
      "text/html": [
       "<style type=\"text/css\">\n",
       "#T_45df0_row0_col0, #T_45df0_row0_col1, #T_45df0_row0_col5, #T_45df0_row1_col0, #T_45df0_row1_col1, #T_45df0_row1_col2, #T_45df0_row1_col3, #T_45df0_row1_col5, #T_45df0_row2_col2, #T_45df0_row2_col3, #T_45df0_row2_col4, #T_45df0_row2_col5, #T_45df0_row3_col0, #T_45df0_row3_col1, #T_45df0_row3_col2, #T_45df0_row3_col3, #T_45df0_row3_col4, #T_45df0_row3_col5 {\n",
       "  color: black;\n",
       "  background-color: #20B2AA;\n",
       "}\n",
       "</style>\n",
       "<table id=\"T_45df0\">\n",
       "  <thead>\n",
       "    <tr>\n",
       "      <th class=\"index_name level0\" >interval_output</th>\n",
       "      <th id=\"T_45df0_level0_col0\" class=\"col_heading level0 col0\" >[41.0, 53.0)</th>\n",
       "      <th id=\"T_45df0_level0_col1\" class=\"col_heading level0 col1\" >[53.0, 65.0)</th>\n",
       "      <th id=\"T_45df0_level0_col2\" class=\"col_heading level0 col2\" >[65.0, 77.0)</th>\n",
       "      <th id=\"T_45df0_level0_col3\" class=\"col_heading level0 col3\" >[77.0, 89.0)</th>\n",
       "      <th id=\"T_45df0_level0_col4\" class=\"col_heading level0 col4\" >[89.0, 101.06)</th>\n",
       "      <th id=\"T_45df0_level0_col5\" class=\"col_heading level0 col5\" >All</th>\n",
       "    </tr>\n",
       "    <tr>\n",
       "      <th class=\"index_name level0\" >interval_profit</th>\n",
       "      <th class=\"blank col0\" >&nbsp;</th>\n",
       "      <th class=\"blank col1\" >&nbsp;</th>\n",
       "      <th class=\"blank col2\" >&nbsp;</th>\n",
       "      <th class=\"blank col3\" >&nbsp;</th>\n",
       "      <th class=\"blank col4\" >&nbsp;</th>\n",
       "      <th class=\"blank col5\" >&nbsp;</th>\n",
       "    </tr>\n",
       "  </thead>\n",
       "  <tbody>\n",
       "    <tr>\n",
       "      <th id=\"T_45df0_level0_row0\" class=\"row_heading level0 row0\" >[12.1, 14.6)</th>\n",
       "      <td id=\"T_45df0_row0_col0\" class=\"data row0 col0\" >3</td>\n",
       "      <td id=\"T_45df0_row0_col1\" class=\"data row0 col1\" >2</td>\n",
       "      <td id=\"T_45df0_row0_col2\" class=\"data row0 col2\" >0</td>\n",
       "      <td id=\"T_45df0_row0_col3\" class=\"data row0 col3\" >0</td>\n",
       "      <td id=\"T_45df0_row0_col4\" class=\"data row0 col4\" >0</td>\n",
       "      <td id=\"T_45df0_row0_col5\" class=\"data row0 col5\" >5</td>\n",
       "    </tr>\n",
       "    <tr>\n",
       "      <th id=\"T_45df0_level0_row1\" class=\"row_heading level0 row1\" >[14.6, 17.1)</th>\n",
       "      <td id=\"T_45df0_row1_col0\" class=\"data row1 col0\" >1</td>\n",
       "      <td id=\"T_45df0_row1_col1\" class=\"data row1 col1\" >3</td>\n",
       "      <td id=\"T_45df0_row1_col2\" class=\"data row1 col2\" >11</td>\n",
       "      <td id=\"T_45df0_row1_col3\" class=\"data row1 col3\" >2</td>\n",
       "      <td id=\"T_45df0_row1_col4\" class=\"data row1 col4\" >0</td>\n",
       "      <td id=\"T_45df0_row1_col5\" class=\"data row1 col5\" >17</td>\n",
       "    </tr>\n",
       "    <tr>\n",
       "      <th id=\"T_45df0_level0_row2\" class=\"row_heading level0 row2\" >[17.1, 19.608)</th>\n",
       "      <td id=\"T_45df0_row2_col0\" class=\"data row2 col0\" >0</td>\n",
       "      <td id=\"T_45df0_row2_col1\" class=\"data row2 col1\" >0</td>\n",
       "      <td id=\"T_45df0_row2_col2\" class=\"data row2 col2\" >1</td>\n",
       "      <td id=\"T_45df0_row2_col3\" class=\"data row2 col3\" >4</td>\n",
       "      <td id=\"T_45df0_row2_col4\" class=\"data row2 col4\" >3</td>\n",
       "      <td id=\"T_45df0_row2_col5\" class=\"data row2 col5\" >8</td>\n",
       "    </tr>\n",
       "    <tr>\n",
       "      <th id=\"T_45df0_level0_row3\" class=\"row_heading level0 row3\" >All</th>\n",
       "      <td id=\"T_45df0_row3_col0\" class=\"data row3 col0\" >4</td>\n",
       "      <td id=\"T_45df0_row3_col1\" class=\"data row3 col1\" >5</td>\n",
       "      <td id=\"T_45df0_row3_col2\" class=\"data row3 col2\" >12</td>\n",
       "      <td id=\"T_45df0_row3_col3\" class=\"data row3 col3\" >6</td>\n",
       "      <td id=\"T_45df0_row3_col4\" class=\"data row3 col4\" >3</td>\n",
       "      <td id=\"T_45df0_row3_col5\" class=\"data row3 col5\" >30</td>\n",
       "    </tr>\n",
       "  </tbody>\n",
       "</table>\n"
      ],
      "text/plain": [
       "<pandas.io.formats.style.Styler at 0x7f59572e9300>"
      ]
     },
     "execution_count": 72,
     "metadata": {},
     "output_type": "execute_result"
    }
   ],
   "source": [
    "style_comb"
   ]
  },
  {
   "cell_type": "markdown",
   "id": "ed333c4c",
   "metadata": {},
   "source": [
    "Если частоты имеют тенденцию располагаться по диагонали от левого верхнего до правого нижнего угла, то между признаками существует прямая корреляционная зависимость («чем больше, тем больше»). Это наш случай – по таблице хорошо видно, что с увеличением выпуска продукции растут и прибыли предприятий.\n",
    "\n",
    "Если частоты имеют тенденцию располагаться по диагонали от левого нижнего до правого верхнего угла, то между признаками существует обратная корреляционная зависимость («чем больше, тем меньше»).\n",
    "\n",
    "И, наконец, если частоты расположены хаотично, без явной закономерности, то корреляционная зависимость отсутствует либо является слабой."
   ]
  },
  {
   "cell_type": "markdown",
   "id": "f5fec0a0",
   "metadata": {},
   "source": [
    "#### Эмпирические показатели комбинационной группировки"
   ]
  },
  {
   "cell_type": "markdown",
   "id": "ba131b2b",
   "metadata": {},
   "source": [
    "1) Вычислить эмпирический коэффициент детерминации и эмпирическое корреляционное отношение. Сделать выводы.\n",
    "\n",
    "2) Построить корреляционное поле и эмпирическую линию регрессии. Прокомментировать полученный график."
   ]
  },
  {
   "cell_type": "markdown",
   "id": "b152138f",
   "metadata": {},
   "source": [
    "Упростим таблицу комбинационной группировки"
   ]
  },
  {
   "cell_type": "code",
   "execution_count": 73,
   "id": "37846b9d",
   "metadata": {},
   "outputs": [],
   "source": [
    "df_comb['mean_output'] = df_comb['interval_output'].apply(mean_int)\n",
    "df_comb['mean_profit'] = df_comb['interval_profit'].apply(mean_int)"
   ]
  },
  {
   "cell_type": "code",
   "execution_count": 74,
   "id": "7fbed0f6",
   "metadata": {
    "scrolled": false
   },
   "outputs": [],
   "source": [
    "pivot_comb = df_comb.pivot_table(index='mean_profit',\n",
    "                                 columns='mean_output',\n",
    "                                 values='output',\n",
    "                                 aggfunc='count')"
   ]
  },
  {
   "cell_type": "code",
   "execution_count": 75,
   "id": "a5b56d5a",
   "metadata": {},
   "outputs": [
    {
     "data": {
      "text/html": [
       "<div>\n",
       "<style scoped>\n",
       "    .dataframe tbody tr th:only-of-type {\n",
       "        vertical-align: middle;\n",
       "    }\n",
       "\n",
       "    .dataframe tbody tr th {\n",
       "        vertical-align: top;\n",
       "    }\n",
       "\n",
       "    .dataframe thead th {\n",
       "        text-align: right;\n",
       "    }\n",
       "</style>\n",
       "<table border=\"1\" class=\"dataframe\">\n",
       "  <thead>\n",
       "    <tr style=\"text-align: right;\">\n",
       "      <th>mean_output</th>\n",
       "      <th>47.0</th>\n",
       "      <th>59.0</th>\n",
       "      <th>71.0</th>\n",
       "      <th>83.0</th>\n",
       "      <th>95.03</th>\n",
       "    </tr>\n",
       "    <tr>\n",
       "      <th>mean_profit</th>\n",
       "      <th></th>\n",
       "      <th></th>\n",
       "      <th></th>\n",
       "      <th></th>\n",
       "      <th></th>\n",
       "    </tr>\n",
       "  </thead>\n",
       "  <tbody>\n",
       "    <tr>\n",
       "      <th>13.35</th>\n",
       "      <td>3</td>\n",
       "      <td>2</td>\n",
       "      <td>0</td>\n",
       "      <td>0</td>\n",
       "      <td>0</td>\n",
       "    </tr>\n",
       "    <tr>\n",
       "      <th>15.85</th>\n",
       "      <td>1</td>\n",
       "      <td>3</td>\n",
       "      <td>11</td>\n",
       "      <td>2</td>\n",
       "      <td>0</td>\n",
       "    </tr>\n",
       "    <tr>\n",
       "      <th>18.354</th>\n",
       "      <td>0</td>\n",
       "      <td>0</td>\n",
       "      <td>1</td>\n",
       "      <td>4</td>\n",
       "      <td>3</td>\n",
       "    </tr>\n",
       "  </tbody>\n",
       "</table>\n",
       "</div>"
      ],
      "text/plain": [
       "mean_output  47.0  59.0  71.0  83.0  95.03\n",
       "mean_profit                               \n",
       "13.35           3     2     0     0      0\n",
       "15.85           1     3    11     2      0\n",
       "18.354          0     0     1     4      3"
      ]
     },
     "execution_count": 75,
     "metadata": {},
     "output_type": "execute_result"
    }
   ],
   "source": [
    "pivot_comb"
   ]
  },
  {
   "cell_type": "markdown",
   "id": "95ec3668",
   "metadata": {},
   "source": [
    "**Преобразуем данные к длинному формату** для удобства расчетов:"
   ]
  },
  {
   "cell_type": "code",
   "execution_count": 76,
   "id": "16fd3e03",
   "metadata": {},
   "outputs": [],
   "source": [
    "df_comb_long = pivot_comb.reset_index().melt(id_vars=['mean_profit'],\n",
    "                                             value_name='count')\n",
    "df_comb_long = df_comb_long[df_comb_long['count'] > 0]\n",
    "df_comb_long['mean_output'] = df_comb_long['mean_output'].astype('float')\n",
    "df_comb_long['mean_profit'] = df_comb_long['mean_profit'].astype('float')"
   ]
  },
  {
   "cell_type": "markdown",
   "id": "5fa8b30a",
   "metadata": {},
   "source": [
    "Добавим расчетные данные:"
   ]
  },
  {
   "cell_type": "code",
   "execution_count": 77,
   "id": "cabc1229",
   "metadata": {},
   "outputs": [],
   "source": [
    "df_comb_long['xn'] = df_comb_long['mean_profit'] * df_comb_long['count']"
   ]
  },
  {
   "cell_type": "code",
   "execution_count": 78,
   "id": "55dce399",
   "metadata": {},
   "outputs": [
    {
     "data": {
      "text/html": [
       "<div>\n",
       "<style scoped>\n",
       "    .dataframe tbody tr th:only-of-type {\n",
       "        vertical-align: middle;\n",
       "    }\n",
       "\n",
       "    .dataframe tbody tr th {\n",
       "        vertical-align: top;\n",
       "    }\n",
       "\n",
       "    .dataframe thead th {\n",
       "        text-align: right;\n",
       "    }\n",
       "</style>\n",
       "<table border=\"1\" class=\"dataframe\">\n",
       "  <thead>\n",
       "    <tr style=\"text-align: right;\">\n",
       "      <th></th>\n",
       "      <th>mean_profit</th>\n",
       "      <th>mean_output</th>\n",
       "      <th>count</th>\n",
       "      <th>xn</th>\n",
       "    </tr>\n",
       "  </thead>\n",
       "  <tbody>\n",
       "    <tr>\n",
       "      <th>0</th>\n",
       "      <td>13.350</td>\n",
       "      <td>47.00</td>\n",
       "      <td>3</td>\n",
       "      <td>40.050</td>\n",
       "    </tr>\n",
       "    <tr>\n",
       "      <th>1</th>\n",
       "      <td>15.850</td>\n",
       "      <td>47.00</td>\n",
       "      <td>1</td>\n",
       "      <td>15.850</td>\n",
       "    </tr>\n",
       "    <tr>\n",
       "      <th>3</th>\n",
       "      <td>13.350</td>\n",
       "      <td>59.00</td>\n",
       "      <td>2</td>\n",
       "      <td>26.700</td>\n",
       "    </tr>\n",
       "    <tr>\n",
       "      <th>4</th>\n",
       "      <td>15.850</td>\n",
       "      <td>59.00</td>\n",
       "      <td>3</td>\n",
       "      <td>47.550</td>\n",
       "    </tr>\n",
       "    <tr>\n",
       "      <th>7</th>\n",
       "      <td>15.850</td>\n",
       "      <td>71.00</td>\n",
       "      <td>11</td>\n",
       "      <td>174.350</td>\n",
       "    </tr>\n",
       "    <tr>\n",
       "      <th>8</th>\n",
       "      <td>18.354</td>\n",
       "      <td>71.00</td>\n",
       "      <td>1</td>\n",
       "      <td>18.354</td>\n",
       "    </tr>\n",
       "    <tr>\n",
       "      <th>10</th>\n",
       "      <td>15.850</td>\n",
       "      <td>83.00</td>\n",
       "      <td>2</td>\n",
       "      <td>31.700</td>\n",
       "    </tr>\n",
       "    <tr>\n",
       "      <th>11</th>\n",
       "      <td>18.354</td>\n",
       "      <td>83.00</td>\n",
       "      <td>4</td>\n",
       "      <td>73.416</td>\n",
       "    </tr>\n",
       "    <tr>\n",
       "      <th>14</th>\n",
       "      <td>18.354</td>\n",
       "      <td>95.03</td>\n",
       "      <td>3</td>\n",
       "      <td>55.062</td>\n",
       "    </tr>\n",
       "  </tbody>\n",
       "</table>\n",
       "</div>"
      ],
      "text/plain": [
       "    mean_profit  mean_output  count       xn\n",
       "0        13.350        47.00      3   40.050\n",
       "1        15.850        47.00      1   15.850\n",
       "3        13.350        59.00      2   26.700\n",
       "4        15.850        59.00      3   47.550\n",
       "7        15.850        71.00     11  174.350\n",
       "8        18.354        71.00      1   18.354\n",
       "10       15.850        83.00      2   31.700\n",
       "11       18.354        83.00      4   73.416\n",
       "14       18.354        95.03      3   55.062"
      ]
     },
     "execution_count": 78,
     "metadata": {},
     "output_type": "execute_result"
    }
   ],
   "source": [
    "df_comb_long"
   ]
  },
  {
   "cell_type": "markdown",
   "id": "967565fd",
   "metadata": {},
   "source": [
    "##### Общее среднее признака-результата:"
   ]
  },
  {
   "cell_type": "code",
   "execution_count": 79,
   "id": "98cf732c",
   "metadata": {},
   "outputs": [],
   "source": [
    "mean_y_comb = df_comb_long['xn'].sum() / df_comb_long['count'].sum()"
   ]
  },
  {
   "cell_type": "code",
   "execution_count": 80,
   "id": "02a2f263",
   "metadata": {},
   "outputs": [
    {
     "name": "stdout",
     "output_type": "stream",
     "text": [
      "Общее среднее признака-результата: 16.101066666666668\n"
     ]
    }
   ],
   "source": [
    "print(f'Общее среднее признака-результата: {mean_y_comb}')"
   ]
  },
  {
   "cell_type": "markdown",
   "id": "87453d5f",
   "metadata": {},
   "source": [
    "##### Общая дисперсия признака-результата:"
   ]
  },
  {
   "cell_type": "code",
   "execution_count": 81,
   "id": "4867755a",
   "metadata": {},
   "outputs": [],
   "source": [
    "var_y_comb =\\\n",
    "((df_comb_long['mean_profit'] - mean_y_comb)**2\\\n",
    " * df_comb_long['count']).sum()\\\n",
    "/ df_comb_long['count'].sum()"
   ]
  },
  {
   "cell_type": "code",
   "execution_count": 82,
   "id": "6be89110",
   "metadata": {},
   "outputs": [
    {
     "name": "stdout",
     "output_type": "stream",
     "text": [
      "Общая дисперсия признака-результата: 2.650636462222222\n"
     ]
    }
   ],
   "source": [
    "print(f'Общая дисперсия признака-результата: {var_y_comb}')"
   ]
  },
  {
   "cell_type": "markdown",
   "id": "802031ae",
   "metadata": {},
   "source": [
    "##### Групповые средние (условные средние):"
   ]
  },
  {
   "cell_type": "code",
   "execution_count": 83,
   "id": "3082e01d",
   "metadata": {},
   "outputs": [],
   "source": [
    "mean_y_comb_group = df_comb_long.pivot_table(\n",
    "    index='mean_output',\n",
    "    aggfunc={'count': 'sum', 'xn': 'sum'}).reset_index()"
   ]
  },
  {
   "cell_type": "code",
   "execution_count": 84,
   "id": "911540d6",
   "metadata": {},
   "outputs": [],
   "source": [
    "mean_y_comb_group['mean_group'] = mean_y_comb_group['xn'] / mean_y_comb_group['count']"
   ]
  },
  {
   "cell_type": "code",
   "execution_count": 85,
   "id": "ff4e340f",
   "metadata": {},
   "outputs": [
    {
     "data": {
      "text/html": [
       "<div>\n",
       "<style scoped>\n",
       "    .dataframe tbody tr th:only-of-type {\n",
       "        vertical-align: middle;\n",
       "    }\n",
       "\n",
       "    .dataframe tbody tr th {\n",
       "        vertical-align: top;\n",
       "    }\n",
       "\n",
       "    .dataframe thead th {\n",
       "        text-align: right;\n",
       "    }\n",
       "</style>\n",
       "<table border=\"1\" class=\"dataframe\">\n",
       "  <thead>\n",
       "    <tr style=\"text-align: right;\">\n",
       "      <th></th>\n",
       "      <th>mean_output</th>\n",
       "      <th>count</th>\n",
       "      <th>xn</th>\n",
       "      <th>mean_group</th>\n",
       "    </tr>\n",
       "  </thead>\n",
       "  <tbody>\n",
       "    <tr>\n",
       "      <th>0</th>\n",
       "      <td>47.00</td>\n",
       "      <td>4</td>\n",
       "      <td>55.900</td>\n",
       "      <td>13.975000</td>\n",
       "    </tr>\n",
       "    <tr>\n",
       "      <th>1</th>\n",
       "      <td>59.00</td>\n",
       "      <td>5</td>\n",
       "      <td>74.250</td>\n",
       "      <td>14.850000</td>\n",
       "    </tr>\n",
       "    <tr>\n",
       "      <th>2</th>\n",
       "      <td>71.00</td>\n",
       "      <td>12</td>\n",
       "      <td>192.704</td>\n",
       "      <td>16.058667</td>\n",
       "    </tr>\n",
       "    <tr>\n",
       "      <th>3</th>\n",
       "      <td>83.00</td>\n",
       "      <td>6</td>\n",
       "      <td>105.116</td>\n",
       "      <td>17.519333</td>\n",
       "    </tr>\n",
       "    <tr>\n",
       "      <th>4</th>\n",
       "      <td>95.03</td>\n",
       "      <td>3</td>\n",
       "      <td>55.062</td>\n",
       "      <td>18.354000</td>\n",
       "    </tr>\n",
       "  </tbody>\n",
       "</table>\n",
       "</div>"
      ],
      "text/plain": [
       "   mean_output  count       xn  mean_group\n",
       "0        47.00      4   55.900   13.975000\n",
       "1        59.00      5   74.250   14.850000\n",
       "2        71.00     12  192.704   16.058667\n",
       "3        83.00      6  105.116   17.519333\n",
       "4        95.03      3   55.062   18.354000"
      ]
     },
     "execution_count": 85,
     "metadata": {},
     "output_type": "execute_result"
    }
   ],
   "source": [
    "mean_y_comb_group"
   ]
  },
  {
   "cell_type": "code",
   "execution_count": 86,
   "id": "b2735e62",
   "metadata": {},
   "outputs": [],
   "source": [
    "df_comb_long = df_comb_long.merge(\n",
    "    mean_y_comb_group[['mean_output', 'mean_group']],\n",
    "    on='mean_output')"
   ]
  },
  {
   "cell_type": "code",
   "execution_count": 87,
   "id": "5668ee96",
   "metadata": {},
   "outputs": [
    {
     "data": {
      "text/html": [
       "<div>\n",
       "<style scoped>\n",
       "    .dataframe tbody tr th:only-of-type {\n",
       "        vertical-align: middle;\n",
       "    }\n",
       "\n",
       "    .dataframe tbody tr th {\n",
       "        vertical-align: top;\n",
       "    }\n",
       "\n",
       "    .dataframe thead th {\n",
       "        text-align: right;\n",
       "    }\n",
       "</style>\n",
       "<table border=\"1\" class=\"dataframe\">\n",
       "  <thead>\n",
       "    <tr style=\"text-align: right;\">\n",
       "      <th></th>\n",
       "      <th>mean_profit</th>\n",
       "      <th>mean_output</th>\n",
       "      <th>count</th>\n",
       "      <th>xn</th>\n",
       "      <th>mean_group</th>\n",
       "    </tr>\n",
       "  </thead>\n",
       "  <tbody>\n",
       "    <tr>\n",
       "      <th>0</th>\n",
       "      <td>13.350</td>\n",
       "      <td>47.00</td>\n",
       "      <td>3</td>\n",
       "      <td>40.050</td>\n",
       "      <td>13.975000</td>\n",
       "    </tr>\n",
       "    <tr>\n",
       "      <th>1</th>\n",
       "      <td>15.850</td>\n",
       "      <td>47.00</td>\n",
       "      <td>1</td>\n",
       "      <td>15.850</td>\n",
       "      <td>13.975000</td>\n",
       "    </tr>\n",
       "    <tr>\n",
       "      <th>2</th>\n",
       "      <td>13.350</td>\n",
       "      <td>59.00</td>\n",
       "      <td>2</td>\n",
       "      <td>26.700</td>\n",
       "      <td>14.850000</td>\n",
       "    </tr>\n",
       "    <tr>\n",
       "      <th>3</th>\n",
       "      <td>15.850</td>\n",
       "      <td>59.00</td>\n",
       "      <td>3</td>\n",
       "      <td>47.550</td>\n",
       "      <td>14.850000</td>\n",
       "    </tr>\n",
       "    <tr>\n",
       "      <th>4</th>\n",
       "      <td>15.850</td>\n",
       "      <td>71.00</td>\n",
       "      <td>11</td>\n",
       "      <td>174.350</td>\n",
       "      <td>16.058667</td>\n",
       "    </tr>\n",
       "    <tr>\n",
       "      <th>5</th>\n",
       "      <td>18.354</td>\n",
       "      <td>71.00</td>\n",
       "      <td>1</td>\n",
       "      <td>18.354</td>\n",
       "      <td>16.058667</td>\n",
       "    </tr>\n",
       "    <tr>\n",
       "      <th>6</th>\n",
       "      <td>15.850</td>\n",
       "      <td>83.00</td>\n",
       "      <td>2</td>\n",
       "      <td>31.700</td>\n",
       "      <td>17.519333</td>\n",
       "    </tr>\n",
       "    <tr>\n",
       "      <th>7</th>\n",
       "      <td>18.354</td>\n",
       "      <td>83.00</td>\n",
       "      <td>4</td>\n",
       "      <td>73.416</td>\n",
       "      <td>17.519333</td>\n",
       "    </tr>\n",
       "    <tr>\n",
       "      <th>8</th>\n",
       "      <td>18.354</td>\n",
       "      <td>95.03</td>\n",
       "      <td>3</td>\n",
       "      <td>55.062</td>\n",
       "      <td>18.354000</td>\n",
       "    </tr>\n",
       "  </tbody>\n",
       "</table>\n",
       "</div>"
      ],
      "text/plain": [
       "   mean_profit  mean_output  count       xn  mean_group\n",
       "0       13.350        47.00      3   40.050   13.975000\n",
       "1       15.850        47.00      1   15.850   13.975000\n",
       "2       13.350        59.00      2   26.700   14.850000\n",
       "3       15.850        59.00      3   47.550   14.850000\n",
       "4       15.850        71.00     11  174.350   16.058667\n",
       "5       18.354        71.00      1   18.354   16.058667\n",
       "6       15.850        83.00      2   31.700   17.519333\n",
       "7       18.354        83.00      4   73.416   17.519333\n",
       "8       18.354        95.03      3   55.062   18.354000"
      ]
     },
     "execution_count": 87,
     "metadata": {},
     "output_type": "execute_result"
    }
   ],
   "source": [
    "df_comb_long"
   ]
  },
  {
   "cell_type": "markdown",
   "id": "ea3c9201",
   "metadata": {},
   "source": [
    "##### Внутригрупповая диспресия:"
   ]
  },
  {
   "cell_type": "code",
   "execution_count": 88,
   "id": "cb552b5f",
   "metadata": {},
   "outputs": [],
   "source": [
    "var_inner_comb =\\\n",
    "((df_comb_long['mean_profit'] - df_comb_long['mean_group'])**2\\\n",
    " * df_comb_long['count'])\\\n",
    ".sum()\\\n",
    "/ df_comb_long['count'].sum()"
   ]
  },
  {
   "cell_type": "code",
   "execution_count": 89,
   "id": "69506ee5",
   "metadata": {},
   "outputs": [
    {
     "name": "stdout",
     "output_type": "stream",
     "text": [
      "Внутригрупповая диспресия: 0.8765011999999999\n"
     ]
    }
   ],
   "source": [
    "print(f'Внутригрупповая диспресия: {var_inner_comb}')"
   ]
  },
  {
   "cell_type": "markdown",
   "id": "e8047db7",
   "metadata": {},
   "source": [
    "##### Межгрупповая диспресия:"
   ]
  },
  {
   "cell_type": "code",
   "execution_count": 90,
   "id": "fef37433",
   "metadata": {},
   "outputs": [],
   "source": [
    "var_outer_comb =\\\n",
    "((df_comb_long['mean_group'] - mean_y_comb)**2\\\n",
    " * df_comb_long['count'])\\\n",
    ".sum()\\\n",
    "/ df_comb_long['count'].sum()"
   ]
  },
  {
   "cell_type": "code",
   "execution_count": 91,
   "id": "dbfbba68",
   "metadata": {},
   "outputs": [
    {
     "name": "stdout",
     "output_type": "stream",
     "text": [
      "Межгрупповая диспресия: 1.7741352622222213\n"
     ]
    }
   ],
   "source": [
    "print(f'Межгрупповая диспресия: {var_outer_comb}')"
   ]
  },
  {
   "cell_type": "markdown",
   "id": "f271a627",
   "metadata": {},
   "source": [
    "##### Проверка:"
   ]
  },
  {
   "cell_type": "code",
   "execution_count": 92,
   "id": "2393aa23",
   "metadata": {},
   "outputs": [
    {
     "name": "stdout",
     "output_type": "stream",
     "text": [
      "Общая дисперсия: 2.6506\n",
      "Внутригрупповая + межгрупповая дисперсия:\n",
      "0.8765 + 1.7741 = 2.6506\n"
     ]
    }
   ],
   "source": [
    "print(f'Общая дисперсия: {var_y_comb:.4f}')\n",
    "print(f'Внутригрупповая + межгрупповая дисперсия:\\\n",
    "\\n{var_inner_comb:.4f} + {var_outer_comb:.4f} = \\\n",
    "{(var_inner_comb + var_outer_comb):.4f}')"
   ]
  },
  {
   "cell_type": "markdown",
   "id": "31fe2ffa",
   "metadata": {},
   "source": [
    "##### Эмпирический коэффициент детерминации:"
   ]
  },
  {
   "cell_type": "code",
   "execution_count": 93,
   "id": "833cbf89",
   "metadata": {},
   "outputs": [],
   "source": [
    "r2_comb = var_outer_comb / var_y_comb"
   ]
  },
  {
   "cell_type": "code",
   "execution_count": 94,
   "id": "19dfcd28",
   "metadata": {},
   "outputs": [
    {
     "name": "stdout",
     "output_type": "stream",
     "text": [
      "Эмпирический коэффициент детерминации: 0.6693242500462829\n"
     ]
    }
   ],
   "source": [
    "print(f'Эмпирический коэффициент детерминации: {r2_comb}')"
   ]
  },
  {
   "cell_type": "markdown",
   "id": "8ee631a2",
   "metadata": {},
   "source": [
    "Таким образом, 66,93% вариации прибыли обусловлено изменением выпуска продукции.<br/>\n",
    "Остальные 33,07% вариации обусловлены другими факторами."
   ]
  },
  {
   "cell_type": "markdown",
   "id": "50b4b4bb",
   "metadata": {},
   "source": [
    "##### Эмпирическое корреляционное отношение:"
   ]
  },
  {
   "cell_type": "code",
   "execution_count": 95,
   "id": "7cbb85e5",
   "metadata": {},
   "outputs": [
    {
     "name": "stdout",
     "output_type": "stream",
     "text": [
      "Эмпирическое корреляционное отношение: 0.8181223930722609\n"
     ]
    }
   ],
   "source": [
    "print(f'Эмпирическое корреляционное отношение: {r2_comb**0.5}')"
   ]
  },
  {
   "cell_type": "markdown",
   "id": "ed68398d",
   "metadata": {},
   "source": [
    "Таким образом, существует сильная корреляционная зависимость прибыли предприятия $(Y)$ от выпуска продукции $(X)$."
   ]
  },
  {
   "cell_type": "markdown",
   "id": "b544296e",
   "metadata": {},
   "source": [
    "##### Корреляционное поле и эмпирическая линия регрессии."
   ]
  },
  {
   "cell_type": "code",
   "execution_count": 96,
   "id": "456bab5b",
   "metadata": {},
   "outputs": [
    {
     "data": {
      "image/png": "[encoded data removed]",
      "text/plain": [
       "<Figure size 720x432 with 1 Axes>"
      ]
     },
     "metadata": {
      "needs_background": "light"
     },
     "output_type": "display_data"
    }
   ],
   "source": [
    "ax1 = correlation_field(\n",
    "    df_comb_long[['mean_output', 'mean_profit', 'count']],\n",
    "    show=False\n",
    ")\n",
    "ax1.plot(mean_y_comb_group['mean_output'],\n",
    "         mean_y_comb_group['mean_group'],\n",
    "         'X-', linewidth=3, color='coral', markersize=12)\n",
    "plt.title(f'Корреляционное поле\\n\\\n",
    "с эмипирической линией регрессии',\n",
    "          pad=15, fontsize = TITLE_FONT_SIZE)\n",
    "plt.show()"
   ]
  },
  {
   "cell_type": "markdown",
   "id": "56291930",
   "metadata": {},
   "source": [
    "Эмпирическая линия регрессии используется не только для наглядного изображения корреляционной зависимости, но и для интерполяции промежуточных значений.\n",
    "\n",
    "Построенная ломаная проходит максимально близко к точкам корреляционного поля, при этом учитываются весомость частот, на основе которых были вычислены значения."
   ]
  },
  {
   "cell_type": "markdown",
   "id": "1de08403",
   "metadata": {},
   "source": [
    "#### Линейный коэффициент корреляции и уравнение линейной регрессии"
   ]
  },
  {
   "cell_type": "markdown",
   "id": "8d3c9bb2",
   "metadata": {},
   "source": [
    "1) Определить *признак-фактор* $X$ и *признак-результат* $Y$ и высказать предположение о наличии и *направлении корреляционной зависимости* $X$ от $Y$. Построить *корреляционное поле* и выдвинуть гипотезу о возможной форме зависимости.\n",
    "\n",
    "2) Вычислить линейный коэффициент корреляции и детерминации, сделать выводы.\n",
    "\n",
    "3) Найти уравнение линейной регрессии $Y$ на $X$ и изобразить соответствующую прямую на чертеже. "
   ]
  },
  {
   "cell_type": "markdown",
   "id": "82202334",
   "metadata": {},
   "source": [
    "Используем сформированные ранее таблицы:"
   ]
  },
  {
   "cell_type": "code",
   "execution_count": 97,
   "id": "90dfcec1",
   "metadata": {},
   "outputs": [
    {
     "data": {
      "text/html": [
       "<div>\n",
       "<style scoped>\n",
       "    .dataframe tbody tr th:only-of-type {\n",
       "        vertical-align: middle;\n",
       "    }\n",
       "\n",
       "    .dataframe tbody tr th {\n",
       "        vertical-align: top;\n",
       "    }\n",
       "\n",
       "    .dataframe thead th {\n",
       "        text-align: right;\n",
       "    }\n",
       "</style>\n",
       "<table border=\"1\" class=\"dataframe\">\n",
       "  <thead>\n",
       "    <tr style=\"text-align: right;\">\n",
       "      <th>mean_output</th>\n",
       "      <th>47.0</th>\n",
       "      <th>59.0</th>\n",
       "      <th>71.0</th>\n",
       "      <th>83.0</th>\n",
       "      <th>95.03</th>\n",
       "    </tr>\n",
       "    <tr>\n",
       "      <th>mean_profit</th>\n",
       "      <th></th>\n",
       "      <th></th>\n",
       "      <th></th>\n",
       "      <th></th>\n",
       "      <th></th>\n",
       "    </tr>\n",
       "  </thead>\n",
       "  <tbody>\n",
       "    <tr>\n",
       "      <th>13.35</th>\n",
       "      <td>3</td>\n",
       "      <td>2</td>\n",
       "      <td>0</td>\n",
       "      <td>0</td>\n",
       "      <td>0</td>\n",
       "    </tr>\n",
       "    <tr>\n",
       "      <th>15.85</th>\n",
       "      <td>1</td>\n",
       "      <td>3</td>\n",
       "      <td>11</td>\n",
       "      <td>2</td>\n",
       "      <td>0</td>\n",
       "    </tr>\n",
       "    <tr>\n",
       "      <th>18.354</th>\n",
       "      <td>0</td>\n",
       "      <td>0</td>\n",
       "      <td>1</td>\n",
       "      <td>4</td>\n",
       "      <td>3</td>\n",
       "    </tr>\n",
       "  </tbody>\n",
       "</table>\n",
       "</div>"
      ],
      "text/plain": [
       "mean_output  47.0  59.0  71.0  83.0  95.03\n",
       "mean_profit                               \n",
       "13.35           3     2     0     0      0\n",
       "15.85           1     3    11     2      0\n",
       "18.354          0     0     1     4      3"
      ]
     },
     "execution_count": 97,
     "metadata": {},
     "output_type": "execute_result"
    }
   ],
   "source": [
    "pivot_comb"
   ]
  },
  {
   "cell_type": "code",
   "execution_count": 98,
   "id": "3d07a13f",
   "metadata": {},
   "outputs": [
    {
     "data": {
      "text/html": [
       "<div>\n",
       "<style scoped>\n",
       "    .dataframe tbody tr th:only-of-type {\n",
       "        vertical-align: middle;\n",
       "    }\n",
       "\n",
       "    .dataframe tbody tr th {\n",
       "        vertical-align: top;\n",
       "    }\n",
       "\n",
       "    .dataframe thead th {\n",
       "        text-align: right;\n",
       "    }\n",
       "</style>\n",
       "<table border=\"1\" class=\"dataframe\">\n",
       "  <thead>\n",
       "    <tr style=\"text-align: right;\">\n",
       "      <th></th>\n",
       "      <th>mean_profit</th>\n",
       "      <th>mean_output</th>\n",
       "      <th>count</th>\n",
       "      <th>xn</th>\n",
       "      <th>mean_group</th>\n",
       "    </tr>\n",
       "  </thead>\n",
       "  <tbody>\n",
       "    <tr>\n",
       "      <th>0</th>\n",
       "      <td>13.350</td>\n",
       "      <td>47.00</td>\n",
       "      <td>3</td>\n",
       "      <td>40.050</td>\n",
       "      <td>13.975000</td>\n",
       "    </tr>\n",
       "    <tr>\n",
       "      <th>1</th>\n",
       "      <td>15.850</td>\n",
       "      <td>47.00</td>\n",
       "      <td>1</td>\n",
       "      <td>15.850</td>\n",
       "      <td>13.975000</td>\n",
       "    </tr>\n",
       "    <tr>\n",
       "      <th>2</th>\n",
       "      <td>13.350</td>\n",
       "      <td>59.00</td>\n",
       "      <td>2</td>\n",
       "      <td>26.700</td>\n",
       "      <td>14.850000</td>\n",
       "    </tr>\n",
       "    <tr>\n",
       "      <th>3</th>\n",
       "      <td>15.850</td>\n",
       "      <td>59.00</td>\n",
       "      <td>3</td>\n",
       "      <td>47.550</td>\n",
       "      <td>14.850000</td>\n",
       "    </tr>\n",
       "    <tr>\n",
       "      <th>4</th>\n",
       "      <td>15.850</td>\n",
       "      <td>71.00</td>\n",
       "      <td>11</td>\n",
       "      <td>174.350</td>\n",
       "      <td>16.058667</td>\n",
       "    </tr>\n",
       "    <tr>\n",
       "      <th>5</th>\n",
       "      <td>18.354</td>\n",
       "      <td>71.00</td>\n",
       "      <td>1</td>\n",
       "      <td>18.354</td>\n",
       "      <td>16.058667</td>\n",
       "    </tr>\n",
       "    <tr>\n",
       "      <th>6</th>\n",
       "      <td>15.850</td>\n",
       "      <td>83.00</td>\n",
       "      <td>2</td>\n",
       "      <td>31.700</td>\n",
       "      <td>17.519333</td>\n",
       "    </tr>\n",
       "    <tr>\n",
       "      <th>7</th>\n",
       "      <td>18.354</td>\n",
       "      <td>83.00</td>\n",
       "      <td>4</td>\n",
       "      <td>73.416</td>\n",
       "      <td>17.519333</td>\n",
       "    </tr>\n",
       "    <tr>\n",
       "      <th>8</th>\n",
       "      <td>18.354</td>\n",
       "      <td>95.03</td>\n",
       "      <td>3</td>\n",
       "      <td>55.062</td>\n",
       "      <td>18.354000</td>\n",
       "    </tr>\n",
       "  </tbody>\n",
       "</table>\n",
       "</div>"
      ],
      "text/plain": [
       "   mean_profit  mean_output  count       xn  mean_group\n",
       "0       13.350        47.00      3   40.050   13.975000\n",
       "1       15.850        47.00      1   15.850   13.975000\n",
       "2       13.350        59.00      2   26.700   14.850000\n",
       "3       15.850        59.00      3   47.550   14.850000\n",
       "4       15.850        71.00     11  174.350   16.058667\n",
       "5       18.354        71.00      1   18.354   16.058667\n",
       "6       15.850        83.00      2   31.700   17.519333\n",
       "7       18.354        83.00      4   73.416   17.519333\n",
       "8       18.354        95.03      3   55.062   18.354000"
      ]
     },
     "execution_count": 98,
     "metadata": {},
     "output_type": "execute_result"
    }
   ],
   "source": [
    "df_comb_long"
   ]
  },
  {
   "cell_type": "markdown",
   "id": "103eb165",
   "metadata": {},
   "source": [
    "##### Корреляционное поле"
   ]
  },
  {
   "cell_type": "code",
   "execution_count": 99,
   "id": "6156104e",
   "metadata": {},
   "outputs": [
    {
     "data": {
      "image/png": "[encoded data removed]",
      "text/plain": [
       "<Figure size 720x432 with 1 Axes>"
      ]
     },
     "metadata": {
      "needs_background": "light"
     },
     "output_type": "display_data"
    }
   ],
   "source": [
    "correlation_field(df_comb_long[['mean_output', 'mean_profit', 'count']])"
   ]
  },
  {
   "cell_type": "markdown",
   "id": "1e3bef31",
   "metadata": {},
   "source": [
    "Ранее мы строили **эмпирические линии регрессии** – это простейший способ изобразить *форму* корреляционной зависимости. Однако гораздо удобнее привлечь на помощь функции. Анализируя чертёж, приходим к выводу, что эмпирические точки $(x_i;y_i)$ «выстроились» примерно по прямой, что позволяет предположить наличие линейной корреляционной зависимости $Y$ – прибыли предприятия от $X$ – выпуска продукции."
   ]
  },
  {
   "cell_type": "markdown",
   "id": "9b22b6b1",
   "metadata": {},
   "source": [
    "##### Линейный коэффициент корреляции"
   ]
  },
  {
   "cell_type": "markdown",
   "id": "0c377db0",
   "metadata": {},
   "source": [
    "Найдем средние значения, диспресии и стандартные отклонения"
   ]
  },
  {
   "cell_type": "code",
   "execution_count": 100,
   "id": "7fb3a57c",
   "metadata": {},
   "outputs": [],
   "source": [
    "def get_std(df, col_name): \n",
    "    mean_x = (df[col_name] * df['count']).sum() / df['count'].sum()\n",
    "    mean_x2 = (df[col_name]**2 * df['count']).sum() / df['count'].sum()\n",
    "    var = mean_x2 - mean_x ** 2\n",
    "    return mean_x, var, var**0.5"
   ]
  },
  {
   "cell_type": "code",
   "execution_count": 101,
   "id": "874ba1b6",
   "metadata": {},
   "outputs": [],
   "source": [
    "mean_x_comb, var_x_comb, std_x_comb = get_std(df_comb_long, 'mean_output')\n",
    "mean_y_comb, var_y_comb, std_y_comb = get_std(df_comb_long, 'mean_profit')"
   ]
  },
  {
   "cell_type": "code",
   "execution_count": 102,
   "id": "7cb5438e",
   "metadata": {},
   "outputs": [
    {
     "name": "stdout",
     "output_type": "stream",
     "text": [
      "                                  |  Признак-фактор Х  |  Признак-результат Y  |\n",
      "                                  | (выпуск продукции) | (прибыль предприятия) |\n",
      "----------------------------------+--------------------+-----------------------+\n",
      "Среднее значение                  |       70.603       |        16.101         |\n",
      "Дисперсия                         |      187.186       |         2.651         |\n",
      "Среднеквадратическое отклонение   |       13.682       |         1.628         |\n"
     ]
    }
   ],
   "source": [
    "print(''.ljust(33), '|  Признак-фактор Х  |  Признак-результат Y  |')\n",
    "print(''.ljust(33), '| (выпуск продукции) | (прибыль предприятия) |')\n",
    "print(''.ljust(33, '-'), '+'.ljust(20, '-'), '+'.ljust(23, '-'), '+', sep='-')\n",
    "print('Среднее значение'.ljust(33), f'| {mean_x_comb:^18.3f} | {mean_y_comb:^21.3f} |')\n",
    "print('Дисперсия'.ljust(33), f'| {var_x_comb:^18.3f} | {var_y_comb:^21.3f} |')\n",
    "print('Среднеквадратическое отклонение'.ljust(33), f'| {std_x_comb:^18.3f} | {std_y_comb:^21.3f} |')"
   ]
  },
  {
   "cell_type": "markdown",
   "id": "53656e0f",
   "metadata": {},
   "source": [
    "Найдем корреляционный момент или коэффициент ковариации (совместной вариации):"
   ]
  },
  {
   "cell_type": "code",
   "execution_count": 103,
   "id": "ae27767b",
   "metadata": {},
   "outputs": [],
   "source": [
    "cov_comb = (df_comb_long['mean_output'] * df_comb_long['mean_profit'] * df_comb_long['count'])\\\n",
    "            .sum()\\\n",
    "            / df_comb_long['count'].sum()\\\n",
    "            - mean_x_comb * mean_y_comb"
   ]
  },
  {
   "cell_type": "code",
   "execution_count": 104,
   "id": "a933089b",
   "metadata": {},
   "outputs": [
    {
     "name": "stdout",
     "output_type": "stream",
     "text": [
      "Ковариация: 18.1231854666662\n"
     ]
    }
   ],
   "source": [
    "print(f'Ковариация: {cov_comb}')"
   ]
  },
  {
   "cell_type": "markdown",
   "id": "f899867d",
   "metadata": {},
   "source": [
    "**Линейный коэффициент корреляции:**"
   ]
  },
  {
   "cell_type": "markdown",
   "id": "017f2d42",
   "metadata": {},
   "source": [
    "$r = \\displaystyle\\frac{cov(X;Y)}{\\sigma_x \\cdot \\sigma_y}$"
   ]
  },
  {
   "cell_type": "code",
   "execution_count": 105,
   "id": "645c4362",
   "metadata": {},
   "outputs": [],
   "source": [
    "r_comb = cov_comb / std_x_comb / std_y_comb"
   ]
  },
  {
   "cell_type": "code",
   "execution_count": 106,
   "id": "efb4dcc6",
   "metadata": {},
   "outputs": [
    {
     "name": "stdout",
     "output_type": "stream",
     "text": [
      "Коэффициент корреляции: 0.8136211154095774\n"
     ]
    }
   ],
   "source": [
    "print(f'Коэффициент корреляции: {r_comb}')"
   ]
  },
  {
   "cell_type": "markdown",
   "id": "0d667d23",
   "metadata": {},
   "source": [
    "В нашем случае $r \\approx 0.83$, таким образом, существует сильная прямая линейная корреляционная зависимость $Y$ приьыли предприятия от $X$ выпускапродукции."
   ]
  },
  {
   "cell_type": "markdown",
   "id": "fa5fb63e",
   "metadata": {},
   "source": [
    "**Коэффициент детерминации:**"
   ]
  },
  {
   "cell_type": "code",
   "execution_count": 107,
   "id": "ec57ea09",
   "metadata": {},
   "outputs": [
    {
     "name": "stdout",
     "output_type": "stream",
     "text": [
      "Коэффициент детерминации: 0.6619793194403248\n"
     ]
    }
   ],
   "source": [
    "print(f'Коэффициент детерминации: {r_comb**2}')"
   ]
  },
  {
   "cell_type": "markdown",
   "id": "e574d361",
   "metadata": {},
   "source": [
    "В рамках построенной модели 66,20% вариации прибыли обусловлено изменением выпуска продукции.<br/>\n",
    "Остальные 33,8% вариации обусловлены другими факторами."
   ]
  },
  {
   "cell_type": "markdown",
   "id": "d1f0a3b9",
   "metadata": {},
   "source": [
    "##### Уравнение линейной регресии (через линейный коэффициент корреляции)"
   ]
  },
  {
   "cell_type": "markdown",
   "id": "ad416810",
   "metadata": {},
   "source": [
    "Если нам известны значения $r, \\sigma_x, \\sigma_y$, то коэффициенты уравнения $y = ax + b$ регрессии легко рассчитать по следующим формулам:\n",
    "\n",
    "$a = \\displaystyle\\frac{r \\cdot \\sigma_y}{\\sigma_x}$\n",
    "\n",
    "$b = \\overline{y} - a\\overline{x}$\n",
    "\n",
    "Таким образом, искомое уравнение:\n"
   ]
  },
  {
   "cell_type": "code",
   "execution_count": 108,
   "id": "3ac4ffcb",
   "metadata": {},
   "outputs": [],
   "source": [
    "a_comb = r_comb * std_y_comb / std_x_comb\n",
    "b_comb = mean_y_comb - a_comb * mean_x_comb"
   ]
  },
  {
   "cell_type": "code",
   "execution_count": 109,
   "id": "8d2fc725",
   "metadata": {},
   "outputs": [
    {
     "name": "stdout",
     "output_type": "stream",
     "text": [
      "Уравнение линейной регрессии:\n",
      "y = 0.096818880⋅x + 9.265363273\n"
     ]
    }
   ],
   "source": [
    "print(f'Уравнение линейной регрессии:\\ny = {a_comb:.9f}⋅x + {b_comb:.9f}')"
   ]
  },
  {
   "cell_type": "markdown",
   "id": "0f9a8024",
   "metadata": {},
   "source": [
    "Уравнение:"
   ]
  },
  {
   "cell_type": "code",
   "execution_count": 110,
   "id": "dad415b0",
   "metadata": {},
   "outputs": [],
   "source": [
    "f_comb = np.polynomial.Polynomial([b_comb, a_comb])"
   ]
  },
  {
   "cell_type": "markdown",
   "id": "c9ae87c6",
   "metadata": {},
   "source": [
    "График:"
   ]
  },
  {
   "cell_type": "code",
   "execution_count": 111,
   "id": "bce44d9f",
   "metadata": {},
   "outputs": [
    {
     "data": {
      "image/png": "[encoded data removed]",
      "text/plain": [
       "<Figure size 720x432 with 1 Axes>"
      ]
     },
     "metadata": {
      "needs_background": "light"
     },
     "output_type": "display_data"
    }
   ],
   "source": [
    "correlation_field(df_comb_long[['mean_output', 'mean_profit', 'count']], funcs=[f_comb])"
   ]
  },
  {
   "cell_type": "markdown",
   "id": "80d8f6da",
   "metadata": {},
   "source": [
    "##### Второе уравнение линейной регресии (через линейный коэффициент корреляции)"
   ]
  },
  {
   "cell_type": "markdown",
   "id": "05fc12f5",
   "metadata": {},
   "source": [
    "Чисто формально эта регрессия существует всегда, так, в рассмотренной задаче признак $X$ явно не зависит от $Y$, но вот линейная корреляционная зависимость есть! (причём, такой же тесноты). Помним, что **причинно-следственная зависимость и корреляционная – это не одно и то же!**"
   ]
  },
  {
   "cell_type": "markdown",
   "id": "c9825d8c",
   "metadata": {},
   "source": [
    "Если нам известны значения $r, \\sigma_x, \\sigma_y$, то коэффициенты уравнения $x = cy + d$ регрессии легко рассчитать по следующим формулам:\n",
    "\n",
    "$c = \\displaystyle\\frac{r \\cdot \\sigma_x}{\\sigma_y}$\n",
    "\n",
    "$d = \\overline{x} - c\\overline{y}$\n",
    "\n",
    "Таким образом, искомое уравнение:"
   ]
  },
  {
   "cell_type": "code",
   "execution_count": 112,
   "id": "8a68323e",
   "metadata": {},
   "outputs": [],
   "source": [
    "c_comb = r_comb * std_x_comb / std_y_comb\n",
    "d_comb = mean_x_comb - c_comb * mean_y_comb"
   ]
  },
  {
   "cell_type": "code",
   "execution_count": 113,
   "id": "41160583",
   "metadata": {},
   "outputs": [
    {
     "name": "stdout",
     "output_type": "stream",
     "text": [
      "Коэффициенты уравнения линейной регрессии Y на X:\n",
      "a = 0.096818880, b = 9.265363273\n",
      "Коэффициенты уравнения линейной регрессии X на Y:\n",
      "a = 6.837295768, b = -39.484754986\n"
     ]
    }
   ],
   "source": [
    "print(f'Коэффициенты уравнения линейной регрессии \\\n",
    "Y на X:\\na = {a_comb:.9f}, b = {b_comb:.9f}')\n",
    "print(f'Коэффициенты уравнения линейной регрессии \\\n",
    "X на Y:\\na = {c_comb:.9f}, b = {d_comb:.9f}')"
   ]
  },
  {
   "cell_type": "markdown",
   "id": "12689de6",
   "metadata": {},
   "source": [
    "Первое:\n",
    "$$\n",
    "Y = a \\cdot X + b\\\\\n",
    "$$\n",
    "Второе:\n",
    "$$\n",
    "X = c \\cdot Y + d\\\\\n",
    "$$\n",
    "Привести к первому:\n",
    "$$\n",
    "Y = \\frac{X - d}{c}\\\\\n",
    "Y = X \\cdot\\frac{1}{c} + \\left(-\\frac{d}{c}\\right)\n",
    "$$"
   ]
  },
  {
   "cell_type": "markdown",
   "id": "9d892bfc",
   "metadata": {},
   "source": [
    "Уравнение:"
   ]
  },
  {
   "cell_type": "code",
   "execution_count": 114,
   "id": "96fc0d45",
   "metadata": {},
   "outputs": [],
   "source": [
    "f2_comb = np.polynomial.Polynomial([-d_comb/c_comb, 1/c_comb])"
   ]
  },
  {
   "cell_type": "markdown",
   "id": "f58399d4",
   "metadata": {},
   "source": [
    "График:"
   ]
  },
  {
   "cell_type": "code",
   "execution_count": 115,
   "id": "bcbda243",
   "metadata": {},
   "outputs": [
    {
     "data": {
      "image/png": "[encoded data removed]",
      "text/plain": [
       "<Figure size 720x432 with 1 Axes>"
      ]
     },
     "metadata": {
      "needs_background": "light"
     },
     "output_type": "display_data"
    }
   ],
   "source": [
    "correlation_field(df_comb_long[['mean_output', 'mean_profit', 'count']], funcs=[f_comb, f2_comb])"
   ]
  },
  {
   "cell_type": "markdown",
   "id": "960cecf3",
   "metadata": {},
   "source": [
    "Графики пересекается в точке $(\\overline{x}, \\overline{y})$"
   ]
  },
  {
   "cell_type": "code",
   "execution_count": 116,
   "id": "8cd35138",
   "metadata": {},
   "outputs": [
    {
     "name": "stdout",
     "output_type": "stream",
     "text": [
      "Средние значения: (70.603, 16.101)\n"
     ]
    }
   ],
   "source": [
    "print(f'Средние значения: ({mean_x_comb:.3f}, {mean_y_comb:.3f})')"
   ]
  },
  {
   "cell_type": "markdown",
   "id": "a4de72d9",
   "metadata": {},
   "source": [
    "### Корреляция несгруппированных данных"
   ]
  },
  {
   "cell_type": "markdown",
   "id": "3a68febf",
   "metadata": {},
   "source": [
    "1) высказать предположение о наличии и направлении *корреляционной зависимости признака-результата* $Y$ от *признака-фактора* $X$ и построить **диаграмму рассеяния**;\n",
    "\n",
    "2) анализируя *диаграмму рассеяния,* сделать вывод о *форме* зависимости;\n",
    "\n",
    "3) найти уравнение **линейной регрессии** $Y$ на $X$, выполнить чертёж;\n",
    "\n",
    "4) вычислить *линейный коэффициент корреляции,* сделать вывод;\n",
    "\n",
    "5) вычислить **коэффициент детерминации**, сделать вывод,"
   ]
  },
  {
   "cell_type": "markdown",
   "id": "7d54af51",
   "metadata": {},
   "source": [
    "Данные:"
   ]
  },
  {
   "cell_type": "code",
   "execution_count": 117,
   "id": "9be0afcc",
   "metadata": {},
   "outputs": [
    {
     "data": {
      "text/html": [
       "<div>\n",
       "<style scoped>\n",
       "    .dataframe tbody tr th:only-of-type {\n",
       "        vertical-align: middle;\n",
       "    }\n",
       "\n",
       "    .dataframe tbody tr th {\n",
       "        vertical-align: top;\n",
       "    }\n",
       "\n",
       "    .dataframe thead th {\n",
       "        text-align: right;\n",
       "    }\n",
       "</style>\n",
       "<table border=\"1\" class=\"dataframe\">\n",
       "  <thead>\n",
       "    <tr style=\"text-align: right;\">\n",
       "      <th></th>\n",
       "      <th>output</th>\n",
       "      <th>profit</th>\n",
       "    </tr>\n",
       "  </thead>\n",
       "  <tbody>\n",
       "    <tr>\n",
       "      <th>0</th>\n",
       "      <td>65</td>\n",
       "      <td>15.7</td>\n",
       "    </tr>\n",
       "    <tr>\n",
       "      <th>1</th>\n",
       "      <td>78</td>\n",
       "      <td>18.0</td>\n",
       "    </tr>\n",
       "    <tr>\n",
       "      <th>2</th>\n",
       "      <td>41</td>\n",
       "      <td>12.1</td>\n",
       "    </tr>\n",
       "    <tr>\n",
       "      <th>3</th>\n",
       "      <td>54</td>\n",
       "      <td>13.8</td>\n",
       "    </tr>\n",
       "    <tr>\n",
       "      <th>4</th>\n",
       "      <td>66</td>\n",
       "      <td>15.5</td>\n",
       "    </tr>\n",
       "    <tr>\n",
       "      <th>5</th>\n",
       "      <td>80</td>\n",
       "      <td>17.9</td>\n",
       "    </tr>\n",
       "    <tr>\n",
       "      <th>6</th>\n",
       "      <td>45</td>\n",
       "      <td>12.8</td>\n",
       "    </tr>\n",
       "    <tr>\n",
       "      <th>7</th>\n",
       "      <td>57</td>\n",
       "      <td>14.2</td>\n",
       "    </tr>\n",
       "    <tr>\n",
       "      <th>8</th>\n",
       "      <td>67</td>\n",
       "      <td>15.9</td>\n",
       "    </tr>\n",
       "    <tr>\n",
       "      <th>9</th>\n",
       "      <td>81</td>\n",
       "      <td>17.6</td>\n",
       "    </tr>\n",
       "    <tr>\n",
       "      <th>10</th>\n",
       "      <td>92</td>\n",
       "      <td>18.2</td>\n",
       "    </tr>\n",
       "    <tr>\n",
       "      <th>11</th>\n",
       "      <td>48</td>\n",
       "      <td>13.0</td>\n",
       "    </tr>\n",
       "    <tr>\n",
       "      <th>12</th>\n",
       "      <td>59</td>\n",
       "      <td>15.5</td>\n",
       "    </tr>\n",
       "    <tr>\n",
       "      <th>13</th>\n",
       "      <td>68</td>\n",
       "      <td>16.2</td>\n",
       "    </tr>\n",
       "    <tr>\n",
       "      <th>14</th>\n",
       "      <td>83</td>\n",
       "      <td>16.7</td>\n",
       "    </tr>\n",
       "    <tr>\n",
       "      <th>15</th>\n",
       "      <td>52</td>\n",
       "      <td>14.6</td>\n",
       "    </tr>\n",
       "    <tr>\n",
       "      <th>16</th>\n",
       "      <td>62</td>\n",
       "      <td>14.8</td>\n",
       "    </tr>\n",
       "    <tr>\n",
       "      <th>17</th>\n",
       "      <td>69</td>\n",
       "      <td>16.1</td>\n",
       "    </tr>\n",
       "    <tr>\n",
       "      <th>18</th>\n",
       "      <td>85</td>\n",
       "      <td>16.7</td>\n",
       "    </tr>\n",
       "    <tr>\n",
       "      <th>19</th>\n",
       "      <td>70</td>\n",
       "      <td>15.8</td>\n",
       "    </tr>\n",
       "    <tr>\n",
       "      <th>20</th>\n",
       "      <td>71</td>\n",
       "      <td>16.4</td>\n",
       "    </tr>\n",
       "    <tr>\n",
       "      <th>21</th>\n",
       "      <td>64</td>\n",
       "      <td>15.0</td>\n",
       "    </tr>\n",
       "    <tr>\n",
       "      <th>22</th>\n",
       "      <td>72</td>\n",
       "      <td>16.5</td>\n",
       "    </tr>\n",
       "    <tr>\n",
       "      <th>23</th>\n",
       "      <td>88</td>\n",
       "      <td>18.5</td>\n",
       "    </tr>\n",
       "    <tr>\n",
       "      <th>24</th>\n",
       "      <td>73</td>\n",
       "      <td>16.4</td>\n",
       "    </tr>\n",
       "    <tr>\n",
       "      <th>25</th>\n",
       "      <td>74</td>\n",
       "      <td>16.0</td>\n",
       "    </tr>\n",
       "    <tr>\n",
       "      <th>26</th>\n",
       "      <td>96</td>\n",
       "      <td>19.1</td>\n",
       "    </tr>\n",
       "    <tr>\n",
       "      <th>27</th>\n",
       "      <td>75</td>\n",
       "      <td>16.3</td>\n",
       "    </tr>\n",
       "    <tr>\n",
       "      <th>28</th>\n",
       "      <td>101</td>\n",
       "      <td>19.6</td>\n",
       "    </tr>\n",
       "    <tr>\n",
       "      <th>29</th>\n",
       "      <td>76</td>\n",
       "      <td>17.2</td>\n",
       "    </tr>\n",
       "  </tbody>\n",
       "</table>\n",
       "</div>"
      ],
      "text/plain": [
       "    output  profit\n",
       "0       65    15.7\n",
       "1       78    18.0\n",
       "2       41    12.1\n",
       "3       54    13.8\n",
       "4       66    15.5\n",
       "5       80    17.9\n",
       "6       45    12.8\n",
       "7       57    14.2\n",
       "8       67    15.9\n",
       "9       81    17.6\n",
       "10      92    18.2\n",
       "11      48    13.0\n",
       "12      59    15.5\n",
       "13      68    16.2\n",
       "14      83    16.7\n",
       "15      52    14.6\n",
       "16      62    14.8\n",
       "17      69    16.1\n",
       "18      85    16.7\n",
       "19      70    15.8\n",
       "20      71    16.4\n",
       "21      64    15.0\n",
       "22      72    16.5\n",
       "23      88    18.5\n",
       "24      73    16.4\n",
       "25      74    16.0\n",
       "26      96    19.1\n",
       "27      75    16.3\n",
       "28     101    19.6\n",
       "29      76    17.2"
      ]
     },
     "execution_count": 117,
     "metadata": {},
     "output_type": "execute_result"
    }
   ],
   "source": [
    "df"
   ]
  },
  {
   "cell_type": "markdown",
   "id": "622f29bd",
   "metadata": {},
   "source": [
    "Очевидно, что *средний размер* прибыли по предприятиям зависит от стоимости выпущенной продукции, при этом, чем больше выпущено продукции, тем выше может быть прибыль. Таким образом, выпуск продукции $X$ является **признаком-фактором**, а прибыль предприятий $Y$ – **признаком-результатом**; предполагаемая *корреляционная зависимость* – *прямая*."
   ]
  },
  {
   "cell_type": "markdown",
   "id": "f3ec9a1a",
   "metadata": {},
   "source": [
    "#### Корреляционная зависимость, диаграмма рассеяния"
   ]
  },
  {
   "cell_type": "markdown",
   "id": "5fa06214",
   "metadata": {},
   "source": [
    "Прежде всего, повторим, что такое *корреляционная зависимость*. Очевидно, что чем больше предприятие выпускает, тем больше у него прибыль. Но всегда ли это так? Нет не всегда. Ведь крупное предприятие может быть и убыточным, может не продать всю продукцию при увеличении её производства. Однако общая тенденция состоит в том, что при увеличении выпуска продукции, увеличивается и средняя прибыль по предприятиям. Такая нежёсткая зависимость и называется корреляционной.\n",
    "\n",
    "По своему направлению зависимость бывает *прямой* («чем больше, тем больше») и *обратной* («чем больше, тем меньше»). В данной задаче мы высказали предположение о наличии *прямой корреляционной зависимости* $Y$ – прибыли предприятия от $X$ – выпуска продукции. И что немаловажно, **обосновали причинно-следственную связь между признаками**."
   ]
  },
  {
   "cell_type": "markdown",
   "id": "13b62429",
   "metadata": {},
   "source": [
    "#### Анализ диаграммы рассеяния"
   ]
  },
  {
   "cell_type": "markdown",
   "id": "a0dc69bc",
   "metadata": {},
   "source": [
    "Проверить выдвинутое предположение проще всего графически:"
   ]
  },
  {
   "cell_type": "code",
   "execution_count": 118,
   "id": "8e96d747",
   "metadata": {},
   "outputs": [
    {
     "data": {
      "image/png": "[encoded data removed]",
      "text/plain": [
       "<Figure size 720x432 with 1 Axes>"
      ]
     },
     "metadata": {
      "needs_background": "light"
     },
     "output_type": "display_data"
    }
   ],
   "source": [
    "correlation_field(df)"
   ]
  },
  {
   "cell_type": "markdown",
   "id": "d8603d81",
   "metadata": {},
   "source": [
    "По диаграмме рассеяния хорошо видно, что с увеличением выпуска продукции прибыль предприятия преимущественно расчет, что подтверждает наличие прямой корреляционной зависимости прибыли предприятия от выпуска продукции. Более того, почти все точки «выстроились» примерно по прямой, что даёт основание предположить, что данная зависимость близкА к линейной."
   ]
  },
  {
   "cell_type": "markdown",
   "id": "9401664a",
   "metadata": {},
   "source": [
    "#### Уравнение линейной регресии (методом наименьших квадратов)"
   ]
  },
  {
   "cell_type": "markdown",
   "id": "7c3e8102",
   "metadata": {},
   "source": [
    "Расчетная таблица:"
   ]
  },
  {
   "cell_type": "code",
   "execution_count": 119,
   "id": "5bd2ae55",
   "metadata": {},
   "outputs": [],
   "source": [
    "df_lsm = df.copy()"
   ]
  },
  {
   "cell_type": "code",
   "execution_count": 120,
   "id": "040993c0",
   "metadata": {},
   "outputs": [],
   "source": [
    "df_lsm['x2'] = df_lsm['output']**2\n",
    "df_lsm['xy'] = df_lsm['output'] * df_lsm['profit']"
   ]
  },
  {
   "cell_type": "code",
   "execution_count": 121,
   "id": "fa55d2f1",
   "metadata": {},
   "outputs": [
    {
     "data": {
      "text/plain": [
       "{'output': 2112.0, 'profit': 482.1, 'x2': 154870.0, 'xy': 34675.4}"
      ]
     },
     "execution_count": 121,
     "metadata": {},
     "output_type": "execute_result"
    }
   ],
   "source": [
    "df_lsm.sum().to_dict()"
   ]
  },
  {
   "cell_type": "markdown",
   "id": "508003f4",
   "metadata": {},
   "source": [
    "Коэффициенты функции $y = ax + b$ найдём из решения системы:\n",
    "\n",
    "$\n",
    "\\begin{cases}\n",
    "a\\sum{x_i^2} + b\\sum{x_i} = \\sum{x_iy_i}\\\\\n",
    "a\\sum{x_i} + bn = \\sum{y_i}\n",
    "\\end{cases}\n",
    "$\n",
    "\n",
    "$\n",
    "\\begin{cases}\n",
    "154870\\cdot a + 2112\\cdot b = 34675.4\\\\\n",
    "2112\\cdot a + 30\\cdot b = 482.1\n",
    "\\end{cases}\n",
    "$"
   ]
  },
  {
   "cell_type": "markdown",
   "id": "864ca1fc",
   "metadata": {},
   "source": [
    "Систему решим по формулам Крамера:\n",
    "\n",
    "$\n",
    "\\Delta = \n",
    "\\begin{vmatrix}\n",
    "  154870 & 2112\\\\\n",
    "  2112 & 30\n",
    "\\end{vmatrix}\n",
    "= 154870 \\cdot 30 - 2112 \\cdot 2112 = 4646100 - 4460544 = 185556 \\neq 0\n",
    "$\n",
    ", значит, система имеет единственное решение.\n",
    "\n",
    "$\n",
    "\\Delta_a = \n",
    "\\begin{vmatrix}\n",
    "  34675.4 & 2112\\\\\n",
    "  482.1 & 30\n",
    "\\end{vmatrix}\n",
    "= 34675.4 \\cdot 30 - 482.1 \\cdot 2112 = 1040262 - 1018195.2 = 22066.8\n",
    "$\n",
    "\n",
    "$a = \\displaystyle\\frac{\\Delta_a}{\\Delta} = \\frac{22066.8}{185556} \\approx 0.1189$\n",
    "\n",
    "$\n",
    "\\Delta_b = \n",
    "\\begin{vmatrix}\n",
    "  154870 & 34675.4\\\\\n",
    "  2112 & 482.1\n",
    "\\end{vmatrix}\n",
    "= 154870 \\cdot 482.1 - 2112 \\cdot 34675.4 = 74662827 - 73234444.8 = 1428382.2\n",
    "$\n",
    "\n",
    "$b = \\displaystyle\\frac{\\Delta_b}{\\Delta} = \\frac{1428382.2}{185556} \\approx 7.6978$"
   ]
  },
  {
   "cell_type": "markdown",
   "id": "66a661f4",
   "metadata": {},
   "source": [
    "Таким образом, искомое уравнение регрессии:\n",
    "\n",
    "$y = 0.1189x + 7.6978$"
   ]
  },
  {
   "cell_type": "code",
   "execution_count": 122,
   "id": "8581eaf2",
   "metadata": {},
   "outputs": [],
   "source": [
    "a = 0.1189\n",
    "b = 7.6978"
   ]
  },
  {
   "cell_type": "code",
   "execution_count": 123,
   "id": "9d66207c",
   "metadata": {},
   "outputs": [],
   "source": [
    "f = np.polynomial.Polynomial([b, a])"
   ]
  },
  {
   "cell_type": "markdown",
   "id": "d77191f3",
   "metadata": {},
   "source": [
    "Линия регрессии:"
   ]
  },
  {
   "cell_type": "code",
   "execution_count": 124,
   "id": "8f523bfb",
   "metadata": {},
   "outputs": [
    {
     "data": {
      "image/png": "[encoded data removed]",
      "text/plain": [
       "<Figure size 720x432 with 1 Axes>"
      ]
     },
     "metadata": {
      "needs_background": "light"
     },
     "output_type": "display_data"
    }
   ],
   "source": [
    "correlation_field(df, funcs=[f])"
   ]
  },
  {
   "cell_type": "markdown",
   "id": "b6179817",
   "metadata": {},
   "source": [
    "#### Линейный коэффициент корреляции"
   ]
  },
  {
   "cell_type": "markdown",
   "id": "4f18a6bd",
   "metadata": {},
   "source": [
    "Его полное название: **выборочный линейный коэффициент пАрной корреляции Пирсона**\n",
    "\n",
    "- «выборочный» – потому что мы рассматриваем выборочную совокупность;\n",
    "- «линейный» – потому что он оценивает тесноту линейной корреляционной зависимости;\n",
    "- «пАрной» – потому что у нас два признака (бывает хуже);\n",
    "- и «Пирсона» – в честь английского статистика Карла Пирсона, это он автор понятия «корреляция»."
   ]
  },
  {
   "cell_type": "markdown",
   "id": "ab1817cd",
   "metadata": {},
   "source": [
    "Найдем корреляционный момент или коэффициент ковариации (совместной вариации):"
   ]
  },
  {
   "cell_type": "markdown",
   "id": "a1124755",
   "metadata": {},
   "source": [
    "*встроенный метод:*"
   ]
  },
  {
   "cell_type": "code",
   "execution_count": 125,
   "id": "7d97fc86",
   "metadata": {},
   "outputs": [
    {
     "data": {
      "text/plain": [
       "24.518666666666665"
      ]
     },
     "execution_count": 125,
     "metadata": {},
     "output_type": "execute_result"
    }
   ],
   "source": [
    "df['output'].cov(df['profit'], ddof=0)"
   ]
  },
  {
   "cell_type": "markdown",
   "id": "f7f37674",
   "metadata": {},
   "source": [
    "*по формуле:*"
   ]
  },
  {
   "cell_type": "code",
   "execution_count": 126,
   "id": "e9106ce7",
   "metadata": {},
   "outputs": [],
   "source": [
    "cov = (df['output']*df['profit']).mean() - mean_x * mean_y"
   ]
  },
  {
   "cell_type": "code",
   "execution_count": 127,
   "id": "bb7bfb50",
   "metadata": {},
   "outputs": [
    {
     "name": "stdout",
     "output_type": "stream",
     "text": [
      "Коэффициент варации: 24.518666666666604\n"
     ]
    }
   ],
   "source": [
    "print(f'Коэффициент варации: {cov}')"
   ]
  },
  {
   "cell_type": "markdown",
   "id": "91a00c2d",
   "metadata": {},
   "source": [
    "Стандартные отклонения были расчитаны ранее:"
   ]
  },
  {
   "cell_type": "code",
   "execution_count": 128,
   "id": "5620f07f",
   "metadata": {},
   "outputs": [
    {
     "name": "stdout",
     "output_type": "stream",
     "text": [
      "Стандартное отклонение признака-фактора: 14.358737177528297\n"
     ]
    }
   ],
   "source": [
    "print(f'Стандартное отклонение признака-фактора: {std_x}')"
   ]
  },
  {
   "cell_type": "code",
   "execution_count": 129,
   "id": "142fe152",
   "metadata": {},
   "outputs": [
    {
     "name": "stdout",
     "output_type": "stream",
     "text": [
      "Стандартное отклонение признака-результата: 1.7737248941140789\n"
     ]
    }
   ],
   "source": [
    "print(f'Стандартное отклонение признака-результата: {std_y}')"
   ]
  },
  {
   "cell_type": "markdown",
   "id": "36d64071",
   "metadata": {},
   "source": [
    "**Коэффициент корреляции:**"
   ]
  },
  {
   "cell_type": "markdown",
   "id": "4f41e991",
   "metadata": {},
   "source": [
    "*встроенный метод:*"
   ]
  },
  {
   "cell_type": "code",
   "execution_count": 130,
   "id": "ed98ef83",
   "metadata": {},
   "outputs": [
    {
     "data": {
      "text/plain": [
       "0.9627074702690561"
      ]
     },
     "execution_count": 130,
     "metadata": {},
     "output_type": "execute_result"
    }
   ],
   "source": [
    "df['output'].corr(df['profit'])"
   ]
  },
  {
   "cell_type": "markdown",
   "id": "da426dd8",
   "metadata": {},
   "source": [
    "*по формуле:*"
   ]
  },
  {
   "cell_type": "markdown",
   "id": "e2f30a25",
   "metadata": {},
   "source": [
    "$r = \\displaystyle\\frac{cov(X;Y)}{\\sigma_x \\cdot \\sigma_y}$"
   ]
  },
  {
   "cell_type": "code",
   "execution_count": 131,
   "id": "e7ff0c12",
   "metadata": {},
   "outputs": [],
   "source": [
    "r = cov / std_x / std_y"
   ]
  },
  {
   "cell_type": "code",
   "execution_count": 132,
   "id": "bb2c80e3",
   "metadata": {},
   "outputs": [
    {
     "name": "stdout",
     "output_type": "stream",
     "text": [
      "Коэффициент корреляции: 0.9627074702690538\n"
     ]
    }
   ],
   "source": [
    "print(f'Коэффициент корреляции: {r}')"
   ]
  },
  {
   "cell_type": "markdown",
   "id": "2f064183",
   "metadata": {},
   "source": [
    "В нашем случае $r \\approx 0.96$, таким образом, существует очень сильная прямая линейная корреляционная зависимость $Y$ приьыли предприятия от $X$ выпускапродукции.\n",
    "\n",
    "Линейный коэффициент корреляции – это частный аналог *эмпирического корреляционного отношения*. Но в отличие от отношения, он показывает не только тесноту, но ещё и направление зависимости, ну и, конечно, здесь определена её форма (линейная)."
   ]
  },
  {
   "cell_type": "markdown",
   "id": "9770c9f7",
   "metadata": {},
   "source": [
    "#### Коэффициент детерминации"
   ]
  },
  {
   "cell_type": "code",
   "execution_count": 133,
   "id": "f4d86591",
   "metadata": {},
   "outputs": [
    {
     "name": "stdout",
     "output_type": "stream",
     "text": [
      "Коэффициент детерминации: 0.926805673311841\n"
     ]
    }
   ],
   "source": [
    "print(f'Коэффициент детерминации: {r**2}')"
   ]
  },
  {
   "cell_type": "markdown",
   "id": "467c8dc2",
   "metadata": {},
   "source": [
    "В рамках построенной модели 92,68% вариации прибыли обусловлено изменением выпуска продукции.<br/>\n",
    "Остальные 7,32% вариации обусловлены другими факторами."
   ]
  },
  {
   "cell_type": "markdown",
   "id": "a355d531",
   "metadata": {},
   "source": [
    "#### Уравнение линейной регресии (через линейный коэффициент корреляции)"
   ]
  },
  {
   "cell_type": "markdown",
   "id": "b6641a89",
   "metadata": {},
   "source": [
    "Если нам известны значения $r, \\sigma_x, \\sigma_y$, то коэффициенты уравнения $y = ax + b$ регрессии легко рассчитать по следующим формулам:\n",
    "\n",
    "$a = \\displaystyle\\frac{r \\cdot \\sigma_y}{\\sigma_x}$\n",
    "\n",
    "$b = \\overline{y} - a\\overline{x}$\n",
    "\n",
    "Таким образом, искомое уравнение:\n"
   ]
  },
  {
   "cell_type": "code",
   "execution_count": 134,
   "id": "4504ae48",
   "metadata": {},
   "outputs": [],
   "source": [
    "al = r * std_y / std_x\n",
    "bl = mean_y - al * mean_x"
   ]
  },
  {
   "cell_type": "code",
   "execution_count": 135,
   "id": "fd99ec4d",
   "metadata": {},
   "outputs": [
    {
     "name": "stdout",
     "output_type": "stream",
     "text": [
      "Коэффициенты уравнения линейной регрессии по методу наименьших квадратов:\n",
      "a = 0.1189, b = 7.6978\n",
      "\n",
      "Коэффициенты уравнения линейной регрессии через линейный коэффициент корреляции:\n",
      "a = 0.118922589, b = 7.697849706\n"
     ]
    }
   ],
   "source": [
    "print(f'Коэффициенты уравнения линейной регрессии \\\n",
    "по методу наименьших квадратов:\\na = {a}, b = {b}\\n')\n",
    "print(f'Коэффициенты уравнения линейной регрессии \\\n",
    "через линейный коэффициент корреляции:\\na = {al:.9f}, b = {bl:.9f}')"
   ]
  },
  {
   "cell_type": "markdown",
   "id": "06a7282b",
   "metadata": {},
   "source": [
    "Уравнение:"
   ]
  },
  {
   "cell_type": "code",
   "execution_count": 136,
   "id": "6e54e6b0",
   "metadata": {},
   "outputs": [],
   "source": [
    "f_l = np.polynomial.Polynomial([bl, al])"
   ]
  },
  {
   "cell_type": "markdown",
   "id": "b9425d2e",
   "metadata": {},
   "source": [
    "#### Уравнение линейной регресии (sklearn)"
   ]
  },
  {
   "cell_type": "markdown",
   "id": "28e707c4",
   "metadata": {},
   "source": [
    "Обучим модель динейной регрессии:"
   ]
  },
  {
   "cell_type": "code",
   "execution_count": 137,
   "id": "05e925d5",
   "metadata": {},
   "outputs": [],
   "source": [
    "model = LinearRegression().fit(df[['output']], df['profit'])"
   ]
  },
  {
   "cell_type": "markdown",
   "id": "80473ec1",
   "metadata": {},
   "source": [
    "Коэффициент $a$"
   ]
  },
  {
   "cell_type": "code",
   "execution_count": 138,
   "id": "beeafa16",
   "metadata": {},
   "outputs": [
    {
     "data": {
      "text/plain": [
       "array([0.11892259])"
      ]
     },
     "execution_count": 138,
     "metadata": {},
     "output_type": "execute_result"
    }
   ],
   "source": [
    "model.coef_"
   ]
  },
  {
   "cell_type": "markdown",
   "id": "990ad8be",
   "metadata": {},
   "source": [
    "Коэффицент $b$ (смещение)"
   ]
  },
  {
   "cell_type": "code",
   "execution_count": 139,
   "id": "0fb82b20",
   "metadata": {},
   "outputs": [
    {
     "data": {
      "text/plain": [
       "7.697849705749203"
      ]
     },
     "execution_count": 139,
     "metadata": {},
     "output_type": "execute_result"
    }
   ],
   "source": [
    "model.intercept_"
   ]
  },
  {
   "cell_type": "markdown",
   "id": "917caa8b",
   "metadata": {},
   "source": [
    "RMSE:"
   ]
  },
  {
   "cell_type": "code",
   "execution_count": 140,
   "id": "16cf27b9",
   "metadata": {},
   "outputs": [],
   "source": [
    "rmse_sklearn = mse(df['profit'], model.predict(df[['output']]), squared=False)"
   ]
  },
  {
   "cell_type": "code",
   "execution_count": 141,
   "id": "bd8579df",
   "metadata": {},
   "outputs": [
    {
     "data": {
      "text/plain": [
       "0.47987151529717026"
      ]
     },
     "execution_count": 141,
     "metadata": {},
     "output_type": "execute_result"
    }
   ],
   "source": [
    "rmse_sklearn"
   ]
  },
  {
   "cell_type": "markdown",
   "id": "3de28b5a",
   "metadata": {},
   "source": [
    "Коэффициент детерминации:"
   ]
  },
  {
   "cell_type": "code",
   "execution_count": 142,
   "id": "5ffe4214",
   "metadata": {},
   "outputs": [
    {
     "name": "stdout",
     "output_type": "stream",
     "text": [
      "Коэффициент детерминации: 0.9268056733118457\n"
     ]
    }
   ],
   "source": [
    "r2_sklearn = r2(df['profit'], model.predict(df[['output']]))\n",
    "print(f'Коэффициент детерминации: {r2_sklearn}')"
   ]
  },
  {
   "cell_type": "markdown",
   "id": "b654e7e5",
   "metadata": {},
   "source": [
    "Все значения подтверждаются."
   ]
  },
  {
   "cell_type": "markdown",
   "id": "d563df15",
   "metadata": {},
   "source": [
    "#### Уравнение линейной регресии (по формуле регресии)"
   ]
  },
  {
   "cell_type": "markdown",
   "id": "f298aeb7",
   "metadata": {},
   "source": [
    "Предсказания:\n",
    "\n",
    "$$\n",
    "a = Xw\n",
    "$$\n",
    "\n",
    "Задача обучения:\n",
    "\n",
    "$$\n",
    "w = \\arg\\min_w MSE(Xw, y)\n",
    "$$\n",
    "\n",
    "Формула обучения:\n",
    "\n",
    "$$\n",
    "w = (X^T X)^{-1} X^T y\n",
    "$$"
   ]
  },
  {
   "cell_type": "markdown",
   "id": "d407209e",
   "metadata": {},
   "source": [
    "Рассмотрим вычилсения последовательно по действиям:"
   ]
  },
  {
   "cell_type": "code",
   "execution_count": 143,
   "id": "6c148e40",
   "metadata": {},
   "outputs": [],
   "source": [
    "def calculation_regression(X, Y):\n",
    "    r1 = X.T\n",
    "    print('XT'.rjust(80))\n",
    "    display(r1)\n",
    "    r2 = r1 @ X\n",
    "    print('XT X'.rjust(80))\n",
    "    display(r2)\n",
    "    r3 = np.linalg.inv(r2)\n",
    "    print('(XT X)-1'.rjust(80))\n",
    "    display(r3)\n",
    "    r4 = r3 @ r1\n",
    "    print('(XT X)-1 XT'.rjust(80))\n",
    "    display(r4)\n",
    "    res = np.linalg.inv(X.T @ X) @ X.T @ Y\n",
    "    print('(XT X)-1 XT y'.rjust(80))\n",
    "    display(res)"
   ]
  },
  {
   "cell_type": "code",
   "execution_count": 144,
   "id": "e777e783",
   "metadata": {},
   "outputs": [
    {
     "name": "stdout",
     "output_type": "stream",
     "text": [
      "                                                                              XT\n"
     ]
    },
    {
     "data": {
      "text/html": [
       "<div>\n",
       "<style scoped>\n",
       "    .dataframe tbody tr th:only-of-type {\n",
       "        vertical-align: middle;\n",
       "    }\n",
       "\n",
       "    .dataframe tbody tr th {\n",
       "        vertical-align: top;\n",
       "    }\n",
       "\n",
       "    .dataframe thead th {\n",
       "        text-align: right;\n",
       "    }\n",
       "</style>\n",
       "<table border=\"1\" class=\"dataframe\">\n",
       "  <thead>\n",
       "    <tr style=\"text-align: right;\">\n",
       "      <th></th>\n",
       "      <th>0</th>\n",
       "      <th>1</th>\n",
       "      <th>2</th>\n",
       "      <th>3</th>\n",
       "      <th>4</th>\n",
       "      <th>5</th>\n",
       "      <th>6</th>\n",
       "      <th>7</th>\n",
       "      <th>8</th>\n",
       "      <th>9</th>\n",
       "      <th>...</th>\n",
       "      <th>20</th>\n",
       "      <th>21</th>\n",
       "      <th>22</th>\n",
       "      <th>23</th>\n",
       "      <th>24</th>\n",
       "      <th>25</th>\n",
       "      <th>26</th>\n",
       "      <th>27</th>\n",
       "      <th>28</th>\n",
       "      <th>29</th>\n",
       "    </tr>\n",
       "  </thead>\n",
       "  <tbody>\n",
       "    <tr>\n",
       "      <th>output</th>\n",
       "      <td>65</td>\n",
       "      <td>78</td>\n",
       "      <td>41</td>\n",
       "      <td>54</td>\n",
       "      <td>66</td>\n",
       "      <td>80</td>\n",
       "      <td>45</td>\n",
       "      <td>57</td>\n",
       "      <td>67</td>\n",
       "      <td>81</td>\n",
       "      <td>...</td>\n",
       "      <td>71</td>\n",
       "      <td>64</td>\n",
       "      <td>72</td>\n",
       "      <td>88</td>\n",
       "      <td>73</td>\n",
       "      <td>74</td>\n",
       "      <td>96</td>\n",
       "      <td>75</td>\n",
       "      <td>101</td>\n",
       "      <td>76</td>\n",
       "    </tr>\n",
       "  </tbody>\n",
       "</table>\n",
       "<p>1 rows × 30 columns</p>\n",
       "</div>"
      ],
      "text/plain": [
       "        0   1   2   3   4   5   6   7   8   9   ...  20  21  22  23  24  25  \\\n",
       "output  65  78  41  54  66  80  45  57  67  81  ...  71  64  72  88  73  74   \n",
       "\n",
       "        26  27   28  29  \n",
       "output  96  75  101  76  \n",
       "\n",
       "[1 rows x 30 columns]"
      ]
     },
     "metadata": {},
     "output_type": "display_data"
    },
    {
     "name": "stdout",
     "output_type": "stream",
     "text": [
      "                                                                            XT X\n"
     ]
    },
    {
     "data": {
      "text/html": [
       "<div>\n",
       "<style scoped>\n",
       "    .dataframe tbody tr th:only-of-type {\n",
       "        vertical-align: middle;\n",
       "    }\n",
       "\n",
       "    .dataframe tbody tr th {\n",
       "        vertical-align: top;\n",
       "    }\n",
       "\n",
       "    .dataframe thead th {\n",
       "        text-align: right;\n",
       "    }\n",
       "</style>\n",
       "<table border=\"1\" class=\"dataframe\">\n",
       "  <thead>\n",
       "    <tr style=\"text-align: right;\">\n",
       "      <th></th>\n",
       "      <th>output</th>\n",
       "    </tr>\n",
       "  </thead>\n",
       "  <tbody>\n",
       "    <tr>\n",
       "      <th>output</th>\n",
       "      <td>154870</td>\n",
       "    </tr>\n",
       "  </tbody>\n",
       "</table>\n",
       "</div>"
      ],
      "text/plain": [
       "        output\n",
       "output  154870"
      ]
     },
     "metadata": {},
     "output_type": "display_data"
    },
    {
     "name": "stdout",
     "output_type": "stream",
     "text": [
      "                                                                        (XT X)-1\n"
     ]
    },
    {
     "data": {
      "text/plain": [
       "array([[6.45702848e-06]])"
      ]
     },
     "metadata": {},
     "output_type": "display_data"
    },
    {
     "name": "stdout",
     "output_type": "stream",
     "text": [
      "                                                                     (XT X)-1 XT\n"
     ]
    },
    {
     "data": {
      "text/html": [
       "<div>\n",
       "<style scoped>\n",
       "    .dataframe tbody tr th:only-of-type {\n",
       "        vertical-align: middle;\n",
       "    }\n",
       "\n",
       "    .dataframe tbody tr th {\n",
       "        vertical-align: top;\n",
       "    }\n",
       "\n",
       "    .dataframe thead th {\n",
       "        text-align: right;\n",
       "    }\n",
       "</style>\n",
       "<table border=\"1\" class=\"dataframe\">\n",
       "  <thead>\n",
       "    <tr style=\"text-align: right;\">\n",
       "      <th></th>\n",
       "      <th>0</th>\n",
       "      <th>1</th>\n",
       "      <th>2</th>\n",
       "      <th>3</th>\n",
       "      <th>4</th>\n",
       "      <th>5</th>\n",
       "      <th>6</th>\n",
       "      <th>7</th>\n",
       "      <th>8</th>\n",
       "      <th>9</th>\n",
       "      <th>...</th>\n",
       "      <th>20</th>\n",
       "      <th>21</th>\n",
       "      <th>22</th>\n",
       "      <th>23</th>\n",
       "      <th>24</th>\n",
       "      <th>25</th>\n",
       "      <th>26</th>\n",
       "      <th>27</th>\n",
       "      <th>28</th>\n",
       "      <th>29</th>\n",
       "    </tr>\n",
       "  </thead>\n",
       "  <tbody>\n",
       "    <tr>\n",
       "      <th>0</th>\n",
       "      <td>0.00042</td>\n",
       "      <td>0.000504</td>\n",
       "      <td>0.000265</td>\n",
       "      <td>0.000349</td>\n",
       "      <td>0.000426</td>\n",
       "      <td>0.000517</td>\n",
       "      <td>0.000291</td>\n",
       "      <td>0.000368</td>\n",
       "      <td>0.000433</td>\n",
       "      <td>0.000523</td>\n",
       "      <td>...</td>\n",
       "      <td>0.000458</td>\n",
       "      <td>0.000413</td>\n",
       "      <td>0.000465</td>\n",
       "      <td>0.000568</td>\n",
       "      <td>0.000471</td>\n",
       "      <td>0.000478</td>\n",
       "      <td>0.00062</td>\n",
       "      <td>0.000484</td>\n",
       "      <td>0.000652</td>\n",
       "      <td>0.000491</td>\n",
       "    </tr>\n",
       "  </tbody>\n",
       "</table>\n",
       "<p>1 rows × 30 columns</p>\n",
       "</div>"
      ],
      "text/plain": [
       "        0         1         2         3         4         5         6   \\\n",
       "0  0.00042  0.000504  0.000265  0.000349  0.000426  0.000517  0.000291   \n",
       "\n",
       "         7         8         9   ...        20        21        22        23  \\\n",
       "0  0.000368  0.000433  0.000523  ...  0.000458  0.000413  0.000465  0.000568   \n",
       "\n",
       "         24        25       26        27        28        29  \n",
       "0  0.000471  0.000478  0.00062  0.000484  0.000652  0.000491  \n",
       "\n",
       "[1 rows x 30 columns]"
      ]
     },
     "metadata": {},
     "output_type": "display_data"
    },
    {
     "name": "stdout",
     "output_type": "stream",
     "text": [
      "                                                                   (XT X)-1 XT y\n"
     ]
    },
    {
     "data": {
      "text/plain": [
       "0    0.2239\n",
       "dtype: float64"
      ]
     },
     "metadata": {},
     "output_type": "display_data"
    }
   ],
   "source": [
    "calculation_regression(df[['output']], df['profit'])"
   ]
  },
  {
   "cell_type": "markdown",
   "id": "e1aa1e7d",
   "metadata": {},
   "source": [
    "Ответ не верный.\n",
    "\n",
    "**Не учтено смещение**, линия регрессии выстроилась из точки (0, 0):"
   ]
  },
  {
   "cell_type": "code",
   "execution_count": 145,
   "id": "0b133556",
   "metadata": {},
   "outputs": [
    {
     "data": {
      "image/png": "[encoded data removed]",
      "text/plain": [
       "<Figure size 720x432 with 1 Axes>"
      ]
     },
     "metadata": {
      "needs_background": "light"
     },
     "output_type": "display_data"
    }
   ],
   "source": [
    "correlation_field(df, funcs=[np.polynomial.Polynomial([0, 0.2239])])"
   ]
  },
  {
   "cell_type": "markdown",
   "id": "d6c2f2a4",
   "metadata": {},
   "source": [
    "Учтем смещение:"
   ]
  },
  {
   "cell_type": "code",
   "execution_count": 146,
   "id": "c2ac7940",
   "metadata": {},
   "outputs": [],
   "source": [
    "X = np.concatenate((np.ones((df.shape[0], 1)), df[['output']]), axis=1)"
   ]
  },
  {
   "cell_type": "code",
   "execution_count": 147,
   "id": "65d9c9f7",
   "metadata": {},
   "outputs": [
    {
     "name": "stdout",
     "output_type": "stream",
     "text": [
      "                                                                              XT\n"
     ]
    },
    {
     "data": {
      "text/plain": [
       "array([[  1.,   1.,   1.,   1.,   1.,   1.,   1.,   1.,   1.,   1.,   1.,\n",
       "          1.,   1.,   1.,   1.,   1.,   1.,   1.,   1.,   1.,   1.,   1.,\n",
       "          1.,   1.,   1.,   1.,   1.,   1.,   1.,   1.],\n",
       "       [ 65.,  78.,  41.,  54.,  66.,  80.,  45.,  57.,  67.,  81.,  92.,\n",
       "         48.,  59.,  68.,  83.,  52.,  62.,  69.,  85.,  70.,  71.,  64.,\n",
       "         72.,  88.,  73.,  74.,  96.,  75., 101.,  76.]])"
      ]
     },
     "metadata": {},
     "output_type": "display_data"
    },
    {
     "name": "stdout",
     "output_type": "stream",
     "text": [
      "                                                                            XT X\n"
     ]
    },
    {
     "data": {
      "text/plain": [
       "array([[3.0000e+01, 2.1120e+03],\n",
       "       [2.1120e+03, 1.5487e+05]])"
      ]
     },
     "metadata": {},
     "output_type": "display_data"
    },
    {
     "name": "stdout",
     "output_type": "stream",
     "text": [
      "                                                                        (XT X)-1\n"
     ]
    },
    {
     "data": {
      "text/plain": [
       "array([[ 8.34626743e-01, -1.13820087e-02],\n",
       "       [-1.13820087e-02,  1.61676259e-04]])"
      ]
     },
     "metadata": {},
     "output_type": "display_data"
    },
    {
     "name": "stdout",
     "output_type": "stream",
     "text": [
      "                                                                     (XT X)-1 XT\n"
     ]
    },
    {
     "data": {
      "text/plain": [
       "array([[ 9.47961801e-02, -5.31699325e-02,  3.67964388e-01,\n",
       "         2.19998275e-01,  8.34141715e-02, -7.59339499e-02,\n",
       "         3.22436353e-01,  1.85852249e-01,  7.20321628e-02,\n",
       "        -8.73159585e-02, -2.12518054e-01,  2.88290327e-01,\n",
       "         1.63088232e-01,  6.06501541e-02, -1.10079976e-01,\n",
       "         2.42762293e-01,  1.28942206e-01,  4.92681455e-02,\n",
       "        -1.32843993e-01,  3.78861368e-02,  2.65041281e-02,\n",
       "         1.06178189e-01,  1.51221195e-02, -1.66990019e-01,\n",
       "         3.74011080e-03, -7.64189786e-03, -2.58046089e-01,\n",
       "        -1.90239065e-02, -3.14956132e-01, -3.04059152e-02],\n",
       "       [-8.73051801e-04,  1.22873957e-03, -4.75328203e-03,\n",
       "        -2.65149066e-03, -7.11375542e-04,  1.55209209e-03,\n",
       "        -4.10657699e-03, -2.16646188e-03, -5.49699282e-04,\n",
       "         1.71376835e-03,  3.49220720e-03, -3.62154821e-03,\n",
       "        -1.84310936e-03, -3.88023023e-04,  2.03712087e-03,\n",
       "        -2.97484317e-03, -1.35808058e-03, -2.26346763e-04,\n",
       "         2.36047339e-03, -6.46705038e-05,  9.70057557e-05,\n",
       "        -1.03472806e-03,  2.58682015e-04,  2.84550217e-03,\n",
       "         4.20358275e-04,  5.82034534e-04,  4.13891224e-03,\n",
       "         7.43710794e-04,  4.94729354e-03,  9.05387053e-04]])"
      ]
     },
     "metadata": {},
     "output_type": "display_data"
    },
    {
     "name": "stdout",
     "output_type": "stream",
     "text": [
      "                                                                   (XT X)-1 XT y\n"
     ]
    },
    {
     "data": {
      "text/plain": [
       "array([7.69784971, 0.11892259])"
      ]
     },
     "metadata": {},
     "output_type": "display_data"
    }
   ],
   "source": [
    "calculation_regression(X, df['profit'])"
   ]
  },
  {
   "cell_type": "markdown",
   "id": "7ca77690",
   "metadata": {},
   "source": [
    "Получены правильные коэффициенты."
   ]
  },
  {
   "cell_type": "markdown",
   "id": "2beaea38",
   "metadata": {},
   "source": [
    "#### Второе уравнение линейной регресии (через линейный коэффициент корреляции)"
   ]
  },
  {
   "cell_type": "markdown",
   "id": "cf70c9d9",
   "metadata": {},
   "source": [
    "Чисто формально эта регрессия существует всегда, так, в рассмотренной задаче признак $X$ явно не зависит от $Y$, но вот линейная корреляционная зависимость есть! (причём, такой же тесноты). Помним, что **причинно-следственная зависимость и корреляционная – это не одно и то же!**"
   ]
  },
  {
   "cell_type": "markdown",
   "id": "fa09a07a",
   "metadata": {},
   "source": [
    "Если нам известны значения $r, \\sigma_x, \\sigma_y$, то коэффициенты уравнения $x = cy + d$ регрессии легко рассчитать по следующим формулам:\n",
    "\n",
    "$c = \\displaystyle\\frac{r \\cdot \\sigma_x}{\\sigma_y}$\n",
    "\n",
    "$d = \\overline{x} - c\\overline{y}$\n",
    "\n",
    "Таким образом, искомое уравнение:\n"
   ]
  },
  {
   "cell_type": "code",
   "execution_count": 148,
   "id": "c1f05381",
   "metadata": {},
   "outputs": [],
   "source": [
    "c = r * std_x / std_y\n",
    "d = mean_x - c * mean_y"
   ]
  },
  {
   "cell_type": "code",
   "execution_count": 149,
   "id": "757585a7",
   "metadata": {},
   "outputs": [
    {
     "name": "stdout",
     "output_type": "stream",
     "text": [
      "Коэффициенты уравнения линейной регрессии Y на X:\n",
      "a = 0.118900000, b = 7.697800000\n",
      "Коэффициенты уравнения линейной регрессии X на Y:\n",
      "a = 7.793352616, b = -54.839176547\n"
     ]
    }
   ],
   "source": [
    "print(f'Коэффициенты уравнения линейной регрессии \\\n",
    "Y на X:\\na = {a:.9f}, b = {b:.9f}')\n",
    "print(f'Коэффициенты уравнения линейной регрессии \\\n",
    "X на Y:\\na = {c:.9f}, b = {d:.9f}')"
   ]
  },
  {
   "cell_type": "markdown",
   "id": "a62a5ebb",
   "metadata": {},
   "source": [
    "Первое:\n",
    "$$\n",
    "Y = a \\cdot X + b\\\\\n",
    "$$\n",
    "Второе:\n",
    "$$\n",
    "X = c \\cdot Y + d\\\\\n",
    "$$\n",
    "Привести к первому:\n",
    "$$\n",
    "Y = \\frac{X - d}{c}\\\\\n",
    "Y = X \\cdot\\frac{1}{c} + \\left(-\\frac{d}{c}\\right)\n",
    "$$"
   ]
  },
  {
   "cell_type": "markdown",
   "id": "f86fff7e",
   "metadata": {},
   "source": [
    "Уравнение:"
   ]
  },
  {
   "cell_type": "code",
   "execution_count": 150,
   "id": "959fef9b",
   "metadata": {},
   "outputs": [],
   "source": [
    "f2_l = np.polynomial.Polynomial([-d/c, 1/c])"
   ]
  },
  {
   "cell_type": "markdown",
   "id": "6f8c634e",
   "metadata": {},
   "source": [
    "График:"
   ]
  },
  {
   "cell_type": "code",
   "execution_count": 151,
   "id": "54d7c6bb",
   "metadata": {},
   "outputs": [
    {
     "data": {
      "image/png": "[encoded data removed]",
      "text/plain": [
       "<Figure size 720x432 with 1 Axes>"
      ]
     },
     "metadata": {
      "needs_background": "light"
     },
     "output_type": "display_data"
    }
   ],
   "source": [
    "correlation_field(df, funcs=[f_l, f2_l])"
   ]
  },
  {
   "cell_type": "markdown",
   "id": "4510266d",
   "metadata": {},
   "source": [
    "Графики пересекается в точке $(\\overline{x}, \\overline{y})$"
   ]
  },
  {
   "cell_type": "code",
   "execution_count": 152,
   "id": "d7606094",
   "metadata": {},
   "outputs": [
    {
     "name": "stdout",
     "output_type": "stream",
     "text": [
      "Средние значения: (70.400, 16.070)\n"
     ]
    }
   ],
   "source": [
    "print(f'Средние значения: ({mean_x:.3f}, {mean_y:.3f})')"
   ]
  },
  {
   "cell_type": "markdown",
   "id": "7d83f5de",
   "metadata": {},
   "source": [
    "### Значимости линейной корреляционной модели"
   ]
  },
  {
   "cell_type": "markdown",
   "id": "4329f687",
   "metadata": {},
   "source": [
    "#### Статистические гипотезы"
   ]
  },
  {
   "cell_type": "markdown",
   "id": "711dc79e",
   "metadata": {},
   "source": [
    "Примем уровень значимости $\\alpha = 0.01$"
   ]
  },
  {
   "cell_type": "code",
   "execution_count": 153,
   "id": "5d699918",
   "metadata": {},
   "outputs": [],
   "source": [
    "alpha = 0.01"
   ]
  },
  {
   "cell_type": "markdown",
   "id": "abf616ab",
   "metadata": {},
   "source": [
    "##### Значимость выборочного линейного коэффициента корреляции"
   ]
  },
  {
   "cell_type": "code",
   "execution_count": 154,
   "id": "1aaf17f4",
   "metadata": {},
   "outputs": [
    {
     "name": "stdout",
     "output_type": "stream",
     "text": [
      "Коэффициент корреляции: 0.9627074702690538\n"
     ]
    }
   ],
   "source": [
    "print(f'Коэффициент корреляции: {r}')"
   ]
  },
  {
   "cell_type": "markdown",
   "id": "f43154bc",
   "metadata": {},
   "source": [
    "Статистический критерий:\n",
    "\n",
    "$\n",
    "T = \\frac{r_в\\sqrt{n-2}}{\\sqrt{1-r_в^2}}\n",
    "$"
   ]
  },
  {
   "cell_type": "code",
   "execution_count": 155,
   "id": "2aa117d2",
   "metadata": {},
   "outputs": [],
   "source": [
    "u = r * np.sqrt(n - 2) / np.sqrt(1 - r**2)"
   ]
  },
  {
   "cell_type": "markdown",
   "id": "9eca0c3d",
   "metadata": {},
   "source": [
    "Проверка гипотезы:"
   ]
  },
  {
   "cell_type": "code",
   "execution_count": 156,
   "id": "9699e0b5",
   "metadata": {},
   "outputs": [
    {
     "name": "stdout",
     "output_type": "stream",
     "text": [
      "\n",
      "Диапазон критерия:\n",
      "( -2.763262   2.763262 )  \u001b[1m18.829320\u001b[0m  \n",
      "\n",
      "Диапазон верояности:\n",
      "( 0.0050   0.9950 )  \u001b[1m1.0000\u001b[0m  \n",
      "\n",
      "Нулевая гипотеза \u001b[1mотвергается\u001b[0m\n"
     ]
    }
   ],
   "source": [
    "stat_test(n-2, side='two', alpha=alpha, scipy_distr=st.t, criterion=u)"
   ]
  },
  {
   "cell_type": "markdown",
   "id": "970188be",
   "metadata": {},
   "source": [
    "Иными словами, выборочное значение $r$ оказалось статически значимым и вряд ли объяснимо случайными факторами (малой выборкой, например).\n",
    "\n",
    "При этом с вероятностью 0.01 мы совершили ошибку первого рода, то есть отвергли правильную гипотезу."
   ]
  },
  {
   "cell_type": "markdown",
   "id": "31df9d52",
   "metadata": {},
   "source": [
    "##### Значимость коэффициентов уравнения линейной регрессии"
   ]
  },
  {
   "cell_type": "code",
   "execution_count": 157,
   "id": "029c3369",
   "metadata": {},
   "outputs": [
    {
     "name": "stdout",
     "output_type": "stream",
     "text": [
      "Коэффицент А: 0.1189225894069712\n"
     ]
    }
   ],
   "source": [
    "print(f'Коэффицент А: {al}')"
   ]
  },
  {
   "cell_type": "code",
   "execution_count": 158,
   "id": "7a941cc1",
   "metadata": {},
   "outputs": [
    {
     "name": "stdout",
     "output_type": "stream",
     "text": [
      "Стандартная ошибка регрессии se: 0.4967142084240073\n"
     ]
    }
   ],
   "source": [
    "se = rmse_sklearn * np.sqrt(n / (n-2))\n",
    "print(f'Стандартная ошибка регрессии se: {(se)}')"
   ]
  },
  {
   "cell_type": "code",
   "execution_count": 159,
   "id": "19dcab17",
   "metadata": {},
   "outputs": [
    {
     "name": "stdout",
     "output_type": "stream",
     "text": [
      "стандартная ошибка коэффициента A: 0.006315819495438942\n"
     ]
    }
   ],
   "source": [
    "mu_a = se / std_x / np.sqrt(n)\n",
    "print(f'стандартная ошибка коэффициента A: {(mu_a)}')"
   ]
  },
  {
   "cell_type": "markdown",
   "id": "7ff575f9",
   "metadata": {},
   "source": [
    "Статистический критерий:\n",
    "\n",
    "$\n",
    "T = \\frac{a_в}{\\mu_a}\n",
    "$"
   ]
  },
  {
   "cell_type": "code",
   "execution_count": 160,
   "id": "d41f75c2",
   "metadata": {},
   "outputs": [],
   "source": [
    "u = al / mu_a"
   ]
  },
  {
   "cell_type": "markdown",
   "id": "1a7087d3",
   "metadata": {},
   "source": [
    "Проверка гипотезы:"
   ]
  },
  {
   "cell_type": "code",
   "execution_count": 161,
   "id": "07f4fa20",
   "metadata": {},
   "outputs": [
    {
     "name": "stdout",
     "output_type": "stream",
     "text": [
      "\n",
      "Диапазон критерия:\n",
      "( -2.763262   2.763262 )  \u001b[1m18.829320\u001b[0m  \n",
      "\n",
      "Диапазон верояности:\n",
      "( 0.0050   0.9950 )  \u001b[1m1.0000\u001b[0m  \n",
      "\n",
      "Нулевая гипотеза \u001b[1mотвергается\u001b[0m\n"
     ]
    }
   ],
   "source": [
    "stat_test(n-2, side='two', alpha=alpha, scipy_distr=st.t, criterion=u)"
   ]
  },
  {
   "cell_type": "markdown",
   "id": "db90ad35",
   "metadata": {},
   "source": [
    "Выборочное значение $a$ оказалось статически значимым и вряд ли объяснимо случайными факторами, малой выборкой, например."
   ]
  },
  {
   "cell_type": "code",
   "execution_count": 162,
   "id": "e2505a0e",
   "metadata": {},
   "outputs": [
    {
     "name": "stdout",
     "output_type": "stream",
     "text": [
      "Коэффицент B: 7.697849705749228\n"
     ]
    }
   ],
   "source": [
    "print(f'Коэффицент B: {bl}')"
   ]
  },
  {
   "cell_type": "code",
   "execution_count": 163,
   "id": "4415ac68",
   "metadata": {},
   "outputs": [
    {
     "name": "stdout",
     "output_type": "stream",
     "text": [
      "стандартная ошибка коэффициента B: 0.4537877117284747\n"
     ]
    }
   ],
   "source": [
    "mu_b = mu_a * np.sqrt(df_lsm['x2'].sum() / n)\n",
    "print(f'стандартная ошибка коэффициента B: {(mu_b)}')"
   ]
  },
  {
   "cell_type": "markdown",
   "id": "a50b0dd6",
   "metadata": {},
   "source": [
    "Статистический критерий:\n",
    "\n",
    "$\n",
    "T = \\frac{b_в}{\\mu_a}\n",
    "$"
   ]
  },
  {
   "cell_type": "code",
   "execution_count": 164,
   "id": "f3d6b1aa",
   "metadata": {},
   "outputs": [],
   "source": [
    "u = bl / mu_b"
   ]
  },
  {
   "cell_type": "markdown",
   "id": "89adfa82",
   "metadata": {},
   "source": [
    "Проверка гипотезы:"
   ]
  },
  {
   "cell_type": "code",
   "execution_count": 165,
   "id": "9778fa88",
   "metadata": {},
   "outputs": [
    {
     "name": "stdout",
     "output_type": "stream",
     "text": [
      "\n",
      "Диапазон критерия:\n",
      "( -2.763262   2.763262 )  \u001b[1m16.963548\u001b[0m  \n",
      "\n",
      "Диапазон верояности:\n",
      "( 0.0050   0.9950 )  \u001b[1m1.0000\u001b[0m  \n",
      "\n",
      "Нулевая гипотеза \u001b[1mотвергается\u001b[0m\n"
     ]
    }
   ],
   "source": [
    "stat_test(n-2, side='two', alpha=alpha, scipy_distr=st.t, criterion=u)"
   ]
  },
  {
   "cell_type": "markdown",
   "id": "9c78aebc",
   "metadata": {},
   "source": [
    "То есть, выборочное значение $b$ статически значимо отличается от нуля, что естественно."
   ]
  },
  {
   "cell_type": "markdown",
   "id": "20c13971",
   "metadata": {},
   "source": [
    "##### Значимость выборочного уравнения линейной регрессии"
   ]
  },
  {
   "cell_type": "code",
   "execution_count": 166,
   "id": "2be01efb",
   "metadata": {},
   "outputs": [
    {
     "name": "stdout",
     "output_type": "stream",
     "text": [
      "Коэффициент детерминации: 0.926805673311841\n"
     ]
    }
   ],
   "source": [
    "print(f'Коэффициент детерминации: {r**2}')"
   ]
  },
  {
   "cell_type": "markdown",
   "id": "9615e51e",
   "metadata": {},
   "source": [
    "Статистический критерий:\n",
    "\n",
    "$\n",
    "F = \\frac{R_в^2}{1-R_в^2}\\cdot\\frac{n-m-1}{m}\n",
    "$"
   ]
  },
  {
   "cell_type": "code",
   "execution_count": 167,
   "id": "4499f577",
   "metadata": {},
   "outputs": [],
   "source": [
    "u = r**2 / (1 - r**2) * (n - 1 - 1) / 1"
   ]
  },
  {
   "cell_type": "markdown",
   "id": "c0a06b8f",
   "metadata": {},
   "source": [
    "Проверка гипотезы:"
   ]
  },
  {
   "cell_type": "code",
   "execution_count": 168,
   "id": "2f52a737",
   "metadata": {},
   "outputs": [
    {
     "name": "stdout",
     "output_type": "stream",
     "text": [
      "\n",
      "Диапазон критерия:\n",
      "( 0.000000   7.635619 )  \u001b[1m354.543310\u001b[0m  \n",
      "\n",
      "Диапазон верояности:\n",
      "( 0.0000   0.9900 )  \u001b[1m1.0000\u001b[0m  \n",
      "\n",
      "Нулевая гипотеза \u001b[1mотвергается\u001b[0m\n"
     ]
    }
   ],
   "source": [
    "stat_test(1, n - 2, side='right', alpha=alpha, scipy_distr=st.f, criterion=u)"
   ]
  },
  {
   "cell_type": "markdown",
   "id": "bebaf0fd",
   "metadata": {},
   "source": [
    "Иными словами, выборочное значение $R$ статистически значимо отлично от нуля, а значит, статистически значимо и выборочное уравнение.\n",
    "\n",
    "И в более широком смысле, речь здесь идёт о том, что модель (линейная) подобрана удачна. Дело в том, что зависимость может быть близка и к какой-нибудь нелинейной – если эмпирические точки располагаются примерно по параболе, гиперболе, экспоненте или вдоль какой-нибудь другой кривой. В этом случае мы получим низкое значение линейного коэффициента детерминации и его статическую незначимость, а значит, и незначимость всей линейной модели. То есть, линейная модель будет неудовлетворительно описывать ситуацию"
   ]
  },
  {
   "cell_type": "markdown",
   "id": "6a2f492b",
   "metadata": {},
   "source": [
    "> Интересная зависимость:"
   ]
  },
  {
   "cell_type": "code",
   "execution_count": 169,
   "id": "a3234bd2",
   "metadata": {},
   "outputs": [
    {
     "name": "stdout",
     "output_type": "stream",
     "text": [
      "Корень из F: 18.829320485306628 - в точности равен статистическим критериям из 1 и 2 пункта\n"
     ]
    }
   ],
   "source": [
    "print(f'Корень из F: {np.sqrt(u)} - в точности равен статистическим критериям из 1 и 2 пункта')"
   ]
  },
  {
   "cell_type": "markdown",
   "id": "7704ac1a",
   "metadata": {},
   "source": [
    "> Для линейной однофакторной модели эквивалентными являются следующие проверки:\n",
    ">* проверка значимости коэффициента корреляции;\n",
    ">* проверка значимости коэффициента факторной переменной уравнения регрессии;\n",
    ">* проверка значимость коэффициента детерминации."
   ]
  },
  {
   "cell_type": "markdown",
   "id": "50179420",
   "metadata": {},
   "source": [
    "#### Доверительные интервалы"
   ]
  },
  {
   "cell_type": "markdown",
   "id": "b102e9bd",
   "metadata": {},
   "source": [
    "Примем доверительную надежность $\\gamma = 0.99$"
   ]
  },
  {
   "cell_type": "code",
   "execution_count": 170,
   "id": "2732d667",
   "metadata": {},
   "outputs": [],
   "source": [
    "y = 0.99"
   ]
  },
  {
   "cell_type": "markdown",
   "id": "9bd7900e",
   "metadata": {},
   "source": [
    "Коэффициент доверия:"
   ]
  },
  {
   "cell_type": "code",
   "execution_count": 171,
   "id": "021fb642",
   "metadata": {},
   "outputs": [
    {
     "name": "stdout",
     "output_type": "stream",
     "text": [
      "Коэффициент доверия (для y = 0.99) t = 2.763262455461066\n"
     ]
    }
   ],
   "source": [
    "ty = st.t.interval(y, n-2)[1]\n",
    "print(f'Коэффициент доверия (для y = {y}) t = {ty}')"
   ]
  },
  {
   "cell_type": "markdown",
   "id": "6594c95d",
   "metadata": {},
   "source": [
    "##### Доверительный интервал для генерального коэффициента корреляции"
   ]
  },
  {
   "cell_type": "code",
   "execution_count": 172,
   "id": "1c5bcdbd",
   "metadata": {},
   "outputs": [
    {
     "name": "stdout",
     "output_type": "stream",
     "text": [
      "Точность оценки d = 0.03692656658352689\n"
     ]
    }
   ],
   "source": [
    "SE = (1 - r**2) / np.sqrt(n)\n",
    "delta = ty * SE\n",
    "print(f'Точность оценки d = {delta}')"
   ]
  },
  {
   "cell_type": "code",
   "execution_count": 173,
   "id": "d79da9b2",
   "metadata": {},
   "outputs": [
    {
     "name": "stdout",
     "output_type": "stream",
     "text": [
      "Доверительный интервал:\n",
      "0.9258 < r < 0.9996\n"
     ]
    }
   ],
   "source": [
    "print(f'Доверительный интервал:\\n{max(r-delta, -1):.4f} < r < {min(r+delta, 1):.4f}')"
   ]
  },
  {
   "cell_type": "markdown",
   "id": "d944cf46",
   "metadata": {},
   "source": [
    "*Встроенный метод:*"
   ]
  },
  {
   "cell_type": "code",
   "execution_count": 174,
   "id": "e7493eef",
   "metadata": {},
   "outputs": [
    {
     "name": "stdout",
     "output_type": "stream",
     "text": [
      "Доверительный интервал с надежностью y = 0.99:\n",
      "(0.9257809036855269, 0.9996340368525807)\n"
     ]
    }
   ],
   "source": [
    "print(f'Доверительный интервал с надежностью y = {y}:\\n{st.t.interval(y, n-2, r, SE)}')"
   ]
  },
  {
   "cell_type": "markdown",
   "id": "2296725a",
   "metadata": {},
   "source": [
    "Вывод:"
   ]
  },
  {
   "cell_type": "code",
   "execution_count": 175,
   "id": "1b9b1e65",
   "metadata": {},
   "outputs": [
    {
     "name": "stdout",
     "output_type": "stream",
     "text": [
      "С вероятностью 0.99 интервал (0.9258 < r < 0.9996) накрывает генеральный коэффициент корреляции\n"
     ]
    }
   ],
   "source": [
    "print(f'С вероятностью {y} интервал\\\n",
    " ({max(r-delta, -1):.4f} < r < {min(r+delta, 1):.4f})\\\n",
    " накрывает генеральный коэффициент корреляции')"
   ]
  },
  {
   "cell_type": "markdown",
   "id": "80ebc382",
   "metadata": {},
   "source": [
    "##### Доверительные интервалы для коэффициентов регрессии"
   ]
  },
  {
   "cell_type": "markdown",
   "id": "2c61e334",
   "metadata": {},
   "source": [
    "**Для коэффициента A:**"
   ]
  },
  {
   "cell_type": "code",
   "execution_count": 176,
   "id": "ff9879ab",
   "metadata": {},
   "outputs": [
    {
     "name": "stdout",
     "output_type": "stream",
     "text": [
      "Точность оценки d = 0.01745226688721548\n"
     ]
    }
   ],
   "source": [
    "SE = mu_a\n",
    "delta = ty * SE\n",
    "print(f'Точность оценки d = {delta}')"
   ]
  },
  {
   "cell_type": "code",
   "execution_count": 177,
   "id": "dc6f4b87",
   "metadata": {},
   "outputs": [
    {
     "name": "stdout",
     "output_type": "stream",
     "text": [
      "Доверительный интервал:\n",
      "0.1015 < a < 0.1364\n"
     ]
    }
   ],
   "source": [
    "print(f'Доверительный интервал:\\n{al-delta:.4f} < a < {al+delta:.4f}')"
   ]
  },
  {
   "cell_type": "markdown",
   "id": "1d9428d7",
   "metadata": {},
   "source": [
    "*Встроенный метод:*"
   ]
  },
  {
   "cell_type": "code",
   "execution_count": 178,
   "id": "ae97c793",
   "metadata": {},
   "outputs": [
    {
     "name": "stdout",
     "output_type": "stream",
     "text": [
      "Доверительный интервал с надежностью y = 0.99:\n",
      "(0.10147032251975573, 0.1363748562941867)\n"
     ]
    }
   ],
   "source": [
    "print(f'Доверительный интервал с надежностью y = {y}:\\n{st.t.interval(y, n-2, al, SE)}')"
   ]
  },
  {
   "cell_type": "markdown",
   "id": "9626cac6",
   "metadata": {},
   "source": [
    "Вывод:"
   ]
  },
  {
   "cell_type": "code",
   "execution_count": 179,
   "id": "402c6cdb",
   "metadata": {},
   "outputs": [
    {
     "name": "stdout",
     "output_type": "stream",
     "text": [
      "С вероятностью 0.99 интервал (0.1015 < a < 0.1364) накрывает генеральный коэффициент A\n"
     ]
    }
   ],
   "source": [
    "print(f'С вероятностью {y} интервал\\\n",
    " ({al-delta:.4f} < a < {al+delta:.4f})\\\n",
    " накрывает генеральный коэффициент A')"
   ]
  },
  {
   "cell_type": "markdown",
   "id": "f5d8a1d8",
   "metadata": {},
   "source": [
    "**Для коэффициента B:**"
   ]
  },
  {
   "cell_type": "code",
   "execution_count": 180,
   "id": "0d7f5658",
   "metadata": {},
   "outputs": [
    {
     "name": "stdout",
     "output_type": "stream",
     "text": [
      "Точность оценки d = 1.2539345465688834\n"
     ]
    }
   ],
   "source": [
    "SE = mu_b\n",
    "delta = ty * SE\n",
    "print(f'Точность оценки d = {delta}')"
   ]
  },
  {
   "cell_type": "code",
   "execution_count": 181,
   "id": "f8edfee2",
   "metadata": {},
   "outputs": [
    {
     "name": "stdout",
     "output_type": "stream",
     "text": [
      "Доверительный интервал:\n",
      "6.4439 < b < 8.9518\n"
     ]
    }
   ],
   "source": [
    "print(f'Доверительный интервал:\\n{bl-delta:.4f} < b < {bl+delta:.4f}')"
   ]
  },
  {
   "cell_type": "markdown",
   "id": "eb55ef6a",
   "metadata": {},
   "source": [
    "*Встроенный метод:*"
   ]
  },
  {
   "cell_type": "code",
   "execution_count": 182,
   "id": "5d110540",
   "metadata": {},
   "outputs": [
    {
     "name": "stdout",
     "output_type": "stream",
     "text": [
      "Доверительный интервал с надежностью y = 0.99:\n",
      "(6.443915159180344, 8.951784252318111)\n"
     ]
    }
   ],
   "source": [
    "print(f'Доверительный интервал с надежностью y = {y}:\\n{st.t.interval(y, n-2, bl, SE)}')"
   ]
  },
  {
   "cell_type": "markdown",
   "id": "0a1208b7",
   "metadata": {},
   "source": [
    "Вывод:"
   ]
  },
  {
   "cell_type": "code",
   "execution_count": 183,
   "id": "a4e8694d",
   "metadata": {},
   "outputs": [
    {
     "name": "stdout",
     "output_type": "stream",
     "text": [
      "С вероятностью 0.99 интервал (6.4439 < b < 8.9518) накрывает генеральный коэффициент B\n"
     ]
    }
   ],
   "source": [
    "print(f'С вероятностью {y} интервал\\\n",
    " ({bl-delta:.4f} < b < {bl+delta:.4f})\\\n",
    " накрывает генеральный коэффициент B')"
   ]
  },
  {
   "cell_type": "markdown",
   "id": "0904c699",
   "metadata": {},
   "source": [
    "##### Доверительный интервал для точечного прогноза"
   ]
  },
  {
   "cell_type": "code",
   "execution_count": 184,
   "id": "11c2bbf3",
   "metadata": {},
   "outputs": [
    {
     "data": {
      "text/plain": [
       "20.77933454051606"
      ]
     },
     "execution_count": 184,
     "metadata": {},
     "output_type": "execute_result"
    }
   ],
   "source": [
    "X = 110\n",
    "Y = f_l(X)\n",
    "Y"
   ]
  },
  {
   "cell_type": "code",
   "execution_count": 185,
   "id": "fd76171f",
   "metadata": {},
   "outputs": [
    {
     "name": "stdout",
     "output_type": "stream",
     "text": [
      "Точность оценки d = 1.5570252255989872\n"
     ]
    }
   ],
   "source": [
    "# исходная формула:\n",
    "SE = se * np.sqrt(1 + 1/n + (X - mean_x)**2 / ((df['output'] - mean_x)**2).sum())\n",
    "delta = ty * SE\n",
    "print(f'Точность оценки d = {delta}')"
   ]
  },
  {
   "cell_type": "code",
   "execution_count": 186,
   "id": "1e5ccf3b",
   "metadata": {},
   "outputs": [
    {
     "name": "stdout",
     "output_type": "stream",
     "text": [
      "Точность оценки d = 1.5570252255989876\n"
     ]
    }
   ],
   "source": [
    "# преобразованная формула:\n",
    "SE = rmse_sklearn / std_x * np.sqrt((var_x * (n + 1) + (X - mean_x)**2) / (n - 2))\n",
    "delta = ty * SE\n",
    "print(f'Точность оценки d = {delta}')"
   ]
  },
  {
   "cell_type": "code",
   "execution_count": 187,
   "id": "849b8850",
   "metadata": {},
   "outputs": [
    {
     "name": "stdout",
     "output_type": "stream",
     "text": [
      "Доверительный интервал:\n",
      "19.2223 < Y < 22.3364\n"
     ]
    }
   ],
   "source": [
    "print(f'Доверительный интервал:\\n{Y-delta:.4f} < Y < {Y+delta:.4f}')"
   ]
  },
  {
   "cell_type": "markdown",
   "id": "2008f30c",
   "metadata": {},
   "source": [
    "*Встроенный метод:*"
   ]
  },
  {
   "cell_type": "code",
   "execution_count": 188,
   "id": "4bfeb486",
   "metadata": {},
   "outputs": [
    {
     "name": "stdout",
     "output_type": "stream",
     "text": [
      "Доверительный интервал с надежностью y = 0.99:\n",
      "(19.222309314917073, 22.33635976611505)\n"
     ]
    }
   ],
   "source": [
    "print(f'Доверительный интервал с надежностью y = {y}:\\n{st.t.interval(y, n-2, Y, SE)}')"
   ]
  },
  {
   "cell_type": "markdown",
   "id": "22eda20b",
   "metadata": {},
   "source": [
    "Вывод:"
   ]
  },
  {
   "cell_type": "code",
   "execution_count": 189,
   "id": "867ad2c5",
   "metadata": {},
   "outputs": [
    {
     "name": "stdout",
     "output_type": "stream",
     "text": [
      "С вероятностью 0.99 интервал (19.2223 < Y < 22.3364) накрывает истинное генеральное значение y при x = 110\n"
     ]
    }
   ],
   "source": [
    "print(f'С вероятностью {y} интервал\\\n",
    " ({Y-delta:.4f} < Y < {Y+delta:.4f})\\\n",
    " накрывает истинное генеральное значение y при x = {X}')"
   ]
  },
  {
   "cell_type": "markdown",
   "id": "512469fe",
   "metadata": {},
   "source": [
    "---"
   ]
  }
 ],
 "metadata": {
  "kernelspec": {
   "display_name": "Python 3 (ipykernel)",
   "language": "python",
   "name": "python3"
  },
  "language_info": {
   "codemirror_mode": {
    "name": "ipython",
    "version": 3
   },
   "file_extension": ".py",
   "mimetype": "text/x-python",
   "name": "python",
   "nbconvert_exporter": "python",
   "pygments_lexer": "ipython3",
   "version": "3.10.6"
  },
  "toc": {
   "base_numbering": 1,
   "nav_menu": {},
   "number_sections": true,
   "sideBar": true,
   "skip_h1_title": false,
   "title_cell": "Table of Contents",
   "title_sidebar": "Contents",
   "toc_cell": true,
   "toc_position": {
    "height": "calc(100% - 180px)",
    "left": "10px",
    "top": "150px",
    "width": "426.667px"
   },
   "toc_section_display": true,
   "toc_window_display": true
  },
  "varInspector": {
   "cols": {
    "lenName": 16,
    "lenType": 16,
    "lenVar": 40
   },
   "kernels_config": {
    "python": {
     "delete_cmd_postfix": "",
     "delete_cmd_prefix": "del ",
     "library": "var_list.py",
     "varRefreshCmd": "print(var_dic_list())"
    },
    "r": {
     "delete_cmd_postfix": ") ",
     "delete_cmd_prefix": "rm(",
     "library": "var_list.r",
     "varRefreshCmd": "cat(var_dic_list()) "
    }
   },
   "position": {
    "height": "696.85px",
    "left": "1774.23px",
    "right": "20px",
    "top": "120px",
    "width": "349.767px"
   },
   "types_to_exclude": [
    "module",
    "function",
    "builtin_function_or_method",
    "instance",
    "_Feature"
   ],
   "window_display": false
  }
 },
 "nbformat": 4,
 "nbformat_minor": 5
}
