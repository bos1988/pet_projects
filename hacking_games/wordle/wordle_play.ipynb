{
 "cells": [
  {
   "cell_type": "markdown",
   "id": "54ca2a2d",
   "metadata": {},
   "source": [
    "# Игра на победу в игре Wordle (5 Букв)"
   ]
  },
  {
   "cell_type": "markdown",
   "id": "aadaf311",
   "metadata": {},
   "source": [
    "## Подготовка"
   ]
  },
  {
   "cell_type": "code",
   "execution_count": 1,
   "id": "a4b23e8d",
   "metadata": {},
   "outputs": [],
   "source": [
    "import pandas as pd\n",
    "from collections import Counter"
   ]
  },
  {
   "cell_type": "code",
   "execution_count": 2,
   "id": "01f3d6c7",
   "metadata": {},
   "outputs": [],
   "source": [
    "words = pd.read_csv('russian_nouns_e.txt')"
   ]
  },
  {
   "cell_type": "code",
   "execution_count": 3,
   "id": "218fc7a9",
   "metadata": {},
   "outputs": [],
   "source": [
    "words['len'] = words['word'].apply(lambda x: len(x))\n",
    "words_5 = words.query('len == 5').reset_index(drop=True)\n",
    "words_5 = words_5[words_5['word'].str.count('-') == 0]\n",
    "for i in range(5):\n",
    "    words_5[f'l{i+1}'] = words_5['word'].apply(lambda x: 'е' if x[i] == 'ё' else x[i])"
   ]
  },
  {
   "cell_type": "code",
   "execution_count": 4,
   "id": "d514a2a8",
   "metadata": {},
   "outputs": [],
   "source": [
    "words_5_cl = words_5.copy()\n",
    "words_5_cl['n_unic'] = words_5_cl['word'].apply(lambda x: len(set(x)))\n",
    "words_5_cl = words_5_cl.query('len == n_unic')\n",
    "words_5_cl = words_5_cl.reset_index(drop=True)"
   ]
  },
  {
   "cell_type": "code",
   "execution_count": 5,
   "id": "aee3e989",
   "metadata": {},
   "outputs": [
    {
     "data": {
      "text/html": [
       "<div>\n",
       "<style scoped>\n",
       "    .dataframe tbody tr th:only-of-type {\n",
       "        vertical-align: middle;\n",
       "    }\n",
       "\n",
       "    .dataframe tbody tr th {\n",
       "        vertical-align: top;\n",
       "    }\n",
       "\n",
       "    .dataframe thead th {\n",
       "        text-align: right;\n",
       "    }\n",
       "</style>\n",
       "<table border=\"1\" class=\"dataframe\">\n",
       "  <thead>\n",
       "    <tr style=\"text-align: right;\">\n",
       "      <th></th>\n",
       "      <th>word</th>\n",
       "      <th>len</th>\n",
       "      <th>l1</th>\n",
       "      <th>l2</th>\n",
       "      <th>l3</th>\n",
       "      <th>l4</th>\n",
       "      <th>l5</th>\n",
       "      <th>n_unic</th>\n",
       "    </tr>\n",
       "  </thead>\n",
       "  <tbody>\n",
       "    <tr>\n",
       "      <th>0</th>\n",
       "      <td>абвер</td>\n",
       "      <td>5</td>\n",
       "      <td>а</td>\n",
       "      <td>б</td>\n",
       "      <td>в</td>\n",
       "      <td>е</td>\n",
       "      <td>р</td>\n",
       "      <td>5</td>\n",
       "    </tr>\n",
       "    <tr>\n",
       "      <th>1</th>\n",
       "      <td>аборт</td>\n",
       "      <td>5</td>\n",
       "      <td>а</td>\n",
       "      <td>б</td>\n",
       "      <td>о</td>\n",
       "      <td>р</td>\n",
       "      <td>т</td>\n",
       "      <td>5</td>\n",
       "    </tr>\n",
       "    <tr>\n",
       "      <th>2</th>\n",
       "      <td>абрек</td>\n",
       "      <td>5</td>\n",
       "      <td>а</td>\n",
       "      <td>б</td>\n",
       "      <td>р</td>\n",
       "      <td>е</td>\n",
       "      <td>к</td>\n",
       "      <td>5</td>\n",
       "    </tr>\n",
       "    <tr>\n",
       "      <th>3</th>\n",
       "      <td>абрис</td>\n",
       "      <td>5</td>\n",
       "      <td>а</td>\n",
       "      <td>б</td>\n",
       "      <td>р</td>\n",
       "      <td>и</td>\n",
       "      <td>с</td>\n",
       "      <td>5</td>\n",
       "    </tr>\n",
       "    <tr>\n",
       "      <th>4</th>\n",
       "      <td>абцуг</td>\n",
       "      <td>5</td>\n",
       "      <td>а</td>\n",
       "      <td>б</td>\n",
       "      <td>ц</td>\n",
       "      <td>у</td>\n",
       "      <td>г</td>\n",
       "      <td>5</td>\n",
       "    </tr>\n",
       "    <tr>\n",
       "      <th>...</th>\n",
       "      <td>...</td>\n",
       "      <td>...</td>\n",
       "      <td>...</td>\n",
       "      <td>...</td>\n",
       "      <td>...</td>\n",
       "      <td>...</td>\n",
       "      <td>...</td>\n",
       "      <td>...</td>\n",
       "    </tr>\n",
       "    <tr>\n",
       "      <th>2451</th>\n",
       "      <td>яство</td>\n",
       "      <td>5</td>\n",
       "      <td>я</td>\n",
       "      <td>с</td>\n",
       "      <td>т</td>\n",
       "      <td>в</td>\n",
       "      <td>о</td>\n",
       "      <td>5</td>\n",
       "    </tr>\n",
       "    <tr>\n",
       "      <th>2452</th>\n",
       "      <td>ястык</td>\n",
       "      <td>5</td>\n",
       "      <td>я</td>\n",
       "      <td>с</td>\n",
       "      <td>т</td>\n",
       "      <td>ы</td>\n",
       "      <td>к</td>\n",
       "      <td>5</td>\n",
       "    </tr>\n",
       "    <tr>\n",
       "      <th>2453</th>\n",
       "      <td>ясырь</td>\n",
       "      <td>5</td>\n",
       "      <td>я</td>\n",
       "      <td>с</td>\n",
       "      <td>ы</td>\n",
       "      <td>р</td>\n",
       "      <td>ь</td>\n",
       "      <td>5</td>\n",
       "    </tr>\n",
       "    <tr>\n",
       "      <th>2454</th>\n",
       "      <td>ятовь</td>\n",
       "      <td>5</td>\n",
       "      <td>я</td>\n",
       "      <td>т</td>\n",
       "      <td>о</td>\n",
       "      <td>в</td>\n",
       "      <td>ь</td>\n",
       "      <td>5</td>\n",
       "    </tr>\n",
       "    <tr>\n",
       "      <th>2455</th>\n",
       "      <td>яхонт</td>\n",
       "      <td>5</td>\n",
       "      <td>я</td>\n",
       "      <td>х</td>\n",
       "      <td>о</td>\n",
       "      <td>н</td>\n",
       "      <td>т</td>\n",
       "      <td>5</td>\n",
       "    </tr>\n",
       "  </tbody>\n",
       "</table>\n",
       "<p>2456 rows × 8 columns</p>\n",
       "</div>"
      ],
      "text/plain": [
       "       word  len l1 l2 l3 l4 l5  n_unic\n",
       "0     абвер    5  а  б  в  е  р       5\n",
       "1     аборт    5  а  б  о  р  т       5\n",
       "2     абрек    5  а  б  р  е  к       5\n",
       "3     абрис    5  а  б  р  и  с       5\n",
       "4     абцуг    5  а  б  ц  у  г       5\n",
       "...     ...  ... .. .. .. .. ..     ...\n",
       "2451  яство    5  я  с  т  в  о       5\n",
       "2452  ястык    5  я  с  т  ы  к       5\n",
       "2453  ясырь    5  я  с  ы  р  ь       5\n",
       "2454  ятовь    5  я  т  о  в  ь       5\n",
       "2455  яхонт    5  я  х  о  н  т       5\n",
       "\n",
       "[2456 rows x 8 columns]"
      ]
     },
     "execution_count": 5,
     "metadata": {},
     "output_type": "execute_result"
    }
   ],
   "source": [
    "words_5_cl"
   ]
  },
  {
   "cell_type": "markdown",
   "id": "2a96291b",
   "metadata": {},
   "source": [
    "## Игра"
   ]
  },
  {
   "cell_type": "markdown",
   "id": "68742111",
   "metadata": {},
   "source": [
    "В игре `Wodrle` (`5 букв`) вводим по очереди слова:\n",
    "- **дочка**\n",
    "- **тембр**\n",
    "- **жизнь**\n",
    "- **гуляш**\n",
    "- **вспых**\n",
    "\n",
    "Необязательно все, до тех пор пока не определится 3-4 буквы, входящие в загаданное слово.\n",
    "\n",
    "Затем вводим буквы, содержащиеся в искомом слове, в переменную **search**, а не содержащиеся - в переменную **minus**.\n",
    "\n",
    "Выбираем слово из подходящий вариантов (для слов с повтором букв или без повторов в зависимости от игры).\n",
    "\n",
    "> Можно введя 1-2 слова просмотреть варианты и подобрать наиболее удачное влово из набора (дочка, тембр, жизнь, гуляш, вспых) для отсечения большего количества вариантов"
   ]
  },
  {
   "cell_type": "code",
   "execution_count": 6,
   "id": "194b2184",
   "metadata": {},
   "outputs": [],
   "source": [
    "search = 'оабрз'\n",
    "minus = 'дчктемжинь'\n",
    "# 'дочкатембржизньгуляшвспых'"
   ]
  },
  {
   "cell_type": "code",
   "execution_count": 7,
   "id": "392f572b",
   "metadata": {},
   "outputs": [],
   "source": [
    "search = 'оабр'\n",
    "minus = 'дчктем'\n",
    "# 'дочкатембржизньгуляшвспых'"
   ]
  },
  {
   "cell_type": "code",
   "execution_count": 8,
   "id": "7a5ce39c",
   "metadata": {},
   "outputs": [
    {
     "name": "stdout",
     "output_type": "stream",
     "text": [
      "Варианты слов для слов без посторов букв:\n",
      "55      аэроб\n",
      "58      багор\n",
      "72      барон\n",
      "137     браво\n",
      "586     забор\n",
      "1135    набор\n",
      "1241    образ\n",
      "1513    проба\n",
      "1620    ройба\n",
      "1697    сбора\n",
      "Name: word, dtype: object\n",
      "\n",
      "Количество букв:\n",
      "Counter({'а': 10, 'р': 10, 'о': 10, 'б': 10, 'н': 2, 'з': 2, 'э': 1, 'г': 1, 'в': 1, 'п': 1, 'й': 1, 'с': 1})\n"
     ]
    }
   ],
   "source": [
    "print('Варианты слов для слов без посторов букв:')\n",
    "w_cl = words_5_cl[(words_5_cl['word'].apply(lambda x: set(x)) >= set(search)) & (words_5_cl['word'].apply(lambda x: set(x).isdisjoint(set(minus))))]['word']\n",
    "\n",
    "print(w_cl)\n",
    "\n",
    "print('\\nКоличество букв:')\n",
    "print(Counter(list(w_cl.sum())))"
   ]
  },
  {
   "cell_type": "code",
   "execution_count": 9,
   "id": "ffb56498",
   "metadata": {},
   "outputs": [
    {
     "name": "stdout",
     "output_type": "stream",
     "text": [
      "Варианты слов для слов с постором букв:\n",
      "106     аэроб\n",
      "113     багор\n",
      "142     барон\n",
      "232     браво\n",
      "823     забор\n",
      "1637    набор\n",
      "1791    образ\n",
      "2225    проба\n",
      "2362    ройба\n",
      "2471    сбора\n",
      "Name: word, dtype: object\n",
      "\n",
      "Количество букв:\n",
      "Counter({'а': 10, 'р': 10, 'о': 10, 'б': 10, 'н': 2, 'з': 2, 'э': 1, 'г': 1, 'в': 1, 'п': 1, 'й': 1, 'с': 1})\n"
     ]
    }
   ],
   "source": [
    "print('Варианты слов для слов с постором букв:')\n",
    "w = words_5[(words_5['word'].apply(lambda x: set(x)) >= set(search)) & (words_5['word'].apply(lambda x: set(x).isdisjoint(set(minus))))]['word']\n",
    "\n",
    "print(w)\n",
    "\n",
    "print('\\nКоличество букв:')\n",
    "print(Counter(list(w.sum())))"
   ]
  },
  {
   "cell_type": "code",
   "execution_count": null,
   "id": "37e4cd87",
   "metadata": {},
   "outputs": [],
   "source": []
  }
 ],
 "metadata": {
  "kernelspec": {
   "display_name": "Python 3 (ipykernel)",
   "language": "python",
   "name": "python3"
  },
  "language_info": {
   "codemirror_mode": {
    "name": "ipython",
    "version": 3
   },
   "file_extension": ".py",
   "mimetype": "text/x-python",
   "name": "python",
   "nbconvert_exporter": "python",
   "pygments_lexer": "ipython3",
   "version": "3.9.7"
  },
  "toc": {
   "base_numbering": 1,
   "nav_menu": {},
   "number_sections": true,
   "sideBar": true,
   "skip_h1_title": false,
   "title_cell": "Table of Contents",
   "title_sidebar": "Contents",
   "toc_cell": false,
   "toc_position": {},
   "toc_section_display": true,
   "toc_window_display": false
  },
  "varInspector": {
   "cols": {
    "lenName": 16,
    "lenType": 16,
    "lenVar": 40
   },
   "kernels_config": {
    "python": {
     "delete_cmd_postfix": "",
     "delete_cmd_prefix": "del ",
     "library": "var_list.py",
     "varRefreshCmd": "print(var_dic_list())"
    },
    "r": {
     "delete_cmd_postfix": ") ",
     "delete_cmd_prefix": "rm(",
     "library": "var_list.r",
     "varRefreshCmd": "cat(var_dic_list()) "
    }
   },
   "types_to_exclude": [
    "module",
    "function",
    "builtin_function_or_method",
    "instance",
    "_Feature"
   ],
   "window_display": false
  }
 },
 "nbformat": 4,
 "nbformat_minor": 5
}
