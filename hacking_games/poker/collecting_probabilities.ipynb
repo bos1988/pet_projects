{
 "cells": [
  {
   "cell_type": "markdown",
   "metadata": {
    "hide_input": false
   },
   "source": [
    "# Подгружаемые библиотеки"
   ]
  },
  {
   "cell_type": "markdown",
   "metadata": {},
   "source": [
    "Работа с данными"
   ]
  },
  {
   "cell_type": "code",
   "execution_count": 1,
   "metadata": {
    "pycharm": {
     "name": "#%%\n"
    }
   },
   "outputs": [],
   "source": [
    "import pandas as pd\n",
    "# import numpy as np"
   ]
  },
  {
   "cell_type": "markdown",
   "metadata": {},
   "source": [
    "Прогресс"
   ]
  },
  {
   "cell_type": "code",
   "execution_count": 2,
   "metadata": {},
   "outputs": [],
   "source": [
    "# import time\n",
    "from ipywidgets import IntProgress"
   ]
  },
  {
   "cell_type": "markdown",
   "metadata": {},
   "source": [
    "Специальные функции"
   ]
  },
  {
   "cell_type": "code",
   "execution_count": 3,
   "metadata": {},
   "outputs": [],
   "source": [
    "from func_poker import probability_combination"
   ]
  },
  {
   "cell_type": "markdown",
   "metadata": {},
   "source": [
    "# Пробный вариант"
   ]
  },
  {
   "cell_type": "markdown",
   "metadata": {},
   "source": [
    "Проверка работы функции на датафрейме"
   ]
  },
  {
   "cell_type": "code",
   "execution_count": 4,
   "metadata": {},
   "outputs": [
    {
     "data": {
      "application/vnd.jupyter.widget-view+json": {
       "model_id": "a7c96cd8ebea4ca9b98f657657336f75",
       "version_major": 2,
       "version_minor": 0
      },
      "text/plain": [
       "IntProgress(value=0, max=9)"
      ]
     },
     "metadata": {},
     "output_type": "display_data"
    },
    {
     "name": "stdout",
     "output_type": "stream",
     "text": [
      "Wall time: 3min 28s\n"
     ]
    }
   ],
   "source": [
    "%%time\n",
    "c = [\n",
    "    'High_Card',\n",
    "    'Pair',\n",
    "    'Two_Pair',\n",
    "    'Three_of_a_Kind',\n",
    "    'Straight',\n",
    "    'Flush',\n",
    "    'Full_House',\n",
    "    'Four_of_a_Kind',\n",
    "    'Straight_Flush',\n",
    "]\n",
    "prgBar = IntProgress(min = 0, max = 9) # Создаем прогрессбар\n",
    "display(prgBar) # Выводим прогрессбар на экран\n",
    "    \n",
    "table = []\n",
    "# sample = ['C5', 'B5']\n",
    "sample = ['A10', 'A14']\n",
    "for i in c:\n",
    "    res = probability_combination(sample,\n",
    "                                  combinations=[i],\n",
    "                                  n_cards=5)\n",
    "    table.append([i, res[1] / res[0] * 100])\n",
    "    prgBar.value += 1\n",
    "table_df = pd.DataFrame(table)"
   ]
  },
  {
   "cell_type": "code",
   "execution_count": 5,
   "metadata": {},
   "outputs": [],
   "source": [
    "table_df['ones_and_best'] = (table_df[1].cumsum() - 100).abs().round(2).shift(fill_value=100)"
   ]
  },
  {
   "cell_type": "code",
   "execution_count": 9,
   "metadata": {},
   "outputs": [
    {
     "data": {
      "text/html": [
       "<div>\n",
       "<style scoped>\n",
       "    .dataframe tbody tr th:only-of-type {\n",
       "        vertical-align: middle;\n",
       "    }\n",
       "\n",
       "    .dataframe tbody tr th {\n",
       "        vertical-align: top;\n",
       "    }\n",
       "\n",
       "    .dataframe thead th {\n",
       "        text-align: right;\n",
       "    }\n",
       "</style>\n",
       "<table border=\"1\" class=\"dataframe\">\n",
       "  <thead>\n",
       "    <tr style=\"text-align: right;\">\n",
       "      <th></th>\n",
       "      <th>0</th>\n",
       "      <th>1</th>\n",
       "      <th>ones_and_best</th>\n",
       "    </tr>\n",
       "  </thead>\n",
       "  <tbody>\n",
       "    <tr>\n",
       "      <th>0</th>\n",
       "      <td>High_Card</td>\n",
       "      <td>0.000000</td>\n",
       "      <td>100.00</td>\n",
       "    </tr>\n",
       "    <tr>\n",
       "      <th>1</th>\n",
       "      <td>Pair</td>\n",
       "      <td>35.137533</td>\n",
       "      <td>100.00</td>\n",
       "    </tr>\n",
       "    <tr>\n",
       "      <th>2</th>\n",
       "      <td>Two_Pair</td>\n",
       "      <td>39.453265</td>\n",
       "      <td>64.86</td>\n",
       "    </tr>\n",
       "    <tr>\n",
       "      <th>3</th>\n",
       "      <td>Three_of_a_Kind</td>\n",
       "      <td>11.702128</td>\n",
       "      <td>25.41</td>\n",
       "    </tr>\n",
       "    <tr>\n",
       "      <th>4</th>\n",
       "      <td>Straight</td>\n",
       "      <td>2.345240</td>\n",
       "      <td>13.71</td>\n",
       "    </tr>\n",
       "    <tr>\n",
       "      <th>5</th>\n",
       "      <td>Flush</td>\n",
       "      <td>1.947271</td>\n",
       "      <td>11.36</td>\n",
       "    </tr>\n",
       "    <tr>\n",
       "      <th>6</th>\n",
       "      <td>Full_House</td>\n",
       "      <td>8.547641</td>\n",
       "      <td>9.41</td>\n",
       "    </tr>\n",
       "    <tr>\n",
       "      <th>7</th>\n",
       "      <td>Four_of_a_Kind</td>\n",
       "      <td>0.842380</td>\n",
       "      <td>0.87</td>\n",
       "    </tr>\n",
       "    <tr>\n",
       "      <th>8</th>\n",
       "      <td>Straight_Flush</td>\n",
       "      <td>0.024543</td>\n",
       "      <td>0.02</td>\n",
       "    </tr>\n",
       "  </tbody>\n",
       "</table>\n",
       "</div>"
      ],
      "text/plain": [
       "                 0          1  ones_and_best\n",
       "0        High_Card   0.000000         100.00\n",
       "1             Pair  35.137533         100.00\n",
       "2         Two_Pair  39.453265          64.86\n",
       "3  Three_of_a_Kind  11.702128          25.41\n",
       "4         Straight   2.345240          13.71\n",
       "5            Flush   1.947271          11.36\n",
       "6       Full_House   8.547641           9.41\n",
       "7   Four_of_a_Kind   0.842380           0.87\n",
       "8   Straight_Flush   0.024543           0.02"
      ]
     },
     "execution_count": 9,
     "metadata": {},
     "output_type": "execute_result"
    }
   ],
   "source": [
    "# sample = ['C5', 'B5']\n",
    "table_df"
   ]
  },
  {
   "cell_type": "code",
   "execution_count": 6,
   "metadata": {},
   "outputs": [
    {
     "data": {
      "text/html": [
       "<div>\n",
       "<style scoped>\n",
       "    .dataframe tbody tr th:only-of-type {\n",
       "        vertical-align: middle;\n",
       "    }\n",
       "\n",
       "    .dataframe tbody tr th {\n",
       "        vertical-align: top;\n",
       "    }\n",
       "\n",
       "    .dataframe thead th {\n",
       "        text-align: right;\n",
       "    }\n",
       "</style>\n",
       "<table border=\"1\" class=\"dataframe\">\n",
       "  <thead>\n",
       "    <tr style=\"text-align: right;\">\n",
       "      <th></th>\n",
       "      <th>0</th>\n",
       "      <th>1</th>\n",
       "      <th>ones_and_best</th>\n",
       "    </tr>\n",
       "  </thead>\n",
       "  <tbody>\n",
       "    <tr>\n",
       "      <th>0</th>\n",
       "      <td>High_Card</td>\n",
       "      <td>17.576554</td>\n",
       "      <td>100.00</td>\n",
       "    </tr>\n",
       "    <tr>\n",
       "      <th>1</th>\n",
       "      <td>Pair</td>\n",
       "      <td>42.865072</td>\n",
       "      <td>82.42</td>\n",
       "    </tr>\n",
       "    <tr>\n",
       "      <th>2</th>\n",
       "      <td>Two_Pair</td>\n",
       "      <td>22.139931</td>\n",
       "      <td>39.56</td>\n",
       "    </tr>\n",
       "    <tr>\n",
       "      <th>3</th>\n",
       "      <td>Three_of_a_Kind</td>\n",
       "      <td>4.342351</td>\n",
       "      <td>17.42</td>\n",
       "    </tr>\n",
       "    <tr>\n",
       "      <th>4</th>\n",
       "      <td>Straight</td>\n",
       "      <td>4.143980</td>\n",
       "      <td>13.08</td>\n",
       "    </tr>\n",
       "    <tr>\n",
       "      <th>5</th>\n",
       "      <td>Flush</td>\n",
       "      <td>6.504842</td>\n",
       "      <td>8.93</td>\n",
       "    </tr>\n",
       "    <tr>\n",
       "      <th>6</th>\n",
       "      <td>Full_House</td>\n",
       "      <td>2.224131</td>\n",
       "      <td>2.43</td>\n",
       "    </tr>\n",
       "    <tr>\n",
       "      <th>7</th>\n",
       "      <td>Four_of_a_Kind</td>\n",
       "      <td>0.125923</td>\n",
       "      <td>0.20</td>\n",
       "    </tr>\n",
       "    <tr>\n",
       "      <th>8</th>\n",
       "      <td>Straight_Flush</td>\n",
       "      <td>0.077215</td>\n",
       "      <td>0.08</td>\n",
       "    </tr>\n",
       "  </tbody>\n",
       "</table>\n",
       "</div>"
      ],
      "text/plain": [
       "                 0          1  ones_and_best\n",
       "0        High_Card  17.576554         100.00\n",
       "1             Pair  42.865072          82.42\n",
       "2         Two_Pair  22.139931          39.56\n",
       "3  Three_of_a_Kind   4.342351          17.42\n",
       "4         Straight   4.143980          13.08\n",
       "5            Flush   6.504842           8.93\n",
       "6       Full_House   2.224131           2.43\n",
       "7   Four_of_a_Kind   0.125923           0.20\n",
       "8   Straight_Flush   0.077215           0.08"
      ]
     },
     "execution_count": 6,
     "metadata": {},
     "output_type": "execute_result"
    }
   ],
   "source": [
    "# sample = ['A10', 'A14']\n",
    "table_df"
   ]
  },
  {
   "cell_type": "markdown",
   "metadata": {},
   "source": [
    "---"
   ]
  },
  {
   "cell_type": "markdown",
   "metadata": {},
   "source": [
    "# Запись в файл"
   ]
  },
  {
   "cell_type": "markdown",
   "metadata": {},
   "source": [
    "Основная функция"
   ]
  },
  {
   "cell_type": "code",
   "execution_count": 7,
   "metadata": {},
   "outputs": [],
   "source": [
    "def write_probability(sample, file):\n",
    "    c = [\n",
    "        'High_Card',\n",
    "        'Pair',\n",
    "        'Two_Pair',\n",
    "        'Three_of_a_Kind',\n",
    "        'Straight',\n",
    "        'Flush',\n",
    "        'Full_House',\n",
    "        'Four_of_a_Kind',\n",
    "        'Straight_Flush',\n",
    "    ]\n",
    "    ranks = {'2':'2','3':'3','4':'4','5':'5','6':'6','7':'7','8':'8','9':'9','10':'T','11':'J','12':'Q','13':'K','14':'A'}\n",
    "    \n",
    "    prgBar = IntProgress(min = 0, max = 9) # Создаем прогрессбар\n",
    "    display(prgBar) # Выводим прогрессбар на экран\n",
    "    \n",
    "    sub_name = 's' if sample[0][0] == sample[1][0] else ''\n",
    "    cards_name = ranks[sample[0][1:]] + ',' + ranks[sample[1][1:]] + sub_name\n",
    "    with open(file, mode='a') as output:\n",
    "        print(cards_name, end=',', file=output)\n",
    "    table = []\n",
    "    for i in c:\n",
    "        res = probability_combination(sample,\n",
    "                                      combinations=[i],\n",
    "                                      n_cards=5)\n",
    "        table.append(f'{res[1] / res[0]:.5f}')\n",
    "        prgBar.value += 1\n",
    "    with open(file, mode='a') as output:\n",
    "        print(*table, sep=',', file=output)"
   ]
  },
  {
   "cell_type": "markdown",
   "metadata": {},
   "source": [
    "Перебор вариантов сочетаний карт"
   ]
  },
  {
   "cell_type": "markdown",
   "metadata": {},
   "source": [
    "Разномастные:"
   ]
  },
  {
   "cell_type": "code",
   "execution_count": 8,
   "metadata": {
    "scrolled": true
   },
   "outputs": [
    {
     "name": "stdout",
     "output_type": "stream",
     "text": [
      "['A14', 'B14']\n",
      "['A14', 'B13']\n",
      "['A14', 'B12']\n",
      "['A14', 'B11']\n",
      "['A14', 'B10']\n",
      "['A14', 'B9']\n",
      "['A14', 'B8']\n",
      "['A14', 'B7']\n",
      "['A14', 'B6']\n",
      "['A14', 'B5']\n",
      "['A14', 'B4']\n",
      "['A14', 'B3']\n",
      "['A14', 'B2']\n",
      "['A13', 'B13']\n",
      "['A13', 'B12']\n",
      "['A13', 'B11']\n",
      "['A13', 'B10']\n",
      "['A13', 'B9']\n",
      "['A13', 'B8']\n",
      "['A13', 'B7']\n",
      "['A13', 'B6']\n",
      "['A13', 'B5']\n",
      "['A13', 'B4']\n",
      "['A13', 'B3']\n",
      "['A13', 'B2']\n",
      "['A12', 'B12']\n",
      "['A12', 'B11']\n",
      "['A12', 'B10']\n",
      "['A12', 'B9']\n",
      "['A12', 'B8']\n",
      "['A12', 'B7']\n",
      "['A12', 'B6']\n",
      "['A12', 'B5']\n",
      "['A12', 'B4']\n",
      "['A12', 'B3']\n",
      "['A12', 'B2']\n",
      "['A11', 'B11']\n",
      "['A11', 'B10']\n",
      "['A11', 'B9']\n",
      "['A11', 'B8']\n",
      "['A11', 'B7']\n",
      "['A11', 'B6']\n",
      "['A11', 'B5']\n",
      "['A11', 'B4']\n",
      "['A11', 'B3']\n",
      "['A11', 'B2']\n",
      "['A10', 'B10']\n",
      "['A10', 'B9']\n",
      "['A10', 'B8']\n",
      "['A10', 'B7']\n",
      "['A10', 'B6']\n",
      "['A10', 'B5']\n",
      "['A10', 'B4']\n",
      "['A10', 'B3']\n",
      "['A10', 'B2']\n",
      "['A9', 'B9']\n",
      "['A9', 'B8']\n",
      "['A9', 'B7']\n",
      "['A9', 'B6']\n",
      "['A9', 'B5']\n",
      "['A9', 'B4']\n",
      "['A9', 'B3']\n",
      "['A9', 'B2']\n",
      "['A8', 'B8']\n",
      "['A8', 'B7']\n",
      "['A8', 'B6']\n",
      "['A8', 'B5']\n",
      "['A8', 'B4']\n",
      "['A8', 'B3']\n",
      "['A8', 'B2']\n",
      "['A7', 'B7']\n",
      "['A7', 'B6']\n",
      "['A7', 'B5']\n",
      "['A7', 'B4']\n",
      "['A7', 'B3']\n",
      "['A7', 'B2']\n",
      "['A6', 'B6']\n",
      "['A6', 'B5']\n",
      "['A6', 'B4']\n",
      "['A6', 'B3']\n",
      "['A6', 'B2']\n",
      "['A5', 'B5']\n",
      "['A5', 'B4']\n",
      "['A5', 'B3']\n",
      "['A5', 'B2']\n",
      "['A4', 'B4']\n",
      "['A4', 'B3']\n",
      "['A4', 'B2']\n",
      "['A3', 'B3']\n",
      "['A3', 'B2']\n",
      "['A2', 'B2']\n",
      "91\n"
     ]
    }
   ],
   "source": [
    "count = 0\n",
    "for i in range(14, 1, -1):\n",
    "    for j in range(i, 1, -1):\n",
    "        sample = [f'A{i}', f'B{j}']\n",
    "        print(sample)\n",
    "        count += 1\n",
    "print(count)"
   ]
  },
  {
   "cell_type": "markdown",
   "metadata": {},
   "source": [
    "Одномастные:"
   ]
  },
  {
   "cell_type": "code",
   "execution_count": 9,
   "metadata": {
    "scrolled": true
   },
   "outputs": [
    {
     "name": "stdout",
     "output_type": "stream",
     "text": [
      "['A14', 'A13']\n",
      "['A14', 'A12']\n",
      "['A14', 'A11']\n",
      "['A14', 'A10']\n",
      "['A14', 'A9']\n",
      "['A14', 'A8']\n",
      "['A14', 'A7']\n",
      "['A14', 'A6']\n",
      "['A14', 'A5']\n",
      "['A14', 'A4']\n",
      "['A14', 'A3']\n",
      "['A14', 'A2']\n",
      "['A13', 'A12']\n",
      "['A13', 'A11']\n",
      "['A13', 'A10']\n",
      "['A13', 'A9']\n",
      "['A13', 'A8']\n",
      "['A13', 'A7']\n",
      "['A13', 'A6']\n",
      "['A13', 'A5']\n",
      "['A13', 'A4']\n",
      "['A13', 'A3']\n",
      "['A13', 'A2']\n",
      "['A12', 'A11']\n",
      "['A12', 'A10']\n",
      "['A12', 'A9']\n",
      "['A12', 'A8']\n",
      "['A12', 'A7']\n",
      "['A12', 'A6']\n",
      "['A12', 'A5']\n",
      "['A12', 'A4']\n",
      "['A12', 'A3']\n",
      "['A12', 'A2']\n",
      "['A11', 'A10']\n",
      "['A11', 'A9']\n",
      "['A11', 'A8']\n",
      "['A11', 'A7']\n",
      "['A11', 'A6']\n",
      "['A11', 'A5']\n",
      "['A11', 'A4']\n",
      "['A11', 'A3']\n",
      "['A11', 'A2']\n",
      "['A10', 'A9']\n",
      "['A10', 'A8']\n",
      "['A10', 'A7']\n",
      "['A10', 'A6']\n",
      "['A10', 'A5']\n",
      "['A10', 'A4']\n",
      "['A10', 'A3']\n",
      "['A10', 'A2']\n",
      "['A9', 'A8']\n",
      "['A9', 'A7']\n",
      "['A9', 'A6']\n",
      "['A9', 'A5']\n",
      "['A9', 'A4']\n",
      "['A9', 'A3']\n",
      "['A9', 'A2']\n",
      "['A8', 'A7']\n",
      "['A8', 'A6']\n",
      "['A8', 'A5']\n",
      "['A8', 'A4']\n",
      "['A8', 'A3']\n",
      "['A8', 'A2']\n",
      "['A7', 'A6']\n",
      "['A7', 'A5']\n",
      "['A7', 'A4']\n",
      "['A7', 'A3']\n",
      "['A7', 'A2']\n",
      "['A6', 'A5']\n",
      "['A6', 'A4']\n",
      "['A6', 'A3']\n",
      "['A6', 'A2']\n",
      "['A5', 'A4']\n",
      "['A5', 'A3']\n",
      "['A5', 'A2']\n",
      "['A4', 'A3']\n",
      "['A4', 'A2']\n",
      "['A3', 'A2']\n",
      "78\n"
     ]
    }
   ],
   "source": [
    "count = 0\n",
    "for i in range(14, 1, -1):\n",
    "    for j in range(i-1, 1, -1):\n",
    "        sample = [f'A{i}', f'A{j}']\n",
    "        print(sample)\n",
    "        count += 1\n",
    "print(count)"
   ]
  },
  {
   "cell_type": "markdown",
   "metadata": {},
   "source": [
    "Основной код записи:"
   ]
  },
  {
   "cell_type": "markdown",
   "metadata": {},
   "source": [
    "Разномастные:"
   ]
  },
  {
   "cell_type": "code",
   "execution_count": 10,
   "metadata": {
    "scrolled": true
   },
   "outputs": [],
   "source": [
    "# count = 1\n",
    "# for i in range(14, 1, -1):\n",
    "#     for j in range(i, 1, -1):\n",
    "#         print(count)\n",
    "#         sample = [f'A{i}', f'B{j}']\n",
    "#         write_probability(sample, 'probabilities.csv')\n",
    "#         count += 1"
   ]
  },
  {
   "cell_type": "markdown",
   "metadata": {},
   "source": [
    "Одномастные:"
   ]
  },
  {
   "cell_type": "code",
   "execution_count": 11,
   "metadata": {},
   "outputs": [],
   "source": [
    "# count = 1\n",
    "# for i in range(14, 1, -1):\n",
    "#     for j in range(i-1, 1, -1):\n",
    "#         print(count)\n",
    "#         sample = [f'A{i}', f'A{j}']\n",
    "#         write_probability(sample, 'probabilities.csv')\n",
    "#         count += 1"
   ]
  },
  {
   "cell_type": "markdown",
   "metadata": {},
   "source": [
    "тест:"
   ]
  },
  {
   "cell_type": "code",
   "execution_count": 12,
   "metadata": {},
   "outputs": [
    {
     "data": {
      "application/vnd.jupyter.widget-view+json": {
       "model_id": "54a58d754b6f48c2aedf792f23a4ce87",
       "version_major": 2,
       "version_minor": 0
      },
      "text/plain": [
       "IntProgress(value=0, max=9)"
      ]
     },
     "metadata": {},
     "output_type": "display_data"
    }
   ],
   "source": [
    "sample = ['C5', 'B5']\n",
    "write_probability(sample, 'probabilities_test.csv')"
   ]
  },
  {
   "cell_type": "code",
   "execution_count": 13,
   "metadata": {},
   "outputs": [
    {
     "data": {
      "application/vnd.jupyter.widget-view+json": {
       "model_id": "3ab6469470ce47a298cea029c53ef1b2",
       "version_major": 2,
       "version_minor": 0
      },
      "text/plain": [
       "IntProgress(value=0, max=9)"
      ]
     },
     "metadata": {},
     "output_type": "display_data"
    }
   ],
   "source": [
    "sample = ['A9', 'A7']\n",
    "write_probability(sample, 'probabilities_test.csv')"
   ]
  },
  {
   "cell_type": "markdown",
   "metadata": {},
   "source": [
    "---"
   ]
  },
  {
   "cell_type": "markdown",
   "metadata": {},
   "source": [
    "# Проверка результата"
   ]
  },
  {
   "cell_type": "code",
   "execution_count": 14,
   "metadata": {},
   "outputs": [],
   "source": [
    "df_prob = pd.read_csv('probabilities.csv')"
   ]
  },
  {
   "cell_type": "code",
   "execution_count": 15,
   "metadata": {},
   "outputs": [
    {
     "data": {
      "text/html": [
       "<div>\n",
       "<style scoped>\n",
       "    .dataframe tbody tr th:only-of-type {\n",
       "        vertical-align: middle;\n",
       "    }\n",
       "\n",
       "    .dataframe tbody tr th {\n",
       "        vertical-align: top;\n",
       "    }\n",
       "\n",
       "    .dataframe thead th {\n",
       "        text-align: right;\n",
       "    }\n",
       "</style>\n",
       "<table border=\"1\" class=\"dataframe\">\n",
       "  <thead>\n",
       "    <tr style=\"text-align: right;\">\n",
       "      <th></th>\n",
       "      <th>Card1</th>\n",
       "      <th>Card2</th>\n",
       "      <th>High_Card</th>\n",
       "      <th>Pair</th>\n",
       "      <th>Two_Pair</th>\n",
       "      <th>Three_of_a_Kind</th>\n",
       "      <th>Straight</th>\n",
       "      <th>Flush</th>\n",
       "      <th>Full_House</th>\n",
       "      <th>Four_of_a_Kind</th>\n",
       "      <th>Straight_Flush</th>\n",
       "    </tr>\n",
       "  </thead>\n",
       "  <tbody>\n",
       "    <tr>\n",
       "      <th>0</th>\n",
       "      <td>A</td>\n",
       "      <td>A</td>\n",
       "      <td>0.00000</td>\n",
       "      <td>0.35979</td>\n",
       "      <td>0.39667</td>\n",
       "      <td>0.11774</td>\n",
       "      <td>0.01218</td>\n",
       "      <td>0.01960</td>\n",
       "      <td>0.08548</td>\n",
       "      <td>0.00842</td>\n",
       "      <td>0.00012</td>\n",
       "    </tr>\n",
       "    <tr>\n",
       "      <th>1</th>\n",
       "      <td>A</td>\n",
       "      <td>K</td>\n",
       "      <td>0.19718</td>\n",
       "      <td>0.45572</td>\n",
       "      <td>0.22659</td>\n",
       "      <td>0.04427</td>\n",
       "      <td>0.03302</td>\n",
       "      <td>0.01957</td>\n",
       "      <td>0.02224</td>\n",
       "      <td>0.00126</td>\n",
       "      <td>0.00014</td>\n",
       "    </tr>\n",
       "    <tr>\n",
       "      <th>2</th>\n",
       "      <td>A</td>\n",
       "      <td>Q</td>\n",
       "      <td>0.19485</td>\n",
       "      <td>0.45430</td>\n",
       "      <td>0.22659</td>\n",
       "      <td>0.04427</td>\n",
       "      <td>0.03677</td>\n",
       "      <td>0.01955</td>\n",
       "      <td>0.02224</td>\n",
       "      <td>0.00126</td>\n",
       "      <td>0.00017</td>\n",
       "    </tr>\n",
       "    <tr>\n",
       "      <th>3</th>\n",
       "      <td>A</td>\n",
       "      <td>J</td>\n",
       "      <td>0.19251</td>\n",
       "      <td>0.45288</td>\n",
       "      <td>0.22659</td>\n",
       "      <td>0.04427</td>\n",
       "      <td>0.04053</td>\n",
       "      <td>0.01952</td>\n",
       "      <td>0.02224</td>\n",
       "      <td>0.00126</td>\n",
       "      <td>0.00020</td>\n",
       "    </tr>\n",
       "    <tr>\n",
       "      <th>4</th>\n",
       "      <td>A</td>\n",
       "      <td>T</td>\n",
       "      <td>0.19017</td>\n",
       "      <td>0.45146</td>\n",
       "      <td>0.22659</td>\n",
       "      <td>0.04427</td>\n",
       "      <td>0.04428</td>\n",
       "      <td>0.01952</td>\n",
       "      <td>0.02224</td>\n",
       "      <td>0.00126</td>\n",
       "      <td>0.00020</td>\n",
       "    </tr>\n",
       "    <tr>\n",
       "      <th>...</th>\n",
       "      <td>...</td>\n",
       "      <td>...</td>\n",
       "      <td>...</td>\n",
       "      <td>...</td>\n",
       "      <td>...</td>\n",
       "      <td>...</td>\n",
       "      <td>...</td>\n",
       "      <td>...</td>\n",
       "      <td>...</td>\n",
       "      <td>...</td>\n",
       "      <td>...</td>\n",
       "    </tr>\n",
       "    <tr>\n",
       "      <th>164</th>\n",
       "      <td>5</td>\n",
       "      <td>3s</td>\n",
       "      <td>0.16497</td>\n",
       "      <td>0.41382</td>\n",
       "      <td>0.21890</td>\n",
       "      <td>0.04289</td>\n",
       "      <td>0.07009</td>\n",
       "      <td>0.06394</td>\n",
       "      <td>0.02224</td>\n",
       "      <td>0.00126</td>\n",
       "      <td>0.00188</td>\n",
       "    </tr>\n",
       "    <tr>\n",
       "      <th>165</th>\n",
       "      <td>5</td>\n",
       "      <td>2s</td>\n",
       "      <td>0.17145</td>\n",
       "      <td>0.42191</td>\n",
       "      <td>0.22015</td>\n",
       "      <td>0.04316</td>\n",
       "      <td>0.05401</td>\n",
       "      <td>0.06447</td>\n",
       "      <td>0.02224</td>\n",
       "      <td>0.00126</td>\n",
       "      <td>0.00135</td>\n",
       "    </tr>\n",
       "    <tr>\n",
       "      <th>166</th>\n",
       "      <td>4</td>\n",
       "      <td>3s</td>\n",
       "      <td>0.16713</td>\n",
       "      <td>0.41517</td>\n",
       "      <td>0.21890</td>\n",
       "      <td>0.04289</td>\n",
       "      <td>0.06658</td>\n",
       "      <td>0.06396</td>\n",
       "      <td>0.02224</td>\n",
       "      <td>0.00126</td>\n",
       "      <td>0.00186</td>\n",
       "    </tr>\n",
       "    <tr>\n",
       "      <th>167</th>\n",
       "      <td>4</td>\n",
       "      <td>2s</td>\n",
       "      <td>0.17361</td>\n",
       "      <td>0.42326</td>\n",
       "      <td>0.22015</td>\n",
       "      <td>0.04316</td>\n",
       "      <td>0.05050</td>\n",
       "      <td>0.06450</td>\n",
       "      <td>0.02224</td>\n",
       "      <td>0.00126</td>\n",
       "      <td>0.00132</td>\n",
       "    </tr>\n",
       "    <tr>\n",
       "      <th>168</th>\n",
       "      <td>3</td>\n",
       "      <td>2s</td>\n",
       "      <td>0.17577</td>\n",
       "      <td>0.42461</td>\n",
       "      <td>0.22015</td>\n",
       "      <td>0.04316</td>\n",
       "      <td>0.04700</td>\n",
       "      <td>0.06452</td>\n",
       "      <td>0.02224</td>\n",
       "      <td>0.00126</td>\n",
       "      <td>0.00130</td>\n",
       "    </tr>\n",
       "  </tbody>\n",
       "</table>\n",
       "<p>169 rows × 11 columns</p>\n",
       "</div>"
      ],
      "text/plain": [
       "    Card1 Card2  High_Card     Pair  Two_Pair  Three_of_a_Kind  Straight  \\\n",
       "0       A     A    0.00000  0.35979   0.39667          0.11774   0.01218   \n",
       "1       A     K    0.19718  0.45572   0.22659          0.04427   0.03302   \n",
       "2       A     Q    0.19485  0.45430   0.22659          0.04427   0.03677   \n",
       "3       A     J    0.19251  0.45288   0.22659          0.04427   0.04053   \n",
       "4       A     T    0.19017  0.45146   0.22659          0.04427   0.04428   \n",
       "..    ...   ...        ...      ...       ...              ...       ...   \n",
       "164     5    3s    0.16497  0.41382   0.21890          0.04289   0.07009   \n",
       "165     5    2s    0.17145  0.42191   0.22015          0.04316   0.05401   \n",
       "166     4    3s    0.16713  0.41517   0.21890          0.04289   0.06658   \n",
       "167     4    2s    0.17361  0.42326   0.22015          0.04316   0.05050   \n",
       "168     3    2s    0.17577  0.42461   0.22015          0.04316   0.04700   \n",
       "\n",
       "       Flush  Full_House  Four_of_a_Kind  Straight_Flush  \n",
       "0    0.01960     0.08548         0.00842         0.00012  \n",
       "1    0.01957     0.02224         0.00126         0.00014  \n",
       "2    0.01955     0.02224         0.00126         0.00017  \n",
       "3    0.01952     0.02224         0.00126         0.00020  \n",
       "4    0.01952     0.02224         0.00126         0.00020  \n",
       "..       ...         ...             ...             ...  \n",
       "164  0.06394     0.02224         0.00126         0.00188  \n",
       "165  0.06447     0.02224         0.00126         0.00135  \n",
       "166  0.06396     0.02224         0.00126         0.00186  \n",
       "167  0.06450     0.02224         0.00126         0.00132  \n",
       "168  0.06452     0.02224         0.00126         0.00130  \n",
       "\n",
       "[169 rows x 11 columns]"
      ]
     },
     "execution_count": 15,
     "metadata": {},
     "output_type": "execute_result"
    }
   ],
   "source": [
    "df_prob"
   ]
  },
  {
   "cell_type": "code",
   "execution_count": null,
   "metadata": {
    "pycharm": {
     "name": "#%%\n"
    }
   },
   "outputs": [],
   "source": []
  }
 ],
 "metadata": {
  "kernelspec": {
   "display_name": "Python 3 (ipykernel)",
   "language": "python",
   "name": "python3"
  },
  "language_info": {
   "codemirror_mode": {
    "name": "ipython",
    "version": 3
   },
   "file_extension": ".py",
   "mimetype": "text/x-python",
   "name": "python",
   "nbconvert_exporter": "python",
   "pygments_lexer": "ipython3",
   "version": "3.9.7"
  },
  "toc": {
   "base_numbering": 1,
   "nav_menu": {},
   "number_sections": true,
   "sideBar": true,
   "skip_h1_title": false,
   "title_cell": "Table of Contents",
   "title_sidebar": "Contents",
   "toc_cell": false,
   "toc_position": {
    "height": "calc(100% - 180px)",
    "left": "10px",
    "top": "150px",
    "width": "428.75px"
   },
   "toc_section_display": true,
   "toc_window_display": true
  },
  "varInspector": {
   "cols": {
    "lenName": 16,
    "lenType": 16,
    "lenVar": 40
   },
   "kernels_config": {
    "python": {
     "delete_cmd_postfix": "",
     "delete_cmd_prefix": "del ",
     "library": "var_list.py",
     "varRefreshCmd": "print(var_dic_list())"
    },
    "r": {
     "delete_cmd_postfix": ") ",
     "delete_cmd_prefix": "rm(",
     "library": "var_list.r",
     "varRefreshCmd": "cat(var_dic_list()) "
    }
   },
   "position": {
    "height": "354.85px",
    "left": "1765.23px",
    "right": "20px",
    "top": "120px",
    "width": "358.767px"
   },
   "types_to_exclude": [
    "module",
    "function",
    "builtin_function_or_method",
    "instance",
    "_Feature"
   ],
   "window_display": false
  }
 },
 "nbformat": 4,
 "nbformat_minor": 1
}
