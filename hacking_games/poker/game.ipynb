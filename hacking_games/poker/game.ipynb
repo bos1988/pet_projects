{
 "cells": [
  {
   "cell_type": "markdown",
   "id": "c0f04656",
   "metadata": {},
   "source": [
    "## Подготовка"
   ]
  },
  {
   "cell_type": "code",
   "execution_count": 1,
   "id": "88345441",
   "metadata": {},
   "outputs": [],
   "source": [
    "import pandas as pd\n",
    "from func_poker import show_prob_victory\n",
    "from func_poker import probability_combination"
   ]
  },
  {
   "cell_type": "code",
   "execution_count": 2,
   "id": "ede1d22e",
   "metadata": {},
   "outputs": [],
   "source": [
    "df_prob = pd.read_csv('probabilities.csv')"
   ]
  },
  {
   "cell_type": "code",
   "execution_count": 3,
   "id": "82280f2c",
   "metadata": {},
   "outputs": [],
   "source": [
    "def append_distr(df):\n",
    "    for col in df.columns:\n",
    "        df['Вероятность комбинации или лучше'] = (1 - df[col].shift(fill_value=0).cumsum()).round(4)\n",
    "    return df"
   ]
  },
  {
   "cell_type": "code",
   "execution_count": 4,
   "id": "3c744b8e",
   "metadata": {},
   "outputs": [],
   "source": [
    "def get_full_comb_probabilities(hand):\n",
    "    pos = {'2':2,'3':3,'4':4,'5':5,'6':6,'7':7,'8':8,'9':9,'T':10,'J':11,'Q':12,'K':13,'A':14}\n",
    "    sub_name = 's' if hand[0][0] == hand[1][0] else ''\n",
    "    card1 = hand[0][1:]\n",
    "    card2 = hand[1][1:] + sub_name\n",
    "    card1, card2 = max([card1, card2]), min([card1, card2])\n",
    "    res = df_prob.query('Card1 == @card1 and Card2 == @card2').T.drop(['Card1', 'Card2']).astype(float)\n",
    "    res.columns = ['Вероятность комбинации']\n",
    "    return append_distr(res)"
   ]
  },
  {
   "cell_type": "code",
   "execution_count": 5,
   "id": "e5bb37fe",
   "metadata": {},
   "outputs": [],
   "source": [
    "def get_comb_probabilities(sample, n_cards=1):\n",
    "    c = [\n",
    "        'High_Card',\n",
    "        'Pair',\n",
    "        'Two_Pair',\n",
    "        'Three_of_a_Kind',\n",
    "        'Straight',\n",
    "        'Flush',\n",
    "        'Full_House',\n",
    "        'Four_of_a_Kind',\n",
    "        'Straight_Flush',\n",
    "    ]\n",
    "    table = []\n",
    "    for i in c:\n",
    "        res = probability_combination(sample, combinations=[i], n_cards=n_cards)\n",
    "        table.append(res[1] / res[0])\n",
    "    return append_distr(pd.DataFrame(data=table, index=c, columns=['Вероятность комбинации']))"
   ]
  },
  {
   "cell_type": "markdown",
   "id": "cead33ae",
   "metadata": {},
   "source": [
    "---"
   ]
  },
  {
   "cell_type": "markdown",
   "id": "d18d0bb1",
   "metadata": {},
   "source": [
    "# Игра с одним противником"
   ]
  },
  {
   "cell_type": "markdown",
   "id": "52d3f72d",
   "metadata": {},
   "source": [
    "<div class=\"alert alert-block alert-info\">\n",
    "    <p><b>\n",
    "    Настоящие исходы в игре никогда не подтвердятся данными теоретическими расчетами, поскольку не существует игрока, играющего абсолютно случайно. Например, если игрок дошел до ривера, значит он предыдущие коны разыгрывал определенную руку, а значит вероятность уже не та, что в теории, рассчитанной по всем картам. На эту тему и про покерные вероятности можно, например, почитать Дэвида Склански.\n",
    "    </b></p>\n",
    "    <br/>\n",
    "    <p>\n",
    "    Данный материал может быть практически полезен начинающим игрокам в покер, чтобы примерно ориентироваться на первых порах в игре.    \n",
    "    </p>\n",
    "</div>"
   ]
  },
  {
   "cell_type": "markdown",
   "id": "4294c0f3",
   "metadata": {},
   "source": [
    "---"
   ]
  },
  {
   "cell_type": "markdown",
   "id": "2506a0df",
   "metadata": {},
   "source": [
    "### Вероятности руки:"
   ]
  },
  {
   "cell_type": "markdown",
   "id": "20ebf75c",
   "metadata": {},
   "source": [
    "Карты, выпавшие на руку:"
   ]
  },
  {
   "cell_type": "code",
   "execution_count": 6,
   "id": "0993c440",
   "metadata": {},
   "outputs": [],
   "source": [
    "hand = ['C7', 'B7']"
   ]
  },
  {
   "cell_type": "markdown",
   "id": "c24483a1",
   "metadata": {},
   "source": [
    "---"
   ]
  },
  {
   "cell_type": "markdown",
   "id": "afa04253",
   "metadata": {},
   "source": [
    "Вероятности собрать комбинацию и вероятности собрать такую или лучшую комбинацию:"
   ]
  },
  {
   "cell_type": "code",
   "execution_count": 7,
   "id": "ab6bc0b7",
   "metadata": {},
   "outputs": [
    {
     "data": {
      "text/html": [
       "<div>\n",
       "<style scoped>\n",
       "    .dataframe tbody tr th:only-of-type {\n",
       "        vertical-align: middle;\n",
       "    }\n",
       "\n",
       "    .dataframe tbody tr th {\n",
       "        vertical-align: top;\n",
       "    }\n",
       "\n",
       "    .dataframe thead th {\n",
       "        text-align: right;\n",
       "    }\n",
       "</style>\n",
       "<table border=\"1\" class=\"dataframe\">\n",
       "  <thead>\n",
       "    <tr style=\"text-align: right;\">\n",
       "      <th></th>\n",
       "      <th>Вероятность комбинации</th>\n",
       "      <th>Вероятность комбинации или лучше</th>\n",
       "    </tr>\n",
       "  </thead>\n",
       "  <tbody>\n",
       "    <tr>\n",
       "      <th>High_Card</th>\n",
       "      <td>0.00000</td>\n",
       "      <td>1.0000</td>\n",
       "    </tr>\n",
       "    <tr>\n",
       "      <th>Pair</th>\n",
       "      <td>0.35184</td>\n",
       "      <td>1.0000</td>\n",
       "    </tr>\n",
       "    <tr>\n",
       "      <th>Two_Pair</th>\n",
       "      <td>0.39453</td>\n",
       "      <td>0.6482</td>\n",
       "    </tr>\n",
       "    <tr>\n",
       "      <th>Three_of_a_Kind</th>\n",
       "      <td>0.11702</td>\n",
       "      <td>0.2536</td>\n",
       "    </tr>\n",
       "    <tr>\n",
       "      <th>Straight</th>\n",
       "      <td>0.02299</td>\n",
       "      <td>0.1366</td>\n",
       "    </tr>\n",
       "    <tr>\n",
       "      <th>Flush</th>\n",
       "      <td>0.01947</td>\n",
       "      <td>0.1136</td>\n",
       "    </tr>\n",
       "    <tr>\n",
       "      <th>Full_House</th>\n",
       "      <td>0.08548</td>\n",
       "      <td>0.0942</td>\n",
       "    </tr>\n",
       "    <tr>\n",
       "      <th>Four_of_a_Kind</th>\n",
       "      <td>0.00842</td>\n",
       "      <td>0.0087</td>\n",
       "    </tr>\n",
       "    <tr>\n",
       "      <th>Straight_Flush</th>\n",
       "      <td>0.00025</td>\n",
       "      <td>0.0003</td>\n",
       "    </tr>\n",
       "  </tbody>\n",
       "</table>\n",
       "</div>"
      ],
      "text/plain": [
       "                 Вероятность комбинации  Вероятность комбинации или лучше\n",
       "High_Card                       0.00000                            1.0000\n",
       "Pair                            0.35184                            1.0000\n",
       "Two_Pair                        0.39453                            0.6482\n",
       "Three_of_a_Kind                 0.11702                            0.2536\n",
       "Straight                        0.02299                            0.1366\n",
       "Flush                           0.01947                            0.1136\n",
       "Full_House                      0.08548                            0.0942\n",
       "Four_of_a_Kind                  0.00842                            0.0087\n",
       "Straight_Flush                  0.00025                            0.0003"
      ]
     },
     "execution_count": 7,
     "metadata": {},
     "output_type": "execute_result"
    }
   ],
   "source": [
    "get_full_comb_probabilities(hand)"
   ]
  },
  {
   "cell_type": "markdown",
   "id": "094d946a",
   "metadata": {},
   "source": [
    "---"
   ]
  },
  {
   "cell_type": "markdown",
   "id": "5c9d0fc1",
   "metadata": {},
   "source": [
    "## Флоп"
   ]
  },
  {
   "cell_type": "markdown",
   "id": "26d8414c",
   "metadata": {},
   "source": [
    "Карты, выложенные на флоп"
   ]
  },
  {
   "cell_type": "code",
   "execution_count": 8,
   "id": "db339ddd",
   "metadata": {},
   "outputs": [],
   "source": [
    "flop = ['D9', 'B11', 'A13']"
   ]
  },
  {
   "cell_type": "markdown",
   "id": "c35df6a9",
   "metadata": {},
   "source": [
    "---"
   ]
  },
  {
   "cell_type": "markdown",
   "id": "aa0bba0d",
   "metadata": {},
   "source": [
    "Вероятность выиграть:"
   ]
  },
  {
   "cell_type": "code",
   "execution_count": 9,
   "id": "0d9dfc74",
   "metadata": {},
   "outputs": [
    {
     "name": "stdout",
     "output_type": "stream",
     "text": [
      "Комбинация на руках:\n",
      "('Pair', 100713110900)\n",
      "\n",
      "Общее кол-во итераций: 1070190\n",
      "Кол-во целевых событий: 553976\n",
      "Вероятность выигрыша: \u001b[1m\u001b[47m 51.764% \u001b[0m\n",
      "\n",
      "Wall time: 11.8 s\n"
     ]
    }
   ],
   "source": [
    "%%time\n",
    "show_prob_victory(hand, flop)"
   ]
  },
  {
   "cell_type": "markdown",
   "id": "99ff8c71",
   "metadata": {},
   "source": [
    "Вероятности собрать комбинацию и вероятности собрать такую или лучшую комбинацию:"
   ]
  },
  {
   "cell_type": "code",
   "execution_count": 10,
   "id": "b0c32d14",
   "metadata": {},
   "outputs": [
    {
     "data": {
      "text/html": [
       "<div>\n",
       "<style scoped>\n",
       "    .dataframe tbody tr th:only-of-type {\n",
       "        vertical-align: middle;\n",
       "    }\n",
       "\n",
       "    .dataframe tbody tr th {\n",
       "        vertical-align: top;\n",
       "    }\n",
       "\n",
       "    .dataframe thead th {\n",
       "        text-align: right;\n",
       "    }\n",
       "</style>\n",
       "<table border=\"1\" class=\"dataframe\">\n",
       "  <thead>\n",
       "    <tr style=\"text-align: right;\">\n",
       "      <th></th>\n",
       "      <th>Вероятность комбинации</th>\n",
       "      <th>Вероятность комбинации или лучше</th>\n",
       "    </tr>\n",
       "  </thead>\n",
       "  <tbody>\n",
       "    <tr>\n",
       "      <th>High_Card</th>\n",
       "      <td>0.000000</td>\n",
       "      <td>1.0000</td>\n",
       "    </tr>\n",
       "    <tr>\n",
       "      <th>Pair</th>\n",
       "      <td>0.503238</td>\n",
       "      <td>1.0000</td>\n",
       "    </tr>\n",
       "    <tr>\n",
       "      <th>Two_Pair</th>\n",
       "      <td>0.374653</td>\n",
       "      <td>0.4968</td>\n",
       "    </tr>\n",
       "    <tr>\n",
       "      <th>Three_of_a_Kind</th>\n",
       "      <td>0.066605</td>\n",
       "      <td>0.1221</td>\n",
       "    </tr>\n",
       "    <tr>\n",
       "      <th>Straight</th>\n",
       "      <td>0.029602</td>\n",
       "      <td>0.0555</td>\n",
       "    </tr>\n",
       "    <tr>\n",
       "      <th>Flush</th>\n",
       "      <td>0.000000</td>\n",
       "      <td>0.0259</td>\n",
       "    </tr>\n",
       "    <tr>\n",
       "      <th>Full_House</th>\n",
       "      <td>0.024977</td>\n",
       "      <td>0.0259</td>\n",
       "    </tr>\n",
       "    <tr>\n",
       "      <th>Four_of_a_Kind</th>\n",
       "      <td>0.000925</td>\n",
       "      <td>0.0009</td>\n",
       "    </tr>\n",
       "    <tr>\n",
       "      <th>Straight_Flush</th>\n",
       "      <td>0.000000</td>\n",
       "      <td>0.0000</td>\n",
       "    </tr>\n",
       "  </tbody>\n",
       "</table>\n",
       "</div>"
      ],
      "text/plain": [
       "                 Вероятность комбинации  Вероятность комбинации или лучше\n",
       "High_Card                      0.000000                            1.0000\n",
       "Pair                           0.503238                            1.0000\n",
       "Two_Pair                       0.374653                            0.4968\n",
       "Three_of_a_Kind                0.066605                            0.1221\n",
       "Straight                       0.029602                            0.0555\n",
       "Flush                          0.000000                            0.0259\n",
       "Full_House                     0.024977                            0.0259\n",
       "Four_of_a_Kind                 0.000925                            0.0009\n",
       "Straight_Flush                 0.000000                            0.0000"
      ]
     },
     "execution_count": 10,
     "metadata": {},
     "output_type": "execute_result"
    }
   ],
   "source": [
    "get_comb_probabilities(hand+flop, n_cards=2)"
   ]
  },
  {
   "cell_type": "markdown",
   "id": "90712f7c",
   "metadata": {},
   "source": [
    "---"
   ]
  },
  {
   "cell_type": "markdown",
   "id": "91e861a7",
   "metadata": {},
   "source": [
    "## Терн"
   ]
  },
  {
   "cell_type": "markdown",
   "id": "5d130aa4",
   "metadata": {},
   "source": [
    "Карты, выложенные на терн"
   ]
  },
  {
   "cell_type": "code",
   "execution_count": 11,
   "id": "47663caa",
   "metadata": {},
   "outputs": [],
   "source": [
    "turn = ['B14']"
   ]
  },
  {
   "cell_type": "markdown",
   "id": "79834854",
   "metadata": {},
   "source": [
    "---"
   ]
  },
  {
   "cell_type": "markdown",
   "id": "772a55f3",
   "metadata": {},
   "source": [
    "Вероятность выиграть:"
   ]
  },
  {
   "cell_type": "code",
   "execution_count": 12,
   "id": "4e56a845",
   "metadata": {},
   "outputs": [
    {
     "name": "stdout",
     "output_type": "stream",
     "text": [
      "Комбинация на руках:\n",
      "('Pair', 100714131100)\n",
      "\n",
      "Общее кол-во итераций: 45540\n",
      "Кол-во целевых событий: 21904\n",
      "Вероятность выигрыша: \u001b[1m\u001b[47m 48.098% \u001b[0m\n",
      "\n",
      "Wall time: 501 ms\n"
     ]
    }
   ],
   "source": [
    "%%time\n",
    "show_prob_victory(hand, flop+turn)"
   ]
  },
  {
   "cell_type": "markdown",
   "id": "7a407467",
   "metadata": {},
   "source": [
    "Вероятности собрать комбинацию и вероятности собрать такую или лучшую комбинацию:"
   ]
  },
  {
   "cell_type": "code",
   "execution_count": 13,
   "id": "a3388156",
   "metadata": {},
   "outputs": [
    {
     "data": {
      "text/html": [
       "<div>\n",
       "<style scoped>\n",
       "    .dataframe tbody tr th:only-of-type {\n",
       "        vertical-align: middle;\n",
       "    }\n",
       "\n",
       "    .dataframe tbody tr th {\n",
       "        vertical-align: top;\n",
       "    }\n",
       "\n",
       "    .dataframe thead th {\n",
       "        text-align: right;\n",
       "    }\n",
       "</style>\n",
       "<table border=\"1\" class=\"dataframe\">\n",
       "  <thead>\n",
       "    <tr style=\"text-align: right;\">\n",
       "      <th></th>\n",
       "      <th>Вероятность комбинации</th>\n",
       "      <th>Вероятность комбинации или лучше</th>\n",
       "    </tr>\n",
       "  </thead>\n",
       "  <tbody>\n",
       "    <tr>\n",
       "      <th>High_Card</th>\n",
       "      <td>0.000000</td>\n",
       "      <td>1.0000</td>\n",
       "    </tr>\n",
       "    <tr>\n",
       "      <th>Pair</th>\n",
       "      <td>0.695652</td>\n",
       "      <td>1.0000</td>\n",
       "    </tr>\n",
       "    <tr>\n",
       "      <th>Two_Pair</th>\n",
       "      <td>0.260870</td>\n",
       "      <td>0.3043</td>\n",
       "    </tr>\n",
       "    <tr>\n",
       "      <th>Three_of_a_Kind</th>\n",
       "      <td>0.043478</td>\n",
       "      <td>0.0435</td>\n",
       "    </tr>\n",
       "    <tr>\n",
       "      <th>Straight</th>\n",
       "      <td>0.000000</td>\n",
       "      <td>0.0000</td>\n",
       "    </tr>\n",
       "    <tr>\n",
       "      <th>Flush</th>\n",
       "      <td>0.000000</td>\n",
       "      <td>0.0000</td>\n",
       "    </tr>\n",
       "    <tr>\n",
       "      <th>Full_House</th>\n",
       "      <td>0.000000</td>\n",
       "      <td>0.0000</td>\n",
       "    </tr>\n",
       "    <tr>\n",
       "      <th>Four_of_a_Kind</th>\n",
       "      <td>0.000000</td>\n",
       "      <td>0.0000</td>\n",
       "    </tr>\n",
       "    <tr>\n",
       "      <th>Straight_Flush</th>\n",
       "      <td>0.000000</td>\n",
       "      <td>0.0000</td>\n",
       "    </tr>\n",
       "  </tbody>\n",
       "</table>\n",
       "</div>"
      ],
      "text/plain": [
       "                 Вероятность комбинации  Вероятность комбинации или лучше\n",
       "High_Card                      0.000000                            1.0000\n",
       "Pair                           0.695652                            1.0000\n",
       "Two_Pair                       0.260870                            0.3043\n",
       "Three_of_a_Kind                0.043478                            0.0435\n",
       "Straight                       0.000000                            0.0000\n",
       "Flush                          0.000000                            0.0000\n",
       "Full_House                     0.000000                            0.0000\n",
       "Four_of_a_Kind                 0.000000                            0.0000\n",
       "Straight_Flush                 0.000000                            0.0000"
      ]
     },
     "execution_count": 13,
     "metadata": {},
     "output_type": "execute_result"
    }
   ],
   "source": [
    "get_comb_probabilities(hand+flop+turn, n_cards=1)"
   ]
  },
  {
   "cell_type": "markdown",
   "id": "2fe47523",
   "metadata": {},
   "source": [
    "---"
   ]
  },
  {
   "cell_type": "markdown",
   "id": "5e72f3bc",
   "metadata": {},
   "source": [
    "## Ривер"
   ]
  },
  {
   "cell_type": "markdown",
   "id": "5f29755d",
   "metadata": {},
   "source": [
    "Карты, выложенные на ривер"
   ]
  },
  {
   "cell_type": "code",
   "execution_count": 14,
   "id": "37bcefab",
   "metadata": {},
   "outputs": [],
   "source": [
    "river = ['D11']"
   ]
  },
  {
   "cell_type": "markdown",
   "id": "766b484b",
   "metadata": {},
   "source": [
    "---"
   ]
  },
  {
   "cell_type": "markdown",
   "id": "f825ddee",
   "metadata": {},
   "source": [
    "Вероятность выиграть:"
   ]
  },
  {
   "cell_type": "code",
   "execution_count": 15,
   "id": "8c718c80",
   "metadata": {},
   "outputs": [
    {
     "name": "stdout",
     "output_type": "stream",
     "text": [
      "Комбинация на руках:\n",
      "('Two_Pair', 201107140000)\n",
      "\n",
      "Общее кол-во итераций: 990\n",
      "Кол-во целевых событий: 526\n",
      "Вероятность выигрыша: \u001b[1m\u001b[47m 53.131% \u001b[0m\n",
      "\n",
      "Wall time: 14 ms\n"
     ]
    }
   ],
   "source": [
    "%%time\n",
    "show_prob_victory(hand, flop+turn+river)"
   ]
  },
  {
   "cell_type": "markdown",
   "id": "031dbe41",
   "metadata": {},
   "source": [
    "Вероятности собрать комбинацию и вероятности собрать такую или лучшую комбинацию:"
   ]
  },
  {
   "cell_type": "code",
   "execution_count": 16,
   "id": "67f8fc43",
   "metadata": {},
   "outputs": [
    {
     "data": {
      "text/html": [
       "<div>\n",
       "<style scoped>\n",
       "    .dataframe tbody tr th:only-of-type {\n",
       "        vertical-align: middle;\n",
       "    }\n",
       "\n",
       "    .dataframe tbody tr th {\n",
       "        vertical-align: top;\n",
       "    }\n",
       "\n",
       "    .dataframe thead th {\n",
       "        text-align: right;\n",
       "    }\n",
       "</style>\n",
       "<table border=\"1\" class=\"dataframe\">\n",
       "  <thead>\n",
       "    <tr style=\"text-align: right;\">\n",
       "      <th></th>\n",
       "      <th>Вероятность комбинации</th>\n",
       "      <th>Вероятность комбинации или лучше</th>\n",
       "    </tr>\n",
       "  </thead>\n",
       "  <tbody>\n",
       "    <tr>\n",
       "      <th>High_Card</th>\n",
       "      <td>0.0</td>\n",
       "      <td>1.0</td>\n",
       "    </tr>\n",
       "    <tr>\n",
       "      <th>Pair</th>\n",
       "      <td>0.0</td>\n",
       "      <td>1.0</td>\n",
       "    </tr>\n",
       "    <tr>\n",
       "      <th>Two_Pair</th>\n",
       "      <td>1.0</td>\n",
       "      <td>1.0</td>\n",
       "    </tr>\n",
       "    <tr>\n",
       "      <th>Three_of_a_Kind</th>\n",
       "      <td>0.0</td>\n",
       "      <td>0.0</td>\n",
       "    </tr>\n",
       "    <tr>\n",
       "      <th>Straight</th>\n",
       "      <td>0.0</td>\n",
       "      <td>0.0</td>\n",
       "    </tr>\n",
       "    <tr>\n",
       "      <th>Flush</th>\n",
       "      <td>0.0</td>\n",
       "      <td>0.0</td>\n",
       "    </tr>\n",
       "    <tr>\n",
       "      <th>Full_House</th>\n",
       "      <td>0.0</td>\n",
       "      <td>0.0</td>\n",
       "    </tr>\n",
       "    <tr>\n",
       "      <th>Four_of_a_Kind</th>\n",
       "      <td>0.0</td>\n",
       "      <td>0.0</td>\n",
       "    </tr>\n",
       "    <tr>\n",
       "      <th>Straight_Flush</th>\n",
       "      <td>0.0</td>\n",
       "      <td>0.0</td>\n",
       "    </tr>\n",
       "  </tbody>\n",
       "</table>\n",
       "</div>"
      ],
      "text/plain": [
       "                 Вероятность комбинации  Вероятность комбинации или лучше\n",
       "High_Card                           0.0                               1.0\n",
       "Pair                                0.0                               1.0\n",
       "Two_Pair                            1.0                               1.0\n",
       "Three_of_a_Kind                     0.0                               0.0\n",
       "Straight                            0.0                               0.0\n",
       "Flush                               0.0                               0.0\n",
       "Full_House                          0.0                               0.0\n",
       "Four_of_a_Kind                      0.0                               0.0\n",
       "Straight_Flush                      0.0                               0.0"
      ]
     },
     "execution_count": 16,
     "metadata": {},
     "output_type": "execute_result"
    }
   ],
   "source": [
    "get_comb_probabilities(hand+flop+turn+river, n_cards=0)"
   ]
  },
  {
   "cell_type": "code",
   "execution_count": null,
   "id": "9fb906f1",
   "metadata": {},
   "outputs": [],
   "source": []
  }
 ],
 "metadata": {
  "kernelspec": {
   "display_name": "Python 3 (ipykernel)",
   "language": "python",
   "name": "python3"
  },
  "language_info": {
   "codemirror_mode": {
    "name": "ipython",
    "version": 3
   },
   "file_extension": ".py",
   "mimetype": "text/x-python",
   "name": "python",
   "nbconvert_exporter": "python",
   "pygments_lexer": "ipython3",
   "version": "3.9.7"
  },
  "toc": {
   "base_numbering": 1,
   "nav_menu": {},
   "number_sections": true,
   "sideBar": true,
   "skip_h1_title": false,
   "title_cell": "Table of Contents",
   "title_sidebar": "Contents",
   "toc_cell": false,
   "toc_position": {
    "height": "calc(100% - 180px)",
    "left": "10px",
    "top": "150px",
    "width": "426.667px"
   },
   "toc_section_display": true,
   "toc_window_display": true
  },
  "varInspector": {
   "cols": {
    "lenName": 16,
    "lenType": 16,
    "lenVar": 40
   },
   "kernels_config": {
    "python": {
     "delete_cmd_postfix": "",
     "delete_cmd_prefix": "del ",
     "library": "var_list.py",
     "varRefreshCmd": "print(var_dic_list())"
    },
    "r": {
     "delete_cmd_postfix": ") ",
     "delete_cmd_prefix": "rm(",
     "library": "var_list.r",
     "varRefreshCmd": "cat(var_dic_list()) "
    }
   },
   "types_to_exclude": [
    "module",
    "function",
    "builtin_function_or_method",
    "instance",
    "_Feature"
   ],
   "window_display": false
  }
 },
 "nbformat": 4,
 "nbformat_minor": 5
}
