{
 "cells": [
  {
   "cell_type": "markdown",
   "metadata": {
    "toc": true
   },
   "source": [
    "<h1>Table of Contents<span class=\"tocSkip\"></span></h1>\n",
    "<div class=\"toc\"><ul class=\"toc-item\"><li><span><a href=\"#Подгружаемые-библиотеки\" data-toc-modified-id=\"Подгружаемые-библиотеки-1\"><span class=\"toc-item-num\">1&nbsp;&nbsp;</span>Подгружаемые библиотеки</a></span></li><li><span><a href=\"#Колода\" data-toc-modified-id=\"Колода-2\"><span class=\"toc-item-num\">2&nbsp;&nbsp;</span>Колода</a></span><ul class=\"toc-item\"><li><span><a href=\"#Класс-колоды\" data-toc-modified-id=\"Класс-колоды-2.1\"><span class=\"toc-item-num\">2.1&nbsp;&nbsp;</span>Класс колоды</a></span></li><li><span><a href=\"#Работа-с-колодой\" data-toc-modified-id=\"Работа-с-колодой-2.2\"><span class=\"toc-item-num\">2.2&nbsp;&nbsp;</span>Работа с колодой</a></span></li></ul></li><li><span><a href=\"#Комбинации\" data-toc-modified-id=\"Комбинации-3\"><span class=\"toc-item-num\">3&nbsp;&nbsp;</span>Комбинации</a></span></li><li><span><a href=\"#Разбор-вероятностей:\" data-toc-modified-id=\"Разбор-вероятностей:-4\"><span class=\"toc-item-num\">4&nbsp;&nbsp;</span>Разбор вероятностей:</a></span><ul class=\"toc-item\"><li><span><a href=\"#Комбинации-карт-на-руку\" data-toc-modified-id=\"Комбинации-карт-на-руку-4.1\"><span class=\"toc-item-num\">4.1&nbsp;&nbsp;</span>Комбинации карт на руку</a></span></li><li><span><a href=\"#Комбинации-стола\" data-toc-modified-id=\"Комбинации-стола-4.2\"><span class=\"toc-item-num\">4.2&nbsp;&nbsp;</span>Комбинации стола</a></span></li><li><span><a href=\"#Проверим-работу-алгоритма-на-известных-вероятностях-из-сети\" data-toc-modified-id=\"Проверим-работу-алгоритма-на-известных-вероятностях-из-сети-4.3\"><span class=\"toc-item-num\">4.3&nbsp;&nbsp;</span>Проверим работу алгоритма на известных вероятностях из сети</a></span><ul class=\"toc-item\"><li><span><a href=\"#Комбинации-1-(1-карта)\" data-toc-modified-id=\"Комбинации-1-(1-карта)-4.3.1\"><span class=\"toc-item-num\">4.3.1&nbsp;&nbsp;</span>Комбинации 1 (1 карта)</a></span></li><li><span><a href=\"#Комбинации-2-(1-карта)\" data-toc-modified-id=\"Комбинации-2-(1-карта)-4.3.2\"><span class=\"toc-item-num\">4.3.2&nbsp;&nbsp;</span>Комбинации 2 (1 карта)</a></span></li><li><span><a href=\"#Комбинации-3-(2-карты)\" data-toc-modified-id=\"Комбинации-3-(2-карты)-4.3.3\"><span class=\"toc-item-num\">4.3.3&nbsp;&nbsp;</span>Комбинации 3 (2 карты)</a></span></li><li><span><a href=\"#Комбинации-4-(рука)\" data-toc-modified-id=\"Комбинации-4-(рука)-4.3.4\"><span class=\"toc-item-num\">4.3.4&nbsp;&nbsp;</span>Комбинации 4 (рука)</a></span></li><li><span><a href=\"#Комбинации-5-(3-карты)\" data-toc-modified-id=\"Комбинации-5-(3-карты)-4.3.5\"><span class=\"toc-item-num\">4.3.5&nbsp;&nbsp;</span>Комбинации 5 (3 карты)</a></span></li><li><span><a href=\"#Комбинации-6-(3-карты)\" data-toc-modified-id=\"Комбинации-6-(3-карты)-4.3.6\"><span class=\"toc-item-num\">4.3.6&nbsp;&nbsp;</span>Комбинации 6 (3 карты)</a></span></li><li><span><a href=\"#Комбинации-7-(3-карты)\" data-toc-modified-id=\"Комбинации-7-(3-карты)-4.3.7\"><span class=\"toc-item-num\">4.3.7&nbsp;&nbsp;</span>Комбинации 7 (3 карты)</a></span></li><li><span><a href=\"#Комбинации-8-(3-карты)\" data-toc-modified-id=\"Комбинации-8-(3-карты)-4.3.8\"><span class=\"toc-item-num\">4.3.8&nbsp;&nbsp;</span>Комбинации 8 (3 карты)</a></span></li></ul></li><li><span><a href=\"#Победа-после-ривера\" data-toc-modified-id=\"Победа-после-ривера-4.4\"><span class=\"toc-item-num\">4.4&nbsp;&nbsp;</span>Победа после ривера</a></span><ul class=\"toc-item\"><li><span><a href=\"#1-противник\" data-toc-modified-id=\"1-противник-4.4.1\"><span class=\"toc-item-num\">4.4.1&nbsp;&nbsp;</span>1 противник</a></span></li></ul></li><li><span><a href=\"#Победа-после-терна-перед-ривером\" data-toc-modified-id=\"Победа-после-терна-перед-ривером-4.5\"><span class=\"toc-item-num\">4.5&nbsp;&nbsp;</span>Победа после терна перед ривером</a></span><ul class=\"toc-item\"><li><span><a href=\"#1-противник\" data-toc-modified-id=\"1-противник-4.5.1\"><span class=\"toc-item-num\">4.5.1&nbsp;&nbsp;</span>1 противник</a></span></li></ul></li></ul></li><li><span><a href=\"#Выводы\" data-toc-modified-id=\"Выводы-5\"><span class=\"toc-item-num\">5&nbsp;&nbsp;</span>Выводы</a></span></li></ul></div>"
   ]
  },
  {
   "cell_type": "markdown",
   "metadata": {},
   "source": [
    "# Подгружаемые библиотеки"
   ]
  },
  {
   "cell_type": "code",
   "execution_count": 1,
   "metadata": {},
   "outputs": [],
   "source": [
    "import time"
   ]
  },
  {
   "cell_type": "code",
   "execution_count": 2,
   "metadata": {
    "pycharm": {
     "name": "#%%\n"
    }
   },
   "outputs": [],
   "source": [
    "import pandas as pd\n",
    "import numpy as np"
   ]
  },
  {
   "cell_type": "code",
   "execution_count": 3,
   "metadata": {},
   "outputs": [],
   "source": [
    "from PIL import Image\n",
    "import matplotlib.pyplot as plt"
   ]
  },
  {
   "cell_type": "code",
   "execution_count": 4,
   "metadata": {},
   "outputs": [],
   "source": [
    "from itertools import product\n",
    "from functools import reduce\n",
    "import operator"
   ]
  },
  {
   "cell_type": "markdown",
   "metadata": {},
   "source": [
    "# Колода"
   ]
  },
  {
   "cell_type": "code",
   "execution_count": 5,
   "metadata": {
    "pycharm": {
     "name": "#%%\n"
    }
   },
   "outputs": [],
   "source": [
    "# масть - suit\n",
    "# достоинство - rank"
   ]
  },
  {
   "cell_type": "markdown",
   "metadata": {},
   "source": [
    "## Класс колоды"
   ]
  },
  {
   "cell_type": "code",
   "execution_count": 6,
   "metadata": {
    "pycharm": {
     "name": "#%%\n"
    }
   },
   "outputs": [],
   "source": [
    "class Deck:\n",
    "    def __init__(self):\n",
    "        self.standard_suits = ['A', 'B', 'C', 'D']\n",
    "        self.standard_ranks = list(range(2, 15))\n",
    "\n",
    "        # self.main_deck = set()\n",
    "        # for r, s in product(self.standard_ranks, self.standard_suits):\n",
    "        #     card = (r, s)\n",
    "        #     self.main_deck.add(card)\n",
    "\n",
    "        self.main_deck = pd.DataFrame({\n",
    "            'suit': self.standard_suits * len(self.standard_ranks),\n",
    "            'rank': self.standard_ranks * len(self.standard_suits)\n",
    "        }).sort_values(['suit', 'rank']).reset_index(drop=True)\n",
    "        self.current_deck = self.main_deck.copy()\n",
    "\n",
    "    def sample(self, n=1):\n",
    "        if len(self.current_deck) < n:\n",
    "            print()\n",
    "            print('-'*20)\n",
    "            print('Недостаточно карт в остатке колоды: ПРОИЗВОДИТСЯ ПЕРЕТОСОВКА !')\n",
    "            print('-'*20)\n",
    "            print()\n",
    "            self.reset()\n",
    "        card = self.current_deck.sample(n)\n",
    "        self.current_deck = self.current_deck.drop(card.index)\n",
    "        return card\n",
    "\n",
    "    def get_cards_index(self, indexes:list):\n",
    "        indexes = list(set(indexes) & set(self.current_deck.index))\n",
    "        geted_cards = self.current_deck.loc[indexes]\n",
    "        self.current_deck = self.current_deck.drop(indexes)\n",
    "        return geted_cards\n",
    "    \n",
    "    def get_cards_name(self, names:list):\n",
    "        geted_cards = self.current_deck.merge(self.get_df_cards(names), on=['suit', 'rank'], how='inner')\n",
    "        self.current_deck = pd.concat([self.current_deck, geted_cards]).drop_duplicates(keep=False)\n",
    "        return geted_cards\n",
    "    \n",
    "    def get_cards_df(self, cards:pd.DataFrame):\n",
    "        self.current_deck = pd.concat([self.current_deck, cards]).drop_duplicates(keep=False)\n",
    "        return cards\n",
    "    \n",
    "    def reset(self):\n",
    "        self.current_deck = self.main_deck.copy()\n",
    "    \n",
    "    @staticmethod\n",
    "    def get_df_cards(cards:list):\n",
    "        res = {'suit': [], 'rank': []}\n",
    "        for i in cards:\n",
    "            res['suit'].append(i[0])\n",
    "            res['rank'].append(int(i[1:]))\n",
    "        return pd.DataFrame(res)"
   ]
  },
  {
   "cell_type": "markdown",
   "metadata": {},
   "source": [
    "## Работа с колодой"
   ]
  },
  {
   "cell_type": "markdown",
   "metadata": {
    "pycharm": {
     "name": "#%% md\n"
    }
   },
   "source": [
    "Создадим колоду:"
   ]
  },
  {
   "cell_type": "code",
   "execution_count": 7,
   "metadata": {
    "pycharm": {
     "name": "#%%\n"
    }
   },
   "outputs": [],
   "source": [
    "deck = Deck()"
   ]
  },
  {
   "cell_type": "code",
   "execution_count": 8,
   "metadata": {
    "pycharm": {
     "name": "#%%\n"
    }
   },
   "outputs": [
    {
     "data": {
      "text/html": [
       "<div>\n",
       "<style scoped>\n",
       "    .dataframe tbody tr th:only-of-type {\n",
       "        vertical-align: middle;\n",
       "    }\n",
       "\n",
       "    .dataframe tbody tr th {\n",
       "        vertical-align: top;\n",
       "    }\n",
       "\n",
       "    .dataframe thead th {\n",
       "        text-align: right;\n",
       "    }\n",
       "</style>\n",
       "<table border=\"1\" class=\"dataframe\">\n",
       "  <thead>\n",
       "    <tr style=\"text-align: right;\">\n",
       "      <th></th>\n",
       "      <th>suit</th>\n",
       "      <th>rank</th>\n",
       "    </tr>\n",
       "  </thead>\n",
       "  <tbody>\n",
       "    <tr>\n",
       "      <th>0</th>\n",
       "      <td>A</td>\n",
       "      <td>2</td>\n",
       "    </tr>\n",
       "    <tr>\n",
       "      <th>1</th>\n",
       "      <td>A</td>\n",
       "      <td>3</td>\n",
       "    </tr>\n",
       "    <tr>\n",
       "      <th>2</th>\n",
       "      <td>A</td>\n",
       "      <td>4</td>\n",
       "    </tr>\n",
       "    <tr>\n",
       "      <th>3</th>\n",
       "      <td>A</td>\n",
       "      <td>5</td>\n",
       "    </tr>\n",
       "    <tr>\n",
       "      <th>4</th>\n",
       "      <td>A</td>\n",
       "      <td>6</td>\n",
       "    </tr>\n",
       "    <tr>\n",
       "      <th>5</th>\n",
       "      <td>A</td>\n",
       "      <td>7</td>\n",
       "    </tr>\n",
       "    <tr>\n",
       "      <th>6</th>\n",
       "      <td>A</td>\n",
       "      <td>8</td>\n",
       "    </tr>\n",
       "    <tr>\n",
       "      <th>7</th>\n",
       "      <td>A</td>\n",
       "      <td>9</td>\n",
       "    </tr>\n",
       "    <tr>\n",
       "      <th>8</th>\n",
       "      <td>A</td>\n",
       "      <td>10</td>\n",
       "    </tr>\n",
       "    <tr>\n",
       "      <th>9</th>\n",
       "      <td>A</td>\n",
       "      <td>11</td>\n",
       "    </tr>\n",
       "    <tr>\n",
       "      <th>10</th>\n",
       "      <td>A</td>\n",
       "      <td>12</td>\n",
       "    </tr>\n",
       "    <tr>\n",
       "      <th>11</th>\n",
       "      <td>A</td>\n",
       "      <td>13</td>\n",
       "    </tr>\n",
       "    <tr>\n",
       "      <th>12</th>\n",
       "      <td>A</td>\n",
       "      <td>14</td>\n",
       "    </tr>\n",
       "    <tr>\n",
       "      <th>13</th>\n",
       "      <td>B</td>\n",
       "      <td>2</td>\n",
       "    </tr>\n",
       "    <tr>\n",
       "      <th>14</th>\n",
       "      <td>B</td>\n",
       "      <td>3</td>\n",
       "    </tr>\n",
       "    <tr>\n",
       "      <th>15</th>\n",
       "      <td>B</td>\n",
       "      <td>4</td>\n",
       "    </tr>\n",
       "    <tr>\n",
       "      <th>16</th>\n",
       "      <td>B</td>\n",
       "      <td>5</td>\n",
       "    </tr>\n",
       "    <tr>\n",
       "      <th>17</th>\n",
       "      <td>B</td>\n",
       "      <td>6</td>\n",
       "    </tr>\n",
       "    <tr>\n",
       "      <th>18</th>\n",
       "      <td>B</td>\n",
       "      <td>7</td>\n",
       "    </tr>\n",
       "    <tr>\n",
       "      <th>19</th>\n",
       "      <td>B</td>\n",
       "      <td>8</td>\n",
       "    </tr>\n",
       "    <tr>\n",
       "      <th>20</th>\n",
       "      <td>B</td>\n",
       "      <td>9</td>\n",
       "    </tr>\n",
       "    <tr>\n",
       "      <th>21</th>\n",
       "      <td>B</td>\n",
       "      <td>10</td>\n",
       "    </tr>\n",
       "    <tr>\n",
       "      <th>22</th>\n",
       "      <td>B</td>\n",
       "      <td>11</td>\n",
       "    </tr>\n",
       "    <tr>\n",
       "      <th>23</th>\n",
       "      <td>B</td>\n",
       "      <td>12</td>\n",
       "    </tr>\n",
       "    <tr>\n",
       "      <th>24</th>\n",
       "      <td>B</td>\n",
       "      <td>13</td>\n",
       "    </tr>\n",
       "    <tr>\n",
       "      <th>25</th>\n",
       "      <td>B</td>\n",
       "      <td>14</td>\n",
       "    </tr>\n",
       "    <tr>\n",
       "      <th>26</th>\n",
       "      <td>C</td>\n",
       "      <td>2</td>\n",
       "    </tr>\n",
       "    <tr>\n",
       "      <th>27</th>\n",
       "      <td>C</td>\n",
       "      <td>3</td>\n",
       "    </tr>\n",
       "    <tr>\n",
       "      <th>28</th>\n",
       "      <td>C</td>\n",
       "      <td>4</td>\n",
       "    </tr>\n",
       "    <tr>\n",
       "      <th>29</th>\n",
       "      <td>C</td>\n",
       "      <td>5</td>\n",
       "    </tr>\n",
       "    <tr>\n",
       "      <th>30</th>\n",
       "      <td>C</td>\n",
       "      <td>6</td>\n",
       "    </tr>\n",
       "    <tr>\n",
       "      <th>31</th>\n",
       "      <td>C</td>\n",
       "      <td>7</td>\n",
       "    </tr>\n",
       "    <tr>\n",
       "      <th>32</th>\n",
       "      <td>C</td>\n",
       "      <td>8</td>\n",
       "    </tr>\n",
       "    <tr>\n",
       "      <th>33</th>\n",
       "      <td>C</td>\n",
       "      <td>9</td>\n",
       "    </tr>\n",
       "    <tr>\n",
       "      <th>34</th>\n",
       "      <td>C</td>\n",
       "      <td>10</td>\n",
       "    </tr>\n",
       "    <tr>\n",
       "      <th>35</th>\n",
       "      <td>C</td>\n",
       "      <td>11</td>\n",
       "    </tr>\n",
       "    <tr>\n",
       "      <th>36</th>\n",
       "      <td>C</td>\n",
       "      <td>12</td>\n",
       "    </tr>\n",
       "    <tr>\n",
       "      <th>37</th>\n",
       "      <td>C</td>\n",
       "      <td>13</td>\n",
       "    </tr>\n",
       "    <tr>\n",
       "      <th>38</th>\n",
       "      <td>C</td>\n",
       "      <td>14</td>\n",
       "    </tr>\n",
       "    <tr>\n",
       "      <th>39</th>\n",
       "      <td>D</td>\n",
       "      <td>2</td>\n",
       "    </tr>\n",
       "    <tr>\n",
       "      <th>40</th>\n",
       "      <td>D</td>\n",
       "      <td>3</td>\n",
       "    </tr>\n",
       "    <tr>\n",
       "      <th>41</th>\n",
       "      <td>D</td>\n",
       "      <td>4</td>\n",
       "    </tr>\n",
       "    <tr>\n",
       "      <th>42</th>\n",
       "      <td>D</td>\n",
       "      <td>5</td>\n",
       "    </tr>\n",
       "    <tr>\n",
       "      <th>43</th>\n",
       "      <td>D</td>\n",
       "      <td>6</td>\n",
       "    </tr>\n",
       "    <tr>\n",
       "      <th>44</th>\n",
       "      <td>D</td>\n",
       "      <td>7</td>\n",
       "    </tr>\n",
       "    <tr>\n",
       "      <th>45</th>\n",
       "      <td>D</td>\n",
       "      <td>8</td>\n",
       "    </tr>\n",
       "    <tr>\n",
       "      <th>46</th>\n",
       "      <td>D</td>\n",
       "      <td>9</td>\n",
       "    </tr>\n",
       "    <tr>\n",
       "      <th>47</th>\n",
       "      <td>D</td>\n",
       "      <td>10</td>\n",
       "    </tr>\n",
       "    <tr>\n",
       "      <th>48</th>\n",
       "      <td>D</td>\n",
       "      <td>11</td>\n",
       "    </tr>\n",
       "    <tr>\n",
       "      <th>49</th>\n",
       "      <td>D</td>\n",
       "      <td>12</td>\n",
       "    </tr>\n",
       "    <tr>\n",
       "      <th>50</th>\n",
       "      <td>D</td>\n",
       "      <td>13</td>\n",
       "    </tr>\n",
       "    <tr>\n",
       "      <th>51</th>\n",
       "      <td>D</td>\n",
       "      <td>14</td>\n",
       "    </tr>\n",
       "  </tbody>\n",
       "</table>\n",
       "</div>"
      ],
      "text/plain": [
       "   suit  rank\n",
       "0     A     2\n",
       "1     A     3\n",
       "2     A     4\n",
       "3     A     5\n",
       "4     A     6\n",
       "5     A     7\n",
       "6     A     8\n",
       "7     A     9\n",
       "8     A    10\n",
       "9     A    11\n",
       "10    A    12\n",
       "11    A    13\n",
       "12    A    14\n",
       "13    B     2\n",
       "14    B     3\n",
       "15    B     4\n",
       "16    B     5\n",
       "17    B     6\n",
       "18    B     7\n",
       "19    B     8\n",
       "20    B     9\n",
       "21    B    10\n",
       "22    B    11\n",
       "23    B    12\n",
       "24    B    13\n",
       "25    B    14\n",
       "26    C     2\n",
       "27    C     3\n",
       "28    C     4\n",
       "29    C     5\n",
       "30    C     6\n",
       "31    C     7\n",
       "32    C     8\n",
       "33    C     9\n",
       "34    C    10\n",
       "35    C    11\n",
       "36    C    12\n",
       "37    C    13\n",
       "38    C    14\n",
       "39    D     2\n",
       "40    D     3\n",
       "41    D     4\n",
       "42    D     5\n",
       "43    D     6\n",
       "44    D     7\n",
       "45    D     8\n",
       "46    D     9\n",
       "47    D    10\n",
       "48    D    11\n",
       "49    D    12\n",
       "50    D    13\n",
       "51    D    14"
      ]
     },
     "execution_count": 8,
     "metadata": {},
     "output_type": "execute_result"
    }
   ],
   "source": [
    "deck.main_deck"
   ]
  },
  {
   "cell_type": "code",
   "execution_count": 9,
   "metadata": {
    "pycharm": {
     "name": "#%%\n"
    }
   },
   "outputs": [
    {
     "name": "stdout",
     "output_type": "stream",
     "text": [
      "Количество карт в колоде: 52\n"
     ]
    }
   ],
   "source": [
    "print(f'Количество карт в колоде: {len(deck.main_deck)}')"
   ]
  },
  {
   "cell_type": "markdown",
   "metadata": {
    "pycharm": {
     "name": "#%% md\n"
    }
   },
   "source": [
    "Извлекем одну карту:"
   ]
  },
  {
   "cell_type": "code",
   "execution_count": 10,
   "metadata": {
    "pycharm": {
     "name": "#%%\n"
    }
   },
   "outputs": [
    {
     "name": "stdout",
     "output_type": "stream",
     "text": [
      "Карта: \n",
      "   suit  rank\n",
      "12    A    14\n",
      "Количество карт в исходной колоде: 52\n",
      "Количество карт в остаточной колоде: 51\n"
     ]
    }
   ],
   "source": [
    "my_card = deck.sample()\n",
    "print(f'Карта: \\n{my_card}')\n",
    "print(f'Количество карт в исходной колоде: {len(deck.main_deck)}')\n",
    "print(f'Количество карт в остаточной колоде: {len(deck.current_deck)}')"
   ]
  },
  {
   "cell_type": "markdown",
   "metadata": {},
   "source": [
    "Извлекем 3 карты"
   ]
  },
  {
   "cell_type": "code",
   "execution_count": 11,
   "metadata": {
    "pycharm": {
     "name": "#%%\n"
    },
    "scrolled": true
   },
   "outputs": [
    {
     "name": "stdout",
     "output_type": "stream",
     "text": [
      "Карта: \n",
      "  suit  rank\n",
      "1    A     3\n",
      "2    A     4\n",
      "3    A     5\n",
      "Количество карт в исходной колоде: 52\n",
      "Количество карт в остаточной колоде: 48\n"
     ]
    }
   ],
   "source": [
    "my_card = deck.get_cards_index([1, 2, 3])\n",
    "print(f'Карта: \\n{my_card}')\n",
    "print(f'Количество карт в исходной колоде: {len(deck.main_deck)}')\n",
    "print(f'Количество карт в остаточной колоде: {len(deck.current_deck)}')"
   ]
  },
  {
   "cell_type": "markdown",
   "metadata": {},
   "source": [
    "Извлекем 5 карт (одна из низ была извлечена, поэтому возвращается 4)"
   ]
  },
  {
   "cell_type": "code",
   "execution_count": 12,
   "metadata": {
    "pycharm": {
     "name": "#%%\n"
    }
   },
   "outputs": [
    {
     "name": "stdout",
     "output_type": "stream",
     "text": [
      "Карта: \n",
      "  suit  rank\n",
      "0    A    13\n",
      "1    B    14\n",
      "2    C     7\n",
      "3    D     7\n",
      "Количество карт в исходной колоде: 52\n",
      "Количество карт в остаточной колоде: 44\n"
     ]
    }
   ],
   "source": [
    "my_card = deck.get_cards_name(['C7', 'D7', 'A5', 'A13', 'B14'])\n",
    "print(f'Карта: \\n{my_card}')\n",
    "print(f'Количество карт в исходной колоде: {len(deck.main_deck)}')\n",
    "print(f'Количество карт в остаточной колоде: {len(deck.current_deck)}')"
   ]
  },
  {
   "cell_type": "markdown",
   "metadata": {},
   "source": [
    "Извлекем 3 карты (две из низ были извлечены, поэтому возвращается 1)"
   ]
  },
  {
   "cell_type": "code",
   "execution_count": 13,
   "metadata": {
    "pycharm": {
     "name": "#%%\n"
    },
    "scrolled": true
   },
   "outputs": [
    {
     "name": "stdout",
     "output_type": "stream",
     "text": [
      "Карта: \n",
      "  suit  rank\n",
      "4    A     6\n",
      "Количество карт в исходной колоде: 52\n",
      "Количество карт в остаточной колоде: 43\n"
     ]
    }
   ],
   "source": [
    "my_card = deck.get_cards_index([1, 2, 4])\n",
    "print(f'Карта: \\n{my_card}')\n",
    "print(f'Количество карт в исходной колоде: {len(deck.main_deck)}')\n",
    "print(f'Количество карт в остаточной колоде: {len(deck.current_deck)}')"
   ]
  },
  {
   "cell_type": "markdown",
   "metadata": {},
   "source": [
    "Перепроверим оставшуюся колоду"
   ]
  },
  {
   "cell_type": "code",
   "execution_count": 14,
   "metadata": {
    "pycharm": {
     "name": "#%%\n"
    }
   },
   "outputs": [
    {
     "data": {
      "text/html": [
       "<div>\n",
       "<style scoped>\n",
       "    .dataframe tbody tr th:only-of-type {\n",
       "        vertical-align: middle;\n",
       "    }\n",
       "\n",
       "    .dataframe tbody tr th {\n",
       "        vertical-align: top;\n",
       "    }\n",
       "\n",
       "    .dataframe thead th {\n",
       "        text-align: right;\n",
       "    }\n",
       "</style>\n",
       "<table border=\"1\" class=\"dataframe\">\n",
       "  <thead>\n",
       "    <tr style=\"text-align: right;\">\n",
       "      <th></th>\n",
       "      <th>suit</th>\n",
       "      <th>rank</th>\n",
       "    </tr>\n",
       "  </thead>\n",
       "  <tbody>\n",
       "    <tr>\n",
       "      <th>0</th>\n",
       "      <td>A</td>\n",
       "      <td>2</td>\n",
       "    </tr>\n",
       "    <tr>\n",
       "      <th>5</th>\n",
       "      <td>A</td>\n",
       "      <td>7</td>\n",
       "    </tr>\n",
       "    <tr>\n",
       "      <th>6</th>\n",
       "      <td>A</td>\n",
       "      <td>8</td>\n",
       "    </tr>\n",
       "    <tr>\n",
       "      <th>7</th>\n",
       "      <td>A</td>\n",
       "      <td>9</td>\n",
       "    </tr>\n",
       "    <tr>\n",
       "      <th>8</th>\n",
       "      <td>A</td>\n",
       "      <td>10</td>\n",
       "    </tr>\n",
       "    <tr>\n",
       "      <th>9</th>\n",
       "      <td>A</td>\n",
       "      <td>11</td>\n",
       "    </tr>\n",
       "    <tr>\n",
       "      <th>10</th>\n",
       "      <td>A</td>\n",
       "      <td>12</td>\n",
       "    </tr>\n",
       "    <tr>\n",
       "      <th>13</th>\n",
       "      <td>B</td>\n",
       "      <td>2</td>\n",
       "    </tr>\n",
       "    <tr>\n",
       "      <th>14</th>\n",
       "      <td>B</td>\n",
       "      <td>3</td>\n",
       "    </tr>\n",
       "    <tr>\n",
       "      <th>15</th>\n",
       "      <td>B</td>\n",
       "      <td>4</td>\n",
       "    </tr>\n",
       "    <tr>\n",
       "      <th>16</th>\n",
       "      <td>B</td>\n",
       "      <td>5</td>\n",
       "    </tr>\n",
       "    <tr>\n",
       "      <th>17</th>\n",
       "      <td>B</td>\n",
       "      <td>6</td>\n",
       "    </tr>\n",
       "    <tr>\n",
       "      <th>18</th>\n",
       "      <td>B</td>\n",
       "      <td>7</td>\n",
       "    </tr>\n",
       "    <tr>\n",
       "      <th>19</th>\n",
       "      <td>B</td>\n",
       "      <td>8</td>\n",
       "    </tr>\n",
       "    <tr>\n",
       "      <th>20</th>\n",
       "      <td>B</td>\n",
       "      <td>9</td>\n",
       "    </tr>\n",
       "    <tr>\n",
       "      <th>21</th>\n",
       "      <td>B</td>\n",
       "      <td>10</td>\n",
       "    </tr>\n",
       "    <tr>\n",
       "      <th>22</th>\n",
       "      <td>B</td>\n",
       "      <td>11</td>\n",
       "    </tr>\n",
       "    <tr>\n",
       "      <th>23</th>\n",
       "      <td>B</td>\n",
       "      <td>12</td>\n",
       "    </tr>\n",
       "    <tr>\n",
       "      <th>24</th>\n",
       "      <td>B</td>\n",
       "      <td>13</td>\n",
       "    </tr>\n",
       "    <tr>\n",
       "      <th>26</th>\n",
       "      <td>C</td>\n",
       "      <td>2</td>\n",
       "    </tr>\n",
       "    <tr>\n",
       "      <th>27</th>\n",
       "      <td>C</td>\n",
       "      <td>3</td>\n",
       "    </tr>\n",
       "    <tr>\n",
       "      <th>28</th>\n",
       "      <td>C</td>\n",
       "      <td>4</td>\n",
       "    </tr>\n",
       "    <tr>\n",
       "      <th>29</th>\n",
       "      <td>C</td>\n",
       "      <td>5</td>\n",
       "    </tr>\n",
       "    <tr>\n",
       "      <th>30</th>\n",
       "      <td>C</td>\n",
       "      <td>6</td>\n",
       "    </tr>\n",
       "    <tr>\n",
       "      <th>32</th>\n",
       "      <td>C</td>\n",
       "      <td>8</td>\n",
       "    </tr>\n",
       "    <tr>\n",
       "      <th>33</th>\n",
       "      <td>C</td>\n",
       "      <td>9</td>\n",
       "    </tr>\n",
       "    <tr>\n",
       "      <th>34</th>\n",
       "      <td>C</td>\n",
       "      <td>10</td>\n",
       "    </tr>\n",
       "    <tr>\n",
       "      <th>35</th>\n",
       "      <td>C</td>\n",
       "      <td>11</td>\n",
       "    </tr>\n",
       "    <tr>\n",
       "      <th>36</th>\n",
       "      <td>C</td>\n",
       "      <td>12</td>\n",
       "    </tr>\n",
       "    <tr>\n",
       "      <th>37</th>\n",
       "      <td>C</td>\n",
       "      <td>13</td>\n",
       "    </tr>\n",
       "    <tr>\n",
       "      <th>38</th>\n",
       "      <td>C</td>\n",
       "      <td>14</td>\n",
       "    </tr>\n",
       "    <tr>\n",
       "      <th>39</th>\n",
       "      <td>D</td>\n",
       "      <td>2</td>\n",
       "    </tr>\n",
       "    <tr>\n",
       "      <th>40</th>\n",
       "      <td>D</td>\n",
       "      <td>3</td>\n",
       "    </tr>\n",
       "    <tr>\n",
       "      <th>41</th>\n",
       "      <td>D</td>\n",
       "      <td>4</td>\n",
       "    </tr>\n",
       "    <tr>\n",
       "      <th>42</th>\n",
       "      <td>D</td>\n",
       "      <td>5</td>\n",
       "    </tr>\n",
       "    <tr>\n",
       "      <th>43</th>\n",
       "      <td>D</td>\n",
       "      <td>6</td>\n",
       "    </tr>\n",
       "    <tr>\n",
       "      <th>45</th>\n",
       "      <td>D</td>\n",
       "      <td>8</td>\n",
       "    </tr>\n",
       "    <tr>\n",
       "      <th>46</th>\n",
       "      <td>D</td>\n",
       "      <td>9</td>\n",
       "    </tr>\n",
       "    <tr>\n",
       "      <th>47</th>\n",
       "      <td>D</td>\n",
       "      <td>10</td>\n",
       "    </tr>\n",
       "    <tr>\n",
       "      <th>48</th>\n",
       "      <td>D</td>\n",
       "      <td>11</td>\n",
       "    </tr>\n",
       "    <tr>\n",
       "      <th>49</th>\n",
       "      <td>D</td>\n",
       "      <td>12</td>\n",
       "    </tr>\n",
       "    <tr>\n",
       "      <th>50</th>\n",
       "      <td>D</td>\n",
       "      <td>13</td>\n",
       "    </tr>\n",
       "    <tr>\n",
       "      <th>51</th>\n",
       "      <td>D</td>\n",
       "      <td>14</td>\n",
       "    </tr>\n",
       "  </tbody>\n",
       "</table>\n",
       "</div>"
      ],
      "text/plain": [
       "   suit  rank\n",
       "0     A     2\n",
       "5     A     7\n",
       "6     A     8\n",
       "7     A     9\n",
       "8     A    10\n",
       "9     A    11\n",
       "10    A    12\n",
       "13    B     2\n",
       "14    B     3\n",
       "15    B     4\n",
       "16    B     5\n",
       "17    B     6\n",
       "18    B     7\n",
       "19    B     8\n",
       "20    B     9\n",
       "21    B    10\n",
       "22    B    11\n",
       "23    B    12\n",
       "24    B    13\n",
       "26    C     2\n",
       "27    C     3\n",
       "28    C     4\n",
       "29    C     5\n",
       "30    C     6\n",
       "32    C     8\n",
       "33    C     9\n",
       "34    C    10\n",
       "35    C    11\n",
       "36    C    12\n",
       "37    C    13\n",
       "38    C    14\n",
       "39    D     2\n",
       "40    D     3\n",
       "41    D     4\n",
       "42    D     5\n",
       "43    D     6\n",
       "45    D     8\n",
       "46    D     9\n",
       "47    D    10\n",
       "48    D    11\n",
       "49    D    12\n",
       "50    D    13\n",
       "51    D    14"
      ]
     },
     "execution_count": 14,
     "metadata": {},
     "output_type": "execute_result"
    }
   ],
   "source": [
    "deck.current_deck"
   ]
  },
  {
   "cell_type": "markdown",
   "metadata": {
    "pycharm": {
     "name": "#%% md\n"
    }
   },
   "source": [
    "Обновим колоду:"
   ]
  },
  {
   "cell_type": "code",
   "execution_count": 15,
   "metadata": {
    "pycharm": {
     "name": "#%%\n"
    }
   },
   "outputs": [
    {
     "name": "stdout",
     "output_type": "stream",
     "text": [
      "Количество карт в остаточной колоде: 43\n",
      "Перетусуем\n",
      "Количество карт в остаточной колоде: 52\n"
     ]
    }
   ],
   "source": [
    "print(f'Количество карт в остаточной колоде: {len(deck.current_deck)}')\n",
    "print('Перетусуем')\n",
    "deck.reset()\n",
    "print(f'Количество карт в остаточной колоде: {len(deck.current_deck)}')"
   ]
  },
  {
   "cell_type": "markdown",
   "metadata": {
    "pycharm": {
     "name": "#%% md\n"
    }
   },
   "source": [
    "Выложим стол:"
   ]
  },
  {
   "cell_type": "code",
   "execution_count": 16,
   "metadata": {
    "pycharm": {
     "name": "#%%\n"
    }
   },
   "outputs": [],
   "source": [
    "cards_on_table = deck.sample(7)"
   ]
  },
  {
   "cell_type": "code",
   "execution_count": 17,
   "metadata": {
    "pycharm": {
     "name": "#%%\n"
    }
   },
   "outputs": [
    {
     "data": {
      "text/html": [
       "<div>\n",
       "<style scoped>\n",
       "    .dataframe tbody tr th:only-of-type {\n",
       "        vertical-align: middle;\n",
       "    }\n",
       "\n",
       "    .dataframe tbody tr th {\n",
       "        vertical-align: top;\n",
       "    }\n",
       "\n",
       "    .dataframe thead th {\n",
       "        text-align: right;\n",
       "    }\n",
       "</style>\n",
       "<table border=\"1\" class=\"dataframe\">\n",
       "  <thead>\n",
       "    <tr style=\"text-align: right;\">\n",
       "      <th></th>\n",
       "      <th>suit</th>\n",
       "      <th>rank</th>\n",
       "    </tr>\n",
       "  </thead>\n",
       "  <tbody>\n",
       "    <tr>\n",
       "      <th>26</th>\n",
       "      <td>C</td>\n",
       "      <td>2</td>\n",
       "    </tr>\n",
       "    <tr>\n",
       "      <th>14</th>\n",
       "      <td>B</td>\n",
       "      <td>3</td>\n",
       "    </tr>\n",
       "    <tr>\n",
       "      <th>7</th>\n",
       "      <td>A</td>\n",
       "      <td>9</td>\n",
       "    </tr>\n",
       "    <tr>\n",
       "      <th>37</th>\n",
       "      <td>C</td>\n",
       "      <td>13</td>\n",
       "    </tr>\n",
       "    <tr>\n",
       "      <th>29</th>\n",
       "      <td>C</td>\n",
       "      <td>5</td>\n",
       "    </tr>\n",
       "    <tr>\n",
       "      <th>3</th>\n",
       "      <td>A</td>\n",
       "      <td>5</td>\n",
       "    </tr>\n",
       "    <tr>\n",
       "      <th>40</th>\n",
       "      <td>D</td>\n",
       "      <td>3</td>\n",
       "    </tr>\n",
       "  </tbody>\n",
       "</table>\n",
       "</div>"
      ],
      "text/plain": [
       "   suit  rank\n",
       "26    C     2\n",
       "14    B     3\n",
       "7     A     9\n",
       "37    C    13\n",
       "29    C     5\n",
       "3     A     5\n",
       "40    D     3"
      ]
     },
     "execution_count": 17,
     "metadata": {},
     "output_type": "execute_result"
    }
   ],
   "source": [
    "cards_on_table"
   ]
  },
  {
   "cell_type": "markdown",
   "metadata": {},
   "source": [
    "# Комбинации"
   ]
  },
  {
   "cell_type": "markdown",
   "metadata": {},
   "source": [
    "Функция получения лучшей комбинации"
   ]
  },
  {
   "cell_type": "code",
   "execution_count": 18,
   "metadata": {
    "pycharm": {
     "name": "#%%\n"
    }
   },
   "outputs": [],
   "source": [
    "# Работает Через DataFrame:\n",
    "#     - карты хранит в DF\n",
    "#     - поиск нужной комбинайии присходит через DF\n",
    "# Возвращает наименование комбинации и SCORE с учетом кикеров: чем выше SCORE, тем лучше комбинация\n",
    "def get_best_combination(cards, show_info=False):\n",
    "    # High Card (Старшая карта)\n",
    "    # Pair (Пара)\n",
    "    # Two Pair (Две пары)\n",
    "    # Three of a Kind (Сет или Тройка)\n",
    "    # Straight (Стрит)\n",
    "    # Flush (Флеш)\n",
    "    # Full House (Фул Хауз)\n",
    "    # Four of a Kind (Каре)\n",
    "    # Straight Flush (Стрит Флеш)\n",
    "    # Royal Straight Flush (Стрит Флеш Роял)\n",
    "    c = [\n",
    "        'High_Card',\n",
    "        'Pair',\n",
    "        'Two_Pair',\n",
    "        'Three_of_a_Kind',\n",
    "        'Straight',\n",
    "        'Flush',\n",
    "        'Full_House',\n",
    "        'Four_of_a_Kind',\n",
    "        'Straight_Flush',\n",
    "        'Royal_Straight_Flush'\n",
    "    ]\n",
    "\n",
    "    cards = pd.DataFrame({\n",
    "        'suit': np.array(cards)[:, 0],\n",
    "        'rank': np.array(cards)[:, 1]\n",
    "    })\n",
    "    kickers = [0] * 3\n",
    "\n",
    "    if show_info:\n",
    "        display(cards)\n",
    "\n",
    "    def n_duplicates(check_cards):\n",
    "        return check_cards['rank'].value_counts().max()\n",
    "\n",
    "    def is_twopair(check_cards):\n",
    "        value_counts = check_cards['rank'].value_counts().values\n",
    "        return value_counts[0] > 1 and value_counts[1] > 1\n",
    "\n",
    "    def flush_set(check_cards):\n",
    "        most_frequent = check_cards['suit'].value_counts().idxmax()\n",
    "        return check_cards[check_cards['suit'] == most_frequent]['rank']\n",
    "\n",
    "    def straight_set(ranks):\n",
    "        if 14 in ranks.values:\n",
    "            ranks = pd.concat([ranks, pd.Series([1]*sum(ranks == 14))])\n",
    "        ranks_list = sorted(ranks.unique())\n",
    "        seq = [{ranks_list[0]}]\n",
    "        i = 0\n",
    "        for j in range(len(ranks_list)-1):\n",
    "            if ranks_list[j+1] - ranks_list[j] == 1:\n",
    "                seq[i].add(ranks_list[j])\n",
    "                seq[i].add(ranks_list[j+1])\n",
    "            else:\n",
    "                i += 1\n",
    "                seq.append({ranks_list[j+1]})\n",
    "        max_seq = max(seq, key=lambda x: (len(x), max(x)))\n",
    "        return pd.Series(sorted(max_seq), name='rank')\n",
    "\n",
    "    def get_simple_kickers(ranks, twin_comb=1):\n",
    "        super_set = ranks.value_counts().reset_index().sort_values(['rank', 'index'], ascending=False).reset_index(drop=True)\n",
    "        if show_info:\n",
    "            print('Super_set:')\n",
    "            display(super_set)\n",
    "        if twin_comb > 1:\n",
    "            return super_set['index'][:twin_comb-1].to_list() + [super_set['index'][twin_comb-1]] #* (6 - twin_comb) #как показал pytest - это лишнее\n",
    "        else:\n",
    "            return super_set['index'][:5].to_list()\n",
    "\n",
    "    straight_flush = straight_set(flush_set(cards))\n",
    "    if len(straight_flush) >= 5:\n",
    "        if straight_flush.max() == 14: # Royal Straight Flush (Стрит Флеш Роял)\n",
    "            score = 9\n",
    "        else: # Straight Flush (Стрит Флеш)\n",
    "            score = 8\n",
    "            kickers = get_simple_kickers(straight_flush)\n",
    "    elif n_duplicates(cards) == 4: # Four of a Kind (Каре)\n",
    "        score = 7\n",
    "        kickers = get_simple_kickers(cards['rank'], twin_comb=2)\n",
    "    elif n_duplicates(cards) == 3 and is_twopair(cards): # Full House (Фул Хауз)\n",
    "        score = 6\n",
    "        kickers = get_simple_kickers(cards['rank'], twin_comb=2)\n",
    "    elif len(flush_set(cards)) >= 5: # Flush (Флеш)\n",
    "        score = 5\n",
    "        kickers = get_simple_kickers(flush_set(cards))\n",
    "    elif len(straight_set(cards['rank'])) >= 5: # Straight (Стрит)\n",
    "        score = 4\n",
    "        kickers = get_simple_kickers(straight_set(cards['rank']))\n",
    "    elif n_duplicates(cards) == 3: # Three of a Kind (Сет или Тройка)\n",
    "        score = 3\n",
    "        kickers = get_simple_kickers(cards['rank'], twin_comb=3)\n",
    "    elif is_twopair(cards): # Two Pair (Две пары)\n",
    "        score = 2\n",
    "        kickers = get_simple_kickers(cards['rank'], twin_comb=3)\n",
    "    elif n_duplicates(cards) == 2: # Pair (Пара)\n",
    "        score = 1\n",
    "        kickers = get_simple_kickers(cards['rank'], twin_comb=4)\n",
    "    else: # High Card (Старшая карта)\n",
    "        score = 0\n",
    "        kickers = get_simple_kickers(cards['rank'])\n",
    "\n",
    "    return c[score], score * (100**5*10) + sum([kickers[i] * 100**(4-i)  for i in range(len(kickers))])\n"
   ]
  },
  {
   "cell_type": "markdown",
   "metadata": {
    "pycharm": {
     "name": "#%% md\n"
    }
   },
   "source": [
    "Проверим случайную комбинацию:"
   ]
  },
  {
   "cell_type": "code",
   "execution_count": 19,
   "metadata": {
    "pycharm": {
     "name": "#%%\n"
    }
   },
   "outputs": [
    {
     "data": {
      "text/html": [
       "<div>\n",
       "<style scoped>\n",
       "    .dataframe tbody tr th:only-of-type {\n",
       "        vertical-align: middle;\n",
       "    }\n",
       "\n",
       "    .dataframe tbody tr th {\n",
       "        vertical-align: top;\n",
       "    }\n",
       "\n",
       "    .dataframe thead th {\n",
       "        text-align: right;\n",
       "    }\n",
       "</style>\n",
       "<table border=\"1\" class=\"dataframe\">\n",
       "  <thead>\n",
       "    <tr style=\"text-align: right;\">\n",
       "      <th></th>\n",
       "      <th>suit</th>\n",
       "      <th>rank</th>\n",
       "    </tr>\n",
       "  </thead>\n",
       "  <tbody>\n",
       "    <tr>\n",
       "      <th>0</th>\n",
       "      <td>A</td>\n",
       "      <td>7</td>\n",
       "    </tr>\n",
       "    <tr>\n",
       "      <th>1</th>\n",
       "      <td>A</td>\n",
       "      <td>3</td>\n",
       "    </tr>\n",
       "    <tr>\n",
       "      <th>2</th>\n",
       "      <td>B</td>\n",
       "      <td>12</td>\n",
       "    </tr>\n",
       "    <tr>\n",
       "      <th>3</th>\n",
       "      <td>B</td>\n",
       "      <td>4</td>\n",
       "    </tr>\n",
       "    <tr>\n",
       "      <th>4</th>\n",
       "      <td>A</td>\n",
       "      <td>14</td>\n",
       "    </tr>\n",
       "    <tr>\n",
       "      <th>5</th>\n",
       "      <td>B</td>\n",
       "      <td>5</td>\n",
       "    </tr>\n",
       "    <tr>\n",
       "      <th>6</th>\n",
       "      <td>D</td>\n",
       "      <td>6</td>\n",
       "    </tr>\n",
       "  </tbody>\n",
       "</table>\n",
       "</div>"
      ],
      "text/plain": [
       "  suit rank\n",
       "0    A    7\n",
       "1    A    3\n",
       "2    B   12\n",
       "3    B    4\n",
       "4    A   14\n",
       "5    B    5\n",
       "6    D    6"
      ]
     },
     "metadata": {},
     "output_type": "display_data"
    },
    {
     "name": "stdout",
     "output_type": "stream",
     "text": [
      "Super_set:\n"
     ]
    },
    {
     "data": {
      "text/html": [
       "<div>\n",
       "<style scoped>\n",
       "    .dataframe tbody tr th:only-of-type {\n",
       "        vertical-align: middle;\n",
       "    }\n",
       "\n",
       "    .dataframe tbody tr th {\n",
       "        vertical-align: top;\n",
       "    }\n",
       "\n",
       "    .dataframe thead th {\n",
       "        text-align: right;\n",
       "    }\n",
       "</style>\n",
       "<table border=\"1\" class=\"dataframe\">\n",
       "  <thead>\n",
       "    <tr style=\"text-align: right;\">\n",
       "      <th></th>\n",
       "      <th>index</th>\n",
       "      <th>rank</th>\n",
       "    </tr>\n",
       "  </thead>\n",
       "  <tbody>\n",
       "    <tr>\n",
       "      <th>0</th>\n",
       "      <td>7</td>\n",
       "      <td>1</td>\n",
       "    </tr>\n",
       "    <tr>\n",
       "      <th>1</th>\n",
       "      <td>6</td>\n",
       "      <td>1</td>\n",
       "    </tr>\n",
       "    <tr>\n",
       "      <th>2</th>\n",
       "      <td>5</td>\n",
       "      <td>1</td>\n",
       "    </tr>\n",
       "    <tr>\n",
       "      <th>3</th>\n",
       "      <td>4</td>\n",
       "      <td>1</td>\n",
       "    </tr>\n",
       "    <tr>\n",
       "      <th>4</th>\n",
       "      <td>3</td>\n",
       "      <td>1</td>\n",
       "    </tr>\n",
       "  </tbody>\n",
       "</table>\n",
       "</div>"
      ],
      "text/plain": [
       "   index  rank\n",
       "0      7     1\n",
       "1      6     1\n",
       "2      5     1\n",
       "3      4     1\n",
       "4      3     1"
      ]
     },
     "metadata": {},
     "output_type": "display_data"
    },
    {
     "name": "stdout",
     "output_type": "stream",
     "text": [
      "('Straight', 400706050403)\n",
      "\n",
      "Остаток карт: 38\n"
     ]
    }
   ],
   "source": [
    "print(get_best_combination(deck.sample(7), show_info=True))\n",
    "print('\\nОстаток карт:', len(deck.current_deck))"
   ]
  },
  {
   "cell_type": "markdown",
   "metadata": {},
   "source": [
    "Проверим заданную комбинацию \"Каре\""
   ]
  },
  {
   "cell_type": "code",
   "execution_count": 20,
   "metadata": {},
   "outputs": [
    {
     "data": {
      "text/html": [
       "<div>\n",
       "<style scoped>\n",
       "    .dataframe tbody tr th:only-of-type {\n",
       "        vertical-align: middle;\n",
       "    }\n",
       "\n",
       "    .dataframe tbody tr th {\n",
       "        vertical-align: top;\n",
       "    }\n",
       "\n",
       "    .dataframe thead th {\n",
       "        text-align: right;\n",
       "    }\n",
       "</style>\n",
       "<table border=\"1\" class=\"dataframe\">\n",
       "  <thead>\n",
       "    <tr style=\"text-align: right;\">\n",
       "      <th></th>\n",
       "      <th>suit</th>\n",
       "      <th>rank</th>\n",
       "    </tr>\n",
       "  </thead>\n",
       "  <tbody>\n",
       "    <tr>\n",
       "      <th>0</th>\n",
       "      <td>A</td>\n",
       "      <td>7</td>\n",
       "    </tr>\n",
       "    <tr>\n",
       "      <th>1</th>\n",
       "      <td>B</td>\n",
       "      <td>7</td>\n",
       "    </tr>\n",
       "    <tr>\n",
       "      <th>2</th>\n",
       "      <td>C</td>\n",
       "      <td>7</td>\n",
       "    </tr>\n",
       "    <tr>\n",
       "      <th>3</th>\n",
       "      <td>D</td>\n",
       "      <td>7</td>\n",
       "    </tr>\n",
       "    <tr>\n",
       "      <th>4</th>\n",
       "      <td>A</td>\n",
       "      <td>10</td>\n",
       "    </tr>\n",
       "    <tr>\n",
       "      <th>5</th>\n",
       "      <td>B</td>\n",
       "      <td>2</td>\n",
       "    </tr>\n",
       "    <tr>\n",
       "      <th>6</th>\n",
       "      <td>C</td>\n",
       "      <td>6</td>\n",
       "    </tr>\n",
       "  </tbody>\n",
       "</table>\n",
       "</div>"
      ],
      "text/plain": [
       "  suit rank\n",
       "0    A    7\n",
       "1    B    7\n",
       "2    C    7\n",
       "3    D    7\n",
       "4    A   10\n",
       "5    B    2\n",
       "6    C    6"
      ]
     },
     "metadata": {},
     "output_type": "display_data"
    },
    {
     "name": "stdout",
     "output_type": "stream",
     "text": [
      "Super_set:\n"
     ]
    },
    {
     "data": {
      "text/html": [
       "<div>\n",
       "<style scoped>\n",
       "    .dataframe tbody tr th:only-of-type {\n",
       "        vertical-align: middle;\n",
       "    }\n",
       "\n",
       "    .dataframe tbody tr th {\n",
       "        vertical-align: top;\n",
       "    }\n",
       "\n",
       "    .dataframe thead th {\n",
       "        text-align: right;\n",
       "    }\n",
       "</style>\n",
       "<table border=\"1\" class=\"dataframe\">\n",
       "  <thead>\n",
       "    <tr style=\"text-align: right;\">\n",
       "      <th></th>\n",
       "      <th>index</th>\n",
       "      <th>rank</th>\n",
       "    </tr>\n",
       "  </thead>\n",
       "  <tbody>\n",
       "    <tr>\n",
       "      <th>0</th>\n",
       "      <td>7</td>\n",
       "      <td>4</td>\n",
       "    </tr>\n",
       "    <tr>\n",
       "      <th>1</th>\n",
       "      <td>10</td>\n",
       "      <td>1</td>\n",
       "    </tr>\n",
       "    <tr>\n",
       "      <th>2</th>\n",
       "      <td>6</td>\n",
       "      <td>1</td>\n",
       "    </tr>\n",
       "    <tr>\n",
       "      <th>3</th>\n",
       "      <td>2</td>\n",
       "      <td>1</td>\n",
       "    </tr>\n",
       "  </tbody>\n",
       "</table>\n",
       "</div>"
      ],
      "text/plain": [
       "   index  rank\n",
       "0      7     4\n",
       "1     10     1\n",
       "2      6     1\n",
       "3      2     1"
      ]
     },
     "metadata": {},
     "output_type": "display_data"
    },
    {
     "data": {
      "text/plain": [
       "('Four_of_a_Kind', 700710000000)"
      ]
     },
     "execution_count": 20,
     "metadata": {},
     "output_type": "execute_result"
    }
   ],
   "source": [
    "sample = ['A7', 'B7', 'C7', 'D7', 'A10', 'B2', 'C6']\n",
    "get_best_combination(Deck.get_df_cards(sample), show_info=True)"
   ]
  },
  {
   "cell_type": "code",
   "execution_count": 21,
   "metadata": {},
   "outputs": [
    {
     "data": {
      "text/plain": [
       "('Four_of_a_Kind', 700710000000)"
      ]
     },
     "execution_count": 21,
     "metadata": {},
     "output_type": "execute_result"
    }
   ],
   "source": [
    "get_best_combination(Deck.get_df_cards(sample))"
   ]
  },
  {
   "cell_type": "code",
   "execution_count": 22,
   "metadata": {},
   "outputs": [
    {
     "data": {
      "text/plain": [
       "('Straight', 400504030201)"
      ]
     },
     "execution_count": 22,
     "metadata": {},
     "output_type": "execute_result"
    }
   ],
   "source": [
    "sample = ['A14', 'A2', 'B3', 'C4', 'D5', 'A4', 'B10',]\n",
    "get_best_combination(Deck.get_df_cards(sample))"
   ]
  },
  {
   "cell_type": "markdown",
   "metadata": {},
   "source": [
    "Проверим заданную комбинацию \"Стрит\""
   ]
  },
  {
   "cell_type": "code",
   "execution_count": 23,
   "metadata": {},
   "outputs": [
    {
     "data": {
      "text/plain": [
       "('Straight', 400504030201)"
      ]
     },
     "execution_count": 23,
     "metadata": {},
     "output_type": "execute_result"
    }
   ],
   "source": [
    "sample = ['A14', 'A2', 'B3', 'C4', 'D5', 'A4', 'B10',]\n",
    "get_best_combination(Deck.get_df_cards(sample))"
   ]
  },
  {
   "cell_type": "markdown",
   "metadata": {
    "pycharm": {
     "name": "#%% md\n"
    }
   },
   "source": [
    "---"
   ]
  },
  {
   "cell_type": "code",
   "execution_count": 24,
   "metadata": {},
   "outputs": [],
   "source": [
    "deck.reset()"
   ]
  },
  {
   "cell_type": "markdown",
   "metadata": {
    "pycharm": {
     "name": "#%% md\n"
    }
   },
   "source": [
    "# Разбор вероятностей:"
   ]
  },
  {
   "cell_type": "markdown",
   "metadata": {},
   "source": [
    "## Комбинации карт на руку"
   ]
  },
  {
   "cell_type": "markdown",
   "metadata": {},
   "source": [
    "Количество возможных комбинаций карт на руку (2 карты из 52-х):"
   ]
  },
  {
   "cell_type": "markdown",
   "metadata": {},
   "source": [
    "1) С учетом размещения (уникальные сочетания и расположения по порядку):"
   ]
  },
  {
   "cell_type": "markdown",
   "metadata": {},
   "source": [
    "$$\n",
    "A_{n}^m = (n - m + 1)()\\cdot\\ldots\\cdot(n-1)n = 52 \\cdot 51 = 2652\n",
    "$$"
   ]
  },
  {
   "cell_type": "code",
   "execution_count": 25,
   "metadata": {
    "pycharm": {
     "name": "#%%\n"
    }
   },
   "outputs": [
    {
     "name": "stdout",
     "output_type": "stream",
     "text": [
      "Wall time: 1.01 s\n"
     ]
    },
    {
     "data": {
      "text/html": [
       "<div>\n",
       "<style scoped>\n",
       "    .dataframe tbody tr th:only-of-type {\n",
       "        vertical-align: middle;\n",
       "    }\n",
       "\n",
       "    .dataframe tbody tr th {\n",
       "        vertical-align: top;\n",
       "    }\n",
       "\n",
       "    .dataframe thead th {\n",
       "        text-align: right;\n",
       "    }\n",
       "</style>\n",
       "<table border=\"1\" class=\"dataframe\">\n",
       "  <thead>\n",
       "    <tr style=\"text-align: right;\">\n",
       "      <th></th>\n",
       "      <th>index_1</th>\n",
       "      <th>index_2</th>\n",
       "      <th>hand_1</th>\n",
       "      <th>hand_2</th>\n",
       "    </tr>\n",
       "  </thead>\n",
       "  <tbody>\n",
       "    <tr>\n",
       "      <th>0</th>\n",
       "      <td>0</td>\n",
       "      <td>1</td>\n",
       "      <td>(A, 2)</td>\n",
       "      <td>(A, 3)</td>\n",
       "    </tr>\n",
       "    <tr>\n",
       "      <th>1</th>\n",
       "      <td>0</td>\n",
       "      <td>2</td>\n",
       "      <td>(A, 2)</td>\n",
       "      <td>(A, 4)</td>\n",
       "    </tr>\n",
       "    <tr>\n",
       "      <th>2</th>\n",
       "      <td>0</td>\n",
       "      <td>3</td>\n",
       "      <td>(A, 2)</td>\n",
       "      <td>(A, 5)</td>\n",
       "    </tr>\n",
       "    <tr>\n",
       "      <th>3</th>\n",
       "      <td>0</td>\n",
       "      <td>4</td>\n",
       "      <td>(A, 2)</td>\n",
       "      <td>(A, 6)</td>\n",
       "    </tr>\n",
       "    <tr>\n",
       "      <th>4</th>\n",
       "      <td>0</td>\n",
       "      <td>5</td>\n",
       "      <td>(A, 2)</td>\n",
       "      <td>(A, 7)</td>\n",
       "    </tr>\n",
       "    <tr>\n",
       "      <th>...</th>\n",
       "      <td>...</td>\n",
       "      <td>...</td>\n",
       "      <td>...</td>\n",
       "      <td>...</td>\n",
       "    </tr>\n",
       "    <tr>\n",
       "      <th>2647</th>\n",
       "      <td>51</td>\n",
       "      <td>46</td>\n",
       "      <td>(D, 14)</td>\n",
       "      <td>(D, 9)</td>\n",
       "    </tr>\n",
       "    <tr>\n",
       "      <th>2648</th>\n",
       "      <td>51</td>\n",
       "      <td>47</td>\n",
       "      <td>(D, 14)</td>\n",
       "      <td>(D, 10)</td>\n",
       "    </tr>\n",
       "    <tr>\n",
       "      <th>2649</th>\n",
       "      <td>51</td>\n",
       "      <td>48</td>\n",
       "      <td>(D, 11)</td>\n",
       "      <td>(D, 14)</td>\n",
       "    </tr>\n",
       "    <tr>\n",
       "      <th>2650</th>\n",
       "      <td>51</td>\n",
       "      <td>49</td>\n",
       "      <td>(D, 12)</td>\n",
       "      <td>(D, 14)</td>\n",
       "    </tr>\n",
       "    <tr>\n",
       "      <th>2651</th>\n",
       "      <td>51</td>\n",
       "      <td>50</td>\n",
       "      <td>(D, 13)</td>\n",
       "      <td>(D, 14)</td>\n",
       "    </tr>\n",
       "  </tbody>\n",
       "</table>\n",
       "<p>2652 rows × 4 columns</p>\n",
       "</div>"
      ],
      "text/plain": [
       "      index_1  index_2   hand_1   hand_2\n",
       "0           0        1   (A, 2)   (A, 3)\n",
       "1           0        2   (A, 2)   (A, 4)\n",
       "2           0        3   (A, 2)   (A, 5)\n",
       "3           0        4   (A, 2)   (A, 6)\n",
       "4           0        5   (A, 2)   (A, 7)\n",
       "...       ...      ...      ...      ...\n",
       "2647       51       46  (D, 14)   (D, 9)\n",
       "2648       51       47  (D, 14)  (D, 10)\n",
       "2649       51       48  (D, 11)  (D, 14)\n",
       "2650       51       49  (D, 12)  (D, 14)\n",
       "2651       51       50  (D, 13)  (D, 14)\n",
       "\n",
       "[2652 rows x 4 columns]"
      ]
     },
     "execution_count": 25,
     "metadata": {},
     "output_type": "execute_result"
    }
   ],
   "source": [
    "%%time\n",
    "result = {\n",
    "    'index_1': [],\n",
    "    'index_2': [],\n",
    "    'hand_1': [],\n",
    "    'hand_2': []\n",
    "}\n",
    "for i, j in product(range(13*4), range(13*4)):\n",
    "    deck.reset()\n",
    "    if i == j:\n",
    "        continue\n",
    "    result['index_1'].append(i)\n",
    "    result['index_2'].append(j)\n",
    "    cards = deck.get_cards_index([i, j]).values\n",
    "    result['hand_1'].append(tuple(cards[0]))\n",
    "    result['hand_2'].append(tuple(cards[1]))\n",
    "pd.DataFrame(result)\n",
    "# result"
   ]
  },
  {
   "cell_type": "markdown",
   "metadata": {},
   "source": [
    "1) Без учета размещения (только уникальыне сочетания):"
   ]
  },
  {
   "cell_type": "markdown",
   "metadata": {},
   "source": [
    "$$\n",
    "C_{n}^m = \\frac{n!}{(n-m)!\\cdot m!} = \\frac{52!}{(52-2)!\\cdot 2!} = \\frac{50! \\cdot 51 \\cdot 52}{50!\\cdot 2!} = \\frac{51 \\cdot 52}{1 \\cdot 2} = 51 \\cdot 26 = 1326\n",
    "$$"
   ]
  },
  {
   "cell_type": "code",
   "execution_count": 26,
   "metadata": {},
   "outputs": [
    {
     "name": "stdout",
     "output_type": "stream",
     "text": [
      "Wall time: 449 ms\n"
     ]
    },
    {
     "data": {
      "text/html": [
       "<div>\n",
       "<style scoped>\n",
       "    .dataframe tbody tr th:only-of-type {\n",
       "        vertical-align: middle;\n",
       "    }\n",
       "\n",
       "    .dataframe tbody tr th {\n",
       "        vertical-align: top;\n",
       "    }\n",
       "\n",
       "    .dataframe thead th {\n",
       "        text-align: right;\n",
       "    }\n",
       "</style>\n",
       "<table border=\"1\" class=\"dataframe\">\n",
       "  <thead>\n",
       "    <tr style=\"text-align: right;\">\n",
       "      <th></th>\n",
       "      <th>index_1</th>\n",
       "      <th>index_2</th>\n",
       "      <th>hand_1</th>\n",
       "      <th>hand_2</th>\n",
       "    </tr>\n",
       "  </thead>\n",
       "  <tbody>\n",
       "    <tr>\n",
       "      <th>0</th>\n",
       "      <td>0</td>\n",
       "      <td>1</td>\n",
       "      <td>(A, 2)</td>\n",
       "      <td>(A, 3)</td>\n",
       "    </tr>\n",
       "    <tr>\n",
       "      <th>1</th>\n",
       "      <td>0</td>\n",
       "      <td>2</td>\n",
       "      <td>(A, 2)</td>\n",
       "      <td>(A, 4)</td>\n",
       "    </tr>\n",
       "    <tr>\n",
       "      <th>2</th>\n",
       "      <td>0</td>\n",
       "      <td>3</td>\n",
       "      <td>(A, 2)</td>\n",
       "      <td>(A, 5)</td>\n",
       "    </tr>\n",
       "    <tr>\n",
       "      <th>3</th>\n",
       "      <td>0</td>\n",
       "      <td>4</td>\n",
       "      <td>(A, 2)</td>\n",
       "      <td>(A, 6)</td>\n",
       "    </tr>\n",
       "    <tr>\n",
       "      <th>4</th>\n",
       "      <td>0</td>\n",
       "      <td>5</td>\n",
       "      <td>(A, 2)</td>\n",
       "      <td>(A, 7)</td>\n",
       "    </tr>\n",
       "    <tr>\n",
       "      <th>...</th>\n",
       "      <td>...</td>\n",
       "      <td>...</td>\n",
       "      <td>...</td>\n",
       "      <td>...</td>\n",
       "    </tr>\n",
       "    <tr>\n",
       "      <th>1321</th>\n",
       "      <td>48</td>\n",
       "      <td>50</td>\n",
       "      <td>(D, 11)</td>\n",
       "      <td>(D, 13)</td>\n",
       "    </tr>\n",
       "    <tr>\n",
       "      <th>1322</th>\n",
       "      <td>48</td>\n",
       "      <td>51</td>\n",
       "      <td>(D, 11)</td>\n",
       "      <td>(D, 14)</td>\n",
       "    </tr>\n",
       "    <tr>\n",
       "      <th>1323</th>\n",
       "      <td>49</td>\n",
       "      <td>50</td>\n",
       "      <td>(D, 12)</td>\n",
       "      <td>(D, 13)</td>\n",
       "    </tr>\n",
       "    <tr>\n",
       "      <th>1324</th>\n",
       "      <td>49</td>\n",
       "      <td>51</td>\n",
       "      <td>(D, 12)</td>\n",
       "      <td>(D, 14)</td>\n",
       "    </tr>\n",
       "    <tr>\n",
       "      <th>1325</th>\n",
       "      <td>50</td>\n",
       "      <td>51</td>\n",
       "      <td>(D, 13)</td>\n",
       "      <td>(D, 14)</td>\n",
       "    </tr>\n",
       "  </tbody>\n",
       "</table>\n",
       "<p>1326 rows × 4 columns</p>\n",
       "</div>"
      ],
      "text/plain": [
       "      index_1  index_2   hand_1   hand_2\n",
       "0           0        1   (A, 2)   (A, 3)\n",
       "1           0        2   (A, 2)   (A, 4)\n",
       "2           0        3   (A, 2)   (A, 5)\n",
       "3           0        4   (A, 2)   (A, 6)\n",
       "4           0        5   (A, 2)   (A, 7)\n",
       "...       ...      ...      ...      ...\n",
       "1321       48       50  (D, 11)  (D, 13)\n",
       "1322       48       51  (D, 11)  (D, 14)\n",
       "1323       49       50  (D, 12)  (D, 13)\n",
       "1324       49       51  (D, 12)  (D, 14)\n",
       "1325       50       51  (D, 13)  (D, 14)\n",
       "\n",
       "[1326 rows x 4 columns]"
      ]
     },
     "execution_count": 26,
     "metadata": {},
     "output_type": "execute_result"
    }
   ],
   "source": [
    "%%time\n",
    "result = {\n",
    "    'index_1': [],\n",
    "    'index_2': [],\n",
    "    'hand_1': [],\n",
    "    'hand_2': []\n",
    "}\n",
    "for i in range(13*4):\n",
    "    deck.reset()\n",
    "    card_1 = tuple(deck.get_cards_index([i]).values[0])\n",
    "    for j in range(i+1, 13*4):\n",
    "        result['index_1'].append(i)\n",
    "        result['index_2'].append(j)\n",
    "        card_2 = tuple(deck.get_cards_index([j]).values[0])\n",
    "        result['hand_1'].append(card_1)\n",
    "        result['hand_2'].append(card_2)\n",
    "pd.DataFrame(result)"
   ]
  },
  {
   "cell_type": "markdown",
   "metadata": {},
   "source": [
    "## Комбинации стола"
   ]
  },
  {
   "cell_type": "markdown",
   "metadata": {},
   "source": [
    "Количество комбинаций стола (5 карт из 50, т.е. без учета 2-х карт на руке):\n",
    "\n",
    "$$\n",
    "A_{n}^m = (n - m + 1)()\\cdot\\ldots\\cdot(n-1)n = 50 \\cdot 49 \\cdot 48 \\cdot 47 \\cdot 46 = 254'251'200\n",
    "$$"
   ]
  },
  {
   "cell_type": "code",
   "execution_count": 27,
   "metadata": {},
   "outputs": [
    {
     "name": "stdout",
     "output_type": "stream",
     "text": [
      "Amn = 254251200\n"
     ]
    }
   ],
   "source": [
    "print(f'Amn = {reduce(operator.mul, range(46, 51), 1)}')"
   ]
  },
  {
   "cell_type": "code",
   "execution_count": 28,
   "metadata": {
    "pycharm": {
     "is_executing": true,
     "name": "#%%\n"
    }
   },
   "outputs": [
    {
     "name": "stdout",
     "output_type": "stream",
     "text": [
      "Wall time: 0 ns\n"
     ]
    }
   ],
   "source": [
    "%%time\n",
    "# запускать этот код бесполезно - количество комбинаций 254_251_200\n",
    "\n",
    "# seq_len = 50\n",
    "# count_comb = 5\n",
    "# result = []\n",
    "# for list_0 in product(*([range(seq_len)] * count_comb)):\n",
    "#     # print(list_0, set(list_0))\n",
    "#     if len(set(list_0)) < count_comb:\n",
    "#         continue\n",
    "#     result.append(list_0)\n",
    "\n",
    "# pd.DataFrame(result)"
   ]
  },
  {
   "cell_type": "markdown",
   "metadata": {},
   "source": [
    "---"
   ]
  },
  {
   "cell_type": "code",
   "execution_count": 29,
   "metadata": {},
   "outputs": [],
   "source": [
    "deck.reset()"
   ]
  },
  {
   "cell_type": "markdown",
   "metadata": {},
   "source": [
    "## Проверим работу алгоритма на известных вероятностях из сети"
   ]
  },
  {
   "cell_type": "markdown",
   "metadata": {},
   "source": [
    "Возбмем в сети из открытого доступа табицы известных покерных вероятностей и проверим на них работу алгоритма."
   ]
  },
  {
   "cell_type": "code",
   "execution_count": 30,
   "metadata": {},
   "outputs": [],
   "source": [
    "screenshots = [\n",
    "    {'image_name': 'Screenshot_1', 'open_count': 4, 'lay_count': 5},\n",
    "    {'image_name': 'Screenshot_2', 'open_count': 2, 'lay_count': 3},\n",
    "    {'image_name': 'Screenshot_3', 'open_count': 2, 'lay_count': 3},\n",
    "    {'image_name': 'Screenshot_4', 'open_count': 0, 'lay_count': 2},\n",
    "    {'image_name': 'Screenshot_5', 'open_count': 2, 'lay_count': 3},\n",
    "    {'image_name': 'Screenshot_6', 'open_count': 2, 'lay_count': 3},\n",
    "    {'image_name': 'Screenshot_7', 'open_count': 0, 'lay_count': 3},\n",
    "    {'image_name': 'Screenshot_9', 'open_count': 5, 'lay_count': 1},\n",
    "    {'image_name': 'Screenshot_10', 'open_count': 5, 'lay_count': 2},\n",
    "    {'image_name': 'Screenshot_11', 'open_count': 6, 'lay_count': 1},\n",
    "]\n",
    "\n",
    "for i in range(len(screenshots)):\n",
    "    screenshots[i]['Amn'] = reduce(operator.mul, range(53 - screenshots[i]['open_count'] - screenshots[i]['lay_count'], 53 - screenshots[i]['open_count']), 1)\n",
    "    "
   ]
  },
  {
   "cell_type": "code",
   "execution_count": 31,
   "metadata": {},
   "outputs": [
    {
     "data": {
      "text/html": [
       "<div>\n",
       "<style scoped>\n",
       "    .dataframe tbody tr th:only-of-type {\n",
       "        vertical-align: middle;\n",
       "    }\n",
       "\n",
       "    .dataframe tbody tr th {\n",
       "        vertical-align: top;\n",
       "    }\n",
       "\n",
       "    .dataframe thead th {\n",
       "        text-align: right;\n",
       "    }\n",
       "</style>\n",
       "<table border=\"1\" class=\"dataframe\">\n",
       "  <thead>\n",
       "    <tr style=\"text-align: right;\">\n",
       "      <th></th>\n",
       "      <th>image_name</th>\n",
       "      <th>open_count</th>\n",
       "      <th>lay_count</th>\n",
       "      <th>Amn</th>\n",
       "    </tr>\n",
       "  </thead>\n",
       "  <tbody>\n",
       "    <tr>\n",
       "      <th>0</th>\n",
       "      <td>Screenshot_11</td>\n",
       "      <td>6</td>\n",
       "      <td>1</td>\n",
       "      <td>46</td>\n",
       "    </tr>\n",
       "    <tr>\n",
       "      <th>1</th>\n",
       "      <td>Screenshot_9</td>\n",
       "      <td>5</td>\n",
       "      <td>1</td>\n",
       "      <td>47</td>\n",
       "    </tr>\n",
       "    <tr>\n",
       "      <th>2</th>\n",
       "      <td>Screenshot_10</td>\n",
       "      <td>5</td>\n",
       "      <td>2</td>\n",
       "      <td>2162</td>\n",
       "    </tr>\n",
       "    <tr>\n",
       "      <th>3</th>\n",
       "      <td>Screenshot_4</td>\n",
       "      <td>0</td>\n",
       "      <td>2</td>\n",
       "      <td>2652</td>\n",
       "    </tr>\n",
       "    <tr>\n",
       "      <th>4</th>\n",
       "      <td>Screenshot_2</td>\n",
       "      <td>2</td>\n",
       "      <td>3</td>\n",
       "      <td>117600</td>\n",
       "    </tr>\n",
       "    <tr>\n",
       "      <th>5</th>\n",
       "      <td>Screenshot_3</td>\n",
       "      <td>2</td>\n",
       "      <td>3</td>\n",
       "      <td>117600</td>\n",
       "    </tr>\n",
       "    <tr>\n",
       "      <th>6</th>\n",
       "      <td>Screenshot_5</td>\n",
       "      <td>2</td>\n",
       "      <td>3</td>\n",
       "      <td>117600</td>\n",
       "    </tr>\n",
       "    <tr>\n",
       "      <th>7</th>\n",
       "      <td>Screenshot_6</td>\n",
       "      <td>2</td>\n",
       "      <td>3</td>\n",
       "      <td>117600</td>\n",
       "    </tr>\n",
       "    <tr>\n",
       "      <th>8</th>\n",
       "      <td>Screenshot_7</td>\n",
       "      <td>0</td>\n",
       "      <td>3</td>\n",
       "      <td>132600</td>\n",
       "    </tr>\n",
       "    <tr>\n",
       "      <th>9</th>\n",
       "      <td>Screenshot_1</td>\n",
       "      <td>4</td>\n",
       "      <td>5</td>\n",
       "      <td>205476480</td>\n",
       "    </tr>\n",
       "  </tbody>\n",
       "</table>\n",
       "</div>"
      ],
      "text/plain": [
       "      image_name  open_count  lay_count        Amn\n",
       "0  Screenshot_11           6          1         46\n",
       "1   Screenshot_9           5          1         47\n",
       "2  Screenshot_10           5          2       2162\n",
       "3   Screenshot_4           0          2       2652\n",
       "4   Screenshot_2           2          3     117600\n",
       "5   Screenshot_3           2          3     117600\n",
       "6   Screenshot_5           2          3     117600\n",
       "7   Screenshot_6           2          3     117600\n",
       "8   Screenshot_7           0          3     132600\n",
       "9   Screenshot_1           4          5  205476480"
      ]
     },
     "execution_count": 31,
     "metadata": {},
     "output_type": "execute_result"
    }
   ],
   "source": [
    "df_sh = pd.DataFrame(screenshots).sort_values('Amn').reset_index(drop=True)\n",
    "df_sh"
   ]
  },
  {
   "cell_type": "markdown",
   "metadata": {},
   "source": [
    "---"
   ]
  },
  {
   "cell_type": "code",
   "execution_count": 32,
   "metadata": {},
   "outputs": [],
   "source": [
    "def display_image(n):\n",
    "    image_name = df_sh.loc[n-1, 'image_name']\n",
    "    print(image_name)\n",
    "    image = Image.open(f'./таблицы веротностей/{image_name}.png')\n",
    "    display(image)"
   ]
  },
  {
   "cell_type": "markdown",
   "metadata": {},
   "source": [
    "Функция вероятности получения коминации для разного количества дополнительно вынутых карт"
   ]
  },
  {
   "cell_type": "code",
   "execution_count": 33,
   "metadata": {},
   "outputs": [],
   "source": [
    "def probability_combination(cards:list, combinations, n_cards = 1):\n",
    "    deck_test = Deck()\n",
    "    open_cards = deck_test.get_cards_name(cards)\n",
    "    res = count_combination(deck_test, open_cards, combinations, n_cards)\n",
    "    return res\n",
    "\n",
    "# рекурсивная функция подсчета событий\n",
    "def count_combination(deck_in:Deck, cards:pd.DataFrame, combinations, n_cards = 1):\n",
    "    count = 0\n",
    "    target_count = 0\n",
    "    for _ in range(len(deck_in.current_deck)):\n",
    "        card = deck_in.sample()\n",
    "        comb = pd.concat([cards, card])\n",
    "\n",
    "        if n_cards < 2:\n",
    "            count += 1\n",
    "            if get_best_combination(comb)[0] in combinations:\n",
    "                target_count += 1\n",
    "        else:\n",
    "            deck_out = Deck()\n",
    "            deck_out.get_cards_df(comb)\n",
    "            res = count_combination(deck_out, comb, combinations, n_cards-1)\n",
    "            count += res[0]\n",
    "            target_count += res[1]\n",
    "\n",
    "#     deck_in.reset()\n",
    "    return count, target_count"
   ]
  },
  {
   "cell_type": "markdown",
   "metadata": {},
   "source": [
    "### Комбинации 1 (1 карта)"
   ]
  },
  {
   "cell_type": "markdown",
   "metadata": {},
   "source": [
    "Функция вероятности получения коминации по одной дополонительной карте"
   ]
  },
  {
   "cell_type": "code",
   "execution_count": 34,
   "metadata": {},
   "outputs": [],
   "source": [
    "def probability_combination_one_card(cards, combinations):\n",
    "    deck_test = Deck()\n",
    "    open_cards = deck_test.get_cards_name(cards)\n",
    "    \n",
    "    count = 0\n",
    "    for index in deck_test.current_deck.index:\n",
    "        comb = pd.concat([open_cards, deck_test.current_deck[deck_test.current_deck.index == index]])\n",
    "        if get_best_combination(comb)[0] in combinations:\n",
    "            count += 1\n",
    "\n",
    "    return count / len(deck_test.current_deck)"
   ]
  },
  {
   "cell_type": "code",
   "execution_count": 35,
   "metadata": {},
   "outputs": [
    {
     "name": "stdout",
     "output_type": "stream",
     "text": [
      "Screenshot_11\n"
     ]
    },
    {
     "data": {
      "image/png": "[encoded data removed]",
      "text/plain": [
       "<PIL.PngImagePlugin.PngImageFile image mode=RGB size=783x502>"
      ]
     },
     "metadata": {},
     "output_type": "display_data"
    }
   ],
   "source": [
    "display_image(1)"
   ]
  },
  {
   "cell_type": "markdown",
   "metadata": {},
   "source": [
    "По специализированной функции:"
   ]
  },
  {
   "cell_type": "code",
   "execution_count": 36,
   "metadata": {},
   "outputs": [],
   "source": [
    "start_time = time.time()"
   ]
  },
  {
   "cell_type": "markdown",
   "metadata": {},
   "source": [
    "Сет до фул хауса или лучше на ривере"
   ]
  },
  {
   "cell_type": "code",
   "execution_count": 37,
   "metadata": {},
   "outputs": [
    {
     "data": {
      "text/plain": [
       "21.73913043478261"
      ]
     },
     "execution_count": 37,
     "metadata": {},
     "output_type": "execute_result"
    }
   ],
   "source": [
    "sample = ['C7', 'B7', 'D7', 'B11', 'A13', 'B14']\n",
    "probability_combination_one_card(sample, ['Full_House', 'Four_of_a_Kind', 'Straight_Flush', 'Royal_Straight_Flush']) * 100"
   ]
  },
  {
   "cell_type": "code",
   "execution_count": 38,
   "metadata": {},
   "outputs": [
    {
     "data": {
      "text/plain": [
       "21.73913043478261"
      ]
     },
     "execution_count": 38,
     "metadata": {},
     "output_type": "execute_result"
    }
   ],
   "source": [
    "10 / 46 * 100"
   ]
  },
  {
   "cell_type": "markdown",
   "metadata": {},
   "source": [
    "*Ошибочная информация из сети. 10 карт из 46 приносят лучшую комбинацию: 1 до Каре и 3 х 3 до ФуллХауса.*"
   ]
  },
  {
   "cell_type": "markdown",
   "metadata": {},
   "source": [
    "Две пары до фул хауса или лучше на ривере"
   ]
  },
  {
   "cell_type": "code",
   "execution_count": 39,
   "metadata": {},
   "outputs": [
    {
     "data": {
      "text/plain": [
       "8.695652173913043"
      ]
     },
     "execution_count": 39,
     "metadata": {},
     "output_type": "execute_result"
    }
   ],
   "source": [
    "sample = ['C7', 'A8', 'D7', 'B8', 'A13', 'B14']\n",
    "probability_combination_one_card(sample, ['Full_House', 'Four_of_a_Kind', 'Straight_Flush', 'Royal_Straight_Flush']) * 100"
   ]
  },
  {
   "cell_type": "markdown",
   "metadata": {},
   "source": [
    "Флеш-дро до флеша на ривере"
   ]
  },
  {
   "cell_type": "code",
   "execution_count": 40,
   "metadata": {},
   "outputs": [
    {
     "data": {
      "text/plain": [
       "19.565217391304348"
      ]
     },
     "execution_count": 40,
     "metadata": {},
     "output_type": "execute_result"
    }
   ],
   "source": [
    "sample = ['B7', 'B8', 'B2', 'B5', 'A13', 'C5']\n",
    "probability_combination_one_card(sample, ['Flush']) * 100"
   ]
  },
  {
   "cell_type": "markdown",
   "metadata": {},
   "source": [
    "Двустороннее стрит-дро до стрита на ривере"
   ]
  },
  {
   "cell_type": "code",
   "execution_count": 41,
   "metadata": {},
   "outputs": [
    {
     "data": {
      "text/plain": [
       "17.391304347826086"
      ]
     },
     "execution_count": 41,
     "metadata": {},
     "output_type": "execute_result"
    }
   ],
   "source": [
    "sample = ['B7', 'B8', 'C9', 'D10', 'A13', 'C5']\n",
    "probability_combination_one_card(sample, ['Straight']) * 100"
   ]
  },
  {
   "cell_type": "markdown",
   "metadata": {},
   "source": [
    "Гатшот (дырявый стрит) до стрита на ривере"
   ]
  },
  {
   "cell_type": "code",
   "execution_count": 42,
   "metadata": {},
   "outputs": [
    {
     "data": {
      "text/plain": [
       "8.695652173913043"
      ]
     },
     "execution_count": 42,
     "metadata": {},
     "output_type": "execute_result"
    }
   ],
   "source": [
    "sample = ['D11', 'B10', 'D14', 'C13', 'A2', 'C5']\n",
    "probability_combination_one_card(sample, ['Straight']) * 100"
   ]
  },
  {
   "cell_type": "markdown",
   "metadata": {},
   "source": [
    "Пара до трипса на ривере"
   ]
  },
  {
   "cell_type": "code",
   "execution_count": 43,
   "metadata": {},
   "outputs": [
    {
     "data": {
      "text/plain": [
       "4.3478260869565215"
      ]
     },
     "execution_count": 43,
     "metadata": {},
     "output_type": "execute_result"
    }
   ],
   "source": [
    "sample = ['B14', 'B10', 'D10', 'C7', 'A2', 'C5']\n",
    "probability_combination_one_card(sample, ['Three_of_a_Kind']) * 100"
   ]
  },
  {
   "cell_type": "markdown",
   "metadata": {},
   "source": [
    "Пара к одной из двух оверкарт на ривере"
   ]
  },
  {
   "cell_type": "code",
   "execution_count": 44,
   "metadata": {},
   "outputs": [
    {
     "data": {
      "text/plain": [
       "13.043478260869565"
      ]
     },
     "execution_count": 44,
     "metadata": {},
     "output_type": "execute_result"
    }
   ],
   "source": [
    "sample = ['B14', 'D13', 'C11', 'D5', 'A2', 'C5']\n",
    "6 / 46 * 100"
   ]
  },
  {
   "cell_type": "code",
   "execution_count": 45,
   "metadata": {},
   "outputs": [
    {
     "name": "stdout",
     "output_type": "stream",
     "text": [
      "Время выполнения: 1.019 с\n"
     ]
    }
   ],
   "source": [
    "print(f'Время выполнения: {time.time() - start_time:.3f} с')"
   ]
  },
  {
   "cell_type": "markdown",
   "metadata": {},
   "source": [
    "---"
   ]
  },
  {
   "cell_type": "markdown",
   "metadata": {},
   "source": [
    "По универсальной функции:"
   ]
  },
  {
   "cell_type": "code",
   "execution_count": 46,
   "metadata": {},
   "outputs": [],
   "source": [
    "start_time = time.time()"
   ]
  },
  {
   "cell_type": "markdown",
   "metadata": {},
   "source": [
    "Сет до фул хауса или лучше на ривере"
   ]
  },
  {
   "cell_type": "code",
   "execution_count": 47,
   "metadata": {},
   "outputs": [
    {
     "data": {
      "text/plain": [
       "21.73913043478261"
      ]
     },
     "execution_count": 47,
     "metadata": {},
     "output_type": "execute_result"
    }
   ],
   "source": [
    "sample = ['C7', 'B7', 'D7', 'B11', 'A13', 'B14']\n",
    "res = probability_combination(sample, ['Full_House', 'Four_of_a_Kind', 'Straight_Flush', 'Royal_Straight_Flush'])\n",
    "res[1] / res[0] * 100"
   ]
  },
  {
   "cell_type": "markdown",
   "metadata": {},
   "source": [
    "Две пары до фул хауса или лучше на ривере"
   ]
  },
  {
   "cell_type": "code",
   "execution_count": 48,
   "metadata": {},
   "outputs": [
    {
     "data": {
      "text/plain": [
       "8.695652173913043"
      ]
     },
     "execution_count": 48,
     "metadata": {},
     "output_type": "execute_result"
    }
   ],
   "source": [
    "sample = ['C7', 'A8', 'D7', 'B8', 'A13', 'B14']\n",
    "res = probability_combination(sample, ['Full_House', 'Four_of_a_Kind', 'Straight_Flush', 'Royal_Straight_Flush']) * 100\n",
    "res[1] / res[0] * 100"
   ]
  },
  {
   "cell_type": "markdown",
   "metadata": {},
   "source": [
    "Флеш-дро до флеша на ривере"
   ]
  },
  {
   "cell_type": "code",
   "execution_count": 49,
   "metadata": {},
   "outputs": [
    {
     "data": {
      "text/plain": [
       "19.565217391304348"
      ]
     },
     "execution_count": 49,
     "metadata": {},
     "output_type": "execute_result"
    }
   ],
   "source": [
    "sample = ['B7', 'B8', 'B2', 'B5', 'A13', 'C5']\n",
    "res = probability_combination(sample, ['Flush'])\n",
    "res[1] / res[0] * 100"
   ]
  },
  {
   "cell_type": "markdown",
   "metadata": {},
   "source": [
    "Двустороннее стрит-дро до стрита на ривере"
   ]
  },
  {
   "cell_type": "code",
   "execution_count": 50,
   "metadata": {},
   "outputs": [
    {
     "data": {
      "text/plain": [
       "17.391304347826086"
      ]
     },
     "execution_count": 50,
     "metadata": {},
     "output_type": "execute_result"
    }
   ],
   "source": [
    "sample = ['B7', 'B8', 'C9', 'D10', 'A13', 'C5']\n",
    "res = probability_combination(sample, ['Straight'])\n",
    "res[1] / res[0] * 100"
   ]
  },
  {
   "cell_type": "markdown",
   "metadata": {},
   "source": [
    "Гатшот (дырявый стрит) до стрита на ривере"
   ]
  },
  {
   "cell_type": "code",
   "execution_count": 51,
   "metadata": {},
   "outputs": [
    {
     "data": {
      "text/plain": [
       "8.695652173913043"
      ]
     },
     "execution_count": 51,
     "metadata": {},
     "output_type": "execute_result"
    }
   ],
   "source": [
    "sample = ['D11', 'B10', 'D14', 'C13', 'A2', 'C5']\n",
    "res = probability_combination(sample, ['Straight'])\n",
    "res[1] / res[0] * 100"
   ]
  },
  {
   "cell_type": "markdown",
   "metadata": {},
   "source": [
    "Пара до трипса на ривере"
   ]
  },
  {
   "cell_type": "code",
   "execution_count": 52,
   "metadata": {},
   "outputs": [
    {
     "data": {
      "text/plain": [
       "4.3478260869565215"
      ]
     },
     "execution_count": 52,
     "metadata": {},
     "output_type": "execute_result"
    }
   ],
   "source": [
    "sample = ['B14', 'B10', 'D10', 'C7', 'A2', 'C5']\n",
    "res = probability_combination(sample, ['Three_of_a_Kind'])\n",
    "res[1] / res[0] * 100"
   ]
  },
  {
   "cell_type": "markdown",
   "metadata": {},
   "source": [
    "Пара к одной из двух оверкарт на ривере"
   ]
  },
  {
   "cell_type": "code",
   "execution_count": 53,
   "metadata": {},
   "outputs": [
    {
     "data": {
      "text/plain": [
       "13.043478260869565"
      ]
     },
     "execution_count": 53,
     "metadata": {},
     "output_type": "execute_result"
    }
   ],
   "source": [
    "sample = ['B14', 'D13', 'C11', 'D5', 'A2', 'C5']\n",
    "6 / 46 * 100"
   ]
  },
  {
   "cell_type": "code",
   "execution_count": 54,
   "metadata": {},
   "outputs": [
    {
     "name": "stdout",
     "output_type": "stream",
     "text": [
      "Время выполнения: 1.028 с\n"
     ]
    }
   ],
   "source": [
    "print(f'Время выполнения: {time.time() - start_time:.3f} с')"
   ]
  },
  {
   "cell_type": "markdown",
   "metadata": {},
   "source": [
    "### Комбинации 2 (1 карта)"
   ]
  },
  {
   "cell_type": "code",
   "execution_count": 55,
   "metadata": {},
   "outputs": [
    {
     "name": "stdout",
     "output_type": "stream",
     "text": [
      "Screenshot_9\n"
     ]
    },
    {
     "data": {
      "image/png": "[encoded data removed]",
      "text/plain": [
       "<PIL.PngImagePlugin.PngImageFile image mode=RGB size=785x500>"
      ]
     },
     "metadata": {},
     "output_type": "display_data"
    }
   ],
   "source": [
    "display_image(2)"
   ]
  },
  {
   "cell_type": "markdown",
   "metadata": {},
   "source": [
    "По универсальной функции:"
   ]
  },
  {
   "cell_type": "code",
   "execution_count": 56,
   "metadata": {},
   "outputs": [],
   "source": [
    "start_time = time.time()"
   ]
  },
  {
   "cell_type": "markdown",
   "metadata": {},
   "source": [
    "Сет до фул хауса или лучше на терне"
   ]
  },
  {
   "cell_type": "code",
   "execution_count": 57,
   "metadata": {},
   "outputs": [
    {
     "data": {
      "text/plain": [
       "14.893617021276595"
      ]
     },
     "execution_count": 57,
     "metadata": {},
     "output_type": "execute_result"
    }
   ],
   "source": [
    "sample = ['D7', 'A7', 'C7', 'B11', 'A13']\n",
    "res = probability_combination(sample, ['Full_House', 'Four_of_a_Kind', 'Straight_Flush', 'Royal_Straight_Flush'])\n",
    "res[1] / res[0] * 100"
   ]
  },
  {
   "cell_type": "markdown",
   "metadata": {},
   "source": [
    "Две пары до фул хауса или лучше на терне"
   ]
  },
  {
   "cell_type": "code",
   "execution_count": 58,
   "metadata": {},
   "outputs": [
    {
     "data": {
      "text/plain": [
       "8.51063829787234"
      ]
     },
     "execution_count": 58,
     "metadata": {},
     "output_type": "execute_result"
    }
   ],
   "source": [
    "sample = ['B7', 'A8', 'C7', 'B8', 'A13']\n",
    "res = probability_combination(sample, ['Full_House'])\n",
    "res[1] / res[0] * 100"
   ]
  },
  {
   "cell_type": "markdown",
   "metadata": {},
   "source": [
    "Флеш-дро до флеша на терне"
   ]
  },
  {
   "cell_type": "code",
   "execution_count": 59,
   "metadata": {},
   "outputs": [
    {
     "data": {
      "text/plain": [
       "19.148936170212767"
      ]
     },
     "execution_count": 59,
     "metadata": {},
     "output_type": "execute_result"
    }
   ],
   "source": [
    "sample = ['B7', 'B8', 'B2', 'B5', 'A13']\n",
    "res = probability_combination(sample, ['Flush'])\n",
    "res[1] / res[0] * 100"
   ]
  },
  {
   "cell_type": "code",
   "execution_count": 60,
   "metadata": {},
   "outputs": [
    {
     "data": {
      "text/plain": [
       "19.148936170212767"
      ]
     },
     "execution_count": 60,
     "metadata": {},
     "output_type": "execute_result"
    }
   ],
   "source": [
    "9 / 47 * 100"
   ]
  },
  {
   "cell_type": "markdown",
   "metadata": {},
   "source": [
    "*Ошибочная информация из сети. До флеша остается 9 карт*"
   ]
  },
  {
   "cell_type": "markdown",
   "metadata": {},
   "source": [
    "Двустороннее стрит-дро до стрита на терне"
   ]
  },
  {
   "cell_type": "code",
   "execution_count": 61,
   "metadata": {},
   "outputs": [
    {
     "data": {
      "text/plain": [
       "17.02127659574468"
      ]
     },
     "execution_count": 61,
     "metadata": {},
     "output_type": "execute_result"
    }
   ],
   "source": [
    "sample = ['B7', 'B8', 'C9', 'D10', 'A13']\n",
    "res = probability_combination(sample, ['Straight'])\n",
    "res[1] / res[0] * 100"
   ]
  },
  {
   "cell_type": "markdown",
   "metadata": {},
   "source": [
    "Гатшот (дырявый стрит) до стрита на терне"
   ]
  },
  {
   "cell_type": "code",
   "execution_count": 62,
   "metadata": {},
   "outputs": [
    {
     "data": {
      "text/plain": [
       "8.51063829787234"
      ]
     },
     "execution_count": 62,
     "metadata": {},
     "output_type": "execute_result"
    }
   ],
   "source": [
    "sample = ['D11', 'B10', 'D14', 'C13', 'A2']\n",
    "res = probability_combination(sample, ['Straight'])\n",
    "res[1] / res[0] * 100"
   ]
  },
  {
   "cell_type": "markdown",
   "metadata": {},
   "source": [
    "Пара до трипса на терне"
   ]
  },
  {
   "cell_type": "code",
   "execution_count": 63,
   "metadata": {},
   "outputs": [
    {
     "data": {
      "text/plain": [
       "4.25531914893617"
      ]
     },
     "execution_count": 63,
     "metadata": {},
     "output_type": "execute_result"
    }
   ],
   "source": [
    "sample = ['B14', 'B10', 'D10', 'C7', 'A2']\n",
    "res = probability_combination(sample, ['Three_of_a_Kind'])\n",
    "res[1] / res[0] * 100"
   ]
  },
  {
   "cell_type": "markdown",
   "metadata": {},
   "source": [
    "Пара к одной из двух оверкарт на терне"
   ]
  },
  {
   "cell_type": "code",
   "execution_count": 64,
   "metadata": {},
   "outputs": [
    {
     "data": {
      "text/plain": [
       "12.76595744680851"
      ]
     },
     "execution_count": 64,
     "metadata": {},
     "output_type": "execute_result"
    }
   ],
   "source": [
    "sample = ['B14', 'D13', 'C11', 'D5', 'A2']\n",
    "6 / 47 * 100"
   ]
  },
  {
   "cell_type": "code",
   "execution_count": 65,
   "metadata": {},
   "outputs": [
    {
     "name": "stdout",
     "output_type": "stream",
     "text": [
      "Время выполнения: 1.071 с\n"
     ]
    }
   ],
   "source": [
    "print(f'Время выполнения: {time.time() - start_time:.3f} с')"
   ]
  },
  {
   "cell_type": "markdown",
   "metadata": {},
   "source": [
    "### Комбинации 3 (2 карты)"
   ]
  },
  {
   "cell_type": "markdown",
   "metadata": {},
   "source": [
    "Функция вероятности получения коминации по двум дополонительным картам"
   ]
  },
  {
   "cell_type": "code",
   "execution_count": 66,
   "metadata": {},
   "outputs": [],
   "source": [
    "def probability_combination_two_card(cards, combinations):\n",
    "    deck_test = Deck()\n",
    "    open_cards = deck_test.get_cards_name(cards)\n",
    "    \n",
    "    indexes = list(deck_test.current_deck.index)\n",
    "    count = 0\n",
    "    \n",
    "    for i in indexes:\n",
    "        card_1 = deck_test.get_cards_index([i])\n",
    "        comb_1 = pd.concat([open_cards, card_1])\n",
    "        for j in range(len(deck_test.current_deck)):\n",
    "            card_2 = deck_test.sample()\n",
    "            comb_2 = pd.concat([comb_1, card_2])\n",
    "            if get_best_combination(comb_2)[0] in combinations:\n",
    "                count += 1\n",
    "        deck_test.reset()\n",
    "        deck_test.get_cards_name(cards)\n",
    "    \n",
    "    return count / (52 - len(cards)) / (52 - len(cards) - 1)"
   ]
  },
  {
   "cell_type": "code",
   "execution_count": 67,
   "metadata": {},
   "outputs": [
    {
     "name": "stdout",
     "output_type": "stream",
     "text": [
      "Screenshot_10\n"
     ]
    },
    {
     "data": {
      "image/png": "[encoded data removed]",
      "text/plain": [
       "<PIL.PngImagePlugin.PngImageFile image mode=RGB size=781x502>"
      ]
     },
     "metadata": {},
     "output_type": "display_data"
    }
   ],
   "source": [
    "display_image(3)"
   ]
  },
  {
   "cell_type": "markdown",
   "metadata": {},
   "source": [
    "По специализированной функции:"
   ]
  },
  {
   "cell_type": "code",
   "execution_count": 68,
   "metadata": {},
   "outputs": [],
   "source": [
    "start_time = time.time()"
   ]
  },
  {
   "cell_type": "markdown",
   "metadata": {},
   "source": [
    "Сет до фул хауса или лучше к риверу"
   ]
  },
  {
   "cell_type": "code",
   "execution_count": 69,
   "metadata": {},
   "outputs": [
    {
     "data": {
      "text/plain": [
       "33.3950046253469"
      ]
     },
     "execution_count": 69,
     "metadata": {},
     "output_type": "execute_result"
    }
   ],
   "source": [
    "sample = ['C7', 'B7', 'D7', 'B11', 'A13']\n",
    "probability_combination_two_card(sample, ['Full_House', 'Four_of_a_Kind', 'Straight_Flush', 'Royal_Straight_Flush']) * 100"
   ]
  },
  {
   "cell_type": "markdown",
   "metadata": {},
   "source": [
    "Две пары до фул хауса или лучше к риверу"
   ]
  },
  {
   "cell_type": "code",
   "execution_count": 70,
   "metadata": {},
   "outputs": [
    {
     "data": {
      "text/plain": [
       "16.743755781683625"
      ]
     },
     "execution_count": 70,
     "metadata": {},
     "output_type": "execute_result"
    }
   ],
   "source": [
    "sample = ['C7', 'A8', 'D7', 'B8', 'A13']\n",
    "probability_combination_two_card(sample, ['Full_House', 'Four_of_a_Kind', 'Straight_Flush', 'Royal_Straight_Flush']) * 100"
   ]
  },
  {
   "cell_type": "markdown",
   "metadata": {},
   "source": [
    "Флеш-дро до флеша к риверу"
   ]
  },
  {
   "cell_type": "code",
   "execution_count": 71,
   "metadata": {},
   "outputs": [
    {
     "data": {
      "text/plain": [
       "34.78260869565217"
      ]
     },
     "execution_count": 71,
     "metadata": {},
     "output_type": "execute_result"
    }
   ],
   "source": [
    "sample = ['B7', 'B8', 'B2', 'B5', 'A13']\n",
    "probability_combination_two_card(sample, ['Flush']) * 100"
   ]
  },
  {
   "cell_type": "markdown",
   "metadata": {},
   "source": [
    "Бэкдорное флеш-дро до флеша к риверу"
   ]
  },
  {
   "cell_type": "code",
   "execution_count": 72,
   "metadata": {},
   "outputs": [
    {
     "data": {
      "text/plain": [
       "4.162812210915819"
      ]
     },
     "execution_count": 72,
     "metadata": {},
     "output_type": "execute_result"
    }
   ],
   "source": [
    "sample = ['B7', 'B8', 'B2', 'D5', 'A13']\n",
    "probability_combination_two_card(sample, ['Flush']) * 100"
   ]
  },
  {
   "cell_type": "markdown",
   "metadata": {},
   "source": [
    "Двустороннее стрит-дро до стрита к риверу"
   ]
  },
  {
   "cell_type": "code",
   "execution_count": 73,
   "metadata": {},
   "outputs": [
    {
     "data": {
      "text/plain": [
       "31.452358926919523"
      ]
     },
     "execution_count": 73,
     "metadata": {},
     "output_type": "execute_result"
    }
   ],
   "source": [
    "sample = ['B7', 'B8', 'C9', 'D10', 'A13']\n",
    "probability_combination_two_card(sample, ['Straight']) * 100"
   ]
  },
  {
   "cell_type": "markdown",
   "metadata": {},
   "source": [
    "Гатшот (дырявый стрит) до стрита к риверу"
   ]
  },
  {
   "cell_type": "code",
   "execution_count": 74,
   "metadata": {},
   "outputs": [
    {
     "data": {
      "text/plain": [
       "16.46623496762257"
      ]
     },
     "execution_count": 74,
     "metadata": {},
     "output_type": "execute_result"
    }
   ],
   "source": [
    "sample = ['D11', 'B10', 'D14', 'C13', 'A2']\n",
    "probability_combination_two_card(sample, ['Straight']) * 100"
   ]
  },
  {
   "cell_type": "markdown",
   "metadata": {},
   "source": [
    "Пара к одной из двух оверкарт к риверу"
   ]
  },
  {
   "cell_type": "code",
   "execution_count": 75,
   "metadata": {},
   "outputs": [
    {
     "data": {
      "text/plain": [
       "24.14431082331174"
      ]
     },
     "execution_count": 75,
     "metadata": {},
     "output_type": "execute_result"
    }
   ],
   "source": [
    "sample = ['B14', 'D13', 'C11', 'D5', 'A2']\n",
    "(1 - 41 / 47 * 40 / 46) * 100"
   ]
  },
  {
   "cell_type": "code",
   "execution_count": 76,
   "metadata": {},
   "outputs": [
    {
     "name": "stdout",
     "output_type": "stream",
     "text": [
      "Время выполнения: 43.463 с\n"
     ]
    }
   ],
   "source": [
    "print(f'Время выполнения: {time.time() - start_time:.3f} с')"
   ]
  },
  {
   "cell_type": "markdown",
   "metadata": {},
   "source": [
    "---"
   ]
  },
  {
   "cell_type": "markdown",
   "metadata": {},
   "source": [
    "По универсальной функции:"
   ]
  },
  {
   "cell_type": "code",
   "execution_count": 77,
   "metadata": {},
   "outputs": [],
   "source": [
    "start_time = time.time()"
   ]
  },
  {
   "cell_type": "markdown",
   "metadata": {},
   "source": [
    "Сет до фул хауса или лучше к риверу"
   ]
  },
  {
   "cell_type": "code",
   "execution_count": 78,
   "metadata": {},
   "outputs": [
    {
     "data": {
      "text/plain": [
       "33.3950046253469"
      ]
     },
     "execution_count": 78,
     "metadata": {},
     "output_type": "execute_result"
    }
   ],
   "source": [
    "sample = ['C7', 'B7', 'D7', 'B11', 'A13']\n",
    "res = probability_combination(sample, ['Full_House', 'Four_of_a_Kind', 'Straight_Flush', 'Royal_Straight_Flush'], 2)\n",
    "res[1] / res[0] * 100"
   ]
  },
  {
   "cell_type": "markdown",
   "metadata": {},
   "source": [
    "Две пары до фул хауса или лучше к риверу"
   ]
  },
  {
   "cell_type": "code",
   "execution_count": 79,
   "metadata": {},
   "outputs": [
    {
     "data": {
      "text/plain": [
       "16.743755781683625"
      ]
     },
     "execution_count": 79,
     "metadata": {},
     "output_type": "execute_result"
    }
   ],
   "source": [
    "sample = ['C7', 'A8', 'D7', 'B8', 'A13']\n",
    "res = probability_combination(sample, ['Full_House', 'Four_of_a_Kind', 'Straight_Flush', 'Royal_Straight_Flush'], 2)\n",
    "res[1] / res[0] * 100"
   ]
  },
  {
   "cell_type": "markdown",
   "metadata": {},
   "source": [
    "Флеш-дро до флеша к риверу"
   ]
  },
  {
   "cell_type": "code",
   "execution_count": 80,
   "metadata": {},
   "outputs": [
    {
     "data": {
      "text/plain": [
       "34.78260869565217"
      ]
     },
     "execution_count": 80,
     "metadata": {},
     "output_type": "execute_result"
    }
   ],
   "source": [
    "sample = ['B7', 'B8', 'B2', 'B5', 'A13']\n",
    "res = probability_combination(sample, ['Flush'], 2)\n",
    "res[1] / res[0] * 100"
   ]
  },
  {
   "cell_type": "markdown",
   "metadata": {},
   "source": [
    "Бэкдорное флеш-дро до флеша к риверу"
   ]
  },
  {
   "cell_type": "code",
   "execution_count": 81,
   "metadata": {},
   "outputs": [
    {
     "data": {
      "text/plain": [
       "4.162812210915819"
      ]
     },
     "execution_count": 81,
     "metadata": {},
     "output_type": "execute_result"
    }
   ],
   "source": [
    "sample = ['B7', 'B8', 'B2', 'D5', 'A13']\n",
    "res = probability_combination(sample, ['Flush'], 2)\n",
    "res[1] / res[0] * 100"
   ]
  },
  {
   "cell_type": "markdown",
   "metadata": {},
   "source": [
    "Двустороннее стрит-дро до стрита к риверу"
   ]
  },
  {
   "cell_type": "code",
   "execution_count": 82,
   "metadata": {},
   "outputs": [
    {
     "data": {
      "text/plain": [
       "31.452358926919523"
      ]
     },
     "execution_count": 82,
     "metadata": {},
     "output_type": "execute_result"
    }
   ],
   "source": [
    "sample = ['B7', 'B8', 'C9', 'D10', 'A13']\n",
    "res = probability_combination(sample, ['Straight'], 2)\n",
    "res[1] / res[0] * 100"
   ]
  },
  {
   "cell_type": "markdown",
   "metadata": {},
   "source": [
    "Гатшот (дырявый стрит) до стрита к риверу"
   ]
  },
  {
   "cell_type": "code",
   "execution_count": 83,
   "metadata": {},
   "outputs": [
    {
     "data": {
      "text/plain": [
       "16.466234967622572"
      ]
     },
     "execution_count": 83,
     "metadata": {},
     "output_type": "execute_result"
    }
   ],
   "source": [
    "sample = ['D11', 'B10', 'D14', 'C13', 'A2']\n",
    "res = probability_combination(sample, ['Straight'], 2)\n",
    "res[1] / res[0] * 100"
   ]
  },
  {
   "cell_type": "markdown",
   "metadata": {},
   "source": [
    "Пара к одной из двух оверкарт к риверу"
   ]
  },
  {
   "cell_type": "code",
   "execution_count": 84,
   "metadata": {},
   "outputs": [
    {
     "data": {
      "text/plain": [
       "24.14431082331174"
      ]
     },
     "execution_count": 84,
     "metadata": {},
     "output_type": "execute_result"
    }
   ],
   "source": [
    "sample = ['B14', 'D13', 'C11', 'D5', 'A2']\n",
    "(1 - 41 / 47 * 40 / 46) * 100"
   ]
  },
  {
   "cell_type": "code",
   "execution_count": 85,
   "metadata": {},
   "outputs": [
    {
     "name": "stdout",
     "output_type": "stream",
     "text": [
      "Время выполнения: 43.839 с\n"
     ]
    }
   ],
   "source": [
    "print(f'Время выполнения: {time.time() - start_time:.3f} с')"
   ]
  },
  {
   "cell_type": "markdown",
   "metadata": {},
   "source": [
    "### Комбинации 4 (рука)"
   ]
  },
  {
   "cell_type": "code",
   "execution_count": 86,
   "metadata": {},
   "outputs": [
    {
     "name": "stdout",
     "output_type": "stream",
     "text": [
      "Screenshot_4\n"
     ]
    },
    {
     "data": {
      "image/png": "[encoded data removed]",
      "text/plain": [
       "<PIL.PngImagePlugin.PngImageFile image mode=P size=876x627>"
      ]
     },
     "metadata": {},
     "output_type": "display_data"
    }
   ],
   "source": [
    "display_image(4)"
   ]
  },
  {
   "cell_type": "code",
   "execution_count": 87,
   "metadata": {},
   "outputs": [],
   "source": [
    "start_time = time.time()"
   ]
  },
  {
   "cell_type": "markdown",
   "metadata": {},
   "source": [
    "Карманные тузы"
   ]
  },
  {
   "cell_type": "code",
   "execution_count": 88,
   "metadata": {},
   "outputs": [
    {
     "data": {
      "text/plain": [
       "0.4524886877828055"
      ]
     },
     "execution_count": 88,
     "metadata": {},
     "output_type": "execute_result"
    }
   ],
   "source": [
    "4 / 52 * 3 / 51 * 100"
   ]
  },
  {
   "cell_type": "markdown",
   "metadata": {},
   "source": [
    "Карманные тузы или короли"
   ]
  },
  {
   "cell_type": "code",
   "execution_count": 89,
   "metadata": {},
   "outputs": [
    {
     "data": {
      "text/plain": [
       "0.904977375565611"
      ]
     },
     "execution_count": 89,
     "metadata": {},
     "output_type": "execute_result"
    }
   ],
   "source": [
    "(4 / 52 * 3 / 51 + 4 / 52 * 3 / 51) * 100"
   ]
  },
  {
   "cell_type": "markdown",
   "metadata": {},
   "source": [
    "Любая карманная пара"
   ]
  },
  {
   "cell_type": "code",
   "execution_count": 90,
   "metadata": {},
   "outputs": [
    {
     "data": {
      "text/plain": [
       "5.882352941176471"
      ]
     },
     "execution_count": 90,
     "metadata": {},
     "output_type": "execute_result"
    }
   ],
   "source": [
    "(4 / 52 * 3 / 51) * 13 * 100"
   ]
  },
  {
   "cell_type": "markdown",
   "metadata": {},
   "source": [
    "АК одномастные"
   ]
  },
  {
   "cell_type": "code",
   "execution_count": 91,
   "metadata": {},
   "outputs": [
    {
     "data": {
      "text/plain": [
       "0.301659125188537"
      ]
     },
     "execution_count": 91,
     "metadata": {},
     "output_type": "execute_result"
    }
   ],
   "source": [
    "(4 / 52 * 1 / 51 + 4 / 52 * 1 / 51) * 100"
   ]
  },
  {
   "cell_type": "markdown",
   "metadata": {},
   "source": [
    "$\\frac{A^m_{n(повт)}-4}{C^m_n} = \\frac{n^m-4}{\\frac{n!}{(m-n)!\\cdot m!}} = \\frac{4^2-4}{\\frac{52!}{50!\\cdot 2!}} $"
   ]
  },
  {
   "cell_type": "markdown",
   "metadata": {},
   "source": [
    "АК разномастные"
   ]
  },
  {
   "cell_type": "code",
   "execution_count": 92,
   "metadata": {
    "scrolled": true
   },
   "outputs": [
    {
     "data": {
      "text/plain": [
       "0.904977375565611"
      ]
     },
     "execution_count": 92,
     "metadata": {},
     "output_type": "execute_result"
    }
   ],
   "source": [
    "((4**2 - 4) / 26 / 51) * 100"
   ]
  },
  {
   "cell_type": "markdown",
   "metadata": {},
   "source": [
    "$\\frac{A^m_{n(повт)}}{C^m_n} = \\frac{n^m}{\\frac{n!}{(m-n)!\\cdot m!}} = \\frac{4^2}{\\frac{52!}{50!\\cdot 2!}} $"
   ]
  },
  {
   "cell_type": "markdown",
   "metadata": {},
   "source": [
    "АК любые"
   ]
  },
  {
   "cell_type": "code",
   "execution_count": 93,
   "metadata": {
    "scrolled": true
   },
   "outputs": [
    {
     "data": {
      "text/plain": [
       "1.206636500754148"
      ]
     },
     "execution_count": 93,
     "metadata": {},
     "output_type": "execute_result"
    }
   ],
   "source": [
    "(4**2 / 26 / 51) * 100"
   ]
  },
  {
   "cell_type": "markdown",
   "metadata": {},
   "source": [
    "2 любых одномастных"
   ]
  },
  {
   "cell_type": "code",
   "execution_count": 94,
   "metadata": {},
   "outputs": [
    {
     "data": {
      "text/plain": [
       "23.52941176470588"
      ]
     },
     "execution_count": 94,
     "metadata": {},
     "output_type": "execute_result"
    }
   ],
   "source": [
    "(13 / 52 * 12 / 51) * 4 * 100"
   ]
  },
  {
   "cell_type": "markdown",
   "metadata": {},
   "source": [
    "Карманные тузы, короли или АК"
   ]
  },
  {
   "cell_type": "code",
   "execution_count": 95,
   "metadata": {},
   "outputs": [
    {
     "data": {
      "text/plain": [
       "2.111613876319759"
      ]
     },
     "execution_count": 95,
     "metadata": {},
     "output_type": "execute_result"
    }
   ],
   "source": [
    "(4 / 52 * 3 / 51 + 4 / 52 * 3 / 51) * 100 + (4**2 / 26 / 51) * 100"
   ]
  },
  {
   "cell_type": "code",
   "execution_count": 96,
   "metadata": {
    "scrolled": true
   },
   "outputs": [
    {
     "name": "stdout",
     "output_type": "stream",
     "text": [
      "Время выполнения: 0.029 с\n"
     ]
    }
   ],
   "source": [
    "print(f'Время выполнения: {time.time() - start_time:.3f} с')"
   ]
  },
  {
   "cell_type": "markdown",
   "metadata": {},
   "source": [
    "### Комбинации 5 (3 карты)"
   ]
  },
  {
   "cell_type": "code",
   "execution_count": 97,
   "metadata": {},
   "outputs": [
    {
     "name": "stdout",
     "output_type": "stream",
     "text": [
      "Screenshot_2\n"
     ]
    },
    {
     "data": {
      "image/png": "[encoded data removed]",
      "text/plain": [
       "<PIL.PngImagePlugin.PngImageFile image mode=P size=876x343>"
      ]
     },
     "metadata": {},
     "output_type": "display_data"
    }
   ],
   "source": [
    "display_image(5)"
   ]
  },
  {
   "cell_type": "code",
   "execution_count": 98,
   "metadata": {},
   "outputs": [],
   "source": [
    "start_time = time.time()"
   ]
  },
  {
   "cell_type": "markdown",
   "metadata": {},
   "source": [
    "Сет или лучше на флопе"
   ]
  },
  {
   "cell_type": "code",
   "execution_count": 99,
   "metadata": {
    "scrolled": false
   },
   "outputs": [
    {
     "name": "stdout",
     "output_type": "stream",
     "text": [
      "Общее кол-во итераций: 117600\n",
      "Кол-во целевых событий: 14112\n",
      "Wall time: 6min 43s\n"
     ]
    },
    {
     "data": {
      "text/plain": [
       "12.0"
      ]
     },
     "execution_count": 99,
     "metadata": {},
     "output_type": "execute_result"
    }
   ],
   "source": [
    "%%time\n",
    "sample = ['C5', 'B5']\n",
    "res = probability_combination(sample,\n",
    "                              ['Three_of_a_Kind',\n",
    "                              'Straight',\n",
    "                              'Flush',\n",
    "                              'Full_House',\n",
    "                              'Four_of_a_Kind',\n",
    "                              'Straight_Flush',\n",
    "                              'Royal_Straight_Flush'],\n",
    "                              3)\n",
    "print('Общее кол-во итераций:', res[0])\n",
    "print('Кол-во целевых событий:', res[1])\n",
    "res[1] / res[0] * 100"
   ]
  },
  {
   "cell_type": "code",
   "execution_count": 100,
   "metadata": {},
   "outputs": [
    {
     "name": "stdout",
     "output_type": "stream",
     "text": [
      "Общее кол-во итераций: 117600\n",
      "Кол-во целевых событий: 12672\n",
      "Wall time: 6min 44s\n"
     ]
    },
    {
     "data": {
      "text/plain": [
       "10.775510204081632"
      ]
     },
     "execution_count": 100,
     "metadata": {},
     "output_type": "execute_result"
    }
   ],
   "source": [
    "%%time\n",
    "sample = ['C5', 'B5']\n",
    "res = probability_combination(sample,\n",
    "                              ['Three_of_a_Kind'],\n",
    "                              3)\n",
    "print('Общее кол-во итераций:', res[0])\n",
    "print('Кол-во целевых событий:', res[1])\n",
    "res[1] / res[0] * 100"
   ]
  },
  {
   "cell_type": "markdown",
   "metadata": {},
   "source": [
    "*Ошибочная информация из сети. Скорее всего в таблице приведена вероятность именно `сета`, а не комбинации `сета и лучше`*"
   ]
  },
  {
   "cell_type": "markdown",
   "metadata": {},
   "source": [
    "Фулл хаус на флопе"
   ]
  },
  {
   "cell_type": "code",
   "execution_count": 101,
   "metadata": {},
   "outputs": [
    {
     "name": "stdout",
     "output_type": "stream",
     "text": [
      "Общее кол-во итераций: 117600\n",
      "Кол-во целевых событий: 1152\n",
      "Wall time: 6min 40s\n"
     ]
    },
    {
     "data": {
      "text/plain": [
       "0.9795918367346939"
      ]
     },
     "execution_count": 101,
     "metadata": {},
     "output_type": "execute_result"
    }
   ],
   "source": [
    "%%time\n",
    "sample = ['C5', 'B5']\n",
    "res = probability_combination(sample,\n",
    "                              ['Full_House'],\n",
    "                              3)\n",
    "print('Общее кол-во итераций:', res[0])\n",
    "print('Кол-во целевых событий:', res[1])\n",
    "res[1] / res[0] * 100"
   ]
  },
  {
   "cell_type": "code",
   "execution_count": 102,
   "metadata": {},
   "outputs": [
    {
     "data": {
      "text/plain": [
       "0.9795918367346939"
      ]
     },
     "execution_count": 102,
     "metadata": {},
     "output_type": "execute_result"
    }
   ],
   "source": [
    "2/50*48/49*12/48 * 100"
   ]
  },
  {
   "cell_type": "markdown",
   "metadata": {},
   "source": [
    "*Ошибочная информация из сети.*"
   ]
  },
  {
   "cell_type": "markdown",
   "metadata": {},
   "source": [
    "Каре на флопе"
   ]
  },
  {
   "cell_type": "code",
   "execution_count": 103,
   "metadata": {},
   "outputs": [
    {
     "name": "stdout",
     "output_type": "stream",
     "text": [
      "Общее кол-во итераций: 117600\n",
      "Кол-во целевых событий: 288\n",
      "Wall time: 6min 39s\n"
     ]
    },
    {
     "data": {
      "text/plain": [
       "0.24489795918367346"
      ]
     },
     "execution_count": 103,
     "metadata": {},
     "output_type": "execute_result"
    }
   ],
   "source": [
    "%%time\n",
    "sample = ['C5', 'B5']\n",
    "res = probability_combination(sample,\n",
    "                              ['Four_of_a_Kind'],\n",
    "                              3)\n",
    "print('Общее кол-во итераций:', res[0])\n",
    "print('Кол-во целевых событий:', res[1])\n",
    "res[1] / res[0] * 100"
   ]
  },
  {
   "cell_type": "code",
   "execution_count": 104,
   "metadata": {},
   "outputs": [
    {
     "data": {
      "text/plain": [
       "0.24489795918367346"
      ]
     },
     "execution_count": 104,
     "metadata": {},
     "output_type": "execute_result"
    }
   ],
   "source": [
    "2/50*1/49 * 3 * 100"
   ]
  },
  {
   "cell_type": "markdown",
   "metadata": {},
   "source": [
    "Сет или лучше к риверу:\n",
    "\n",
    "**5 карт = слишком много итераций**"
   ]
  },
  {
   "cell_type": "code",
   "execution_count": 105,
   "metadata": {
    "scrolled": true
   },
   "outputs": [
    {
     "name": "stdout",
     "output_type": "stream",
     "text": [
      "Время выполнения: 1608.906 с\n"
     ]
    }
   ],
   "source": [
    "print(f'Время выполнения: {time.time() - start_time:.3f} с')"
   ]
  },
  {
   "cell_type": "markdown",
   "metadata": {},
   "source": [
    "### Комбинации 6 (3 карты)"
   ]
  },
  {
   "cell_type": "code",
   "execution_count": 106,
   "metadata": {},
   "outputs": [
    {
     "name": "stdout",
     "output_type": "stream",
     "text": [
      "Screenshot_3\n"
     ]
    },
    {
     "data": {
      "image/png": "[encoded data removed]",
      "text/plain": [
       "<PIL.PngImagePlugin.PngImageFile image mode=P size=874x364>"
      ]
     },
     "metadata": {},
     "output_type": "display_data"
    }
   ],
   "source": [
    "display_image(6)"
   ]
  },
  {
   "cell_type": "code",
   "execution_count": 107,
   "metadata": {},
   "outputs": [],
   "source": [
    "start_time = time.time()"
   ]
  },
  {
   "cell_type": "markdown",
   "metadata": {},
   "source": [
    "Возможно проверить только \"Флеш на флопе\". В остальных случах нет проверки на \"дро\" комбинации или слишком моного итераций на 5 вынимаемых картах."
   ]
  },
  {
   "cell_type": "code",
   "execution_count": 108,
   "metadata": {},
   "outputs": [
    {
     "name": "stdout",
     "output_type": "stream",
     "text": [
      "Общее кол-во итераций: 117600\n",
      "Кол-во целевых событий: 972\n",
      "Wall time: 6min 44s\n"
     ]
    },
    {
     "data": {
      "text/plain": [
       "0.826530612244898"
      ]
     },
     "execution_count": 108,
     "metadata": {},
     "output_type": "execute_result"
    }
   ],
   "source": [
    "%%time\n",
    "sample = ['C10', 'C8']\n",
    "res = probability_combination(sample,\n",
    "                              ['Flush'],\n",
    "                              3)\n",
    "print('Общее кол-во итераций:', res[0])\n",
    "print('Кол-во целевых событий:', res[1])\n",
    "res[1] / res[0] * 100"
   ]
  },
  {
   "cell_type": "code",
   "execution_count": 109,
   "metadata": {
    "scrolled": true
   },
   "outputs": [
    {
     "name": "stdout",
     "output_type": "stream",
     "text": [
      "Время выполнения: 404.846 с\n"
     ]
    }
   ],
   "source": [
    "print(f'Время выполнения: {time.time() - start_time:.3f} с')"
   ]
  },
  {
   "cell_type": "markdown",
   "metadata": {},
   "source": [
    "### Комбинации 7 (3 карты)"
   ]
  },
  {
   "cell_type": "code",
   "execution_count": 110,
   "metadata": {},
   "outputs": [
    {
     "name": "stdout",
     "output_type": "stream",
     "text": [
      "Screenshot_5\n"
     ]
    },
    {
     "data": {
      "image/png": "[encoded data removed]",
      "text/plain": [
       "<PIL.PngImagePlugin.PngImageFile image mode=P size=876x272>"
      ]
     },
     "metadata": {},
     "output_type": "display_data"
    }
   ],
   "source": [
    "display_image(7)"
   ]
  },
  {
   "cell_type": "code",
   "execution_count": 111,
   "metadata": {},
   "outputs": [],
   "source": [
    "start_time = time.time()"
   ]
  },
  {
   "cell_type": "markdown",
   "metadata": {},
   "source": [
    "Невозможно проверить: нет проверки на \"дро\" комбинации или слишком моного итераций на 5 вынимаемых картах."
   ]
  },
  {
   "cell_type": "code",
   "execution_count": 112,
   "metadata": {
    "scrolled": true
   },
   "outputs": [
    {
     "name": "stdout",
     "output_type": "stream",
     "text": [
      "Время выполнения: 0.003 с\n"
     ]
    }
   ],
   "source": [
    "print(f'Время выполнения: {time.time() - start_time:.3f} с')"
   ]
  },
  {
   "cell_type": "markdown",
   "metadata": {},
   "source": [
    "### Комбинации 8 (3 карты)"
   ]
  },
  {
   "cell_type": "code",
   "execution_count": 113,
   "metadata": {},
   "outputs": [
    {
     "name": "stdout",
     "output_type": "stream",
     "text": [
      "Screenshot_6\n"
     ]
    },
    {
     "data": {
      "image/png": "[encoded data removed]",
      "text/plain": [
       "<PIL.PngImagePlugin.PngImageFile image mode=P size=872x556>"
      ]
     },
     "metadata": {},
     "output_type": "display_data"
    }
   ],
   "source": [
    "display_image(8)"
   ]
  },
  {
   "cell_type": "code",
   "execution_count": 114,
   "metadata": {},
   "outputs": [],
   "source": [
    "start_time = time.time()"
   ]
  },
  {
   "cell_type": "markdown",
   "metadata": {},
   "source": [
    "Некоторые вырианты не проверю, т.к. алгоритм не учитывает `свои` карты"
   ]
  },
  {
   "cell_type": "markdown",
   "metadata": {},
   "source": [
    "Пара (к одной из своих карт):"
   ]
  },
  {
   "cell_type": "code",
   "execution_count": 115,
   "metadata": {},
   "outputs": [
    {
     "data": {
      "text/plain": [
       "32.42857142857143"
      ]
     },
     "execution_count": 115,
     "metadata": {},
     "output_type": "execute_result"
    }
   ],
   "source": [
    "(1 - 44/50 * 43/49 * 42/48) * 100"
   ]
  },
  {
   "cell_type": "markdown",
   "metadata": {},
   "source": [
    "Любые две пары:"
   ]
  },
  {
   "cell_type": "code",
   "execution_count": 116,
   "metadata": {},
   "outputs": [
    {
     "name": "stdout",
     "output_type": "stream",
     "text": [
      "Общее кол-во итераций: 117600\n",
      "Кол-во целевых событий: 4752\n",
      "Wall time: 6min 44s\n"
     ]
    },
    {
     "data": {
      "text/plain": [
       "4.040816326530612"
      ]
     },
     "execution_count": 116,
     "metadata": {},
     "output_type": "execute_result"
    }
   ],
   "source": [
    "%%time\n",
    "sample = ['A10', 'B7']\n",
    "res = probability_combination(sample,\n",
    "                              ['Two_Pair'],\n",
    "                              3)\n",
    "print('Общее кол-во итераций:', res[0])\n",
    "print('Кол-во целевых событий:', res[1])\n",
    "res[1] / res[0] * 100"
   ]
  },
  {
   "cell_type": "markdown",
   "metadata": {},
   "source": [
    "Фулл хаус:"
   ]
  },
  {
   "cell_type": "code",
   "execution_count": 117,
   "metadata": {},
   "outputs": [
    {
     "name": "stdout",
     "output_type": "stream",
     "text": [
      "Общее кол-во итераций: 117600\n",
      "Кол-во целевых событий: 108\n",
      "Wall time: 6min 45s\n"
     ]
    },
    {
     "data": {
      "text/plain": [
       "0.09183673469387754"
      ]
     },
     "execution_count": 117,
     "metadata": {},
     "output_type": "execute_result"
    }
   ],
   "source": [
    "%%time\n",
    "sample = ['A10', 'B7']\n",
    "res = probability_combination(sample,\n",
    "                              ['Full_House'],\n",
    "                              3)\n",
    "print('Общее кол-во итераций:', res[0])\n",
    "print('Кол-во целевых событий:', res[1])\n",
    "res[1] / res[0] * 100"
   ]
  },
  {
   "cell_type": "markdown",
   "metadata": {},
   "source": [
    "Каре:"
   ]
  },
  {
   "cell_type": "code",
   "execution_count": 118,
   "metadata": {},
   "outputs": [
    {
     "name": "stdout",
     "output_type": "stream",
     "text": [
      "Общее кол-во итераций: 117600\n",
      "Кол-во целевых событий: 12\n",
      "Wall time: 6min 51s\n"
     ]
    },
    {
     "data": {
      "text/plain": [
       "0.010204081632653062"
      ]
     },
     "execution_count": 118,
     "metadata": {},
     "output_type": "execute_result"
    }
   ],
   "source": [
    "%%time\n",
    "sample = ['A10', 'B7']\n",
    "res = probability_combination(sample,\n",
    "                              ['Four_of_a_Kind'],\n",
    "                              3)\n",
    "print('Общее кол-во итераций:', res[0])\n",
    "print('Кол-во целевых событий:', res[1])\n",
    "res[1] / res[0] * 100"
   ]
  },
  {
   "cell_type": "code",
   "execution_count": 119,
   "metadata": {
    "scrolled": true
   },
   "outputs": [
    {
     "name": "stdout",
     "output_type": "stream",
     "text": [
      "Время выполнения: 1220.582 с\n"
     ]
    }
   ],
   "source": [
    "print(f'Время выполнения: {time.time() - start_time:.3f} с')"
   ]
  },
  {
   "cell_type": "markdown",
   "metadata": {},
   "source": [
    "## Победа после ривера"
   ]
  },
  {
   "cell_type": "markdown",
   "metadata": {},
   "source": [
    "<div class=\"alert alert-block alert-warning\">\n",
    "    <b>Замечание</b>\n",
    "    <p>\n",
    "    Используемый в данной тетрадке алгоритм до конца не отлажен. Не проходит pytest на расчет кикеров для двух пар и каре. Поэтому вероятнсоти выигрыша, рассматриваемые в данном блоке могут быть неверными.\n",
    "    </p>\n",
    "</div>"
   ]
  },
  {
   "cell_type": "markdown",
   "metadata": {},
   "source": [
    "### 1 противник"
   ]
  },
  {
   "cell_type": "markdown",
   "metadata": {},
   "source": [
    "На столе 5 карт, 2 на руке\n",
    "\n",
    "Неизвестны 2 карты у противника"
   ]
  },
  {
   "cell_type": "code",
   "execution_count": 120,
   "metadata": {},
   "outputs": [],
   "source": [
    "def prob_victory_river_1opp(hand, table):\n",
    "    # примем, что стол из 5 карт, значит мой полный набор известен\n",
    "    if not len(table) == 5:\n",
    "        print('Неподходящий стол')\n",
    "        return\n",
    "    \n",
    "    if isinstance(hand, list):\n",
    "        hand = Deck.get_df_cards(hand)\n",
    "        table = Deck.get_df_cards(table)\n",
    "    \n",
    "    my_comb = pd.concat([hand, table])\n",
    "    \n",
    "    deck_test = Deck()\n",
    "    deck_test.get_cards_df(my_comb)\n",
    "    \n",
    "    indexes = list(deck_test.current_deck.index)\n",
    "    count = 0\n",
    "    target_count = 0\n",
    "    \n",
    "    for i in indexes:\n",
    "        card_1 = deck_test.get_cards_index([i])\n",
    "        for _ in range(len(deck_test.current_deck)):\n",
    "            card_2 = deck_test.sample()\n",
    "            count += 1\n",
    "            opp_comb = pd.concat([table, card_1, card_2])\n",
    "#             if count < 60:\n",
    "#                 display(opp_comb)\n",
    "            if get_best_combination(my_comb)[1] > get_best_combination(opp_comb)[1]:\n",
    "                target_count += 1\n",
    "        deck_test.reset()\n",
    "        deck_test.get_cards_df(my_comb)\n",
    "    return count, target_count"
   ]
  },
  {
   "cell_type": "markdown",
   "metadata": {},
   "source": [
    "**Разномастные туз и король**"
   ]
  },
  {
   "cell_type": "code",
   "execution_count": 121,
   "metadata": {
    "scrolled": true
   },
   "outputs": [
    {
     "name": "stdout",
     "output_type": "stream",
     "text": [
      "Комбинация на руках:\n",
      "('Pair', 101314100900)\n",
      "\n",
      "Общее кол-во итераций: 1980\n",
      "Кол-во целевых событий: 1132\n",
      "Вероятность выигрыша: 57.172%\n",
      "\n",
      "Wall time: 12.9 s\n"
     ]
    }
   ],
   "source": [
    "%%time\n",
    "\n",
    "table = ['B7', 'B8', 'C9', 'D10', 'A13']\n",
    "hand = ['A14', 'B13']\n",
    "print('Комбинация на руках:\\n', get_best_combination(Deck.get_df_cards(hand + table)), sep='', end='\\n\\n')\n",
    "\n",
    "res = prob_victory_river_1opp(hand, table)\n",
    "print('Общее кол-во итераций:', res[0])\n",
    "print('Кол-во целевых событий:', res[1])\n",
    "print(f'Вероятность выигрыша: {(res[1] / res[0]):.3%}', end='\\n\\n')"
   ]
  },
  {
   "cell_type": "markdown",
   "metadata": {},
   "source": [
    "**Карманка с сетом**"
   ]
  },
  {
   "cell_type": "code",
   "execution_count": 122,
   "metadata": {},
   "outputs": [
    {
     "name": "stdout",
     "output_type": "stream",
     "text": [
      "Комбинация на руках:\n",
      "('Three_of_a_Kind', 300714130000)\n",
      "\n",
      "Общее кол-во итераций: 1980\n",
      "Кол-во целевых событий: 1930\n",
      "Вероятность выигрыша: 97.475%\n",
      "\n",
      "Wall time: 13.5 s\n"
     ]
    }
   ],
   "source": [
    "%%time\n",
    "\n",
    "table = ['D7', 'B11', 'A13', 'B14', 'C2']\n",
    "hand = ['C7', 'B7']\n",
    "print('Комбинация на руках:\\n', get_best_combination(Deck.get_df_cards(hand + table)), sep='', end='\\n\\n')\n",
    "\n",
    "res = prob_victory_river_1opp(hand, table)\n",
    "print('Общее кол-во итераций:', res[0])\n",
    "print('Кол-во целевых событий:', res[1])\n",
    "print(f'Вероятность выигрыша: {(res[1] / res[0]):.3%}', end='\\n\\n')"
   ]
  },
  {
   "cell_type": "markdown",
   "metadata": {},
   "source": [
    "**Слабая карманка**"
   ]
  },
  {
   "cell_type": "code",
   "execution_count": 123,
   "metadata": {},
   "outputs": [
    {
     "name": "stdout",
     "output_type": "stream",
     "text": [
      "Комбинация на руках:\n",
      "('Pair', 100714131100)\n",
      "\n",
      "Общее кол-во итераций: 1980\n",
      "Кол-во целевых событий: 980\n",
      "Вероятность выигрыша: 49.495%\n",
      "\n",
      "Wall time: 13.7 s\n"
     ]
    }
   ],
   "source": [
    "%%time\n",
    "\n",
    "table = ['D9', 'B11', 'A13', 'B14', 'C2']\n",
    "hand = ['C7', 'B7']\n",
    "print('Комбинация на руках:\\n', get_best_combination(Deck.get_df_cards(hand + table)), sep='', end='\\n\\n')\n",
    "\n",
    "res = prob_victory_river_1opp(hand, table)\n",
    "print('Общее кол-во итераций:', res[0])\n",
    "print('Кол-во целевых событий:', res[1])\n",
    "print(f'Вероятность выигрыша: {(res[1] / res[0]):.3%}', end='\\n\\n')"
   ]
  },
  {
   "cell_type": "markdown",
   "metadata": {},
   "source": [
    "## Победа после терна перед ривером"
   ]
  },
  {
   "cell_type": "markdown",
   "metadata": {},
   "source": [
    "<div class=\"alert alert-block alert-warning\">\n",
    "    <b>Замечание</b>\n",
    "    <p>\n",
    "    Используемый в данной тетрадке алгоритм до конца не отлажен. Не проходит pytest на расчет кикеров для двух пар и каре. Поэтому вероятнсоти выигрыша, рассматриваемые в данном блоке могут быть неверными.\n",
    "    </p>\n",
    "</div>"
   ]
  },
  {
   "cell_type": "markdown",
   "metadata": {},
   "source": [
    "### 1 противник"
   ]
  },
  {
   "cell_type": "markdown",
   "metadata": {},
   "source": [
    "На столе 4 карты, 2 на руке\n",
    "\n",
    "Неизвестна 5-я карта на стол и 2 карты у противника"
   ]
  },
  {
   "cell_type": "code",
   "execution_count": 124,
   "metadata": {},
   "outputs": [],
   "source": [
    "def prob_victory_turn_1opp(hand, table):\n",
    "    if not len(table) == 4:\n",
    "        print('Неподходящий стол')\n",
    "        return\n",
    "    \n",
    "    if isinstance(hand, list):\n",
    "        hand = Deck.get_df_cards(hand)\n",
    "        table = Deck.get_df_cards(table)\n",
    "    \n",
    "    deck_test = Deck()\n",
    "    deck_test.get_cards_df(table)\n",
    "    \n",
    "    indexes = list(deck_test.current_deck.index)\n",
    "    count = 0\n",
    "    target_count = 0\n",
    "    \n",
    "    for i in indexes:\n",
    "        card = deck_test.get_cards_index([i])\n",
    "        comb = pd.concat([table, card])\n",
    "        res = prob_victory_river_1opp(hand, comb)\n",
    "        count += res[0]\n",
    "        target_count += res[1]\n",
    "    \n",
    "    return count, target_count"
   ]
  },
  {
   "cell_type": "markdown",
   "metadata": {},
   "source": [
    "**Слабая карманка**"
   ]
  },
  {
   "cell_type": "code",
   "execution_count": 125,
   "metadata": {},
   "outputs": [
    {
     "name": "stdout",
     "output_type": "stream",
     "text": [
      "Комбинация на руках:\n",
      "('Pair', 100714131100)\n",
      "\n",
      "Общее кол-во итераций: 95220\n",
      "Кол-во целевых событий: 47682\n",
      "Вероятность выигрыша: 50.076%\n",
      "\n",
      "Wall time: 10min 57s\n"
     ]
    }
   ],
   "source": [
    "%%time\n",
    "\n",
    "table = ['D9', 'B11', 'A13', 'B14']\n",
    "hand = ['C7', 'B7']\n",
    "print('Комбинация на руках:\\n', get_best_combination(Deck.get_df_cards(hand + table)), sep='', end='\\n\\n')\n",
    "\n",
    "res = prob_victory_turn_1opp(hand, table)\n",
    "print('Общее кол-во итераций:', res[0])\n",
    "print('Кол-во целевых событий:', res[1])\n",
    "print(f'Вероятность выигрыша: {(res[1] / res[0]):.3%}', end='\\n\\n')"
   ]
  },
  {
   "cell_type": "markdown",
   "metadata": {},
   "source": [
    "# Выводы"
   ]
  },
  {
   "cell_type": "markdown",
   "metadata": {},
   "source": [
    "1. Правильность расчетов и работы алгоритма подтверждена сравнением с вероятнотями из открытых данных.\n",
    "1. При неизвестных 2-х картах количество итераций порядка $2 \\cdot 10^3$. При этом расчеты выполняются примерно за 13 секунд.\n",
    "1. При неизвестных 3-х картах количество итераций порядка $10^5$. При этом расчеты выполняются примерно за 400-600 секунд (6-10 минут).\n",
    "\n",
    "*О большем количестве неизвестных карт можно не говорить, поскольку для быстрых расчетов во время игры даже на расчет 3-х карт уходит недопустимо много времени.*\n",
    "\n",
    "1. С помощью разработанного алгоритма можно определять **в режиме реального времени**:\n",
    "    1. Вероятность получения натса на терне или ривере (т.е. 2 неизвестных карты на столе)\n",
    "    1. Вероятность выигрыша после вылкадывания ривера на стол с одним соперикиом (т.е. 2 неизвестных карты у противника) *\n",
    "1. С помощью алгоритма можно довольно точно рассчитать различные покерные вероятности, но с затратой определенного времени на расчет.\n",
    "\n",
    "*Для повышения применимости алгоритма необходимо оптимизировать алгоритм*\n",
    "\n",
    "\\* *После отлдадки алгоритма =)*\n"
   ]
  },
  {
   "cell_type": "code",
   "execution_count": null,
   "metadata": {
    "pycharm": {
     "name": "#%%\n"
    }
   },
   "outputs": [],
   "source": []
  }
 ],
 "metadata": {
  "kernelspec": {
   "display_name": "Python 3 (ipykernel)",
   "language": "python",
   "name": "python3"
  },
  "language_info": {
   "codemirror_mode": {
    "name": "ipython",
    "version": 3
   },
   "file_extension": ".py",
   "mimetype": "text/x-python",
   "name": "python",
   "nbconvert_exporter": "python",
   "pygments_lexer": "ipython3",
   "version": "3.9.7"
  },
  "toc": {
   "base_numbering": 1,
   "nav_menu": {},
   "number_sections": true,
   "sideBar": true,
   "skip_h1_title": false,
   "title_cell": "Table of Contents",
   "title_sidebar": "Contents",
   "toc_cell": true,
   "toc_position": {
    "height": "calc(100% - 180px)",
    "left": "10px",
    "top": "150px",
    "width": "428.785px"
   },
   "toc_section_display": true,
   "toc_window_display": true
  },
  "varInspector": {
   "cols": {
    "lenName": 16,
    "lenType": 16,
    "lenVar": 40
   },
   "kernels_config": {
    "python": {
     "delete_cmd_postfix": "",
     "delete_cmd_prefix": "del ",
     "library": "var_list.py",
     "varRefreshCmd": "print(var_dic_list())"
    },
    "r": {
     "delete_cmd_postfix": ") ",
     "delete_cmd_prefix": "rm(",
     "library": "var_list.r",
     "varRefreshCmd": "cat(var_dic_list()) "
    }
   },
   "types_to_exclude": [
    "module",
    "function",
    "builtin_function_or_method",
    "instance",
    "_Feature"
   ],
   "window_display": false
  }
 },
 "nbformat": 4,
 "nbformat_minor": 1
}
